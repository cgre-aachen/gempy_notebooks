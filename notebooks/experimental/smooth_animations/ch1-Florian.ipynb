{
 "cells": [
  {
   "cell_type": "markdown",
   "metadata": {},
   "source": [
    "# Chapter 1: GemPy Basic\n",
    "\n",
    "In this first example, we will show how to construct a first basic model and the main objects and functions. First we import gempy:"
   ]
  },
  {
   "cell_type": "code",
   "execution_count": 1,
   "metadata": {},
   "outputs": [
    {
     "name": "stderr",
     "output_type": "stream",
     "text": [
      "WARNING (theano.configdefaults): install mkl with `conda install mkl-service`: No module named 'mkl'\n",
      "../gempy/UncertaintyAnalysisPYMC2.py:8: UserWarning: pymc (v2) package is not installed. No support for stochastic simulation posterior analysis.\n",
      "  warnings.warn(\"pymc (v2) package is not installed. No support for stochastic simulation posterior analysis.\")\n"
     ]
    }
   ],
   "source": [
    "# These two lines are necessary only if gempy is not installed\n",
    "import sys, os\n",
    "# prepend to list to get correct gempy version\n",
    "sys.path.insert(0,\"../\")\n",
    "# sys.path.append(\"../\")\n",
    "\n",
    "\n",
    "# Importing gempy\n",
    "import gempy as gp\n",
    "\n",
    "# Embedding matplotlib figures into the notebooks\n",
    "%matplotlib inline\n",
    "\n",
    "# Aux imports\n",
    "import numpy as np"
   ]
  },
  {
   "cell_type": "code",
   "execution_count": 3,
   "metadata": {},
   "outputs": [],
   "source": [
    "import pyevtk"
   ]
  },
  {
   "cell_type": "code",
   "execution_count": 4,
   "metadata": {},
   "outputs": [
    {
     "data": {
      "text/plain": [
       "['../gempy']"
      ]
     },
     "execution_count": 4,
     "metadata": {},
     "output_type": "execute_result"
    }
   ],
   "source": [
    "gp.__path__"
   ]
  },
  {
   "cell_type": "code",
   "execution_count": 226,
   "metadata": {},
   "outputs": [
    {
     "name": "stderr",
     "output_type": "stream",
     "text": [
      "../gempy/DataManagement.py:438: FutureWarning: 'argmax' is deprecated. Use 'idxmax' instead. The behavior of 'argmax' will be corrected to return the positional maximum in the future. Use 'series.values.argmax' to get the position of the maximum now.\n",
      "  self.interfaces[\"series\"] = [(i == _series).sum().argmax() for i in self.interfaces[\"formation\"]]\n",
      "../gempy/DataManagement.py:441: FutureWarning: 'argmax' is deprecated. Use 'idxmax' instead. The behavior of 'argmax' will be corrected to return the positional maximum in the future. Use 'series.values.argmax' to get the position of the maximum now.\n",
      "  self.foliations[\"series\"] = [(i == _series).sum().argmax() for i in self.foliations[\"formation\"]]\n"
     ]
    }
   ],
   "source": [
    "# Importing the data from csv files and settign extent and resolution\n",
    "geo_data = gp.create_data([0,2000,0,2000,-2000,0],[ 100,100,100],\n",
    "                          path_f = os.pardir+\"/input_data/FW_Foliations.csv\", \n",
    "                          path_i = os.pardir+\"/input_data/FW_Points.csv\")\n"
   ]
  },
  {
   "cell_type": "code",
   "execution_count": 227,
   "metadata": {
    "scrolled": false
   },
   "outputs": [
    {
     "name": "stderr",
     "output_type": "stream",
     "text": [
      "../gempy/DataManagement.py:438: FutureWarning: 'argmax' is deprecated. Use 'idxmax' instead. The behavior of 'argmax' will be corrected to return the positional maximum in the future. Use 'series.values.argmax' to get the position of the maximum now.\n",
      "  self.interfaces[\"series\"] = [(i == _series).sum().argmax() for i in self.interfaces[\"formation\"]]\n",
      "../gempy/DataManagement.py:441: FutureWarning: 'argmax' is deprecated. Use 'idxmax' instead. The behavior of 'argmax' will be corrected to return the positional maximum in the future. Use 'series.values.argmax' to get the position of the maximum now.\n",
      "  self.foliations[\"series\"] = [(i == _series).sum().argmax() for i in self.foliations[\"formation\"]]\n"
     ]
    }
   ],
   "source": [
    "# Assigning series to formations as well as their order (timewise)\n",
    "gp.set_series(geo_data, {\"fault\":'MainFault', \n",
    "                      \"Rest\": ('SecondaryReservoir','Seal', 'Reservoir', 'Overlying')},\n",
    "                       order_series = [\"fault\", 'Rest'],\n",
    "                       order_formations=['MainFault', \n",
    "                                         'SecondaryReservoir', 'Seal','Reservoir', 'Overlying',\n",
    "                                         ], verbose=0) "
   ]
  },
  {
   "cell_type": "code",
   "execution_count": 228,
   "metadata": {
    "scrolled": true
   },
   "outputs": [
    {
     "data": {
      "text/plain": [
       "<gempy.sequential_pile.StratigraphicPile at 0x15473a908>"
      ]
     },
     "execution_count": 228,
     "metadata": {},
     "output_type": "execute_result"
    },
    {
     "data": {
      "image/png": "[encoded data removed]",
      "text/plain": [
       "<matplotlib.figure.Figure at 0x1663db748>"
      ]
     },
     "metadata": {},
     "output_type": "display_data"
    }
   ],
   "source": [
    "%matplotlib inline\n",
    "gp.get_sequential_pile(geo_data)"
   ]
  },
  {
   "cell_type": "code",
   "execution_count": 373,
   "metadata": {},
   "outputs": [
    {
     "data": {
      "image/png": "[encoded data removed]",
      "text/plain": [
       "<matplotlib.figure.Figure at 0x15acd47b8>"
      ]
     },
     "metadata": {},
     "output_type": "display_data"
    }
   ],
   "source": [
    "%matplotlib inline\n",
    "gp.plot_data(geo_data, direction='x')"
   ]
  },
  {
   "cell_type": "code",
   "execution_count": 374,
   "metadata": {},
   "outputs": [],
   "source": [
    "gp.plot_data_3D(geo_data)"
   ]
  },
  {
   "cell_type": "code",
   "execution_count": 230,
   "metadata": {
    "scrolled": false
   },
   "outputs": [
    {
     "name": "stdout",
     "output_type": "stream",
     "text": [
      "Level of Optimization:  fast_run\n",
      "Device:  cpu\n",
      "Precision:  float64\n",
      "<gempy.DataManagement.InterpolatorInput object at 0x167e40be0>\n"
     ]
    }
   ],
   "source": [
    "interp_data = gp.InterpolatorInput(geo_data, u_grade=[3,0], dtype=\"float64\")\n",
    "print(interp_data)"
   ]
  },
  {
   "cell_type": "code",
   "execution_count": 207,
   "metadata": {},
   "outputs": [],
   "source": [
    "import copy\n",
    "#init = copy.deepcopy(interp_data.geo_data_res)"
   ]
  },
  {
   "cell_type": "code",
   "execution_count": 208,
   "metadata": {},
   "outputs": [],
   "source": [
    "#interp_data.geo_data_res = init"
   ]
  },
  {
   "cell_type": "code",
   "execution_count": 209,
   "metadata": {},
   "outputs": [],
   "source": [
    "lith_block, fault_block = gp.compute_model(interp_data)"
   ]
  },
  {
   "cell_type": "code",
   "execution_count": 13,
   "metadata": {},
   "outputs": [
    {
     "data": {
      "text/plain": [
       "array([-0.01, 0.01, 0.01, 0.01, 0.01, 0.01, -0.01, -0.01, 0.01, -0.01,\n",
       "       -0.01, 0.01, 0.01, -0.01, -0.01, -0.01, 0.01, 0.01, -0.01, 0.01,\n",
       "       0.01, -0.01, 0.01, -0.01, 0.01, 0.01, 0.01, -0.01, 0.01, 0.01,\n",
       "       -0.01, -0.01, -0.01, -0.01, 0.01, 0.01, 0.01, 0.01, -0.01],\n",
       "      dtype=object)"
      ]
     },
     "execution_count": 13,
     "metadata": {},
     "output_type": "execute_result"
    }
   ],
   "source": [
    " # Testing the uncertainty\n",
    "np.ones_like(interp_data.geo_data_res.interfaces['Z'])*0.01*\\\n",
    "np.random.choice([-1,1],size = interp_data.geo_data_res.interfaces['Z'].shape[0] )"
   ]
  },
  {
   "cell_type": "code",
   "execution_count": 231,
   "metadata": {},
   "outputs": [],
   "source": [
    "## Own implementation to avoid \"extreme\" cases (no continues updating, always reverting to original model)\n",
    "import copy \n",
    "ori_data = copy.deepcopy(interp_data.geo_data_res)\n"
   ]
  },
  {
   "cell_type": "code",
   "execution_count": 232,
   "metadata": {},
   "outputs": [
    {
     "data": {
      "text/plain": [
       "16    0.397536\n",
       "17    0.397536\n",
       "18    0.487279\n",
       "19    0.512921\n",
       "20    0.423177\n",
       "21    0.448818\n",
       "22    0.474459\n",
       "23    0.487279\n",
       "24    0.474459\n",
       "25    0.487279\n",
       "26    0.474459\n",
       "Name: Z, dtype: object"
      ]
     },
     "execution_count": 232,
     "metadata": {},
     "output_type": "execute_result"
    }
   ],
   "source": [
    "z_vals = ori_data.interfaces[ori_data.interfaces['formation'] == 'Reservoir']['Z']\n",
    "z_vals"
   ]
  },
  {
   "cell_type": "code",
   "execution_count": 233,
   "metadata": {},
   "outputs": [],
   "source": [
    "z_vals = np.array(z_vals, dtype=np.float64)"
   ]
  },
  {
   "cell_type": "code",
   "execution_count": 234,
   "metadata": {},
   "outputs": [],
   "source": [
    "# try setting values back to interp_data:\n",
    "interp_data.geo_data_res.interfaces.set_value?"
   ]
  },
  {
   "cell_type": "code",
   "execution_count": 235,
   "metadata": {},
   "outputs": [
    {
     "data": {
      "text/plain": [
       "16    0.397536\n",
       "17    0.397536\n",
       "18    0.487279\n",
       "19    0.512921\n",
       "20    0.423177\n",
       "21    0.448818\n",
       "22    0.474459\n",
       "23    0.487279\n",
       "24    0.474459\n",
       "25    0.487279\n",
       "26    0.474459\n",
       "Name: Z, dtype: object"
      ]
     },
     "execution_count": 235,
     "metadata": {},
     "output_type": "execute_result"
    }
   ],
   "source": [
    "interp_data.geo_data_res.interfaces.loc[\n",
    "        interp_data.geo_data_res.interfaces['formation'] == 'Reservoir','Z']"
   ]
  },
  {
   "cell_type": "code",
   "execution_count": null,
   "metadata": {},
   "outputs": [],
   "source": []
  },
  {
   "cell_type": "code",
   "execution_count": 59,
   "metadata": {},
   "outputs": [],
   "source": [
    "import numpy.random as nrand"
   ]
  },
  {
   "cell_type": "code",
   "execution_count": 93,
   "metadata": {},
   "outputs": [
    {
     "ename": "TypeError",
     "evalue": "Cannot cast array data from dtype('O') to dtype('float64') according to the rule 'safe'",
     "output_type": "error",
     "traceback": [
      "\u001b[0;31m---------------------------------------------------------------------------\u001b[0m",
      "\u001b[0;31mTypeError\u001b[0m                                 Traceback (most recent call last)",
      "\u001b[0;32m<ipython-input-93-72030fb80271>\u001b[0m in \u001b[0;36m<module>\u001b[0;34m()\u001b[0m\n\u001b[1;32m      2\u001b[0m \u001b[0;31m# set stdev (consider ori val as mean):\u001b[0m\u001b[0;34m\u001b[0m\u001b[0;34m\u001b[0m\u001b[0m\n\u001b[1;32m      3\u001b[0m \u001b[0mz_res_stdev\u001b[0m \u001b[0;34m=\u001b[0m \u001b[0;36m0.1\u001b[0m\u001b[0;34m\u001b[0m\u001b[0m\n\u001b[0;32m----> 4\u001b[0;31m \u001b[0mnrand\u001b[0m\u001b[0;34m.\u001b[0m\u001b[0mnormal\u001b[0m\u001b[0;34m(\u001b[0m\u001b[0mloc\u001b[0m\u001b[0;34m=\u001b[0m\u001b[0mz_vals\u001b[0m\u001b[0;34m,\u001b[0m \u001b[0mscale\u001b[0m\u001b[0;34m=\u001b[0m\u001b[0mz_res_stdev\u001b[0m\u001b[0;34m)\u001b[0m\u001b[0;34m\u001b[0m\u001b[0m\n\u001b[0m",
      "\u001b[0;32mmtrand.pyx\u001b[0m in \u001b[0;36mmtrand.RandomState.normal\u001b[0;34m()\u001b[0m\n",
      "\u001b[0;31mTypeError\u001b[0m: Cannot cast array data from dtype('O') to dtype('float64') according to the rule 'safe'"
     ]
    }
   ],
   "source": [
    "# z_vals = ori_data.interfaces[ori_data.interfaces['formation'] == 'Reservoir']['Z']\n",
    "# set stdev (consider ori val as mean):\n",
    "z_res_stdev = 0.1\n",
    "nrand.normal(loc=z_vals, scale=z_res_stdev)"
   ]
  },
  {
   "cell_type": "markdown",
   "metadata": {},
   "source": [
    "## Generate random realizations"
   ]
  },
  {
   "cell_type": "code",
   "execution_count": 236,
   "metadata": {
    "scrolled": false
   },
   "outputs": [
    {
     "name": "stdout",
     "output_type": "stream",
     "text": [
      "0\n",
      "1\n",
      "2\n",
      "3\n",
      "4\n",
      "5\n",
      "6\n",
      "7\n",
      "8\n",
      "9\n"
     ]
    }
   ],
   "source": [
    "import matplotlib.pyplot as plt\n",
    "import pandas as pd\n",
    "import pyevtk as evtk\n",
    "\n",
    "# Lists for probability and ploting vertices\n",
    "lith_list = np.zeros((0, lith_block[0].shape[-1]), dtype='int')\n",
    "vertices_list = []\n",
    "z_vals_list = []\n",
    "for i in range(10):\n",
    "    \n",
    "    # **** previous version by Miguel ****\n",
    "    # Changing the interp\n",
    "#     interp_data.geo_data_res.interfaces['Z'] = interp_data.geo_data_res.interfaces['Z'] + \\\n",
    "#                                              np.ones_like(interp_data.geo_data_res.interfaces['Z'])*0.001* np.random.choice([-1,1],\n",
    "#                                              size = interp_data.geo_data_res.interfaces['Z'].shape[0])\n",
    "        \n",
    "    \n",
    "    \n",
    "    # ***** adjusted own implementation ****\n",
    "    # for now: only change reservoir top:\n",
    "    # determine ids of reservoir points:\n",
    "    res_ids = ori_data.interfaces['formation'] == 'Reservoir'\n",
    "    # get z_values from original model (for proper sampling):\n",
    "    z_vals_ori = ori_data.interfaces[res_ids]['Z']\n",
    "    # cast to array:\n",
    "    z_vals = np.array(z_vals_ori, dtype=np.float64)\n",
    "    # set stdev (consider ori val as mean):\n",
    "    z_res_stdev = 0.015\n",
    "    # draw new values:\n",
    "    z_vals_new = nrand.normal(loc=z_vals, scale=z_res_stdev)\n",
    "    # cast back to original type (required?)\n",
    "    z_vals_type_o = np.empty_like(z_vals_ori)\n",
    "    z_vals_type_o[:] = z_vals_new[:]\n",
    "    # assign values to data:\n",
    "    interp_data.geo_data_res.interfaces.loc[\n",
    "        interp_data.geo_data_res.interfaces['formation'] == 'Reservoir','Z'] \\\n",
    "        = z_vals_new\n",
    "#     interp_data.geo_data_res.interfaces[res_ids]['Z'].set_values(z_vals_new)\n",
    "#     new_df = pd.DataFrame({'Z' : z_vals_new})\n",
    "#     interp_data.geo_data_res.interfaces[res_ids].update(new_df)\n",
    "    \n",
    "    # store z-values for check\n",
    "    z_vals_list.append(z_vals_new)\n",
    "    \n",
    "    # testing\n",
    "    # print(interp_data.geo_data_res.interfaces[interp_data.geo_data_res.interfaces['formation'] == 'Reservoir']['Z'][:3])\n",
    "    # print(z_vals_new[:3])\n",
    "    \n",
    "    # Compute\n",
    "    lith_block, fault_block = gp.compute_model(interp_data)\n",
    "    \n",
    "    # Vertices\n",
    "    ver, sim = gp.get_surfaces(interp_data,lith_block[1], fault_block[1], original_scale=True)\n",
    "    \n",
    "    lith_list = np.vstack((lith_list,lith_block[0]))\n",
    "    vertices_list.append(ver)\n",
    "    \n",
    "    # Exporting both lith block and surfaces. name goes after path: This is because of how paraview reads numbers to define frames\n",
    "    gp.export_to_vtk(geo_data, path='./vtks/', name='m'+str(i), lith_block=lith_block[0], vertices=ver,\n",
    "                    simplices=sim)\n",
    "    \n",
    "    print(i)\n",
    "   "
   ]
  },
  {
   "cell_type": "code",
   "execution_count": 154,
   "metadata": {},
   "outputs": [],
   "source": [
    "z_vals_list;"
   ]
  },
  {
   "cell_type": "markdown",
   "metadata": {},
   "source": [
    "## Real time\n",
    "\n",
    "This resolution is going to be a bit too laggy for the compute while moving method"
   ]
  },
  {
   "cell_type": "code",
   "execution_count": 81,
   "metadata": {},
   "outputs": [],
   "source": [
    "lith_block, fault_block = gp.compute_model(interp_data)"
   ]
  },
  {
   "cell_type": "code",
   "execution_count": 15,
   "metadata": {},
   "outputs": [
    {
     "data": {
      "image/png": "[encoded data removed]",
      "text/plain": [
       "<matplotlib.figure.Figure at 0x7ffad5b706a0>"
      ]
     },
     "metadata": {},
     "output_type": "display_data"
    }
   ],
   "source": [
    "%matplotlib inline\n",
    "gp.plot_section(geo_data, lith_block[0], 50, plot_data=True)"
   ]
  },
  {
   "cell_type": "code",
   "execution_count": 82,
   "metadata": {},
   "outputs": [],
   "source": [
    "ver_s, sim_s = gp.get_surfaces(interp_data,lith_block[1],\n",
    "                               fault_block[1],\n",
    "                               original_scale=False)"
   ]
  },
  {
   "cell_type": "code",
   "execution_count": 83,
   "metadata": {},
   "outputs": [],
   "source": [
    "gp.plot_surfaces_3D_real_time(interp_data, ver_s, sim_s)"
   ]
  },
  {
   "cell_type": "markdown",
   "metadata": {},
   "source": [
    "# 2D plots"
   ]
  },
  {
   "cell_type": "code",
   "execution_count": 237,
   "metadata": {},
   "outputs": [],
   "source": [
    "ver, sim = gp.get_surfaces(interp_data,lith_block[1], fault_block[1], original_scale=True)"
   ]
  },
  {
   "cell_type": "code",
   "execution_count": 238,
   "metadata": {},
   "outputs": [],
   "source": [
    "# Some plotting options\n",
    "params = {\n",
    "    'axes.labelsize': 16,\n",
    "    'font.size': 16,\n",
    "    'legend.fontsize': 10,\n",
    "    'xtick.labelsize': 16,\n",
    "    'ytick.labelsize': 16,\n",
    "    'text.usetex': False,\n",
    "    \"axes.linewidth\": 0.75,\n",
    "    'xtick.major.size': 2,\n",
    "    'xtick.major.width': 0.75,\n",
    "    'ytick.major.size': 2,\n",
    "    'ytick.major.width': 0.75,\n",
    "}\n",
    "\n",
    "\n",
    "def get_figsize(scale, textwidth=522, ratio=None):                      # Get this from LaTeX using \\the\\textwidth\n",
    "    \"\"\"Source: http://bkanuka.com/articles/native-latex-plots/\"\"\"\n",
    "    inches_per_pt = 1.0 / 72.27                             # Convert pt to inch\n",
    "    if ratio == None:\n",
    "        ratio = (np.sqrt(5.0)-1.0)/2.0                    # Aesthetic ratio (you could change this)\n",
    "    fig_width = textwidth * inches_per_pt * scale           # width in inches\n",
    "    fig_height = fig_width * ratio                    # height in inches\n",
    "    fig_size = [fig_width, fig_height]\n",
    "    return fig_size\n",
    "\n",
    "from matplotlib import rcParams\n",
    "rcParams.update(params)"
   ]
  },
  {
   "cell_type": "code",
   "execution_count": 239,
   "metadata": {},
   "outputs": [
    {
     "data": {
      "text/plain": [
       "array([[   0.        ,    0.        , -842.96844482],\n",
       "       [   0.        ,    0.        , -842.96844482],\n",
       "       [   0.        ,    0.        , -842.94883728],\n",
       "       ...,\n",
       "       [1980.        , 1980.        ,  -20.        ],\n",
       "       [1980.        , 1980.        ,  -20.        ],\n",
       "       [1980.        , 1980.        ,  -20.        ]])"
      ]
     },
     "execution_count": 239,
     "metadata": {},
     "output_type": "execute_result"
    }
   ],
   "source": [
    "np.sort(vertices_list[0][1], axis=0)"
   ]
  },
  {
   "cell_type": "code",
   "execution_count": 240,
   "metadata": {},
   "outputs": [
    {
     "data": {
      "text/plain": [
       "array([[  17.15488911,  140.        ,  -40.        ],\n",
       "       [  20.        ,  140.        ,  -41.84677124],\n",
       "       [  20.        ,  138.30210686,  -40.        ],\n",
       "       ...,\n",
       "       [1980.        , 1971.00234985, -200.        ],\n",
       "       [1980.        , 1976.2197876 , -180.        ],\n",
       "       [1980.        , 1980.        , -164.47387695]])"
      ]
     },
     "execution_count": 240,
     "metadata": {},
     "output_type": "execute_result"
    }
   ],
   "source": [
    "vertices_list[0][1]"
   ]
  },
  {
   "cell_type": "markdown",
   "metadata": {},
   "source": [
    "If a layer is folded through the axis x the plt.plot go nuts!!!"
   ]
  },
  {
   "cell_type": "code",
   "execution_count": 241,
   "metadata": {},
   "outputs": [
    {
     "data": {
      "image/png": "[encoded data removed]",
      "text/plain": [
       "<matplotlib.figure.Figure at 0x13d81e898>"
      ]
     },
     "metadata": {},
     "output_type": "display_data"
    }
   ],
   "source": [
    "vertices = vertices_list\n",
    "\n",
    "# Function to plot the traces with the vertices\n",
    "def plot_iterline(i, l, color=\"black\", lw=0.5):\n",
    "   # f = vertices[i][l][:,1]==np.min(vertices[i][l][:,1])\n",
    "   # f = a\n",
    "    f = np.array(vertices[i][l][:,1] > 990) * np.array(vertices[i][l][:,1] < 1010)\n",
    "    points = vertices[i][l][f]\n",
    "    plt.plot(points[::1,0], points[::1,2], '-',\n",
    "             #linestyle=\"solid\",\n",
    "             linewidth=lw, color=color, alpha=0.3)\n",
    "\n",
    "fig = plt.figure(figsize=get_figsize(1.5))\n",
    "ax = plt.subplot()\n",
    "    \n",
    "for i in range(0,len(vertices_list)):\n",
    "    plot_iterline(i, 4, color=\"brown\")\n",
    "    plot_iterline(i, 3, color=\"green\")\n",
    "    plot_iterline(i, 2, color=\"orange\")\n",
    "    plot_iterline(i, 1, color=\"red\")\n",
    "    plot_iterline(i, 0, color=\"black\", lw=2)\n",
    "    \n",
    "ax.set_xlabel(\"x\")\n",
    "\n",
    "plt.ylabel(\"z\")\n",
    "plt.xlim(0,2000)\n",
    "\n",
    "plt.ylim(-2000,-0)\n",
    "\n",
    "plt.grid(False)"
   ]
  },
  {
   "cell_type": "code",
   "execution_count": 247,
   "metadata": {},
   "outputs": [
    {
     "data": {
      "image/png": "[encoded data removed]",
      "text/plain": [
       "<matplotlib.figure.Figure at 0x1a35b2978>"
      ]
     },
     "metadata": {},
     "output_type": "display_data"
    }
   ],
   "source": [
    "gp.plot_section(geo_data, lith_block[0], 50, plot_data=True)"
   ]
  },
  {
   "cell_type": "markdown",
   "metadata": {},
   "source": [
    "### Prob"
   ]
  },
  {
   "cell_type": "code",
   "execution_count": 242,
   "metadata": {},
   "outputs": [
    {
     "name": "stderr",
     "output_type": "stream",
     "text": [
      "../gempy/UncertaintyAnalysisPYMC2.py:8: UserWarning: pymc (v2) package is not installed. No support for stochastic simulation posterior analysis.\n",
      "  warnings.warn(\"pymc (v2) package is not installed. No support for stochastic simulation posterior analysis.\")\n"
     ]
    },
    {
     "data": {
      "text/plain": [
       "<module 'gempy.UncertaintyAnalysisPYMC2' from '../gempy/UncertaintyAnalysisPYMC2.py'>"
      ]
     },
     "execution_count": 242,
     "metadata": {},
     "output_type": "execute_result"
    }
   ],
   "source": [
    "import gempy.UncertaintyAnalysisPYMC2 as uq\n",
    "import importlib\n",
    "importlib.reload(uq)"
   ]
  },
  {
   "cell_type": "code",
   "execution_count": 243,
   "metadata": {},
   "outputs": [],
   "source": [
    "p_i = uq.compute_prob_lith(lith_list)"
   ]
  },
  {
   "cell_type": "code",
   "execution_count": 244,
   "metadata": {},
   "outputs": [
    {
     "data": {
      "text/plain": [
       "<matplotlib.colorbar.Colorbar at 0x1a438f748>"
      ]
     },
     "execution_count": 244,
     "metadata": {},
     "output_type": "execute_result"
    },
    {
     "data": {
      "image/png": "[encoded data removed]",
      "text/plain": [
       "<matplotlib.figure.Figure at 0x16c088780>"
      ]
     },
     "metadata": {},
     "output_type": "display_data"
    }
   ],
   "source": [
    "#previous vis does not work - conflict with cmaps...\n",
    "\n",
    "plot_layer = 3\n",
    "\n",
    "gp.plot_section(geo_data,p_i[plot_layer], 50, cmap='viridis', norm=None)\n",
    "plt.colorbar()"
   ]
  },
  {
   "cell_type": "code",
   "execution_count": 245,
   "metadata": {},
   "outputs": [
    {
     "data": {
      "text/plain": [
       "<matplotlib.image.AxesImage at 0x142780860>"
      ]
     },
     "execution_count": 245,
     "metadata": {},
     "output_type": "execute_result"
    },
    {
     "data": {
      "image/png": "[encoded data removed]",
      "text/plain": [
       "<matplotlib.figure.Figure at 0x1a4384198>"
      ]
     },
     "metadata": {},
     "output_type": "display_data"
    }
   ],
   "source": [
    "plt.imshow(p_i[3].reshape((100,100,100))[0].T, origin='upper left')"
   ]
  },
  {
   "cell_type": "markdown",
   "metadata": {},
   "source": [
    "### Entropy"
   ]
  },
  {
   "cell_type": "code",
   "execution_count": 246,
   "metadata": {},
   "outputs": [
    {
     "data": {
      "text/plain": [
       "<matplotlib.colorbar.Colorbar at 0x1a3592cf8>"
      ]
     },
     "execution_count": 246,
     "metadata": {},
     "output_type": "execute_result"
    },
    {
     "data": {
      "image/png": "[encoded data removed]",
      "text/plain": [
       "<matplotlib.figure.Figure at 0x1427959e8>"
      ]
     },
     "metadata": {},
     "output_type": "display_data"
    }
   ],
   "source": [
    "\n",
    "e = uq.calcualte_ie_masked(p_i)\n",
    "\n",
    "gp.plot_section(geo_data,e, 50, cmap='magma', norm=None)\n",
    "plt.colorbar()"
   ]
  },
  {
   "cell_type": "markdown",
   "metadata": {},
   "source": [
    "## More vis options\n",
    "\n",
    "Some more examples"
   ]
  },
  {
   "cell_type": "code",
   "execution_count": 50,
   "metadata": {},
   "outputs": [],
   "source": [
    "vertices_list[0]\n",
    "\n",
    "# Function to plot the traces with the vertices\n",
    "def plot_iterline(i, l, color=\"black\", lw=0.5):\n",
    "   # f = vertices[i][l][:,1]==np.min(vertices[i][l][:,1])\n",
    "   # f = a\n",
    "    # FW: what does the next line do?\n",
    "    f = np.array(vertices[i][l][:,1] > 980) * np.array(vertices[i][l][:,1] < 1020)\n",
    "    points = vertices[i][l][f]\n",
    "    plt.plot(points[::1,0], points[::1,2], '-',\n",
    "             #linestyle=\"solid\",\n",
    "             linewidth=lw, color=color, alpha=0.3)\n",
    "\n"
   ]
  },
  {
   "cell_type": "code",
   "execution_count": 65,
   "metadata": {},
   "outputs": [
    {
     "data": {
      "text/plain": [
       "[<matplotlib.lines.Line2D at 0x18d9e9eb8>]"
      ]
     },
     "execution_count": 65,
     "metadata": {},
     "output_type": "execute_result"
    },
    {
     "data": {
      "image/png": "[encoded data removed]",
      "text/plain": [
       "<matplotlib.figure.Figure at 0x140ea3978>"
      ]
     },
     "metadata": {},
     "output_type": "display_data"
    }
   ],
   "source": [
    "l=2\n",
    "i=0\n",
    "f = np.array(vertices[i][l][:,1] > 990) * np.array(vertices[i][l][:,1] < 1000)\n",
    "points = vertices[i][l][f]\n",
    "plt.plot(points[::1,0], points[::1,2])\n",
    "# plt.plot(vertices_list[2][2][f][:,0], vertices_list[2][2][f][:,2])"
   ]
  },
  {
   "cell_type": "code",
   "execution_count": 111,
   "metadata": {},
   "outputs": [],
   "source": [
    "# set maximum number of lines\n",
    "n_max = 50 \n",
    "# set number of lines in plot:\n",
    "n_plot = 40\n",
    "# set layer id:\n",
    "l = 3\n",
    "\n",
    "for i in range(1,50):\n",
    "    if i > n_plot:\n",
    "        plt.figure()\n",
    "        for k in range(i-n_plot,i):\n",
    "            f = np.array(vertices[i][l][:,1] > 980) * np.array(vertices[i][l][:,1] < 1020)\n",
    "            points = vertices[i][l][f]\n",
    "            # plt.plot(points[::1,0], points[::1,2], c='k', alpha=(k-i+n_plot+1)/n_plot, lw=0.1)\n",
    "            plt.plot(points[::1,0], points[::1,2], '-', color=plt.cm.copper_r(i/n_plot), lw=0.1)\n",
    "        plt.xlim(0,2000)\n",
    "        plt.ylim(-2000,-0)        \n",
    "        plt.savefig(\"./plots/line_plot_%03d.png\" % i)\n",
    "        plt.close()\n",
    "    else:\n",
    "        plt.figure()\n",
    "        for k in range(i):\n",
    "            f = np.array(vertices[i][l][:,1] > 980) * np.array(vertices[i][l][:,1] < 1020)\n",
    "            points = vertices[i][l][f]\n",
    "            # plt.plot(points[::1,0], points[::1,2], c='k', alpha=(k-i+n_plot+1)/n_plot, lw=0.1)\n",
    "            plt.plot(points[::1,0], points[::1,2], '-', color=plt.cm.copper_r(i/n_plot), lw=0.1)\n",
    "        plt.xlim(0,2000)\n",
    "        plt.ylim(-2000,-0)        \n",
    "        plt.savefig(\"./plots/line_plot_%03d.png\" % i)\n",
    "        plt.close()\n",
    "\n"
   ]
  },
  {
   "cell_type": "code",
   "execution_count": 97,
   "metadata": {},
   "outputs": [
    {
     "name": "stdout",
     "output_type": "stream",
     "text": [
      "0.8\n",
      "1.0\n"
     ]
    }
   ],
   "source": [
    "i = 2\n",
    "n_plot = 5\n",
    "\n",
    "for k in range(i):\n",
    "    print((k-i+n_plot+1)/n_plot)"
   ]
  },
  {
   "cell_type": "code",
   "execution_count": 120,
   "metadata": {},
   "outputs": [],
   "source": [
    "# set maximum number of lines\n",
    "n_max = 50 \n",
    "# set number of lines in plot:\n",
    "n_plot = 10\n",
    "# set layer id:\n",
    "l = 3\n",
    "\n",
    "for i in range(1,50):\n",
    "    if i > n_plot:\n",
    "        plt.figure()\n",
    "        for k in range(i-n_plot,i):\n",
    "            f = np.array(vertices[i][l][:,1] > 980) * np.array(vertices[i][l][:,1] < 1020)\n",
    "            # points = vertices[i][l][f]\n",
    "            # plt.plot(points[::1,0], points[::1,2], c='k', alpha=(k-i+n_plot+1)/n_plot, lw=0.1)\n",
    "            # plt.plot(points[::1,0], points[::1,2], '-', color=plt.cm.copper_r(i/n_plot), lw=0.1)\n",
    "            plt.axhline(-k*10, color=plt.cm.copper_r(k/n_plot), lw=1.)\n",
    "        plt.xlim(0,2000)\n",
    "        plt.ylim(-2000,-0)        \n",
    "        plt.savefig(\"./plots/line_plot_%03d.png\" % i)\n",
    "        plt.close()\n",
    "    else:\n",
    "        plt.figure()\n",
    "        for k in range(i):\n",
    "            f = np.array(vertices[i][l][:,1] > 980) * np.array(vertices[i][l][:,1] < 1020)\n",
    "            points = vertices[i][l][f]\n",
    "            # plt.plot(points[::1,0], points[::1,2], c='k', alpha=(k-i+n_plot+1)/n_plot, lw=0.1)\n",
    "            # plt.plot(points[::1,0], points[::1,2], '-', color=plt.cm.copper_r(i/n_plot), lw=0.1)\n",
    "            plt.axhline(-k*10, color=plt.cm.copper_r(k/n_plot), lw=1.)\n",
    "        plt.xlim(0,2000)\n",
    "        plt.ylim(-2000,-0)        \n",
    "        plt.savefig(\"./plots/line_plot_%03d.png\" % i, dpi=300)\n",
    "        plt.close()\n",
    "\n",
    "\n"
   ]
  },
  {
   "cell_type": "code",
   "execution_count": 113,
   "metadata": {},
   "outputs": [
    {
     "data": {
      "text/plain": [
       "<matplotlib.lines.Line2D at 0x188aafc50>"
      ]
     },
     "execution_count": 113,
     "metadata": {},
     "output_type": "execute_result"
    },
    {
     "data": {
      "image/png": "[encoded data removed]",
      "text/plain": [
       "<matplotlib.figure.Figure at 0x18cd77b38>"
      ]
     },
     "metadata": {},
     "output_type": "display_data"
    }
   ],
   "source": [
    "plt.axhline(30)"
   ]
  },
  {
   "cell_type": "code",
   "execution_count": 122,
   "metadata": {},
   "outputs": [],
   "source": [
    "# set maximum number of lines\n",
    "n_max = 50 \n",
    "# set number of lines in plot:\n",
    "n_plot = 10\n",
    "# set layer id:\n",
    "l = 3\n",
    "\n",
    "for i in range(1,50):\n",
    "    plt.figure()\n",
    "    for k in range(n_plot):\n",
    "        f = np.array(vertices[i][l][:,1] > 980) * np.array(vertices[i][l][:,1] < 1020)\n",
    "        # points = vertices[i][l][f]\n",
    "        # plt.plot(points[::1,0], points[::1,2], c='k', alpha=(k-i+n_plot+1)/n_plot, lw=0.1)\n",
    "        # plt.plot(points[::1,0], points[::1,2], '-', color=plt.cm.copper_r(i/n_plot), lw=0.1)\n",
    "        plt.axhline(-(i+k)*10, color=plt.cm.copper_r(k/n_plot), lw=1.)\n",
    "    plt.xlim(0,2000)\n",
    "    plt.ylim(-2000,-0)        \n",
    "    plt.savefig(\"./plots/line_plot_%03d.png\" % i)\n",
    "    plt.close()\n",
    "\n",
    "\n"
   ]
  },
  {
   "cell_type": "markdown",
   "metadata": {},
   "source": [
    "## Random realisations with smooth transitions\n",
    "\n",
    "Similar to before, but now creating samples and then filling space in-between with continuous samples to enable a smooth transition:"
   ]
  },
  {
   "cell_type": "code",
   "execution_count": 298,
   "metadata": {},
   "outputs": [],
   "source": [
    "import matplotlib.pyplot as plt\n",
    "import pandas as pd\n",
    "import pyevtk as evtk\n",
    "\n",
    "# n-random samples\n",
    "n_rand = 4\n",
    "# number of transition steps between realisations:\n",
    "trans_steps = 5\n",
    "\n",
    "# for now: only change reservoir top:\n",
    "# determine ids of reservoir points:\n",
    "res_ids = ori_data.interfaces['formation'] == 'Reservoir'\n",
    "# get z_values from original model (for proper sampling):\n",
    "z_vals_ori = ori_data.interfaces[res_ids]['Z']\n",
    "# cast to array:\n",
    "z_vals = np.array(z_vals_ori, dtype=np.float64)\n",
    "# set stdev (consider ori val as mean):\n",
    "z_res_stdev = 0.015\n",
    "\n",
    "# list of all z_values:\n",
    "z_values_all = []\n",
    "# initialize with original model values:\n",
    "z_values_all.append(z_vals)\n",
    "\n",
    "# generate random samples:\n",
    "\n",
    "z_vals_rand = []\n",
    "\n",
    "z_vals_prev = z_vals.copy()\n",
    "for i in range(n_rand):\n",
    "    \n",
    "    # ***** adjusted own implementation ****\n",
    "    # draw new values:\n",
    "    z_vals_new = nrand.normal(loc=z_vals, scale=z_res_stdev)\n",
    "    \n",
    "    z_vals_rand.append(z_vals_new)\n",
    "    \n",
    "    # fill space in-between:\n",
    "    z_diff = (z_vals_new - z_vals_prev) / (trans_steps + 1)\n",
    "    z_diff_array = np.cumsum(np.tile(z_diff, (trans_steps,1)), axis=0)\n",
    "    for k in range(trans_steps):\n",
    "        z_values_all.append(z_vals_prev + z_diff_array[k])\n",
    "        \n",
    "    # finally, add final value\n",
    "    z_values_all.append(z_vals_new)\n",
    "    # update prev array\n",
    "    z_vals_prev = z_vals_new.copy()\n",
    "        \n",
    "    \n",
    "    "
   ]
  },
  {
   "cell_type": "code",
   "execution_count": 299,
   "metadata": {
    "scrolled": false
   },
   "outputs": [
    {
     "data": {
      "text/plain": [
       "[<matplotlib.lines.Line2D at 0x14e879128>]"
      ]
     },
     "execution_count": 299,
     "metadata": {},
     "output_type": "execute_result"
    },
    {
     "data": {
      "image/png": "[encoded data removed]",
      "text/plain": [
       "<matplotlib.figure.Figure at 0x14ea11e48>"
      ]
     },
     "metadata": {},
     "output_type": "display_data"
    }
   ],
   "source": [
    "tmp = np.array(z_values_all)\n",
    "\n",
    "plt.plot(tmp[:,0], '.')"
   ]
  },
  {
   "cell_type": "markdown",
   "metadata": {},
   "source": [
    "## Next attempt: smooth random transitions with sigmoid function"
   ]
  },
  {
   "cell_type": "code",
   "execution_count": 304,
   "metadata": {},
   "outputs": [],
   "source": [
    "def sigmoid(x):\n",
    "    return np.exp(x) / (np.exp(x) + 1)"
   ]
  },
  {
   "cell_type": "code",
   "execution_count": 309,
   "metadata": {
    "scrolled": true
   },
   "outputs": [
    {
     "data": {
      "text/plain": [
       "[<matplotlib.lines.Line2D at 0x13af216a0>]"
      ]
     },
     "execution_count": 309,
     "metadata": {},
     "output_type": "execute_result"
    },
    {
     "data": {
      "image/png": "[encoded data removed]",
      "text/plain": [
       "<matplotlib.figure.Figure at 0x1419fff28>"
      ]
     },
     "metadata": {},
     "output_type": "display_data"
    }
   ],
   "source": [
    "xvals = np.arange(-7,7,0.01)\n",
    "plt.plot(xvals, sigmoid(xvals))"
   ]
  },
  {
   "cell_type": "code",
   "execution_count": 366,
   "metadata": {},
   "outputs": [],
   "source": [
    "import matplotlib.pyplot as plt\n",
    "import pandas as pd\n",
    "import pyevtk as evtk\n",
    "\n",
    "# n-random samples\n",
    "n_rand = 50\n",
    "# number of transition steps between realisations:\n",
    "trans_steps = 15\n",
    "\n",
    "\n",
    "# define sigomid steps - same for all:\n",
    "sigmoid_steps = sigmoid(np.linspace(-5,5,trans_steps))\n",
    "\n",
    "# for now: only change reservoir top:\n",
    "# determine ids of reservoir points:\n",
    "res_ids = ori_data.interfaces['formation'] == 'Reservoir'\n",
    "# get z_values from original model (for proper sampling):\n",
    "z_vals_ori = ori_data.interfaces[res_ids]['Z']\n",
    "# cast to array:\n",
    "z_vals = np.array(z_vals_ori, dtype=np.float64)\n",
    "# set stdev (consider ori val as mean):\n",
    "z_res_stdev = 0.01\n",
    "\n",
    "# list of all z_values:\n",
    "z_values_all = []\n",
    "# initialize with original model values:\n",
    "z_values_all.append(z_vals)\n",
    "\n",
    "# generate random samples:\n",
    "\n",
    "z_vals_rand = []\n",
    "\n",
    "z_vals_prev = z_vals.copy()\n",
    "for i in range(n_rand):\n",
    "    \n",
    "    # ***** adjusted own implementation ****\n",
    "    # draw new values:\n",
    "    z_vals_new = nrand.normal(loc=z_vals, scale=z_res_stdev)\n",
    "    \n",
    "    z_vals_rand.append(z_vals_new)\n",
    "    \n",
    "    # fill space in-between:\n",
    "    z_diff = (z_vals_new - z_vals_prev) #  (trans_steps + 1)\n",
    "    \n",
    "    # tile sigmoid function:\n",
    "    sigmoid_vals = np.tile(sigmoid_steps, (len(z_diff),1))\n",
    "    z_diff_array = np.multiply(sigmoid_vals.T, z_diff)\n",
    "    \n",
    "    # z_diff_array = np.cumsum(np.tile(z_diff, (trans_steps,1)), axis=0)\n",
    "    for k in range(trans_steps):\n",
    "        z_values_all.append(z_vals_prev + z_diff_array[k])\n",
    "        \n",
    "    # finally, add final value\n",
    "    z_values_all.append(z_vals_new)\n",
    "    # update prev array\n",
    "    z_vals_prev = z_vals_new.copy()\n",
    "        \n",
    "    \n",
    "    "
   ]
  },
  {
   "cell_type": "code",
   "execution_count": 367,
   "metadata": {},
   "outputs": [],
   "source": [
    "sigmoid_vals = np.tile(sigmoid_steps, (5,1))\n",
    "diff = np.arange(1,6)\n",
    "z = np.multiply(sigmoid_vals.T, diff)"
   ]
  },
  {
   "cell_type": "code",
   "execution_count": 368,
   "metadata": {},
   "outputs": [
    {
     "data": {
      "text/plain": [
       "[<matplotlib.lines.Line2D at 0x141e83ef0>,\n",
       " <matplotlib.lines.Line2D at 0x141e83a20>,\n",
       " <matplotlib.lines.Line2D at 0x141e83dd8>,\n",
       " <matplotlib.lines.Line2D at 0x141e832b0>,\n",
       " <matplotlib.lines.Line2D at 0x141e830f0>]"
      ]
     },
     "execution_count": 368,
     "metadata": {},
     "output_type": "execute_result"
    },
    {
     "data": {
      "image/png": "[encoded data removed]",
      "text/plain": [
       "<matplotlib.figure.Figure at 0x18c750710>"
      ]
     },
     "metadata": {},
     "output_type": "display_data"
    }
   ],
   "source": [
    "plt.plot(z)"
   ]
  },
  {
   "cell_type": "code",
   "execution_count": 369,
   "metadata": {
    "scrolled": true
   },
   "outputs": [
    {
     "data": {
      "text/plain": [
       "[<matplotlib.lines.Line2D at 0x12772a898>]"
      ]
     },
     "execution_count": 369,
     "metadata": {},
     "output_type": "execute_result"
    },
    {
     "data": {
      "image/png": "[encoded data removed]",
      "text/plain": [
       "<matplotlib.figure.Figure at 0x14c1a93c8>"
      ]
     },
     "metadata": {},
     "output_type": "display_data"
    }
   ],
   "source": [
    "tmp = np.array(z_values_all)\n",
    "\n",
    "plt.plot(tmp[:,0], '.')"
   ]
  },
  {
   "cell_type": "code",
   "execution_count": null,
   "metadata": {},
   "outputs": [],
   "source": []
  },
  {
   "cell_type": "code",
   "execution_count": 370,
   "metadata": {
    "scrolled": false
   },
   "outputs": [
    {
     "name": "stdout",
     "output_type": "stream",
     "text": [
      "0\n",
      "1\n",
      "2\n",
      "3\n",
      "4\n",
      "5\n",
      "6\n",
      "7\n",
      "8\n",
      "9\n",
      "10\n",
      "11\n",
      "12\n",
      "13\n",
      "14\n",
      "15\n",
      "16\n",
      "17\n",
      "18\n",
      "19\n",
      "20\n",
      "21\n",
      "22\n",
      "23\n",
      "24\n",
      "25\n",
      "26\n",
      "27\n",
      "28\n",
      "29\n",
      "30\n",
      "31\n",
      "32\n",
      "33\n",
      "34\n",
      "35\n",
      "36\n",
      "37\n",
      "38\n",
      "39\n",
      "40\n",
      "41\n",
      "42\n",
      "43\n",
      "44\n",
      "45\n",
      "46\n",
      "47\n",
      "48\n",
      "49\n",
      "50\n",
      "51\n",
      "52\n",
      "53\n",
      "54\n",
      "55\n",
      "56\n",
      "57\n",
      "58\n",
      "59\n",
      "60\n",
      "61\n",
      "62\n",
      "63\n",
      "64\n",
      "65\n",
      "66\n",
      "67\n",
      "68\n",
      "69\n",
      "70\n",
      "71\n",
      "72\n",
      "73\n",
      "74\n",
      "75\n",
      "76\n",
      "77\n",
      "78\n",
      "79\n",
      "80\n",
      "81\n",
      "82\n",
      "83\n",
      "84\n",
      "85\n",
      "86\n",
      "87\n",
      "88\n",
      "89\n",
      "90\n",
      "91\n",
      "92\n",
      "93\n",
      "94\n",
      "95\n",
      "96\n",
      "97\n",
      "98\n",
      "99\n",
      "100\n",
      "101\n",
      "102\n",
      "103\n",
      "104\n",
      "105\n",
      "106\n",
      "107\n",
      "108\n",
      "109\n",
      "110\n",
      "111\n",
      "112\n",
      "113\n",
      "114\n",
      "115\n",
      "116\n",
      "117\n",
      "118\n",
      "119\n",
      "120\n",
      "121\n",
      "122\n",
      "123\n",
      "124\n",
      "125\n",
      "126\n",
      "127\n",
      "128\n",
      "129\n",
      "130\n",
      "131\n",
      "132\n",
      "133\n",
      "134\n",
      "135\n",
      "136\n",
      "137\n",
      "138\n",
      "139\n",
      "140\n",
      "141\n",
      "142\n",
      "143\n",
      "144\n",
      "145\n",
      "146\n",
      "147\n",
      "148\n",
      "149\n",
      "150\n",
      "151\n",
      "152\n",
      "153\n",
      "154\n",
      "155\n",
      "156\n",
      "157\n",
      "158\n",
      "159\n",
      "160\n",
      "161\n",
      "162\n",
      "163\n",
      "164\n",
      "165\n",
      "166\n",
      "167\n",
      "168\n",
      "169\n",
      "170\n",
      "171\n",
      "172\n",
      "173\n",
      "174\n",
      "175\n",
      "176\n",
      "177\n",
      "178\n",
      "179\n",
      "180\n",
      "181\n",
      "182\n",
      "183\n",
      "184\n",
      "185\n",
      "186\n",
      "187\n",
      "188\n",
      "189\n",
      "190\n",
      "191\n",
      "192\n",
      "193\n",
      "194\n",
      "195\n",
      "196\n",
      "197\n",
      "198\n",
      "199\n",
      "200\n",
      "201\n",
      "202\n",
      "203\n",
      "204\n",
      "205\n",
      "206\n",
      "207\n",
      "208\n",
      "209\n",
      "210\n",
      "211\n",
      "212\n",
      "213\n",
      "214\n",
      "215\n",
      "216\n",
      "217\n",
      "218\n",
      "219\n",
      "220\n",
      "221\n",
      "222\n",
      "223\n",
      "224\n",
      "225\n",
      "226\n",
      "227\n",
      "228\n",
      "229\n",
      "230\n",
      "231\n",
      "232\n",
      "233\n",
      "234\n",
      "235\n",
      "236\n",
      "237\n",
      "238\n",
      "239\n",
      "240\n",
      "241\n",
      "242\n",
      "243\n",
      "244\n",
      "245\n",
      "246\n",
      "247\n",
      "248\n",
      "249\n",
      "250\n",
      "251\n",
      "252\n",
      "253\n",
      "254\n",
      "255\n",
      "256\n",
      "257\n",
      "258\n",
      "259\n",
      "260\n",
      "261\n",
      "262\n",
      "263\n",
      "264\n",
      "265\n",
      "266\n",
      "267\n",
      "268\n",
      "269\n",
      "270\n",
      "271\n",
      "272\n",
      "273\n",
      "274\n",
      "275\n",
      "276\n",
      "277\n",
      "278\n",
      "279\n",
      "280\n",
      "281\n",
      "282\n",
      "283\n",
      "284\n",
      "285\n",
      "286\n",
      "287\n",
      "288\n",
      "289\n",
      "290\n",
      "291\n",
      "292\n",
      "293\n",
      "294\n",
      "295\n",
      "296\n",
      "297\n",
      "298\n",
      "299\n",
      "300\n",
      "301\n",
      "302\n",
      "303\n",
      "304\n",
      "305\n",
      "306\n",
      "307\n",
      "308\n",
      "309\n",
      "310\n",
      "311\n",
      "312\n",
      "313\n",
      "314\n",
      "315\n",
      "316\n",
      "317\n",
      "318\n",
      "319\n",
      "320\n",
      "321\n",
      "322\n",
      "323\n",
      "324\n",
      "325\n",
      "326\n",
      "327\n",
      "328\n",
      "329\n",
      "330\n",
      "331\n",
      "332\n",
      "333\n",
      "334\n",
      "335\n",
      "336\n",
      "337\n",
      "338\n",
      "339\n",
      "340\n",
      "341\n",
      "342\n",
      "343\n",
      "344\n",
      "345\n",
      "346\n",
      "347\n",
      "348\n",
      "349\n",
      "350\n",
      "351\n",
      "352\n",
      "353\n",
      "354\n",
      "355\n",
      "356\n",
      "357\n",
      "358\n",
      "359\n",
      "360\n",
      "361\n",
      "362\n",
      "363\n",
      "364\n",
      "365\n",
      "366\n",
      "367\n",
      "368\n",
      "369\n",
      "370\n",
      "371\n",
      "372\n",
      "373\n",
      "374\n",
      "375\n",
      "376\n",
      "377\n",
      "378\n",
      "379\n",
      "380\n",
      "381\n",
      "382\n",
      "383\n",
      "384\n",
      "385\n",
      "386\n",
      "387\n",
      "388\n",
      "389\n",
      "390\n",
      "391\n",
      "392\n",
      "393\n",
      "394\n",
      "395\n",
      "396\n",
      "397\n",
      "398\n",
      "399\n",
      "400\n",
      "401\n",
      "402\n",
      "403\n",
      "404\n",
      "405\n",
      "406\n",
      "407\n",
      "408\n",
      "409\n",
      "410\n",
      "411\n",
      "412\n",
      "413\n",
      "414\n",
      "415\n",
      "416\n",
      "417\n",
      "418\n",
      "419\n",
      "420\n",
      "421\n",
      "422\n",
      "423\n",
      "424\n",
      "425\n",
      "426\n",
      "427\n",
      "428\n",
      "429\n",
      "430\n",
      "431\n",
      "432\n",
      "433\n",
      "434\n",
      "435\n",
      "436\n",
      "437\n",
      "438\n",
      "439\n",
      "440\n",
      "441\n",
      "442\n",
      "443\n",
      "444\n",
      "445\n",
      "446\n",
      "447\n",
      "448\n",
      "449\n",
      "450\n",
      "451\n",
      "452\n",
      "453\n",
      "454\n",
      "455\n",
      "456\n",
      "457\n",
      "458\n",
      "459\n",
      "460\n",
      "461\n",
      "462\n",
      "463\n",
      "464\n",
      "465\n",
      "466\n",
      "467\n",
      "468\n",
      "469\n",
      "470\n",
      "471\n",
      "472\n",
      "473\n",
      "474\n",
      "475\n",
      "476\n",
      "477\n",
      "478\n",
      "479\n",
      "480\n",
      "481\n",
      "482\n",
      "483\n",
      "484\n",
      "485\n",
      "486\n",
      "487\n",
      "488\n",
      "489\n",
      "490\n",
      "491\n",
      "492\n",
      "493\n",
      "494\n",
      "495\n",
      "496\n",
      "497\n",
      "498\n",
      "499\n",
      "500\n",
      "501\n",
      "502\n",
      "503\n",
      "504\n",
      "505\n",
      "506\n",
      "507\n",
      "508\n",
      "509\n",
      "510\n",
      "511\n",
      "512\n",
      "513\n",
      "514\n",
      "515\n",
      "516\n",
      "517\n",
      "518\n",
      "519\n",
      "520\n",
      "521\n",
      "522\n",
      "523\n",
      "524\n",
      "525\n",
      "526\n",
      "527\n",
      "528\n",
      "529\n",
      "530\n",
      "531\n",
      "532\n",
      "533\n",
      "534\n",
      "535\n",
      "536\n",
      "537\n",
      "538\n",
      "539\n",
      "540\n",
      "541\n",
      "542\n",
      "543\n",
      "544\n",
      "545\n",
      "546\n",
      "547\n",
      "548\n",
      "549\n",
      "550\n",
      "551\n",
      "552\n",
      "553\n",
      "554\n",
      "555\n",
      "556\n",
      "557\n",
      "558\n",
      "559\n",
      "560\n",
      "561\n",
      "562\n",
      "563\n",
      "564\n",
      "565\n",
      "566\n",
      "567\n",
      "568\n",
      "569\n",
      "570\n",
      "571\n",
      "572\n",
      "573\n",
      "574\n",
      "575\n",
      "576\n",
      "577\n",
      "578\n",
      "579\n",
      "580\n",
      "581\n",
      "582\n",
      "583\n",
      "584\n",
      "585\n",
      "586\n",
      "587\n",
      "588\n",
      "589\n",
      "590\n",
      "591\n",
      "592\n",
      "593\n",
      "594\n",
      "595\n",
      "596\n",
      "597\n",
      "598\n",
      "599\n",
      "600\n",
      "601\n",
      "602\n",
      "603\n",
      "604\n",
      "605\n",
      "606\n",
      "607\n",
      "608\n",
      "609\n",
      "610\n",
      "611\n",
      "612\n",
      "613\n",
      "614\n",
      "615\n",
      "616\n",
      "617\n",
      "618\n",
      "619\n",
      "620\n",
      "621\n",
      "622\n",
      "623\n",
      "624\n",
      "625\n",
      "626\n",
      "627\n",
      "628\n",
      "629\n",
      "630\n",
      "631\n",
      "632\n",
      "633\n",
      "634\n",
      "635\n",
      "636\n",
      "637\n",
      "638\n",
      "639\n",
      "640\n",
      "641\n",
      "642\n",
      "643\n",
      "644\n",
      "645\n",
      "646\n",
      "647\n",
      "648\n",
      "649\n",
      "650\n",
      "651\n",
      "652\n",
      "653\n",
      "654\n",
      "655\n",
      "656\n",
      "657\n",
      "658\n",
      "659\n",
      "660\n",
      "661\n",
      "662\n",
      "663\n",
      "664\n",
      "665\n",
      "666\n",
      "667\n",
      "668\n",
      "669\n",
      "670\n",
      "671\n",
      "672\n",
      "673\n",
      "674\n",
      "675\n",
      "676\n",
      "677\n",
      "678\n",
      "679\n",
      "680\n",
      "681\n",
      "682\n",
      "683\n",
      "684\n",
      "685\n",
      "686\n",
      "687\n",
      "688\n",
      "689\n",
      "690\n",
      "691\n",
      "692\n",
      "693\n",
      "694\n",
      "695\n",
      "696\n",
      "697\n",
      "698\n",
      "699\n",
      "700\n",
      "701\n",
      "702\n",
      "703\n",
      "704\n",
      "705\n",
      "706\n",
      "707\n",
      "708\n",
      "709\n",
      "710\n",
      "711\n",
      "712\n",
      "713\n",
      "714\n",
      "715\n",
      "716\n",
      "717\n",
      "718\n",
      "719\n",
      "720\n",
      "721\n",
      "722\n",
      "723\n",
      "724\n",
      "725\n",
      "726\n",
      "727\n",
      "728\n",
      "729\n",
      "730\n",
      "731\n",
      "732\n",
      "733\n",
      "734\n",
      "735\n",
      "736\n",
      "737\n",
      "738\n",
      "739\n",
      "740\n",
      "741\n",
      "742\n",
      "743\n",
      "744\n",
      "745\n",
      "746\n",
      "747\n",
      "748\n",
      "749\n",
      "750\n",
      "751\n",
      "752\n",
      "753\n",
      "754\n",
      "755\n",
      "756\n",
      "757\n",
      "758\n",
      "759\n",
      "760\n",
      "761\n",
      "762\n",
      "763\n",
      "764\n",
      "765\n",
      "766\n",
      "767\n",
      "768\n",
      "769\n",
      "770\n",
      "771\n",
      "772\n",
      "773\n",
      "774\n",
      "775\n",
      "776\n",
      "777\n",
      "778\n",
      "779\n",
      "780\n",
      "781\n",
      "782\n",
      "783\n",
      "784\n",
      "785\n",
      "786\n",
      "787\n",
      "788\n",
      "789\n",
      "790\n",
      "791\n",
      "792\n",
      "793\n",
      "794\n",
      "795\n",
      "796\n",
      "797\n",
      "798\n",
      "799\n",
      "800\n"
     ]
    }
   ],
   "source": [
    "# Lists for probability and ploting vertices\n",
    "lith_list = np.zeros((0, lith_block[0].shape[-1]), dtype='int')\n",
    "vertices_list = []\n",
    "z_vals_list = []\n",
    "for i in range(len(z_values_all)):\n",
    "    \n",
    "    # **** previous version by Miguel ****\n",
    "    # Changing the interp\n",
    "#     interp_data.geo_data_res.interfaces['Z'] = interp_data.geo_data_res.interfaces['Z'] + \\\n",
    "#                                              np.ones_like(interp_data.geo_data_res.interfaces['Z'])*0.001* np.random.choice([-1,1],\n",
    "#                                              size = interp_data.geo_data_res.interfaces['Z'].shape[0])\n",
    "        \n",
    "    \n",
    "\n",
    "    # assign values to data:\n",
    "    interp_data.geo_data_res.interfaces.loc[\n",
    "        interp_data.geo_data_res.interfaces['formation'] == 'Reservoir','Z'] \\\n",
    "        = z_values_all[i]\n",
    "#     interp_data.geo_data_res.interfaces[res_ids]['Z'].set_values(z_vals_new)\n",
    "#     new_df = pd.DataFrame({'Z' : z_vals_new})\n",
    "#     interp_data.geo_data_res.interfaces[res_ids].update(new_df)\n",
    "        \n",
    "    # testing\n",
    "    # print(interp_data.geo_data_res.interfaces[interp_data.geo_data_res.interfaces['formation'] == 'Reservoir']['Z'][:3])\n",
    "    # print(z_vals_new[:3])\n",
    "    \n",
    "    # Compute\n",
    "    lith_block, fault_block = gp.compute_model(interp_data)\n",
    "    \n",
    "    # Vertices\n",
    "    ver, sim = gp.get_surfaces(interp_data,lith_block[1], fault_block[1], original_scale=True)\n",
    "    \n",
    "    lith_list = np.vstack((lith_list,lith_block[0]))\n",
    "    vertices_list.append(ver)\n",
    "    \n",
    "    # Exporting both lith block and surfaces. name goes after path: This is because of how paraview reads numbers to define frames\n",
    "    gp.export_to_vtk(geo_data, path='./vtks/', name='m'+str(i), lith_block=lith_block[0], vertices=ver,\n",
    "                    simplices=sim)\n",
    "    \n",
    "    print(i)\n",
    "   "
   ]
  },
  {
   "cell_type": "code",
   "execution_count": 371,
   "metadata": {},
   "outputs": [
    {
     "data": {
      "text/plain": [
       "array([[   0.        ,    0.        , -836.36535645],\n",
       "       [   0.        ,    0.        , -836.36535645],\n",
       "       [   0.        ,    0.        , -836.10397339],\n",
       "       ...,\n",
       "       [1980.        , 1980.        ,  -20.        ],\n",
       "       [1980.        , 1980.        ,  -20.        ],\n",
       "       [1980.        , 1980.        ,  -20.        ]])"
      ]
     },
     "execution_count": 371,
     "metadata": {},
     "output_type": "execute_result"
    }
   ],
   "source": [
    "np.sort(vertices_list[0][1], axis=0)"
   ]
  },
  {
   "cell_type": "code",
   "execution_count": 372,
   "metadata": {},
   "outputs": [
    {
     "data": {
      "image/png": "[encoded data removed]",
      "text/plain": [
       "<matplotlib.figure.Figure at 0x13c81a320>"
      ]
     },
     "metadata": {},
     "output_type": "display_data"
    }
   ],
   "source": [
    "vertices = vertices_list\n",
    "\n",
    "# Function to plot the traces with the vertices\n",
    "def plot_iterline(i, l, color=\"black\", lw=0.5):\n",
    "   # f = vertices[i][l][:,1]==np.min(vertices[i][l][:,1])\n",
    "   # f = a\n",
    "    f = np.array(vertices[i][l][:,1] > 990) * np.array(vertices[i][l][:,1] < 1010)\n",
    "    points = vertices[i][l][f]\n",
    "    plt.plot(points[::1,0], points[::1,2], '-',\n",
    "             #linestyle=\"solid\",\n",
    "             linewidth=lw, color=color, alpha=0.3)\n",
    "\n",
    "fig = plt.figure(figsize=get_figsize(1.5))\n",
    "ax = plt.subplot()\n",
    "    \n",
    "for i in range(0,len(vertices_list)):\n",
    "    plot_iterline(i, 4, color=\"brown\")\n",
    "    plot_iterline(i, 3, color=\"green\")\n",
    "    plot_iterline(i, 2, color=\"orange\")\n",
    "    plot_iterline(i, 1, color=\"red\")\n",
    "    plot_iterline(i, 0, color=\"black\", lw=2)\n",
    "    \n",
    "ax.set_xlabel(\"x\")\n",
    "\n",
    "plt.ylabel(\"z\")\n",
    "plt.xlim(0,2000)\n",
    "\n",
    "plt.ylim(-2000,-0)\n",
    "\n",
    "plt.grid(False)"
   ]
  },
  {
   "cell_type": "markdown",
   "metadata": {},
   "source": [
    "## Just some side computations below"
   ]
  },
  {
   "cell_type": "code",
   "execution_count": 300,
   "metadata": {},
   "outputs": [],
   "source": [
    "a = [1,5,2]\n",
    "n_steps = 10\n",
    "\n",
    "a_all = []\n",
    "a_all.append(a[0])\n",
    "\n",
    "a_prev = a[0]\n",
    "\n",
    "all_vals = []\n",
    "\n",
    "for a1 in a[1:]:\n",
    "    a_diff = (a1 - a_prev) / n_steps\n",
    "    a_diff_array = np.cumsum(np.tile(a_diff, (n_steps,1)), axis=0)\n",
    "    # a_diff_array = np.linspace(a_prev, a1)\n",
    "    trans = a_prev + np.array(a_diff_array)\n",
    "    for t in trans:\n",
    "        a_all.append(t)\n",
    "    a_prev = a1\n",
    "        "
   ]
  },
  {
   "cell_type": "code",
   "execution_count": 303,
   "metadata": {},
   "outputs": [
    {
     "data": {
      "text/plain": [
       "[<matplotlib.lines.Line2D at 0x14e446748>]"
      ]
     },
     "execution_count": 303,
     "metadata": {},
     "output_type": "execute_result"
    },
    {
     "data": {
      "image/png": "[encoded data removed]",
      "text/plain": [
       "<matplotlib.figure.Figure at 0x13abb47f0>"
      ]
     },
     "metadata": {},
     "output_type": "display_data"
    }
   ],
   "source": [
    "plt.plot(a_all, '.')"
   ]
  },
  {
   "cell_type": "markdown",
   "metadata": {},
   "source": [
    "Using a sigmoid function instead (for smoother transitions):\n",
    "\n",
    "$$S(x) = \\frac{e^x}{e^x + 1}$$"
   ]
  },
  {
   "cell_type": "code",
   "execution_count": 327,
   "metadata": {},
   "outputs": [],
   "source": [
    "a = [1,5,2]\n",
    "n_steps = 10\n",
    "\n",
    "a_all = []\n",
    "a_all.append(a[0])\n",
    "\n",
    "a_prev = a[0]\n",
    "\n",
    "all_vals = []\n",
    "\n",
    "# define sigomid steps - same for all:\n",
    "sigmoid_steps = sigmoid(np.linspace(-5,5,n_steps))\n",
    "\n",
    "for a1 in a[1:]:\n",
    "    # determine scale\n",
    "    a_diff = a1 - a_prev\n",
    "    a_diff_array = a_diff * sigmoid_steps\n",
    "    # a_diff_array = np.linspace(a_prev, a1)\n",
    "    trans = a_prev + np.array(a_diff_array)\n",
    "    for t in trans:\n",
    "        a_all.append(t)\n",
    "    a_prev = a1\n",
    "        "
   ]
  },
  {
   "cell_type": "code",
   "execution_count": 328,
   "metadata": {},
   "outputs": [
    {
     "data": {
      "text/plain": [
       "[<matplotlib.lines.Line2D at 0x18c4390f0>]"
      ]
     },
     "execution_count": 328,
     "metadata": {},
     "output_type": "execute_result"
    },
    {
     "data": {
      "image/png": "[encoded data removed]",
      "text/plain": [
       "<matplotlib.figure.Figure at 0x13ff9d7f0>"
      ]
     },
     "metadata": {},
     "output_type": "display_data"
    }
   ],
   "source": [
    "plt.plot(a_all, '.')"
   ]
  },
  {
   "cell_type": "code",
   "execution_count": 376,
   "metadata": {},
   "outputs": [
    {
     "data": {
      "text/plain": [
       "<gempy.Visualization.vtkVisualization at 0x173f0c2e8>"
      ]
     },
     "execution_count": 376,
     "metadata": {},
     "output_type": "execute_result"
    }
   ],
   "source": [
    "gp.plot_surfaces_3D(geo_data, ver, sim)"
   ]
  },
  {
   "cell_type": "code",
   "execution_count": null,
   "metadata": {},
   "outputs": [],
   "source": []
  }
 ],
 "metadata": {
  "kernelspec": {
   "display_name": "Python 3",
   "language": "python",
   "name": "python3"
  },
  "language_info": {
   "codemirror_mode": {
    "name": "ipython",
    "version": 3
   },
   "file_extension": ".py",
   "mimetype": "text/x-python",
   "name": "python",
   "nbconvert_exporter": "python",
   "pygments_lexer": "ipython3",
   "version": "3.6.4"
  },
  "latex_envs": {
   "LaTeX_envs_menu_present": true,
   "autocomplete": true,
   "bibliofile": "biblio.bib",
   "cite_by": "apalike",
   "current_citInitial": 1,
   "eqLabelWithNumbers": true,
   "eqNumInitial": 1,
   "hotkeys": {
    "equation": "Ctrl-E",
    "itemize": "Ctrl-I"
   },
   "labels_anchors": false,
   "latex_user_defs": false,
   "report_style_numbering": false,
   "user_envs_cfg": false
  },
  "toc": {
   "colors": {
    "hover_highlight": "#DAA520",
    "running_highlight": "#FF0000",
    "selected_highlight": "#FFD700"
   },
   "moveMenuLeft": true,
   "nav_menu": {
    "height": "67px",
    "width": "252px"
   },
   "navigate_menu": true,
   "number_sections": true,
   "sideBar": true,
   "threshold": 4,
   "toc_cell": false,
   "toc_section_display": "block",
   "toc_window_display": false,
   "widenNotebook": false
  }
 },
 "nbformat": 4,
 "nbformat_minor": 2
}
