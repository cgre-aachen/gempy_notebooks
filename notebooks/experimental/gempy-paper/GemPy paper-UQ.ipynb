{
 "cells": [
  {
   "cell_type": "markdown",
   "metadata": {},
   "source": [
    "# GemPy Paper Code: UQ\n",
    "\n",
    "In this notebook you will be able to see and run the code utilized to create the figures of the paper *GemPy - an open-source library for implicit geological modeling and uncertainty quantification*"
   ]
  },
  {
   "cell_type": "code",
   "execution_count": 1,
   "metadata": {
    "code_folding": [],
    "slideshow": {
     "slide_type": "skip"
    }
   },
   "outputs": [
    {
     "name": "stderr",
     "output_type": "stream",
     "text": [
      "WARNING (theano.tensor.blas): Using NumPy C-API based implementation for BLAS functions.\n"
     ]
    }
   ],
   "source": [
    "# Importing dependencies\n",
    "\n",
    "# These two lines are necessary only if gempy is not installed\n",
    "import sys, os\n",
    "sys.path.append(\"../..\")\n",
    "\n",
    "import gempy as gp\n",
    "%matplotlib inline\n",
    "from copy import copy, deepcopy\n",
    "# Aux imports\n",
    "\n",
    "import numpy as np\n",
    "import pandas as pn\n",
    "import matplotlib.pyplot as plt"
   ]
  },
  {
   "cell_type": "markdown",
   "metadata": {},
   "source": [
    "## Uncertainty Quatification.\n",
    "\n",
    "In this model we will explore how to create a model of GemPy with PyMC which some of the parameters are stochastic  in order to quatify the uncertainty that those parameters propagate to the final results.\n",
    "\n",
    "We will use the same model as until now"
   ]
  },
  {
   "cell_type": "code",
   "execution_count": 2,
   "metadata": {},
   "outputs": [],
   "source": [
    "geo_data = gp.create_data([0,20,0,10,-10,0],[100,10,100],\n",
    "                         path_o = \"input_data/paper_Orientations.csv\",\n",
    "                         path_i = \"input_data/paper_Points.csv\")"
   ]
  },
  {
   "cell_type": "code",
   "execution_count": 3,
   "metadata": {},
   "outputs": [
    {
     "data": {
      "text/html": [
       "<div>\n",
       "<style scoped>\n",
       "    .dataframe tbody tr th:only-of-type {\n",
       "        vertical-align: middle;\n",
       "    }\n",
       "\n",
       "    .dataframe tbody tr th {\n",
       "        vertical-align: top;\n",
       "    }\n",
       "\n",
       "    .dataframe thead th {\n",
       "        text-align: right;\n",
       "    }\n",
       "</style>\n",
       "<table border=\"1\" class=\"dataframe\">\n",
       "  <thead>\n",
       "    <tr style=\"text-align: right;\">\n",
       "      <th></th>\n",
       "      <th>X</th>\n",
       "      <th>Y</th>\n",
       "      <th>Z</th>\n",
       "      <th>formation</th>\n",
       "      <th>series</th>\n",
       "      <th>formation_number</th>\n",
       "      <th>order_series</th>\n",
       "      <th>isFault</th>\n",
       "      <th>annotations</th>\n",
       "      <th>formation_value</th>\n",
       "    </tr>\n",
       "  </thead>\n",
       "  <tbody>\n",
       "    <tr>\n",
       "      <th>6</th>\n",
       "      <td>2.211584</td>\n",
       "      <td>5.0</td>\n",
       "      <td>-6.400000</td>\n",
       "      <td>Layer1</td>\n",
       "      <td>Default series</td>\n",
       "      <td>1</td>\n",
       "      <td>1</td>\n",
       "      <td>False</td>\n",
       "      <td>${\\bf{x}}_{\\alpha \\,{\\bf{1}},0}$</td>\n",
       "      <td>1</td>\n",
       "    </tr>\n",
       "    <tr>\n",
       "      <th>7</th>\n",
       "      <td>11.172574</td>\n",
       "      <td>5.0</td>\n",
       "      <td>-6.981171</td>\n",
       "      <td>Layer1</td>\n",
       "      <td>Default series</td>\n",
       "      <td>1</td>\n",
       "      <td>1</td>\n",
       "      <td>False</td>\n",
       "      <td>${\\bf{x}}_{\\alpha \\,{\\bf{1}},1}$</td>\n",
       "      <td>1</td>\n",
       "    </tr>\n",
       "    <tr>\n",
       "      <th>8</th>\n",
       "      <td>15.104438</td>\n",
       "      <td>5.0</td>\n",
       "      <td>-8.108915</td>\n",
       "      <td>Layer1</td>\n",
       "      <td>Default series</td>\n",
       "      <td>1</td>\n",
       "      <td>1</td>\n",
       "      <td>False</td>\n",
       "      <td>${\\bf{x}}_{\\alpha \\,{\\bf{1}},2}$</td>\n",
       "      <td>1</td>\n",
       "    </tr>\n",
       "    <tr>\n",
       "      <th>9</th>\n",
       "      <td>2.059186</td>\n",
       "      <td>5.0</td>\n",
       "      <td>-4.908561</td>\n",
       "      <td>Layer2</td>\n",
       "      <td>Default series</td>\n",
       "      <td>2</td>\n",
       "      <td>1</td>\n",
       "      <td>False</td>\n",
       "      <td>${\\bf{x}}_{\\alpha \\,{\\bf{2}},0}$</td>\n",
       "      <td>2</td>\n",
       "    </tr>\n",
       "    <tr>\n",
       "      <th>10</th>\n",
       "      <td>11.843125</td>\n",
       "      <td>5.0</td>\n",
       "      <td>-5.761989</td>\n",
       "      <td>Layer2</td>\n",
       "      <td>Default series</td>\n",
       "      <td>2</td>\n",
       "      <td>1</td>\n",
       "      <td>False</td>\n",
       "      <td>${\\bf{x}}_{\\alpha \\,{\\bf{2}},1}$</td>\n",
       "      <td>2</td>\n",
       "    </tr>\n",
       "  </tbody>\n",
       "</table>\n",
       "</div>"
      ],
      "text/plain": [
       "            X    Y         Z formation          series  formation_number  \\\n",
       "6    2.211584  5.0 -6.400000    Layer1  Default series                 1   \n",
       "7   11.172574  5.0 -6.981171    Layer1  Default series                 1   \n",
       "8   15.104438  5.0 -8.108915    Layer1  Default series                 1   \n",
       "9    2.059186  5.0 -4.908561    Layer2  Default series                 2   \n",
       "10  11.843125  5.0 -5.761989    Layer2  Default series                 2   \n",
       "\n",
       "    order_series  isFault                       annotations  formation_value  \n",
       "6              1    False  ${\\bf{x}}_{\\alpha \\,{\\bf{1}},0}$                1  \n",
       "7              1    False  ${\\bf{x}}_{\\alpha \\,{\\bf{1}},1}$                1  \n",
       "8              1    False  ${\\bf{x}}_{\\alpha \\,{\\bf{1}},2}$                1  \n",
       "9              1    False  ${\\bf{x}}_{\\alpha \\,{\\bf{2}},0}$                2  \n",
       "10             1    False  ${\\bf{x}}_{\\alpha \\,{\\bf{2}},1}$                2  "
      ]
     },
     "execution_count": 3,
     "metadata": {},
     "output_type": "execute_result"
    }
   ],
   "source": [
    "geo_data.interfaces.head()"
   ]
  },
  {
   "cell_type": "markdown",
   "metadata": {},
   "source": [
    "Defining all different series that form the most complex model. In the paper you can find figures with different combination of these series to examplify the possible types of topolodies supported in GemPy"
   ]
  },
  {
   "cell_type": "code",
   "execution_count": 4,
   "metadata": {},
   "outputs": [
    {
     "data": {
      "image/png": "[encoded data removed]",
      "text/plain": [
       "<matplotlib.figure.Figure at 0x7f5a93e0ddd8>"
      ]
     },
     "metadata": {},
     "output_type": "display_data"
    }
   ],
   "source": [
    "%matplotlib inline\n",
    "gp.set_series(geo_data, {'Fault_serie': 'fault',\n",
    "                         'Younger_serie' : 'Unconformity',\n",
    "                         'Older_serie': ('Layer1', 'Layer2')},\n",
    "              order_formations= ['fault', 'Unconformity',\n",
    "                                 'Layer2', 'Layer1'],\n",
    "              verbose=2)\n",
    "\n",
    "\n",
    "fig=plt.gcf()\n",
    "# fig.savefig('doc/figs/fault_pile.pdf')"
   ]
  },
  {
   "cell_type": "code",
   "execution_count": 5,
   "metadata": {},
   "outputs": [
    {
     "data": {
      "image/png": "[encoded data removed]",
      "text/plain": [
       "<matplotlib.figure.Figure at 0x7f5a93d43470>"
      ]
     },
     "metadata": {},
     "output_type": "display_data"
    }
   ],
   "source": [
    "gp.plotting.plot_data(geo_data, direction=\"y\")"
   ]
  },
  {
   "cell_type": "code",
   "execution_count": 6,
   "metadata": {
    "scrolled": false
   },
   "outputs": [
    {
     "name": "stdout",
     "output_type": "stream",
     "text": [
      "Compiling theano function...\n",
      "Compilation Done!\n",
      "Level of Optimization:  fast_compile\n",
      "Device:  cpu\n",
      "Precision:  float64\n",
      "Number of faults:  1\n"
     ]
    }
   ],
   "source": [
    "interp_data = gp.InterpolatorData(geo_data,\n",
    "                                  dtype='float64',\n",
    "                                  compile_theano=True)"
   ]
  },
  {
   "cell_type": "markdown",
   "metadata": {},
   "source": [
    "Computing the model"
   ]
  },
  {
   "cell_type": "code",
   "execution_count": 7,
   "metadata": {
    "scrolled": true
   },
   "outputs": [],
   "source": [
    "lith, fault = gp.compute_model(interp_data)"
   ]
  },
  {
   "cell_type": "markdown",
   "metadata": {},
   "source": [
    "## Topology\n",
    "\n",
    "compute the initial topology for use in the topology likelihood function"
   ]
  },
  {
   "cell_type": "code",
   "execution_count": 8,
   "metadata": {},
   "outputs": [
    {
     "data": {
      "image/png": "[encoded data removed]",
      "text/plain": [
       "<matplotlib.figure.Figure at 0x7f5a5a612470>"
      ]
     },
     "metadata": {},
     "output_type": "display_data"
    }
   ],
   "source": [
    "topo = gp.topology_compute(geo_data, lith[0], fault)\n",
    "gp.plotting.plot_section(geo_data, lith[0], 0, plot_data=True)\n",
    "gp.plotting.plot_topology(geo_data, topo[0], topo[1])\n",
    "# save topology state for likelihood use\n",
    "topo_G = copy(topo[0])"
   ]
  },
  {
   "cell_type": "markdown",
   "metadata": {},
   "source": [
    "# PYMC2 Code"
   ]
  },
  {
   "cell_type": "code",
   "execution_count": 9,
   "metadata": {},
   "outputs": [],
   "source": [
    "import pymc"
   ]
  },
  {
   "cell_type": "markdown",
   "metadata": {},
   "source": [
    "## Priors"
   ]
  },
  {
   "cell_type": "code",
   "execution_count": 10,
   "metadata": {},
   "outputs": [
    {
     "data": {
      "text/html": [
       "<div>\n",
       "<style scoped>\n",
       "    .dataframe tbody tr th:only-of-type {\n",
       "        vertical-align: middle;\n",
       "    }\n",
       "\n",
       "    .dataframe tbody tr th {\n",
       "        vertical-align: top;\n",
       "    }\n",
       "\n",
       "    .dataframe thead th {\n",
       "        text-align: right;\n",
       "    }\n",
       "</style>\n",
       "<table border=\"1\" class=\"dataframe\">\n",
       "  <thead>\n",
       "    <tr style=\"text-align: right;\">\n",
       "      <th></th>\n",
       "      <th>X</th>\n",
       "      <th>Y</th>\n",
       "      <th>Z</th>\n",
       "      <th>formation</th>\n",
       "      <th>series</th>\n",
       "      <th>formation_number</th>\n",
       "      <th>order_series</th>\n",
       "      <th>isFault</th>\n",
       "      <th>annotations</th>\n",
       "      <th>formation_value</th>\n",
       "    </tr>\n",
       "  </thead>\n",
       "  <tbody>\n",
       "    <tr>\n",
       "      <th>0</th>\n",
       "      <td>10.000000</td>\n",
       "      <td>4.0</td>\n",
       "      <td>-7.000000</td>\n",
       "      <td>fault</td>\n",
       "      <td>Fault_serie</td>\n",
       "      <td>1</td>\n",
       "      <td>1</td>\n",
       "      <td>True</td>\n",
       "      <td>${\\bf{x}}_{\\alpha \\,{\\bf{1}},0}$</td>\n",
       "      <td>1</td>\n",
       "    </tr>\n",
       "    <tr>\n",
       "      <th>1</th>\n",
       "      <td>4.345153</td>\n",
       "      <td>5.0</td>\n",
       "      <td>-1.921564</td>\n",
       "      <td>fault</td>\n",
       "      <td>Fault_serie</td>\n",
       "      <td>1</td>\n",
       "      <td>1</td>\n",
       "      <td>True</td>\n",
       "      <td>${\\bf{x}}_{\\alpha \\,{\\bf{1}},1}$</td>\n",
       "      <td>1</td>\n",
       "    </tr>\n",
       "    <tr>\n",
       "      <th>2</th>\n",
       "      <td>2.303022</td>\n",
       "      <td>5.0</td>\n",
       "      <td>-1.647248</td>\n",
       "      <td>Unconformity</td>\n",
       "      <td>Younger_serie</td>\n",
       "      <td>2</td>\n",
       "      <td>2</td>\n",
       "      <td>False</td>\n",
       "      <td>${\\bf{x}}_{\\alpha \\,{\\bf{2}},0}$</td>\n",
       "      <td>2</td>\n",
       "    </tr>\n",
       "    <tr>\n",
       "      <th>3</th>\n",
       "      <td>1.083840</td>\n",
       "      <td>5.0</td>\n",
       "      <td>-1.738687</td>\n",
       "      <td>Unconformity</td>\n",
       "      <td>Younger_serie</td>\n",
       "      <td>2</td>\n",
       "      <td>2</td>\n",
       "      <td>False</td>\n",
       "      <td>${\\bf{x}}_{\\alpha \\,{\\bf{2}},1}$</td>\n",
       "      <td>2</td>\n",
       "    </tr>\n",
       "    <tr>\n",
       "      <th>4</th>\n",
       "      <td>8.825648</td>\n",
       "      <td>5.0</td>\n",
       "      <td>-3.140747</td>\n",
       "      <td>Unconformity</td>\n",
       "      <td>Younger_serie</td>\n",
       "      <td>2</td>\n",
       "      <td>2</td>\n",
       "      <td>False</td>\n",
       "      <td>${\\bf{x}}_{\\alpha \\,{\\bf{2}},2}$</td>\n",
       "      <td>2</td>\n",
       "    </tr>\n",
       "  </tbody>\n",
       "</table>\n",
       "</div>"
      ],
      "text/plain": [
       "           X    Y         Z     formation         series  formation_number  \\\n",
       "0  10.000000  4.0 -7.000000         fault    Fault_serie                 1   \n",
       "1   4.345153  5.0 -1.921564         fault    Fault_serie                 1   \n",
       "2   2.303022  5.0 -1.647248  Unconformity  Younger_serie                 2   \n",
       "3   1.083840  5.0 -1.738687  Unconformity  Younger_serie                 2   \n",
       "4   8.825648  5.0 -3.140747  Unconformity  Younger_serie                 2   \n",
       "\n",
       "   order_series  isFault                       annotations  formation_value  \n",
       "0             1     True  ${\\bf{x}}_{\\alpha \\,{\\bf{1}},0}$                1  \n",
       "1             1     True  ${\\bf{x}}_{\\alpha \\,{\\bf{1}},1}$                1  \n",
       "2             2    False  ${\\bf{x}}_{\\alpha \\,{\\bf{2}},0}$                2  \n",
       "3             2    False  ${\\bf{x}}_{\\alpha \\,{\\bf{2}},1}$                2  \n",
       "4             2    False  ${\\bf{x}}_{\\alpha \\,{\\bf{2}},2}$                2  "
      ]
     },
     "execution_count": 10,
     "metadata": {},
     "output_type": "execute_result"
    }
   ],
   "source": [
    "geo_data.interfaces.head()"
   ]
  },
  {
   "cell_type": "code",
   "execution_count": 11,
   "metadata": {},
   "outputs": [],
   "source": [
    "#from gempy.UncertaintyAnalysisPYMC2 import modify_plane_dip\n",
    "from copy import deepcopy\n",
    "import pymc"
   ]
  },
  {
   "cell_type": "markdown",
   "metadata": {},
   "source": [
    "First we store the original object with the data (rescaled)"
   ]
  },
  {
   "cell_type": "code",
   "execution_count": 12,
   "metadata": {},
   "outputs": [],
   "source": [
    "geo_data_stoch_init = deepcopy(interp_data.geo_data_res)"
   ]
  },
  {
   "cell_type": "code",
   "execution_count": 13,
   "metadata": {},
   "outputs": [
    {
     "data": {
      "text/html": [
       "<div>\n",
       "<style scoped>\n",
       "    .dataframe tbody tr th:only-of-type {\n",
       "        vertical-align: middle;\n",
       "    }\n",
       "\n",
       "    .dataframe tbody tr th {\n",
       "        vertical-align: top;\n",
       "    }\n",
       "\n",
       "    .dataframe thead th {\n",
       "        text-align: right;\n",
       "    }\n",
       "</style>\n",
       "<table border=\"1\" class=\"dataframe\">\n",
       "  <thead>\n",
       "    <tr style=\"text-align: right;\">\n",
       "      <th></th>\n",
       "      <th>X</th>\n",
       "      <th>Y</th>\n",
       "      <th>Z</th>\n",
       "      <th>formation</th>\n",
       "      <th>series</th>\n",
       "      <th>formation_number</th>\n",
       "      <th>order_series</th>\n",
       "      <th>isFault</th>\n",
       "      <th>annotations</th>\n",
       "      <th>formation_value</th>\n",
       "    </tr>\n",
       "  </thead>\n",
       "  <tbody>\n",
       "    <tr>\n",
       "      <th>7</th>\n",
       "      <td>0.618357</td>\n",
       "      <td>0.577837</td>\n",
       "      <td>0.502017</td>\n",
       "      <td>Layer2</td>\n",
       "      <td>Older_serie</td>\n",
       "      <td>3</td>\n",
       "      <td>3</td>\n",
       "      <td>False</td>\n",
       "      <td>${\\bf{x}}_{\\alpha \\,{\\bf{3}},1}$</td>\n",
       "      <td>3</td>\n",
       "    </tr>\n",
       "    <tr>\n",
       "      <th>8</th>\n",
       "      <td>0.726401</td>\n",
       "      <td>0.577837</td>\n",
       "      <td>0.479271</td>\n",
       "      <td>Layer2</td>\n",
       "      <td>Older_serie</td>\n",
       "      <td>3</td>\n",
       "      <td>3</td>\n",
       "      <td>False</td>\n",
       "      <td>${\\bf{x}}_{\\alpha \\,{\\bf{3}},2}$</td>\n",
       "      <td>3</td>\n",
       "    </tr>\n",
       "    <tr>\n",
       "      <th>9</th>\n",
       "      <td>0.318868</td>\n",
       "      <td>0.577837</td>\n",
       "      <td>0.482178</td>\n",
       "      <td>Layer1</td>\n",
       "      <td>Older_serie</td>\n",
       "      <td>4</td>\n",
       "      <td>3</td>\n",
       "      <td>False</td>\n",
       "      <td>${\\bf{x}}_{\\alpha \\,{\\bf{4}},0}$</td>\n",
       "      <td>4</td>\n",
       "    </tr>\n",
       "    <tr>\n",
       "      <th>10</th>\n",
       "      <td>0.597507</td>\n",
       "      <td>0.577837</td>\n",
       "      <td>0.464107</td>\n",
       "      <td>Layer1</td>\n",
       "      <td>Older_serie</td>\n",
       "      <td>4</td>\n",
       "      <td>3</td>\n",
       "      <td>False</td>\n",
       "      <td>${\\bf{x}}_{\\alpha \\,{\\bf{4}},1}$</td>\n",
       "      <td>4</td>\n",
       "    </tr>\n",
       "    <tr>\n",
       "      <th>11</th>\n",
       "      <td>0.719767</td>\n",
       "      <td>0.577837</td>\n",
       "      <td>0.429040</td>\n",
       "      <td>Layer1</td>\n",
       "      <td>Older_serie</td>\n",
       "      <td>4</td>\n",
       "      <td>3</td>\n",
       "      <td>False</td>\n",
       "      <td>${\\bf{x}}_{\\alpha \\,{\\bf{4}},2}$</td>\n",
       "      <td>4</td>\n",
       "    </tr>\n",
       "  </tbody>\n",
       "</table>\n",
       "</div>"
      ],
      "text/plain": [
       "           X         Y         Z formation       series  formation_number  \\\n",
       "7   0.618357  0.577837  0.502017    Layer2  Older_serie                 3   \n",
       "8   0.726401  0.577837  0.479271    Layer2  Older_serie                 3   \n",
       "9   0.318868  0.577837  0.482178    Layer1  Older_serie                 4   \n",
       "10  0.597507  0.577837  0.464107    Layer1  Older_serie                 4   \n",
       "11  0.719767  0.577837  0.429040    Layer1  Older_serie                 4   \n",
       "\n",
       "    order_series  isFault                       annotations  formation_value  \n",
       "7              3    False  ${\\bf{x}}_{\\alpha \\,{\\bf{3}},1}$                3  \n",
       "8              3    False  ${\\bf{x}}_{\\alpha \\,{\\bf{3}},2}$                3  \n",
       "9              3    False  ${\\bf{x}}_{\\alpha \\,{\\bf{4}},0}$                4  \n",
       "10             3    False  ${\\bf{x}}_{\\alpha \\,{\\bf{4}},1}$                4  \n",
       "11             3    False  ${\\bf{x}}_{\\alpha \\,{\\bf{4}},2}$                4  "
      ]
     },
     "execution_count": 13,
     "metadata": {},
     "output_type": "execute_result"
    }
   ],
   "source": [
    "interp_data.geo_data_res.interfaces.tail()"
   ]
  },
  {
   "cell_type": "markdown",
   "metadata": {},
   "source": [
    "Rescaling the std we want to give to the input data:"
   ]
  },
  {
   "cell_type": "code",
   "execution_count": 14,
   "metadata": {},
   "outputs": [
    {
     "data": {
      "text/plain": [
       "0.009328383734383354"
      ]
     },
     "execution_count": 14,
     "metadata": {},
     "output_type": "execute_result"
    }
   ],
   "source": [
    "0.3/interp_data.rescaling_factor"
   ]
  },
  {
   "cell_type": "markdown",
   "metadata": {},
   "source": [
    "The first step is to define the pdf which describe our priors. In this case we will add noise to the interfaces of 0.3 (0.01 rescaled)."
   ]
  },
  {
   "cell_type": "code",
   "execution_count": 15,
   "metadata": {},
   "outputs": [
    {
     "data": {
      "image/png": "[encoded data removed]",
      "text/plain": [
       "<matplotlib.figure.Figure at 0x7f5a595c3438>"
      ]
     },
     "metadata": {},
     "output_type": "display_data"
    }
   ],
   "source": [
    "# Positions (rows) of the data we want to make stochastic\n",
    "ids = range(2,12)\n",
    "\n",
    "# List with the stochastic parameters \n",
    "interface_Z_modifier = [pymc.Normal(\"interface_Z_mod_\"+str(i), 0., 1./0.01**2) for i in ids]\n",
    "\n",
    "# Plotting the first element of the list\n",
    "samples = [interface_Z_modifier[0].rand() for i in range(10000)]\n",
    "plt.hist(samples, bins=24, normed=True);"
   ]
  },
  {
   "cell_type": "markdown",
   "metadata": {},
   "source": [
    "To store the value of the input data---i.e. the value x at every each iteration---we need to wrap the process inside a detereministic decorator of pymc2:"
   ]
  },
  {
   "cell_type": "code",
   "execution_count": 16,
   "metadata": {},
   "outputs": [
    {
     "data": {
      "text/plain": [
       "-1.6597735520170793"
      ]
     },
     "execution_count": 16,
     "metadata": {},
     "output_type": "execute_result"
    }
   ],
   "source": [
    "geo_data.interfaces.loc[2, 'Z'] + interface_Z_modifier[2].rand()"
   ]
  },
  {
   "cell_type": "code",
   "execution_count": 17,
   "metadata": {},
   "outputs": [
    {
     "data": {
      "text/plain": [
       "range(2, 12)"
      ]
     },
     "execution_count": 17,
     "metadata": {},
     "output_type": "execute_result"
    }
   ],
   "source": [
    "ids"
   ]
  },
  {
   "cell_type": "code",
   "execution_count": 18,
   "metadata": {},
   "outputs": [
    {
     "data": {
      "text/html": [
       "<div>\n",
       "<style scoped>\n",
       "    .dataframe tbody tr th:only-of-type {\n",
       "        vertical-align: middle;\n",
       "    }\n",
       "\n",
       "    .dataframe tbody tr th {\n",
       "        vertical-align: top;\n",
       "    }\n",
       "\n",
       "    .dataframe thead th {\n",
       "        text-align: right;\n",
       "    }\n",
       "</style>\n",
       "<table border=\"1\" class=\"dataframe\">\n",
       "  <thead>\n",
       "    <tr style=\"text-align: right;\">\n",
       "      <th></th>\n",
       "      <th></th>\n",
       "      <th>X</th>\n",
       "      <th>Y</th>\n",
       "      <th>Z</th>\n",
       "      <th>G_x</th>\n",
       "      <th>G_y</th>\n",
       "      <th>G_z</th>\n",
       "      <th>dip</th>\n",
       "      <th>azimuth</th>\n",
       "      <th>polarity</th>\n",
       "    </tr>\n",
       "  </thead>\n",
       "  <tbody>\n",
       "    <tr>\n",
       "      <th rowspan=\"12\" valign=\"top\">interfaces</th>\n",
       "      <th>0</th>\n",
       "      <td>0.561046</td>\n",
       "      <td>0.546742</td>\n",
       "      <td>0.463521</td>\n",
       "      <td>NaN</td>\n",
       "      <td>NaN</td>\n",
       "      <td>NaN</td>\n",
       "      <td>NaN</td>\n",
       "      <td>NaN</td>\n",
       "      <td>NaN</td>\n",
       "    </tr>\n",
       "    <tr>\n",
       "      <th>1</th>\n",
       "      <td>0.385211</td>\n",
       "      <td>0.577837</td>\n",
       "      <td>0.621433</td>\n",
       "      <td>NaN</td>\n",
       "      <td>NaN</td>\n",
       "      <td>NaN</td>\n",
       "      <td>NaN</td>\n",
       "      <td>NaN</td>\n",
       "      <td>NaN</td>\n",
       "    </tr>\n",
       "    <tr>\n",
       "      <th>2</th>\n",
       "      <td>0.321712</td>\n",
       "      <td>0.577837</td>\n",
       "      <td>0.629963</td>\n",
       "      <td>NaN</td>\n",
       "      <td>NaN</td>\n",
       "      <td>NaN</td>\n",
       "      <td>NaN</td>\n",
       "      <td>NaN</td>\n",
       "      <td>NaN</td>\n",
       "    </tr>\n",
       "    <tr>\n",
       "      <th>3</th>\n",
       "      <td>0.283802</td>\n",
       "      <td>0.577837</td>\n",
       "      <td>0.627120</td>\n",
       "      <td>NaN</td>\n",
       "      <td>NaN</td>\n",
       "      <td>NaN</td>\n",
       "      <td>NaN</td>\n",
       "      <td>NaN</td>\n",
       "      <td>NaN</td>\n",
       "    </tr>\n",
       "    <tr>\n",
       "      <th>4</th>\n",
       "      <td>0.524530</td>\n",
       "      <td>0.577837</td>\n",
       "      <td>0.583523</td>\n",
       "      <td>NaN</td>\n",
       "      <td>NaN</td>\n",
       "      <td>NaN</td>\n",
       "      <td>NaN</td>\n",
       "      <td>NaN</td>\n",
       "      <td>NaN</td>\n",
       "    </tr>\n",
       "    <tr>\n",
       "      <th>5</th>\n",
       "      <td>0.733983</td>\n",
       "      <td>0.577837</td>\n",
       "      <td>0.580680</td>\n",
       "      <td>NaN</td>\n",
       "      <td>NaN</td>\n",
       "      <td>NaN</td>\n",
       "      <td>NaN</td>\n",
       "      <td>NaN</td>\n",
       "      <td>NaN</td>\n",
       "    </tr>\n",
       "    <tr>\n",
       "      <th>6</th>\n",
       "      <td>0.314130</td>\n",
       "      <td>0.577837</td>\n",
       "      <td>0.528554</td>\n",
       "      <td>NaN</td>\n",
       "      <td>NaN</td>\n",
       "      <td>NaN</td>\n",
       "      <td>NaN</td>\n",
       "      <td>NaN</td>\n",
       "      <td>NaN</td>\n",
       "    </tr>\n",
       "    <tr>\n",
       "      <th>7</th>\n",
       "      <td>0.618357</td>\n",
       "      <td>0.577837</td>\n",
       "      <td>0.502017</td>\n",
       "      <td>NaN</td>\n",
       "      <td>NaN</td>\n",
       "      <td>NaN</td>\n",
       "      <td>NaN</td>\n",
       "      <td>NaN</td>\n",
       "      <td>NaN</td>\n",
       "    </tr>\n",
       "    <tr>\n",
       "      <th>8</th>\n",
       "      <td>0.726401</td>\n",
       "      <td>0.577837</td>\n",
       "      <td>0.479271</td>\n",
       "      <td>NaN</td>\n",
       "      <td>NaN</td>\n",
       "      <td>NaN</td>\n",
       "      <td>NaN</td>\n",
       "      <td>NaN</td>\n",
       "      <td>NaN</td>\n",
       "    </tr>\n",
       "    <tr>\n",
       "      <th>9</th>\n",
       "      <td>0.318868</td>\n",
       "      <td>0.577837</td>\n",
       "      <td>0.482178</td>\n",
       "      <td>NaN</td>\n",
       "      <td>NaN</td>\n",
       "      <td>NaN</td>\n",
       "      <td>NaN</td>\n",
       "      <td>NaN</td>\n",
       "      <td>NaN</td>\n",
       "    </tr>\n",
       "    <tr>\n",
       "      <th>10</th>\n",
       "      <td>0.597507</td>\n",
       "      <td>0.577837</td>\n",
       "      <td>0.464107</td>\n",
       "      <td>NaN</td>\n",
       "      <td>NaN</td>\n",
       "      <td>NaN</td>\n",
       "      <td>NaN</td>\n",
       "      <td>NaN</td>\n",
       "      <td>NaN</td>\n",
       "    </tr>\n",
       "    <tr>\n",
       "      <th>11</th>\n",
       "      <td>0.719767</td>\n",
       "      <td>0.577837</td>\n",
       "      <td>0.429040</td>\n",
       "      <td>NaN</td>\n",
       "      <td>NaN</td>\n",
       "      <td>NaN</td>\n",
       "      <td>NaN</td>\n",
       "      <td>NaN</td>\n",
       "      <td>NaN</td>\n",
       "    </tr>\n",
       "    <tr>\n",
       "      <th rowspan=\"4\" valign=\"top\">orientations</th>\n",
       "      <th>1</th>\n",
       "      <td>0.531629</td>\n",
       "      <td>0.577837</td>\n",
       "      <td>0.474529</td>\n",
       "      <td>0.637572</td>\n",
       "      <td>1.000039e-12</td>\n",
       "      <td>0.770391</td>\n",
       "      <td>39.611</td>\n",
       "      <td>90.0</td>\n",
       "      <td>1.0</td>\n",
       "    </tr>\n",
       "    <tr>\n",
       "      <th>2</th>\n",
       "      <td>0.558184</td>\n",
       "      <td>0.577837</td>\n",
       "      <td>0.605861</td>\n",
       "      <td>-0.023246</td>\n",
       "      <td>9.999957e-13</td>\n",
       "      <td>0.999730</td>\n",
       "      <td>1.332</td>\n",
       "      <td>270.0</td>\n",
       "      <td>1.0</td>\n",
       "    </tr>\n",
       "    <tr>\n",
       "      <th>3</th>\n",
       "      <td>0.341610</td>\n",
       "      <td>0.577837</td>\n",
       "      <td>0.567408</td>\n",
       "      <td>-0.365657</td>\n",
       "      <td>9.999328e-13</td>\n",
       "      <td>0.930750</td>\n",
       "      <td>21.448</td>\n",
       "      <td>270.0</td>\n",
       "      <td>1.0</td>\n",
       "    </tr>\n",
       "    <tr>\n",
       "      <th>0</th>\n",
       "      <td>0.750100</td>\n",
       "      <td>0.577837</td>\n",
       "      <td>0.501083</td>\n",
       "      <td>0.588166</td>\n",
       "      <td>1.000036e-12</td>\n",
       "      <td>0.808740</td>\n",
       "      <td>36.027</td>\n",
       "      <td>90.0</td>\n",
       "      <td>1.0</td>\n",
       "    </tr>\n",
       "  </tbody>\n",
       "</table>\n",
       "</div>"
      ],
      "text/plain": [
       "                        X         Y         Z       G_x           G_y  \\\n",
       "interfaces   0   0.561046  0.546742  0.463521       NaN           NaN   \n",
       "             1   0.385211  0.577837  0.621433       NaN           NaN   \n",
       "             2   0.321712  0.577837  0.629963       NaN           NaN   \n",
       "             3   0.283802  0.577837  0.627120       NaN           NaN   \n",
       "             4   0.524530  0.577837  0.583523       NaN           NaN   \n",
       "             5   0.733983  0.577837  0.580680       NaN           NaN   \n",
       "             6   0.314130  0.577837  0.528554       NaN           NaN   \n",
       "             7   0.618357  0.577837  0.502017       NaN           NaN   \n",
       "             8   0.726401  0.577837  0.479271       NaN           NaN   \n",
       "             9   0.318868  0.577837  0.482178       NaN           NaN   \n",
       "             10  0.597507  0.577837  0.464107       NaN           NaN   \n",
       "             11  0.719767  0.577837  0.429040       NaN           NaN   \n",
       "orientations 1   0.531629  0.577837  0.474529  0.637572  1.000039e-12   \n",
       "             2   0.558184  0.577837  0.605861 -0.023246  9.999957e-13   \n",
       "             3   0.341610  0.577837  0.567408 -0.365657  9.999328e-13   \n",
       "             0   0.750100  0.577837  0.501083  0.588166  1.000036e-12   \n",
       "\n",
       "                      G_z     dip  azimuth  polarity  \n",
       "interfaces   0        NaN     NaN      NaN       NaN  \n",
       "             1        NaN     NaN      NaN       NaN  \n",
       "             2        NaN     NaN      NaN       NaN  \n",
       "             3        NaN     NaN      NaN       NaN  \n",
       "             4        NaN     NaN      NaN       NaN  \n",
       "             5        NaN     NaN      NaN       NaN  \n",
       "             6        NaN     NaN      NaN       NaN  \n",
       "             7        NaN     NaN      NaN       NaN  \n",
       "             8        NaN     NaN      NaN       NaN  \n",
       "             9        NaN     NaN      NaN       NaN  \n",
       "             10       NaN     NaN      NaN       NaN  \n",
       "             11       NaN     NaN      NaN       NaN  \n",
       "orientations 1   0.770391  39.611     90.0       1.0  \n",
       "             2   0.999730   1.332    270.0       1.0  \n",
       "             3   0.930750  21.448    270.0       1.0  \n",
       "             0   0.808740  36.027     90.0       1.0  "
      ]
     },
     "execution_count": 18,
     "metadata": {},
     "output_type": "execute_result"
    }
   ],
   "source": [
    "gp.get_data(geo_data_stoch_init, numeric=True)"
   ]
  },
  {
   "cell_type": "markdown",
   "metadata": {},
   "source": [
    "## Deterministic functions"
   ]
  },
  {
   "cell_type": "code",
   "execution_count": 19,
   "metadata": {},
   "outputs": [
    {
     "name": "stdout",
     "output_type": "stream",
     "text": [
      "                        X         Y         Z       G_x           G_y  \\\n",
      "interfaces   0   0.561046  0.546742  0.463521       NaN           NaN   \n",
      "             1   0.385211  0.577837  0.621433       NaN           NaN   \n",
      "             2   0.321712  0.577837  0.639762       NaN           NaN   \n",
      "             3   0.283802  0.577837  0.624947       NaN           NaN   \n",
      "             4   0.524530  0.577837  0.570997       NaN           NaN   \n",
      "             5   0.733983  0.577837  0.589425       NaN           NaN   \n",
      "             6   0.314130  0.577837  0.517404       NaN           NaN   \n",
      "             7   0.618357  0.577837  0.495990       NaN           NaN   \n",
      "             8   0.726401  0.577837  0.473314       NaN           NaN   \n",
      "             9   0.318868  0.577837  0.477124       NaN           NaN   \n",
      "             10  0.597507  0.577837  0.455398       NaN           NaN   \n",
      "             11  0.719767  0.577837  0.427584       NaN           NaN   \n",
      "orientations 1   0.531629  0.577837  0.474529  0.637572  1.000039e-12   \n",
      "             2   0.558184  0.577837  0.605861 -0.023246  9.999957e-13   \n",
      "             3   0.341610  0.577837  0.567408 -0.365657  9.999328e-13   \n",
      "             0   0.750100  0.577837  0.501083  0.588166  1.000036e-12   \n",
      "\n",
      "                      G_z     dip  azimuth  polarity  \n",
      "interfaces   0        NaN     NaN      NaN       NaN  \n",
      "             1        NaN     NaN      NaN       NaN  \n",
      "             2        NaN     NaN      NaN       NaN  \n",
      "             3        NaN     NaN      NaN       NaN  \n",
      "             4        NaN     NaN      NaN       NaN  \n",
      "             5        NaN     NaN      NaN       NaN  \n",
      "             6        NaN     NaN      NaN       NaN  \n",
      "             7        NaN     NaN      NaN       NaN  \n",
      "             8        NaN     NaN      NaN       NaN  \n",
      "             9        NaN     NaN      NaN       NaN  \n",
      "             10       NaN     NaN      NaN       NaN  \n",
      "             11       NaN     NaN      NaN       NaN  \n",
      "orientations 1   0.770391  39.611     90.0       1.0  \n",
      "             2   0.999730   1.332    270.0       1.0  \n",
      "             3   0.930750  21.448    270.0       1.0  \n",
      "             0   0.808740  36.027     90.0       1.0  \n",
      "[[ 0.56104612  0.54674192  0.46352104]\n",
      " [ 0.38521085  0.57783653  0.62143304]\n",
      " [ 0.32171158  0.57783653  0.62996279]\n",
      " [ 0.28380158  0.57783653  0.62711953]\n",
      " [ 0.5245301   0.57783653  0.58352302]\n",
      " [ 0.73398289  0.57783653  0.58067979]\n",
      " [ 0.31412959  0.57783653  0.52855353]\n",
      " [ 0.61835738  0.57783653  0.50201652]\n",
      " [ 0.7264009   0.57783653  0.47927053]\n",
      " [ 0.31886835  0.57783653  0.48217781]\n",
      " [ 0.59750686  0.57783653  0.46410652]\n",
      " [ 0.71976665  0.57783653  0.42903976]]\n"
     ]
    }
   ],
   "source": [
    "@pymc.deterministic(trace=True)\n",
    "def input_data(value = 0, \n",
    "               interface_Z_modifier = interface_Z_modifier,\n",
    "               geo_data_stoch_init = geo_data_stoch_init,\n",
    "               ids = ids,\n",
    "               verbose=1):\n",
    "    # First we extract from our original intep_data object the numerical data\n",
    "    #that is necessary for the interpolation.\n",
    "    \n",
    "    # geo_data_stoch is a pandas Dataframe\n",
    "    geo_data_stoch = gp.get_data(geo_data_stoch_init, numeric=True)\n",
    "    \n",
    "    # Now we loop each id which share the same uncertainty variable. In this case, each layer.\n",
    "    for e, i in enumerate(ids):\n",
    "        # We add the stochastic part to the initial value\n",
    "        #new_val = (geo_data_stoch_init.interfaces.loc[i, \"Z\"] + interface_Z_modifier[num])\n",
    "        # print(new_val)\n",
    "        #interp_data.geo_data_res.interfaces.iat[i, 2] = new_val\n",
    "        geo_data_stoch.xs('interfaces').loc[i, 'Z'] += np.array(interface_Z_modifier[e])\n",
    "        \n",
    "        \n",
    "    if verbose > 0:\n",
    "        print(geo_data_stoch)\n",
    "        print(interp_data.geo_data_res.interfaces[[\"X\", \"Y\", \"Z\"]].values)\n",
    "        \n",
    "    # then return the input data to be input into the modeling function. Due to the way pymc2 stores the traces\n",
    "    # We need to save the data as numpy arrays\n",
    "    return  [geo_data_stoch.xs('interfaces')[[\"X\", \"Y\", \"Z\"]].values,\n",
    "             geo_data_stoch.xs('orientations').values]"
   ]
  },
  {
   "cell_type": "code",
   "execution_count": 58,
   "metadata": {
    "scrolled": false
   },
   "outputs": [
    {
     "ename": "AttributeError",
     "evalue": "'InterpolatorData' object has no attribute 'geo_data_res_no_basement'",
     "output_type": "error",
     "traceback": [
      "\u001b[0;31m---------------------------------------------------------------------------\u001b[0m",
      "\u001b[0;31mAttributeError\u001b[0m                            Traceback (most recent call last)",
      "\u001b[0;32m<ipython-input-58-4bb661bb1781>\u001b[0m in \u001b[0;36m<module>\u001b[0;34m()\u001b[0m\n\u001b[1;32m      2\u001b[0m \u001b[0;34m@\u001b[0m\u001b[0mpymc\u001b[0m\u001b[0;34m.\u001b[0m\u001b[0mdeterministic\u001b[0m\u001b[0;34m(\u001b[0m\u001b[0mtrace\u001b[0m\u001b[0;34m=\u001b[0m\u001b[0;32mTrue\u001b[0m\u001b[0;34m)\u001b[0m\u001b[0;34m\u001b[0m\u001b[0m\n\u001b[1;32m      3\u001b[0m def gempy_model(value=0,\n\u001b[0;32m----> 4\u001b[0;31m                 input_data=input_data, verbose=False):\n\u001b[0m\u001b[1;32m      5\u001b[0m \u001b[0;34m\u001b[0m\u001b[0m\n\u001b[1;32m      6\u001b[0m     \u001b[0;31m# modify input data values accordingly\u001b[0m\u001b[0;34m\u001b[0m\u001b[0;34m\u001b[0m\u001b[0m\n",
      "\u001b[0;32m~/anaconda3/lib/python3.6/site-packages/pymc/InstantiationDecorators.py\u001b[0m in \u001b[0;36minstantiate_n\u001b[0;34m(__func__)\u001b[0m\n\u001b[1;32m    241\u001b[0m         junk, parents = _extract(\n\u001b[1;32m    242\u001b[0m             __func__, kwds, keys, 'Deterministic', probe=False)\n\u001b[0;32m--> 243\u001b[0;31m         \u001b[0;32mreturn\u001b[0m \u001b[0mDeterministic\u001b[0m\u001b[0;34m(\u001b[0m\u001b[0mparents\u001b[0m\u001b[0;34m=\u001b[0m\u001b[0mparents\u001b[0m\u001b[0;34m,\u001b[0m \u001b[0;34m**\u001b[0m\u001b[0mkwds\u001b[0m\u001b[0;34m)\u001b[0m\u001b[0;34m\u001b[0m\u001b[0m\n\u001b[0m\u001b[1;32m    244\u001b[0m \u001b[0;34m\u001b[0m\u001b[0m\n\u001b[1;32m    245\u001b[0m     \u001b[0mkeys\u001b[0m \u001b[0;34m=\u001b[0m \u001b[0;34m[\u001b[0m\u001b[0;34m'eval'\u001b[0m\u001b[0;34m]\u001b[0m\u001b[0;34m\u001b[0m\u001b[0m\n",
      "\u001b[0;32m~/anaconda3/lib/python3.6/site-packages/pymc/PyMCObjects.py\u001b[0m in \u001b[0;36m__init__\u001b[0;34m(self, eval, doc, name, parents, dtype, trace, cache_depth, plot, verbose, jacobians, jacobian_formats)\u001b[0m\n\u001b[1;32m    441\u001b[0m                           \u001b[0mtrace\u001b[0m\u001b[0;34m=\u001b[0m\u001b[0mtrace\u001b[0m\u001b[0;34m,\u001b[0m\u001b[0;34m\u001b[0m\u001b[0m\n\u001b[1;32m    442\u001b[0m                           \u001b[0mplot\u001b[0m\u001b[0;34m=\u001b[0m\u001b[0mplot\u001b[0m\u001b[0;34m,\u001b[0m\u001b[0;34m\u001b[0m\u001b[0m\n\u001b[0;32m--> 443\u001b[0;31m                           verbose=verbose)\n\u001b[0m\u001b[1;32m    444\u001b[0m \u001b[0;34m\u001b[0m\u001b[0m\n\u001b[1;32m    445\u001b[0m         \u001b[0;31m# self._value.force_compute()\u001b[0m\u001b[0;34m\u001b[0m\u001b[0;34m\u001b[0m\u001b[0m\n",
      "\u001b[0;32m~/anaconda3/lib/python3.6/site-packages/pymc/Node.py\u001b[0m in \u001b[0;36m__init__\u001b[0;34m(self, doc, name, parents, cache_depth, trace, dtype, plot, verbose)\u001b[0m\n\u001b[1;32m    212\u001b[0m         \u001b[0mself\u001b[0m\u001b[0;34m.\u001b[0m\u001b[0mextended_children\u001b[0m \u001b[0;34m=\u001b[0m \u001b[0mset\u001b[0m\u001b[0;34m(\u001b[0m\u001b[0;34m)\u001b[0m\u001b[0;34m\u001b[0m\u001b[0m\n\u001b[1;32m    213\u001b[0m \u001b[0;34m\u001b[0m\u001b[0m\n\u001b[0;32m--> 214\u001b[0;31m         \u001b[0mNode\u001b[0m\u001b[0;34m.\u001b[0m\u001b[0m__init__\u001b[0m\u001b[0;34m(\u001b[0m\u001b[0mself\u001b[0m\u001b[0;34m,\u001b[0m \u001b[0mdoc\u001b[0m\u001b[0;34m,\u001b[0m \u001b[0mname\u001b[0m\u001b[0;34m,\u001b[0m \u001b[0mparents\u001b[0m\u001b[0;34m,\u001b[0m \u001b[0mcache_depth\u001b[0m\u001b[0;34m,\u001b[0m \u001b[0mverbose\u001b[0m\u001b[0;34m=\u001b[0m\u001b[0mverbose\u001b[0m\u001b[0;34m)\u001b[0m\u001b[0;34m\u001b[0m\u001b[0m\n\u001b[0m\u001b[1;32m    215\u001b[0m \u001b[0;34m\u001b[0m\u001b[0m\n\u001b[1;32m    216\u001b[0m         \u001b[0;32mif\u001b[0m \u001b[0mself\u001b[0m\u001b[0;34m.\u001b[0m\u001b[0mdtype\u001b[0m \u001b[0;32mis\u001b[0m \u001b[0;32mNone\u001b[0m\u001b[0;34m:\u001b[0m\u001b[0;34m\u001b[0m\u001b[0m\n",
      "\u001b[0;32m~/anaconda3/lib/python3.6/site-packages/pymc/Node.py\u001b[0m in \u001b[0;36m__init__\u001b[0;34m(self, doc, name, parents, cache_depth, verbose)\u001b[0m\n\u001b[1;32m    127\u001b[0m \u001b[0;34m\u001b[0m\u001b[0m\n\u001b[1;32m    128\u001b[0m         \u001b[0;31m# Initialize\u001b[0m\u001b[0;34m\u001b[0m\u001b[0;34m\u001b[0m\u001b[0m\n\u001b[0;32m--> 129\u001b[0;31m         \u001b[0mself\u001b[0m\u001b[0;34m.\u001b[0m\u001b[0mparents\u001b[0m \u001b[0;34m=\u001b[0m \u001b[0mparents\u001b[0m\u001b[0;34m\u001b[0m\u001b[0m\n\u001b[0m\u001b[1;32m    130\u001b[0m \u001b[0;34m\u001b[0m\u001b[0m\n\u001b[1;32m    131\u001b[0m     \u001b[0;32mdef\u001b[0m \u001b[0m_get_parents\u001b[0m\u001b[0;34m(\u001b[0m\u001b[0mself\u001b[0m\u001b[0;34m)\u001b[0m\u001b[0;34m:\u001b[0m\u001b[0;34m\u001b[0m\u001b[0m\n",
      "\u001b[0;32m~/anaconda3/lib/python3.6/site-packages/pymc/Node.py\u001b[0m in \u001b[0;36m_set_parents\u001b[0;34m(self, new_parents)\u001b[0m\n\u001b[1;32m    145\u001b[0m \u001b[0;34m\u001b[0m\u001b[0m\n\u001b[1;32m    146\u001b[0m         \u001b[0;31m# Get new lazy function\u001b[0m\u001b[0;34m\u001b[0m\u001b[0;34m\u001b[0m\u001b[0m\n\u001b[0;32m--> 147\u001b[0;31m         \u001b[0mself\u001b[0m\u001b[0;34m.\u001b[0m\u001b[0mgen_lazy_function\u001b[0m\u001b[0;34m(\u001b[0m\u001b[0;34m)\u001b[0m\u001b[0;34m\u001b[0m\u001b[0m\n\u001b[0m\u001b[1;32m    148\u001b[0m \u001b[0;34m\u001b[0m\u001b[0m\n\u001b[1;32m    149\u001b[0m     parents = property(\n",
      "\u001b[0;32m~/anaconda3/lib/python3.6/site-packages/pymc/PyMCObjects.py\u001b[0m in \u001b[0;36mgen_lazy_function\u001b[0;34m(self)\u001b[0m\n\u001b[1;32m    452\u001b[0m                                    cache_depth=self._cache_depth)\n\u001b[1;32m    453\u001b[0m \u001b[0;34m\u001b[0m\u001b[0m\n\u001b[0;32m--> 454\u001b[0;31m         \u001b[0mself\u001b[0m\u001b[0;34m.\u001b[0m\u001b[0m_value\u001b[0m\u001b[0;34m.\u001b[0m\u001b[0mforce_compute\u001b[0m\u001b[0;34m(\u001b[0m\u001b[0;34m)\u001b[0m\u001b[0;34m\u001b[0m\u001b[0m\n\u001b[0m\u001b[1;32m    455\u001b[0m \u001b[0;34m\u001b[0m\u001b[0m\n\u001b[1;32m    456\u001b[0m         \u001b[0mself\u001b[0m\u001b[0;34m.\u001b[0m\u001b[0m_jacobians\u001b[0m \u001b[0;34m=\u001b[0m \u001b[0;34m{\u001b[0m\u001b[0;34m}\u001b[0m\u001b[0;34m\u001b[0m\u001b[0m\n",
      "\u001b[0;32mLazyFunction.pyx\u001b[0m in \u001b[0;36mpymc.LazyFunction.LazyFunction.force_compute (pymc/LazyFunction.c:2409)\u001b[0;34m()\u001b[0m\n",
      "\u001b[0;32m<ipython-input-58-4bb661bb1781>\u001b[0m in \u001b[0;36mgempy_model\u001b[0;34m(value, input_data, verbose)\u001b[0m\n\u001b[1;32m      5\u001b[0m \u001b[0;34m\u001b[0m\u001b[0m\n\u001b[1;32m      6\u001b[0m     \u001b[0;31m# modify input data values accordingly\u001b[0m\u001b[0;34m\u001b[0m\u001b[0;34m\u001b[0m\u001b[0m\n\u001b[0;32m----> 7\u001b[0;31m     \u001b[0minterp_data\u001b[0m\u001b[0;34m.\u001b[0m\u001b[0mgeo_data_res_no_basement\u001b[0m\u001b[0;34m.\u001b[0m\u001b[0minterfaces\u001b[0m\u001b[0;34m[\u001b[0m\u001b[0;34m[\u001b[0m\u001b[0;34m\"X\"\u001b[0m\u001b[0;34m,\u001b[0m \u001b[0;34m\"Y\"\u001b[0m\u001b[0;34m,\u001b[0m \u001b[0;34m\"Z\"\u001b[0m\u001b[0;34m]\u001b[0m\u001b[0;34m]\u001b[0m \u001b[0;34m=\u001b[0m \u001b[0minput_data\u001b[0m\u001b[0;34m[\u001b[0m\u001b[0;36m0\u001b[0m\u001b[0;34m]\u001b[0m\u001b[0;34m\u001b[0m\u001b[0m\n\u001b[0m\u001b[1;32m      8\u001b[0m \u001b[0;34m\u001b[0m\u001b[0m\n\u001b[1;32m      9\u001b[0m     \u001b[0;31m# Gx, Gy, Gz are just used for visualization. The theano function gets azimuth dip and polarity!!!\u001b[0m\u001b[0;34m\u001b[0m\u001b[0;34m\u001b[0m\u001b[0m\n",
      "\u001b[0;31mAttributeError\u001b[0m: 'InterpolatorData' object has no attribute 'geo_data_res_no_basement'"
     ]
    }
   ],
   "source": [
    "# %matplotlib notebook\n",
    "@pymc.deterministic(trace=True)\n",
    "def gempy_model(value=0,\n",
    "                input_data=input_data, verbose=False):\n",
    "    \n",
    "    # modify input data values accordingly\n",
    "    interp_data.geo_data_res_no_basement.interfaces[[\"X\", \"Y\", \"Z\"]] = input_data[0]\n",
    "    \n",
    "    # Gx, Gy, Gz are just used for visualization. The theano function gets azimuth dip and polarity!!!\n",
    "    interp_data.geo_data_res_no_basement.orientations[[\"G_x\", \"G_y\", \"G_z\", \"X\", \"Y\", \"Z\", 'dip', 'azimuth', 'polarity']] = input_data[1]\n",
    "    print(interp_data.geo_data_res_no_basement.interfaces[[\"X\", \"Y\", \"Z\"]])\n",
    "    try:\n",
    "        # try to compute model\n",
    "        lb, fb = gp.compute_model(interp_data)\n",
    "        if verbose:\n",
    "            gp.plot_section(interp_data.geo_data_res, lb[0], 5, plot_data=True)\n",
    "        #    gp.plot_data(interp_data.geo_data_res, direction='y')\n",
    "\n",
    "        return lb, fb\n",
    "    \n",
    "    except np.linalg.linalg.LinAlgError as err:\n",
    "        # if it fails (e.g. some input data combinations could lead to \n",
    "        # a singular matrix and thus break the chain) return an empty model\n",
    "        # with same dimensions (just zeros)\n",
    "        if verbose:\n",
    "            print(\"Exception occured.\")\n",
    "        return np.zeros_like(lith_block), np.zeros_like(fault_block)"
   ]
  },
  {
   "cell_type": "code",
   "execution_count": 21,
   "metadata": {},
   "outputs": [
    {
     "name": "stdout",
     "output_type": "stream",
     "text": [
      "Potential field of the surface is outside the block. Probably is due to float errors\n"
     ]
    }
   ],
   "source": [
    "@pymc.deterministic(trace=True)\n",
    "def gempy_surfaces(value=0, gempy_model=gempy_model):\n",
    "    vert, simp = gp.get_surfaces(interp_data, gempy_model[0][1], gempy_model[1][1], original_scale=True)\n",
    "    return vert"
   ]
  },
  {
   "cell_type": "markdown",
   "metadata": {},
   "source": [
    "## Likelihood functions"
   ]
  },
  {
   "cell_type": "markdown",
   "metadata": {},
   "source": [
    "## pymc Model"
   ]
  },
  {
   "cell_type": "code",
   "execution_count": 22,
   "metadata": {},
   "outputs": [],
   "source": [
    "# We add all the pymc objects to a list\n",
    "params = [input_data, gempy_model, gempy_surfaces, *interface_Z_modifier] \n",
    "\n",
    "# We create the pymc model i.e. the probabilistic graph\n",
    "model = pymc.Model(params)"
   ]
  },
  {
   "cell_type": "markdown",
   "metadata": {},
   "source": [
    "Create pymc probabilistic graph plot:"
   ]
  },
  {
   "cell_type": "code",
   "execution_count": 23,
   "metadata": {},
   "outputs": [
    {
     "data": {
      "text/plain": [
       "True"
      ]
     },
     "execution_count": 23,
     "metadata": {},
     "output_type": "execute_result"
    }
   ],
   "source": [
    "graph = pymc.graph.dag(model)\n",
    "graph.write_png('figures/paper_graph.png')"
   ]
  },
  {
   "cell_type": "markdown",
   "metadata": {},
   "source": [
    "Running inference:"
   ]
  },
  {
   "cell_type": "code",
   "execution_count": 24,
   "metadata": {},
   "outputs": [],
   "source": [
    "runner = pymc.MCMC(model, db=\"hdf5\", dbname=\"pymc-db/UQ.hdf5\")"
   ]
  },
  {
   "cell_type": "code",
   "execution_count": 25,
   "metadata": {},
   "outputs": [],
   "source": [
    "iterations = 5"
   ]
  },
  {
   "cell_type": "code",
   "execution_count": 26,
   "metadata": {
    "run_control": {
     "marked": false
    },
    "scrolled": true
   },
   "outputs": [
    {
     "name": "stdout",
     "output_type": "stream",
     "text": [
      "                        X         Y         Z       G_x           G_y  \\\n",
      "interfaces   0   0.561046  0.546742  0.463521       NaN           NaN   \n",
      "             1   0.385211  0.577837  0.621433       NaN           NaN   \n",
      "             2   0.321712  0.577837  0.634208       NaN           NaN   \n",
      "             3   0.283802  0.577837  0.625591       NaN           NaN   \n",
      "             4   0.524530  0.577837  0.571620       NaN           NaN   \n",
      "             5   0.733983  0.577837  0.575570       NaN           NaN   \n",
      "             6   0.314130  0.577837  0.536460       NaN           NaN   \n",
      "             7   0.618357  0.577837  0.494866       NaN           NaN   \n",
      "             8   0.726401  0.577837  0.505177       NaN           NaN   \n",
      "             9   0.318868  0.577837  0.469605       NaN           NaN   \n",
      "             10  0.597507  0.577837  0.470000       NaN           NaN   \n",
      "             11  0.719767  0.577837  0.427102       NaN           NaN   \n",
      "orientations 1   0.531629  0.577837  0.474529  0.637572  1.000039e-12   \n",
      "             2   0.558184  0.577837  0.605861 -0.023246  9.999957e-13   \n",
      "             3   0.341610  0.577837  0.567408 -0.365657  9.999328e-13   \n",
      "             0   0.750100  0.577837  0.501083  0.588166  1.000036e-12   \n",
      "\n",
      "                      G_z     dip  azimuth  polarity  \n",
      "interfaces   0        NaN     NaN      NaN       NaN  \n",
      "             1        NaN     NaN      NaN       NaN  \n",
      "             2        NaN     NaN      NaN       NaN  \n",
      "             3        NaN     NaN      NaN       NaN  \n",
      "             4        NaN     NaN      NaN       NaN  \n",
      "             5        NaN     NaN      NaN       NaN  \n",
      "             6        NaN     NaN      NaN       NaN  \n",
      "             7        NaN     NaN      NaN       NaN  \n",
      "             8        NaN     NaN      NaN       NaN  \n",
      "             9        NaN     NaN      NaN       NaN  \n",
      "             10       NaN     NaN      NaN       NaN  \n",
      "             11       NaN     NaN      NaN       NaN  \n",
      "orientations 1   0.770391  39.611     90.0       1.0  \n",
      "             2   0.999730   1.332    270.0       1.0  \n",
      "             3   0.930750  21.448    270.0       1.0  \n",
      "             0   0.808740  36.027     90.0       1.0  \n",
      "[[ 0.56104612  0.54674192  0.46352104]\n",
      " [ 0.38521085  0.57783653  0.62143304]\n",
      " [ 0.32171158  0.57783653  0.63976226]\n",
      " [ 0.28380158  0.57783653  0.62494743]\n",
      " [ 0.5245301   0.57783653  0.57099747]\n",
      " [ 0.73398289  0.57783653  0.58942488]\n",
      " [ 0.31412959  0.57783653  0.51740424]\n",
      " [ 0.61835738  0.57783653  0.49599036]\n",
      " [ 0.7264009   0.57783653  0.47331442]\n",
      " [ 0.31886835  0.57783653  0.47712374]\n",
      " [ 0.59750686  0.57783653  0.45539801]\n",
      " [ 0.71976665  0.57783653  0.42758377]]\n",
      "           X         Y         Z\n",
      "0   0.561046  0.546742  0.463521\n",
      "1   0.385211  0.577837  0.621433\n",
      "2   0.321712  0.577837  0.634208\n",
      "3   0.283802  0.577837  0.625591\n",
      "4   0.524530  0.577837  0.571620\n",
      "5   0.733983  0.577837  0.575570\n",
      "6   0.314130  0.577837  0.536460\n",
      "7   0.618357  0.577837  0.494866\n",
      "8   0.726401  0.577837  0.505177\n",
      "9   0.318868  0.577837  0.469605\n",
      "10  0.597507  0.577837  0.470000\n",
      "11  0.719767  0.577837  0.427102\n",
      "Potential field of the surface is outside the block. Probably is due to float errors\n",
      " [---------------  40%                  ] 2 of 5 complete in 0.9 sec                        X         Y         Z       G_x           G_y  \\\n",
      "interfaces   0   0.561046  0.546742  0.463521       NaN           NaN   \n",
      "             1   0.385211  0.577837  0.621433       NaN           NaN   \n",
      "             2   0.321712  0.577837  0.630532       NaN           NaN   \n",
      "             3   0.283802  0.577837  0.631192       NaN           NaN   \n",
      "             4   0.524530  0.577837  0.578070       NaN           NaN   \n",
      "             5   0.733983  0.577837  0.568625       NaN           NaN   \n",
      "             6   0.314130  0.577837  0.534994       NaN           NaN   \n",
      "             7   0.618357  0.577837  0.516202       NaN           NaN   \n",
      "             8   0.726401  0.577837  0.467841       NaN           NaN   \n",
      "             9   0.318868  0.577837  0.484336       NaN           NaN   \n",
      "             10  0.597507  0.577837  0.473363       NaN           NaN   \n",
      "             11  0.719767  0.577837  0.434617       NaN           NaN   \n",
      "orientations 1   0.531629  0.577837  0.474529  0.637572  1.000039e-12   \n",
      "             2   0.558184  0.577837  0.605861 -0.023246  9.999957e-13   \n",
      "             3   0.341610  0.577837  0.567408 -0.365657  9.999328e-13   \n",
      "             0   0.750100  0.577837  0.501083  0.588166  1.000036e-12   \n",
      "\n",
      "                      G_z     dip  azimuth  polarity  \n",
      "interfaces   0        NaN     NaN      NaN       NaN  \n",
      "             1        NaN     NaN      NaN       NaN  \n",
      "             2        NaN     NaN      NaN       NaN  \n",
      "             3        NaN     NaN      NaN       NaN  \n",
      "             4        NaN     NaN      NaN       NaN  \n",
      "             5        NaN     NaN      NaN       NaN  \n",
      "             6        NaN     NaN      NaN       NaN  \n",
      "             7        NaN     NaN      NaN       NaN  \n",
      "             8        NaN     NaN      NaN       NaN  \n",
      "             9        NaN     NaN      NaN       NaN  \n",
      "             10       NaN     NaN      NaN       NaN  \n",
      "             11       NaN     NaN      NaN       NaN  \n",
      "orientations 1   0.770391  39.611     90.0       1.0  \n",
      "             2   0.999730   1.332    270.0       1.0  \n",
      "             3   0.930750  21.448    270.0       1.0  \n",
      "             0   0.808740  36.027     90.0       1.0  \n",
      "[[ 0.56104612  0.54674192  0.46352104]\n",
      " [ 0.38521085  0.57783653  0.62143304]\n",
      " [ 0.32171158  0.57783653  0.63420765]\n",
      " [ 0.28380158  0.57783653  0.62559088]\n",
      " [ 0.5245301   0.57783653  0.57161978]\n",
      " [ 0.73398289  0.57783653  0.57556983]\n",
      " [ 0.31412959  0.57783653  0.53646023]\n",
      " [ 0.61835738  0.57783653  0.49486615]\n",
      " [ 0.7264009   0.57783653  0.50517697]\n",
      " [ 0.31886835  0.57783653  0.46960496]\n",
      " [ 0.59750686  0.57783653  0.47000002]\n",
      " [ 0.71976665  0.57783653  0.42710186]]\n",
      "           X         Y         Z\n",
      "0   0.561046  0.546742  0.463521\n",
      "1   0.385211  0.577837  0.621433\n",
      "2   0.321712  0.577837  0.630532\n",
      "3   0.283802  0.577837  0.631192\n",
      "4   0.524530  0.577837  0.578070\n",
      "5   0.733983  0.577837  0.568625\n",
      "6   0.314130  0.577837  0.534994\n",
      "7   0.618357  0.577837  0.516202\n",
      "8   0.726401  0.577837  0.467841\n",
      "9   0.318868  0.577837  0.484336\n",
      "10  0.597507  0.577837  0.473363\n",
      "11  0.719767  0.577837  0.434617\n",
      "Potential field of the surface is outside the block. Probably is due to float errors\n",
      " [-----------------60%--                ] 3 of 5 complete in 1.7 sec                        X         Y         Z       G_x           G_y  \\\n",
      "interfaces   0   0.561046  0.546742  0.463521       NaN           NaN   \n",
      "             1   0.385211  0.577837  0.621433       NaN           NaN   \n",
      "             2   0.321712  0.577837  0.632428       NaN           NaN   \n",
      "             3   0.283802  0.577837  0.640180       NaN           NaN   \n",
      "             4   0.524530  0.577837  0.606899       NaN           NaN   \n",
      "             5   0.733983  0.577837  0.584552       NaN           NaN   \n",
      "             6   0.314130  0.577837  0.517585       NaN           NaN   \n",
      "             7   0.618357  0.577837  0.510720       NaN           NaN   \n",
      "             8   0.726401  0.577837  0.479207       NaN           NaN   \n",
      "             9   0.318868  0.577837  0.466768       NaN           NaN   \n",
      "             10  0.597507  0.577837  0.469354       NaN           NaN   \n",
      "             11  0.719767  0.577837  0.418183       NaN           NaN   \n",
      "orientations 1   0.531629  0.577837  0.474529  0.637572  1.000039e-12   \n",
      "             2   0.558184  0.577837  0.605861 -0.023246  9.999957e-13   \n",
      "             3   0.341610  0.577837  0.567408 -0.365657  9.999328e-13   \n",
      "             0   0.750100  0.577837  0.501083  0.588166  1.000036e-12   \n",
      "\n",
      "                      G_z     dip  azimuth  polarity  \n",
      "interfaces   0        NaN     NaN      NaN       NaN  \n",
      "             1        NaN     NaN      NaN       NaN  \n",
      "             2        NaN     NaN      NaN       NaN  \n",
      "             3        NaN     NaN      NaN       NaN  \n",
      "             4        NaN     NaN      NaN       NaN  \n",
      "             5        NaN     NaN      NaN       NaN  \n",
      "             6        NaN     NaN      NaN       NaN  \n",
      "             7        NaN     NaN      NaN       NaN  \n",
      "             8        NaN     NaN      NaN       NaN  \n",
      "             9        NaN     NaN      NaN       NaN  \n",
      "             10       NaN     NaN      NaN       NaN  \n",
      "             11       NaN     NaN      NaN       NaN  \n",
      "orientations 1   0.770391  39.611     90.0       1.0  \n",
      "             2   0.999730   1.332    270.0       1.0  \n",
      "             3   0.930750  21.448    270.0       1.0  \n",
      "             0   0.808740  36.027     90.0       1.0  \n",
      "[[ 0.56104612  0.54674192  0.46352104]\n",
      " [ 0.38521085  0.57783653  0.62143304]\n",
      " [ 0.32171158  0.57783653  0.63053201]\n",
      " [ 0.28380158  0.57783653  0.63119158]\n",
      " [ 0.5245301   0.57783653  0.57806978]\n",
      " [ 0.73398289  0.57783653  0.56862511]\n",
      " [ 0.31412959  0.57783653  0.53499384]\n",
      " [ 0.61835738  0.57783653  0.51620198]\n",
      " [ 0.7264009   0.57783653  0.46784108]\n",
      " [ 0.31886835  0.57783653  0.48433601]\n",
      " [ 0.59750686  0.57783653  0.47336259]\n",
      " [ 0.71976665  0.57783653  0.43461662]]\n",
      "           X         Y         Z\n",
      "0   0.561046  0.546742  0.463521\n",
      "1   0.385211  0.577837  0.621433\n",
      "2   0.321712  0.577837  0.632428\n",
      "3   0.283802  0.577837  0.640180\n",
      "4   0.524530  0.577837  0.606899\n",
      "5   0.733983  0.577837  0.584552\n",
      "6   0.314130  0.577837  0.517585\n",
      "7   0.618357  0.577837  0.510720\n",
      "8   0.726401  0.577837  0.479207\n",
      "9   0.318868  0.577837  0.466768\n",
      "10  0.597507  0.577837  0.469354\n",
      "11  0.719767  0.577837  0.418183\n"
     ]
    },
    {
     "name": "stdout",
     "output_type": "stream",
     "text": [
      "Potential field of the surface is outside the block. Probably is due to float errors\n",
      " [-----------------80%----------        ] 4 of 5 complete in 2.4 sec                        X         Y         Z       G_x           G_y  \\\n",
      "interfaces   0   0.561046  0.546742  0.463521       NaN           NaN   \n",
      "             1   0.385211  0.577837  0.621433       NaN           NaN   \n",
      "             2   0.321712  0.577837  0.628573       NaN           NaN   \n",
      "             3   0.283802  0.577837  0.645753       NaN           NaN   \n",
      "             4   0.524530  0.577837  0.578509       NaN           NaN   \n",
      "             5   0.733983  0.577837  0.579344       NaN           NaN   \n",
      "             6   0.314130  0.577837  0.535305       NaN           NaN   \n",
      "             7   0.618357  0.577837  0.505675       NaN           NaN   \n",
      "             8   0.726401  0.577837  0.472479       NaN           NaN   \n",
      "             9   0.318868  0.577837  0.502381       NaN           NaN   \n",
      "             10  0.597507  0.577837  0.471414       NaN           NaN   \n",
      "             11  0.719767  0.577837  0.426961       NaN           NaN   \n",
      "orientations 1   0.531629  0.577837  0.474529  0.637572  1.000039e-12   \n",
      "             2   0.558184  0.577837  0.605861 -0.023246  9.999957e-13   \n",
      "             3   0.341610  0.577837  0.567408 -0.365657  9.999328e-13   \n",
      "             0   0.750100  0.577837  0.501083  0.588166  1.000036e-12   \n",
      "\n",
      "                      G_z     dip  azimuth  polarity  \n",
      "interfaces   0        NaN     NaN      NaN       NaN  \n",
      "             1        NaN     NaN      NaN       NaN  \n",
      "             2        NaN     NaN      NaN       NaN  \n",
      "             3        NaN     NaN      NaN       NaN  \n",
      "             4        NaN     NaN      NaN       NaN  \n",
      "             5        NaN     NaN      NaN       NaN  \n",
      "             6        NaN     NaN      NaN       NaN  \n",
      "             7        NaN     NaN      NaN       NaN  \n",
      "             8        NaN     NaN      NaN       NaN  \n",
      "             9        NaN     NaN      NaN       NaN  \n",
      "             10       NaN     NaN      NaN       NaN  \n",
      "             11       NaN     NaN      NaN       NaN  \n",
      "orientations 1   0.770391  39.611     90.0       1.0  \n",
      "             2   0.999730   1.332    270.0       1.0  \n",
      "             3   0.930750  21.448    270.0       1.0  \n",
      "             0   0.808740  36.027     90.0       1.0  \n",
      "[[ 0.56104612  0.54674192  0.46352104]\n",
      " [ 0.38521085  0.57783653  0.62143304]\n",
      " [ 0.32171158  0.57783653  0.63242756]\n",
      " [ 0.28380158  0.57783653  0.64017958]\n",
      " [ 0.5245301   0.57783653  0.60689854]\n",
      " [ 0.73398289  0.57783653  0.58455204]\n",
      " [ 0.31412959  0.57783653  0.51758514]\n",
      " [ 0.61835738  0.57783653  0.51071965]\n",
      " [ 0.7264009   0.57783653  0.47920709]\n",
      " [ 0.31886835  0.57783653  0.46676753]\n",
      " [ 0.59750686  0.57783653  0.46935394]\n",
      " [ 0.71976665  0.57783653  0.41818339]]\n",
      "           X         Y         Z\n",
      "0   0.561046  0.546742  0.463521\n",
      "1   0.385211  0.577837  0.621433\n",
      "2   0.321712  0.577837  0.628573\n",
      "3   0.283802  0.577837  0.645753\n",
      "4   0.524530  0.577837  0.578509\n",
      "5   0.733983  0.577837  0.579344\n",
      "6   0.314130  0.577837  0.535305\n",
      "7   0.618357  0.577837  0.505675\n",
      "8   0.726401  0.577837  0.472479\n",
      "9   0.318868  0.577837  0.502381\n",
      "10  0.597507  0.577837  0.471414\n",
      "11  0.719767  0.577837  0.426961\n",
      "Potential field of the surface is outside the block. Probably is due to float errors\n",
      " [-----------------100%-----------------] 5 of 5 complete in 3.1 sec                        X         Y         Z       G_x           G_y  \\\n",
      "interfaces   0   0.561046  0.546742  0.463521       NaN           NaN   \n",
      "             1   0.385211  0.577837  0.621433       NaN           NaN   \n",
      "             2   0.321712  0.577837  0.638148       NaN           NaN   \n",
      "             3   0.283802  0.577837  0.632785       NaN           NaN   \n",
      "             4   0.524530  0.577837  0.582800       NaN           NaN   \n",
      "             5   0.733983  0.577837  0.585316       NaN           NaN   \n",
      "             6   0.314130  0.577837  0.528041       NaN           NaN   \n",
      "             7   0.618357  0.577837  0.496048       NaN           NaN   \n",
      "             8   0.726401  0.577837  0.499121       NaN           NaN   \n",
      "             9   0.318868  0.577837  0.471804       NaN           NaN   \n",
      "             10  0.597507  0.577837  0.474741       NaN           NaN   \n",
      "             11  0.719767  0.577837  0.424477       NaN           NaN   \n",
      "orientations 1   0.531629  0.577837  0.474529  0.637572  1.000039e-12   \n",
      "             2   0.558184  0.577837  0.605861 -0.023246  9.999957e-13   \n",
      "             3   0.341610  0.577837  0.567408 -0.365657  9.999328e-13   \n",
      "             0   0.750100  0.577837  0.501083  0.588166  1.000036e-12   \n",
      "\n",
      "                      G_z     dip  azimuth  polarity  \n",
      "interfaces   0        NaN     NaN      NaN       NaN  \n",
      "             1        NaN     NaN      NaN       NaN  \n",
      "             2        NaN     NaN      NaN       NaN  \n",
      "             3        NaN     NaN      NaN       NaN  \n",
      "             4        NaN     NaN      NaN       NaN  \n",
      "             5        NaN     NaN      NaN       NaN  \n",
      "             6        NaN     NaN      NaN       NaN  \n",
      "             7        NaN     NaN      NaN       NaN  \n",
      "             8        NaN     NaN      NaN       NaN  \n",
      "             9        NaN     NaN      NaN       NaN  \n",
      "             10       NaN     NaN      NaN       NaN  \n",
      "             11       NaN     NaN      NaN       NaN  \n",
      "orientations 1   0.770391  39.611     90.0       1.0  \n",
      "             2   0.999730   1.332    270.0       1.0  \n",
      "             3   0.930750  21.448    270.0       1.0  \n",
      "             0   0.808740  36.027     90.0       1.0  \n",
      "[[ 0.56104612  0.54674192  0.46352104]\n",
      " [ 0.38521085  0.57783653  0.62143304]\n",
      " [ 0.32171158  0.57783653  0.62857299]\n",
      " [ 0.28380158  0.57783653  0.64575332]\n",
      " [ 0.5245301   0.57783653  0.57850864]\n",
      " [ 0.73398289  0.57783653  0.57934392]\n",
      " [ 0.31412959  0.57783653  0.53530473]\n",
      " [ 0.61835738  0.57783653  0.50567522]\n",
      " [ 0.7264009   0.57783653  0.47247892]\n",
      " [ 0.31886835  0.57783653  0.50238133]\n",
      " [ 0.59750686  0.57783653  0.47141427]\n",
      " [ 0.71976665  0.57783653  0.42696126]]\n",
      "           X         Y         Z\n",
      "0   0.561046  0.546742  0.463521\n",
      "1   0.385211  0.577837  0.621433\n",
      "2   0.321712  0.577837  0.638148\n",
      "3   0.283802  0.577837  0.632785\n",
      "4   0.524530  0.577837  0.582800\n",
      "5   0.733983  0.577837  0.585316\n",
      "6   0.314130  0.577837  0.528041\n",
      "7   0.618357  0.577837  0.496048\n",
      "8   0.726401  0.577837  0.499121\n",
      "9   0.318868  0.577837  0.471804\n",
      "10  0.597507  0.577837  0.474741\n",
      "11  0.719767  0.577837  0.424477\n",
      "Potential field of the surface is outside the block. Probably is due to float errors\n",
      " [--------------------120%---------------------] 6 of 5 complete in 3.8 sec"
     ]
    }
   ],
   "source": [
    "runner.use_step_method(pymc.AdaptiveMetropolis, params, delay=10)\n",
    "np.random.seed(34)\n",
    "runner.sample(iterations, tune_interval=1000, tune_throughout=True, )"
   ]
  },
  {
   "cell_type": "markdown",
   "metadata": {},
   "source": [
    "Computing the initial model:"
   ]
  },
  {
   "cell_type": "code",
   "execution_count": 27,
   "metadata": {},
   "outputs": [],
   "source": [
    "lb, fb = gp.compute_model(interp_data)"
   ]
  },
  {
   "cell_type": "code",
   "execution_count": 28,
   "metadata": {},
   "outputs": [
    {
     "name": "stdout",
     "output_type": "stream",
     "text": [
      "Potential field of the surface is outside the block. Probably is due to float errors\n"
     ]
    }
   ],
   "source": [
    "v_l, s_l = gp.get_surfaces(interp_data, lb[1], fb[1], original_scale=True)"
   ]
  },
  {
   "cell_type": "code",
   "execution_count": 29,
   "metadata": {},
   "outputs": [
    {
     "data": {
      "text/html": [
       "<div>\n",
       "<style scoped>\n",
       "    .dataframe tbody tr th:only-of-type {\n",
       "        vertical-align: middle;\n",
       "    }\n",
       "\n",
       "    .dataframe tbody tr th {\n",
       "        vertical-align: top;\n",
       "    }\n",
       "\n",
       "    .dataframe thead th {\n",
       "        text-align: right;\n",
       "    }\n",
       "</style>\n",
       "<table border=\"1\" class=\"dataframe\">\n",
       "  <thead>\n",
       "    <tr style=\"text-align: right;\">\n",
       "      <th></th>\n",
       "      <th>X</th>\n",
       "      <th>Y</th>\n",
       "      <th>Z</th>\n",
       "      <th>G_x</th>\n",
       "      <th>G_y</th>\n",
       "      <th>G_z</th>\n",
       "      <th>dip</th>\n",
       "      <th>azimuth</th>\n",
       "      <th>polarity</th>\n",
       "      <th>formation</th>\n",
       "      <th>series</th>\n",
       "      <th>formation_number</th>\n",
       "      <th>order_series</th>\n",
       "      <th>isFault</th>\n",
       "      <th>annotations</th>\n",
       "      <th>formation_value</th>\n",
       "    </tr>\n",
       "  </thead>\n",
       "  <tbody>\n",
       "    <tr>\n",
       "      <th>1</th>\n",
       "      <td>9.053956</td>\n",
       "      <td>5</td>\n",
       "      <td>-6.646000</td>\n",
       "      <td>0.637572</td>\n",
       "      <td>1.000039e-12</td>\n",
       "      <td>0.770391</td>\n",
       "      <td>39.611</td>\n",
       "      <td>90</td>\n",
       "      <td>1</td>\n",
       "      <td>fault</td>\n",
       "      <td>Fault_serie</td>\n",
       "      <td>1</td>\n",
       "      <td>1</td>\n",
       "      <td>True</td>\n",
       "      <td>${\\bf{x}}_{\\beta \\,{\\bf{1}},0}$</td>\n",
       "      <td>1</td>\n",
       "    </tr>\n",
       "    <tr>\n",
       "      <th>2</th>\n",
       "      <td>9.907953</td>\n",
       "      <td>5</td>\n",
       "      <td>-2.422365</td>\n",
       "      <td>-0.023246</td>\n",
       "      <td>9.999957e-13</td>\n",
       "      <td>0.999730</td>\n",
       "      <td>1.332</td>\n",
       "      <td>270</td>\n",
       "      <td>1</td>\n",
       "      <td>Unconformity</td>\n",
       "      <td>Younger_serie</td>\n",
       "      <td>2</td>\n",
       "      <td>2</td>\n",
       "      <td>False</td>\n",
       "      <td>${\\bf{x}}_{\\beta \\,{\\bf{2}},0}$</td>\n",
       "      <td>2</td>\n",
       "    </tr>\n",
       "    <tr>\n",
       "      <th>3</th>\n",
       "      <td>2.942956</td>\n",
       "      <td>5</td>\n",
       "      <td>-3.659000</td>\n",
       "      <td>-0.365657</td>\n",
       "      <td>9.999328e-13</td>\n",
       "      <td>0.930750</td>\n",
       "      <td>21.448</td>\n",
       "      <td>270</td>\n",
       "      <td>1</td>\n",
       "      <td>Layer2</td>\n",
       "      <td>Older_serie</td>\n",
       "      <td>3</td>\n",
       "      <td>3</td>\n",
       "      <td>False</td>\n",
       "      <td>${\\bf{x}}_{\\beta \\,{\\bf{3}},0}$</td>\n",
       "      <td>3</td>\n",
       "    </tr>\n",
       "    <tr>\n",
       "      <th>0</th>\n",
       "      <td>16.079956</td>\n",
       "      <td>5</td>\n",
       "      <td>-5.792000</td>\n",
       "      <td>0.588166</td>\n",
       "      <td>1.000036e-12</td>\n",
       "      <td>0.808740</td>\n",
       "      <td>36.027</td>\n",
       "      <td>90</td>\n",
       "      <td>1</td>\n",
       "      <td>Layer1</td>\n",
       "      <td>Older_serie</td>\n",
       "      <td>4</td>\n",
       "      <td>3</td>\n",
       "      <td>False</td>\n",
       "      <td>${\\bf{x}}_{\\beta \\,{\\bf{4}},0}$</td>\n",
       "      <td>4</td>\n",
       "    </tr>\n",
       "  </tbody>\n",
       "</table>\n",
       "</div>"
      ],
      "text/plain": [
       "           X  Y         Z       G_x           G_y       G_z     dip  azimuth  \\\n",
       "1   9.053956  5 -6.646000  0.637572  1.000039e-12  0.770391  39.611       90   \n",
       "2   9.907953  5 -2.422365 -0.023246  9.999957e-13  0.999730   1.332      270   \n",
       "3   2.942956  5 -3.659000 -0.365657  9.999328e-13  0.930750  21.448      270   \n",
       "0  16.079956  5 -5.792000  0.588166  1.000036e-12  0.808740  36.027       90   \n",
       "\n",
       "   polarity     formation         series  formation_number  order_series  \\\n",
       "1         1         fault    Fault_serie                 1             1   \n",
       "2         1  Unconformity  Younger_serie                 2             2   \n",
       "3         1        Layer2    Older_serie                 3             3   \n",
       "0         1        Layer1    Older_serie                 4             3   \n",
       "\n",
       "   isFault                      annotations  formation_value  \n",
       "1     True  ${\\bf{x}}_{\\beta \\,{\\bf{1}},0}$                1  \n",
       "2    False  ${\\bf{x}}_{\\beta \\,{\\bf{2}},0}$                2  \n",
       "3    False  ${\\bf{x}}_{\\beta \\,{\\bf{3}},0}$                3  \n",
       "0    False  ${\\bf{x}}_{\\beta \\,{\\bf{4}},0}$                4  "
      ]
     },
     "execution_count": 29,
     "metadata": {},
     "output_type": "execute_result"
    }
   ],
   "source": [
    "geo_data.orientations"
   ]
  },
  {
   "cell_type": "code",
   "execution_count": 30,
   "metadata": {},
   "outputs": [
    {
     "name": "stdout",
     "output_type": "stream",
     "text": [
      "closing vtk\n"
     ]
    },
    {
     "data": {
      "text/plain": [
       "<gempy.plotting.plot.vtkPlot at 0x7f5a593aa780>"
      ]
     },
     "execution_count": 30,
     "metadata": {},
     "output_type": "execute_result"
    }
   ],
   "source": [
    "gp.plotting.plot_surfaces_3D(geo_data, v_l, s_l, alpha=1)"
   ]
  },
  {
   "cell_type": "code",
   "execution_count": 31,
   "metadata": {},
   "outputs": [],
   "source": [
    "vertices = runner.trace(\"gempy_surfaces\")[:]"
   ]
  },
  {
   "cell_type": "markdown",
   "metadata": {},
   "source": [
    "Reading traces:"
   ]
  },
  {
   "cell_type": "code",
   "execution_count": 45,
   "metadata": {},
   "outputs": [
    {
     "data": {
      "text/plain": [
       "array([[    4.8151856 ,     4.80778205,     4.8001171 , ...,\n",
       "            2.        ,     2.        ,     2.        ],\n",
       "       [ 1079.92944336,  1079.93408203,  1079.9387207 , ...,\n",
       "           31.5172081 ,    31.52306557,    31.52892113]])"
      ]
     },
     "execution_count": 45,
     "metadata": {},
     "output_type": "execute_result"
    }
   ],
   "source": [
    "runner.trace(\"gempy_model\")[0][0]"
   ]
  },
  {
   "cell_type": "code",
   "execution_count": 46,
   "metadata": {},
   "outputs": [
    {
     "data": {
      "text/plain": [
       "array([[    4.8151856 ,     4.80778205,     4.8001171 , ...,\n",
       "            2.        ,     2.        ,     2.        ],\n",
       "       [ 1079.92944336,  1079.93408203,  1079.9387207 , ...,\n",
       "           31.5172081 ,    31.52306557,    31.52892113]])"
      ]
     },
     "execution_count": 46,
     "metadata": {},
     "output_type": "execute_result"
    }
   ],
   "source": [
    "runner.trace(\"gempy_model\")[1][0]"
   ]
  },
  {
   "cell_type": "code",
   "execution_count": 48,
   "metadata": {},
   "outputs": [
    {
     "data": {
      "text/plain": [
       "array([ array([[ 0.56104612,  0.54674192,  0.46352104],\n",
       "       [ 0.38521085,  0.57783653,  0.62143304],\n",
       "       [ 0.32171158,  0.57783653,  0.63420765],\n",
       "       [ 0.28380158,  0.57783653,  0.62559088],\n",
       "       [ 0.5245301 ,  0.57783653,  0.57161978],\n",
       "       [ 0.73398289,  0.57783653,  0.57556983],\n",
       "       [ 0.31412959,  0.57783653,  0.53646023],\n",
       "       [ 0.61835738,  0.57783653,  0.49486615],\n",
       "       [ 0.7264009 ,  0.57783653,  0.50517697],\n",
       "       [ 0.31886835,  0.57783653,  0.46960496],\n",
       "       [ 0.59750686,  0.57783653,  0.47000002],\n",
       "       [ 0.71976665,  0.57783653,  0.42710186]]),\n",
       "       array([[  5.31629253e-01,   5.77836531e-01,   4.74528537e-01,\n",
       "          6.37571906e-01,   1.00003904e-12,   7.70390852e-01,\n",
       "          3.96110000e+01,   9.00000000e+01,   1.00000000e+00],\n",
       "       [  5.58183959e-01,   5.77836531e-01,   6.05860830e-01,\n",
       "         -2.32456916e-02,   9.99995730e-13,   9.99729782e-01,\n",
       "          1.33200000e+00,   2.70000000e+02,   1.00000000e+00],\n",
       "       [  3.41610076e-01,   5.77836531e-01,   5.67408144e-01,\n",
       "         -3.65656656e-01,   9.99932830e-13,   9.30749811e-01,\n",
       "          2.14480000e+01,   2.70000000e+02,   1.00000000e+00],\n",
       "       [  7.50100000e-01,   5.77836531e-01,   5.01083336e-01,\n",
       "          5.88166427e-01,   1.00003601e-12,   8.08739917e-01,\n",
       "          3.60270000e+01,   9.00000000e+01,   1.00000000e+00]])], dtype=object)"
      ]
     },
     "execution_count": 48,
     "metadata": {},
     "output_type": "execute_result"
    }
   ],
   "source": [
    "runner.trace('input_data')[0]"
   ]
  },
  {
   "cell_type": "code",
   "execution_count": 49,
   "metadata": {},
   "outputs": [
    {
     "data": {
      "text/plain": [
       "array([ array([[ 0.56104612,  0.54674192,  0.46352104],\n",
       "       [ 0.38521085,  0.57783653,  0.62143304],\n",
       "       [ 0.32171158,  0.57783653,  0.62857299],\n",
       "       [ 0.28380158,  0.57783653,  0.64575332],\n",
       "       [ 0.5245301 ,  0.57783653,  0.57850864],\n",
       "       [ 0.73398289,  0.57783653,  0.57934392],\n",
       "       [ 0.31412959,  0.57783653,  0.53530473],\n",
       "       [ 0.61835738,  0.57783653,  0.50567522],\n",
       "       [ 0.7264009 ,  0.57783653,  0.47247892],\n",
       "       [ 0.31886835,  0.57783653,  0.50238133],\n",
       "       [ 0.59750686,  0.57783653,  0.47141427],\n",
       "       [ 0.71976665,  0.57783653,  0.42696126]]),\n",
       "       array([[  5.31629253e-01,   5.77836531e-01,   4.74528537e-01,\n",
       "          6.37571906e-01,   1.00003904e-12,   7.70390852e-01,\n",
       "          3.96110000e+01,   9.00000000e+01,   1.00000000e+00],\n",
       "       [  5.58183959e-01,   5.77836531e-01,   6.05860830e-01,\n",
       "         -2.32456916e-02,   9.99995730e-13,   9.99729782e-01,\n",
       "          1.33200000e+00,   2.70000000e+02,   1.00000000e+00],\n",
       "       [  3.41610076e-01,   5.77836531e-01,   5.67408144e-01,\n",
       "         -3.65656656e-01,   9.99932830e-13,   9.30749811e-01,\n",
       "          2.14480000e+01,   2.70000000e+02,   1.00000000e+00],\n",
       "       [  7.50100000e-01,   5.77836531e-01,   5.01083336e-01,\n",
       "          5.88166427e-01,   1.00003601e-12,   8.08739917e-01,\n",
       "          3.60270000e+01,   9.00000000e+01,   1.00000000e+00]])], dtype=object)"
      ]
     },
     "execution_count": 49,
     "metadata": {},
     "output_type": "execute_result"
    }
   ],
   "source": [
    "runner.trace('input_data')[3]"
   ]
  },
  {
   "cell_type": "code",
   "execution_count": 52,
   "metadata": {},
   "outputs": [
    {
     "data": {
      "text/html": [
       "<div>\n",
       "<style scoped>\n",
       "    .dataframe tbody tr th:only-of-type {\n",
       "        vertical-align: middle;\n",
       "    }\n",
       "\n",
       "    .dataframe tbody tr th {\n",
       "        vertical-align: top;\n",
       "    }\n",
       "\n",
       "    .dataframe thead th {\n",
       "        text-align: right;\n",
       "    }\n",
       "</style>\n",
       "<table border=\"1\" class=\"dataframe\">\n",
       "  <thead>\n",
       "    <tr style=\"text-align: right;\">\n",
       "      <th></th>\n",
       "      <th>X</th>\n",
       "      <th>Y</th>\n",
       "      <th>Z</th>\n",
       "      <th>G_x</th>\n",
       "      <th>G_y</th>\n",
       "      <th>G_z</th>\n",
       "      <th>dip</th>\n",
       "      <th>azimuth</th>\n",
       "      <th>polarity</th>\n",
       "      <th>formation</th>\n",
       "      <th>series</th>\n",
       "      <th>formation_number</th>\n",
       "      <th>order_series</th>\n",
       "      <th>isFault</th>\n",
       "      <th>annotations</th>\n",
       "      <th>formation_value</th>\n",
       "    </tr>\n",
       "  </thead>\n",
       "  <tbody>\n",
       "    <tr>\n",
       "      <th>1</th>\n",
       "      <td>0.637572</td>\n",
       "      <td>1.000039e-12</td>\n",
       "      <td>0.770391</td>\n",
       "      <td>0.531629</td>\n",
       "      <td>0.577837</td>\n",
       "      <td>0.474529</td>\n",
       "      <td>39.611</td>\n",
       "      <td>90.0</td>\n",
       "      <td>1.0</td>\n",
       "      <td>fault</td>\n",
       "      <td>Fault_serie</td>\n",
       "      <td>1</td>\n",
       "      <td>1</td>\n",
       "      <td>True</td>\n",
       "      <td>${\\bf{x}}_{\\beta \\,{\\bf{1}},0}$</td>\n",
       "      <td>1</td>\n",
       "    </tr>\n",
       "    <tr>\n",
       "      <th>2</th>\n",
       "      <td>-0.023246</td>\n",
       "      <td>9.999957e-13</td>\n",
       "      <td>0.999730</td>\n",
       "      <td>0.558184</td>\n",
       "      <td>0.577837</td>\n",
       "      <td>0.605861</td>\n",
       "      <td>1.332</td>\n",
       "      <td>270.0</td>\n",
       "      <td>1.0</td>\n",
       "      <td>Unconformity</td>\n",
       "      <td>Younger_serie</td>\n",
       "      <td>2</td>\n",
       "      <td>2</td>\n",
       "      <td>False</td>\n",
       "      <td>${\\bf{x}}_{\\beta \\,{\\bf{2}},0}$</td>\n",
       "      <td>2</td>\n",
       "    </tr>\n",
       "    <tr>\n",
       "      <th>3</th>\n",
       "      <td>-0.365657</td>\n",
       "      <td>9.999328e-13</td>\n",
       "      <td>0.930750</td>\n",
       "      <td>0.341610</td>\n",
       "      <td>0.577837</td>\n",
       "      <td>0.567408</td>\n",
       "      <td>21.448</td>\n",
       "      <td>270.0</td>\n",
       "      <td>1.0</td>\n",
       "      <td>Layer2</td>\n",
       "      <td>Older_serie</td>\n",
       "      <td>3</td>\n",
       "      <td>3</td>\n",
       "      <td>False</td>\n",
       "      <td>${\\bf{x}}_{\\beta \\,{\\bf{3}},0}$</td>\n",
       "      <td>3</td>\n",
       "    </tr>\n",
       "    <tr>\n",
       "      <th>0</th>\n",
       "      <td>0.588166</td>\n",
       "      <td>1.000036e-12</td>\n",
       "      <td>0.808740</td>\n",
       "      <td>0.750100</td>\n",
       "      <td>0.577837</td>\n",
       "      <td>0.501083</td>\n",
       "      <td>36.027</td>\n",
       "      <td>90.0</td>\n",
       "      <td>1.0</td>\n",
       "      <td>Layer1</td>\n",
       "      <td>Older_serie</td>\n",
       "      <td>4</td>\n",
       "      <td>3</td>\n",
       "      <td>False</td>\n",
       "      <td>${\\bf{x}}_{\\beta \\,{\\bf{4}},0}$</td>\n",
       "      <td>4</td>\n",
       "    </tr>\n",
       "  </tbody>\n",
       "</table>\n",
       "</div>"
      ],
      "text/plain": [
       "          X             Y         Z       G_x       G_y       G_z     dip  \\\n",
       "1  0.637572  1.000039e-12  0.770391  0.531629  0.577837  0.474529  39.611   \n",
       "2 -0.023246  9.999957e-13  0.999730  0.558184  0.577837  0.605861   1.332   \n",
       "3 -0.365657  9.999328e-13  0.930750  0.341610  0.577837  0.567408  21.448   \n",
       "0  0.588166  1.000036e-12  0.808740  0.750100  0.577837  0.501083  36.027   \n",
       "\n",
       "   azimuth  polarity     formation         series  formation_number  \\\n",
       "1     90.0       1.0         fault    Fault_serie                 1   \n",
       "2    270.0       1.0  Unconformity  Younger_serie                 2   \n",
       "3    270.0       1.0        Layer2    Older_serie                 3   \n",
       "0     90.0       1.0        Layer1    Older_serie                 4   \n",
       "\n",
       "   order_series  isFault                      annotations  formation_value  \n",
       "1             1     True  ${\\bf{x}}_{\\beta \\,{\\bf{1}},0}$                1  \n",
       "2             2    False  ${\\bf{x}}_{\\beta \\,{\\bf{2}},0}$                2  \n",
       "3             3    False  ${\\bf{x}}_{\\beta \\,{\\bf{3}},0}$                3  \n",
       "0             3    False  ${\\bf{x}}_{\\beta \\,{\\bf{4}},0}$                4  "
      ]
     },
     "execution_count": 52,
     "metadata": {},
     "output_type": "execute_result"
    }
   ],
   "source": [
    "interp_data.geo_data_res.orientations"
   ]
  },
  {
   "cell_type": "code",
   "execution_count": 37,
   "metadata": {},
   "outputs": [
    {
     "data": {
      "text/plain": [
       "array([100000, 100000])"
      ]
     },
     "execution_count": 37,
     "metadata": {},
     "output_type": "execute_result"
    }
   ],
   "source": [
    "(runner.trace(\"gempy_model\")[1][1] == runner.trace(\"gempy_model\")[4][1]).sum(axis=1)"
   ]
  },
  {
   "cell_type": "code",
   "execution_count": 33,
   "metadata": {},
   "outputs": [
    {
     "data": {
      "image/png": "[encoded data removed]",
      "text/plain": [
       "<matplotlib.figure.Figure at 0x7f5a5c17a4e0>"
      ]
     },
     "metadata": {},
     "output_type": "display_data"
    }
   ],
   "source": [
    "gp.plotting.plot_scalar_field(geo_data, runner.trace(\"gempy_model\")[2][0][1], 5,\n",
    "                              N=500, cmap='viridis')"
   ]
  },
  {
   "cell_type": "code",
   "execution_count": 53,
   "metadata": {},
   "outputs": [],
   "source": [
    "# Function to plot the traces with the vertices\n",
    "def plot_iterline(i, l, color=\"black\", lw=0.5):\n",
    "    f = vertices[i, l][:,1]==np.min(vertices[i, l][:,1])\n",
    "   # f = a\n",
    "    \n",
    "    points = vertices[i, l][f]\n",
    "    plt.plot(points[::5,0], points[::5,2], '-',\n",
    "             #linestyle=\"solid\",\n",
    "             linewidth=lw, color=color, alpha=0.3)\n"
   ]
  },
  {
   "cell_type": "code",
   "execution_count": 54,
   "metadata": {},
   "outputs": [],
   "source": [
    "# Some plotting options\n",
    "params = {\n",
    "    'axes.labelsize': 6,\n",
    "    'font.size': 6,\n",
    "    'legend.fontsize': 10,\n",
    "    'xtick.labelsize': 6,\n",
    "    'ytick.labelsize': 6,\n",
    "    'text.usetex': False,\n",
    "    \"axes.linewidth\": 0.75,\n",
    "    'xtick.major.size': 2,\n",
    "    'xtick.major.width': 0.75,\n",
    "    'ytick.major.size': 2,\n",
    "    'ytick.major.width': 0.75,\n",
    "}\n",
    "\n",
    "\n",
    "def get_figsize(scale, textwidth=522, ratio=None):                      # Get this from LaTeX using \\the\\textwidth\n",
    "    \"\"\"Source: http://bkanuka.com/articles/native-latex-plots/\"\"\"\n",
    "    inches_per_pt = 1.0 / 72.27                             # Convert pt to inch\n",
    "    if ratio == None:\n",
    "        ratio = (np.sqrt(5.0)-1.0)/2.0                    # Aesthetic ratio (you could change this)\n",
    "    fig_width = textwidth * inches_per_pt * scale           # width in inches\n",
    "    fig_height = fig_width * ratio                    # height in inches\n",
    "    fig_size = [fig_width, fig_height]\n",
    "    return fig_size\n",
    "\n",
    "from matplotlib import rcParams\n",
    "rcParams.update(params)"
   ]
  },
  {
   "cell_type": "code",
   "execution_count": 55,
   "metadata": {},
   "outputs": [
    {
     "ename": "IndexError",
     "evalue": "index 6 is out of bounds for axis 0 with size 5",
     "output_type": "error",
     "traceback": [
      "\u001b[0;31m---------------------------------------------------------------------------\u001b[0m",
      "\u001b[0;31mIndexError\u001b[0m                                Traceback (most recent call last)",
      "\u001b[0;32m<ipython-input-55-eab1b3039879>\u001b[0m in \u001b[0;36m<module>\u001b[0;34m()\u001b[0m\n\u001b[1;32m      3\u001b[0m \u001b[0;34m\u001b[0m\u001b[0m\n\u001b[1;32m      4\u001b[0m \u001b[0;32mfor\u001b[0m \u001b[0mi\u001b[0m \u001b[0;32min\u001b[0m \u001b[0mrange\u001b[0m\u001b[0;34m(\u001b[0m\u001b[0;36m0\u001b[0m\u001b[0;34m,\u001b[0m\u001b[0;36m100\u001b[0m\u001b[0;34m,\u001b[0m\u001b[0;36m2\u001b[0m\u001b[0;34m)\u001b[0m\u001b[0;34m:\u001b[0m\u001b[0;34m\u001b[0m\u001b[0m\n\u001b[0;32m----> 5\u001b[0;31m     \u001b[0mplot_iterline\u001b[0m\u001b[0;34m(\u001b[0m\u001b[0mi\u001b[0m\u001b[0;34m,\u001b[0m \u001b[0;36m3\u001b[0m\u001b[0;34m,\u001b[0m \u001b[0mcolor\u001b[0m\u001b[0;34m=\u001b[0m\u001b[0;34m\"green\"\u001b[0m\u001b[0;34m)\u001b[0m\u001b[0;34m\u001b[0m\u001b[0m\n\u001b[0m\u001b[1;32m      6\u001b[0m     \u001b[0mplot_iterline\u001b[0m\u001b[0;34m(\u001b[0m\u001b[0mi\u001b[0m\u001b[0;34m,\u001b[0m \u001b[0;36m2\u001b[0m\u001b[0;34m,\u001b[0m \u001b[0mcolor\u001b[0m\u001b[0;34m=\u001b[0m\u001b[0;34m\"orange\"\u001b[0m\u001b[0;34m)\u001b[0m\u001b[0;34m\u001b[0m\u001b[0m\n\u001b[1;32m      7\u001b[0m     \u001b[0mplot_iterline\u001b[0m\u001b[0;34m(\u001b[0m\u001b[0mi\u001b[0m\u001b[0;34m,\u001b[0m \u001b[0;36m1\u001b[0m\u001b[0;34m,\u001b[0m \u001b[0mcolor\u001b[0m\u001b[0;34m=\u001b[0m\u001b[0;34m\"red\"\u001b[0m\u001b[0;34m)\u001b[0m\u001b[0;34m\u001b[0m\u001b[0m\n",
      "\u001b[0;32m<ipython-input-53-15a3be750766>\u001b[0m in \u001b[0;36mplot_iterline\u001b[0;34m(i, l, color, lw)\u001b[0m\n\u001b[1;32m      1\u001b[0m \u001b[0;31m# Function to plot the traces with the vertices\u001b[0m\u001b[0;34m\u001b[0m\u001b[0;34m\u001b[0m\u001b[0m\n\u001b[1;32m      2\u001b[0m \u001b[0;32mdef\u001b[0m \u001b[0mplot_iterline\u001b[0m\u001b[0;34m(\u001b[0m\u001b[0mi\u001b[0m\u001b[0;34m,\u001b[0m \u001b[0ml\u001b[0m\u001b[0;34m,\u001b[0m \u001b[0mcolor\u001b[0m\u001b[0;34m=\u001b[0m\u001b[0;34m\"black\"\u001b[0m\u001b[0;34m,\u001b[0m \u001b[0mlw\u001b[0m\u001b[0;34m=\u001b[0m\u001b[0;36m0.5\u001b[0m\u001b[0;34m)\u001b[0m\u001b[0;34m:\u001b[0m\u001b[0;34m\u001b[0m\u001b[0m\n\u001b[0;32m----> 3\u001b[0;31m     \u001b[0mf\u001b[0m \u001b[0;34m=\u001b[0m \u001b[0mvertices\u001b[0m\u001b[0;34m[\u001b[0m\u001b[0mi\u001b[0m\u001b[0;34m,\u001b[0m \u001b[0ml\u001b[0m\u001b[0;34m]\u001b[0m\u001b[0;34m[\u001b[0m\u001b[0;34m:\u001b[0m\u001b[0;34m,\u001b[0m\u001b[0;36m1\u001b[0m\u001b[0;34m]\u001b[0m\u001b[0;34m==\u001b[0m\u001b[0mnp\u001b[0m\u001b[0;34m.\u001b[0m\u001b[0mmin\u001b[0m\u001b[0;34m(\u001b[0m\u001b[0mvertices\u001b[0m\u001b[0;34m[\u001b[0m\u001b[0mi\u001b[0m\u001b[0;34m,\u001b[0m \u001b[0ml\u001b[0m\u001b[0;34m]\u001b[0m\u001b[0;34m[\u001b[0m\u001b[0;34m:\u001b[0m\u001b[0;34m,\u001b[0m\u001b[0;36m1\u001b[0m\u001b[0;34m]\u001b[0m\u001b[0;34m)\u001b[0m\u001b[0;34m\u001b[0m\u001b[0m\n\u001b[0m\u001b[1;32m      4\u001b[0m    \u001b[0;31m# f = a\u001b[0m\u001b[0;34m\u001b[0m\u001b[0;34m\u001b[0m\u001b[0m\n\u001b[1;32m      5\u001b[0m \u001b[0;34m\u001b[0m\u001b[0m\n",
      "\u001b[0;31mIndexError\u001b[0m: index 6 is out of bounds for axis 0 with size 5"
     ]
    },
    {
     "data": {
      "image/png": "[encoded data removed]",
      "text/plain": [
       "<matplotlib.figure.Figure at 0x7f5a5a27b3c8>"
      ]
     },
     "metadata": {},
     "output_type": "display_data"
    }
   ],
   "source": [
    "fig = plt.figure(figsize=get_figsize(0.75))\n",
    "ax = plt.subplot()\n",
    "    \n",
    "for i in range(0,100,2):\n",
    "    plot_iterline(i, 3, color=\"green\")\n",
    "    plot_iterline(i, 2, color=\"orange\")\n",
    "    plot_iterline(i, 1, color=\"red\")\n",
    "    # plot_iterline(i, 0, color=\"black\", lw=2)\n",
    "    \n",
    "ax.set_xlabel(\"x\")\n",
    "\n",
    "plt.legend()\n",
    "plt.ylabel(\"z\")\n",
    "plt.xlim(0,19)\n",
    "ax.set_xticks(np.arange(0, 20, 5))\n",
    "plt.ylim(-10,-0)\n",
    "plt.plot([2., 13.3], [0,-10], color=\"gray\", linewidth=4)\n",
    "plt.grid(False)\n",
    "\n",
    "#plt.title(\"Stochastic simulation of layer interfaces\");\n",
    "\n",
    "#plt.savefig(\"doc/figs/UQ.pdf\", facecolor=\"white\")"
   ]
  },
  {
   "cell_type": "code",
   "execution_count": 56,
   "metadata": {},
   "outputs": [
    {
     "ename": "IndexError",
     "evalue": "index 6 is out of bounds for axis 0 with size 5",
     "output_type": "error",
     "traceback": [
      "\u001b[0;31m---------------------------------------------------------------------------\u001b[0m",
      "\u001b[0;31mIndexError\u001b[0m                                Traceback (most recent call last)",
      "\u001b[0;32m<ipython-input-56-eab1b3039879>\u001b[0m in \u001b[0;36m<module>\u001b[0;34m()\u001b[0m\n\u001b[1;32m      3\u001b[0m \u001b[0;34m\u001b[0m\u001b[0m\n\u001b[1;32m      4\u001b[0m \u001b[0;32mfor\u001b[0m \u001b[0mi\u001b[0m \u001b[0;32min\u001b[0m \u001b[0mrange\u001b[0m\u001b[0;34m(\u001b[0m\u001b[0;36m0\u001b[0m\u001b[0;34m,\u001b[0m\u001b[0;36m100\u001b[0m\u001b[0;34m,\u001b[0m\u001b[0;36m2\u001b[0m\u001b[0;34m)\u001b[0m\u001b[0;34m:\u001b[0m\u001b[0;34m\u001b[0m\u001b[0m\n\u001b[0;32m----> 5\u001b[0;31m     \u001b[0mplot_iterline\u001b[0m\u001b[0;34m(\u001b[0m\u001b[0mi\u001b[0m\u001b[0;34m,\u001b[0m \u001b[0;36m3\u001b[0m\u001b[0;34m,\u001b[0m \u001b[0mcolor\u001b[0m\u001b[0;34m=\u001b[0m\u001b[0;34m\"green\"\u001b[0m\u001b[0;34m)\u001b[0m\u001b[0;34m\u001b[0m\u001b[0m\n\u001b[0m\u001b[1;32m      6\u001b[0m     \u001b[0mplot_iterline\u001b[0m\u001b[0;34m(\u001b[0m\u001b[0mi\u001b[0m\u001b[0;34m,\u001b[0m \u001b[0;36m2\u001b[0m\u001b[0;34m,\u001b[0m \u001b[0mcolor\u001b[0m\u001b[0;34m=\u001b[0m\u001b[0;34m\"orange\"\u001b[0m\u001b[0;34m)\u001b[0m\u001b[0;34m\u001b[0m\u001b[0m\n\u001b[1;32m      7\u001b[0m     \u001b[0mplot_iterline\u001b[0m\u001b[0;34m(\u001b[0m\u001b[0mi\u001b[0m\u001b[0;34m,\u001b[0m \u001b[0;36m1\u001b[0m\u001b[0;34m,\u001b[0m \u001b[0mcolor\u001b[0m\u001b[0;34m=\u001b[0m\u001b[0;34m\"red\"\u001b[0m\u001b[0;34m)\u001b[0m\u001b[0;34m\u001b[0m\u001b[0m\n",
      "\u001b[0;32m<ipython-input-53-15a3be750766>\u001b[0m in \u001b[0;36mplot_iterline\u001b[0;34m(i, l, color, lw)\u001b[0m\n\u001b[1;32m      1\u001b[0m \u001b[0;31m# Function to plot the traces with the vertices\u001b[0m\u001b[0;34m\u001b[0m\u001b[0;34m\u001b[0m\u001b[0m\n\u001b[1;32m      2\u001b[0m \u001b[0;32mdef\u001b[0m \u001b[0mplot_iterline\u001b[0m\u001b[0;34m(\u001b[0m\u001b[0mi\u001b[0m\u001b[0;34m,\u001b[0m \u001b[0ml\u001b[0m\u001b[0;34m,\u001b[0m \u001b[0mcolor\u001b[0m\u001b[0;34m=\u001b[0m\u001b[0;34m\"black\"\u001b[0m\u001b[0;34m,\u001b[0m \u001b[0mlw\u001b[0m\u001b[0;34m=\u001b[0m\u001b[0;36m0.5\u001b[0m\u001b[0;34m)\u001b[0m\u001b[0;34m:\u001b[0m\u001b[0;34m\u001b[0m\u001b[0m\n\u001b[0;32m----> 3\u001b[0;31m     \u001b[0mf\u001b[0m \u001b[0;34m=\u001b[0m \u001b[0mvertices\u001b[0m\u001b[0;34m[\u001b[0m\u001b[0mi\u001b[0m\u001b[0;34m,\u001b[0m \u001b[0ml\u001b[0m\u001b[0;34m]\u001b[0m\u001b[0;34m[\u001b[0m\u001b[0;34m:\u001b[0m\u001b[0;34m,\u001b[0m\u001b[0;36m1\u001b[0m\u001b[0;34m]\u001b[0m\u001b[0;34m==\u001b[0m\u001b[0mnp\u001b[0m\u001b[0;34m.\u001b[0m\u001b[0mmin\u001b[0m\u001b[0;34m(\u001b[0m\u001b[0mvertices\u001b[0m\u001b[0;34m[\u001b[0m\u001b[0mi\u001b[0m\u001b[0;34m,\u001b[0m \u001b[0ml\u001b[0m\u001b[0;34m]\u001b[0m\u001b[0;34m[\u001b[0m\u001b[0;34m:\u001b[0m\u001b[0;34m,\u001b[0m\u001b[0;36m1\u001b[0m\u001b[0;34m]\u001b[0m\u001b[0;34m)\u001b[0m\u001b[0;34m\u001b[0m\u001b[0m\n\u001b[0m\u001b[1;32m      4\u001b[0m    \u001b[0;31m# f = a\u001b[0m\u001b[0;34m\u001b[0m\u001b[0;34m\u001b[0m\u001b[0m\n\u001b[1;32m      5\u001b[0m \u001b[0;34m\u001b[0m\u001b[0m\n",
      "\u001b[0;31mIndexError\u001b[0m: index 6 is out of bounds for axis 0 with size 5"
     ]
    },
    {
     "data": {
      "image/png": "[encoded data removed]",
      "text/plain": [
       "<matplotlib.figure.Figure at 0x7f5a93db78d0>"
      ]
     },
     "metadata": {},
     "output_type": "display_data"
    }
   ],
   "source": [
    "fig = plt.figure(figsize=get_figsize(0.75))\n",
    "ax = plt.subplot()\n",
    "    \n",
    "for i in range(0,100,2):\n",
    "    plot_iterline(i, 3, color=\"green\")\n",
    "    plot_iterline(i, 2, color=\"orange\")\n",
    "    plot_iterline(i, 1, color=\"red\")\n",
    "    # plot_iterline(i, 0, color=\"black\", lw=2)\n",
    "    \n",
    "ax.set_xlabel(\"x\")\n",
    "\n",
    "plt.legend()\n",
    "plt.ylabel(\"z\")\n",
    "plt.xlim(0,19)\n",
    "ax.set_xticks(np.arange(0, 20, 5))\n",
    "plt.ylim(-10,-0)\n",
    "plt.plot([2., 13.3], [0,-10], color=\"gray\", linewidth=4)\n",
    "plt.grid(False)\n",
    "\n",
    "#plt.title(\"Stochastic simulation of layer interfaces\");\n",
    "\n",
    "#plt.savefig(\"doc/figs/UQ.pdf\", facecolor=\"white\")"
   ]
  },
  {
   "cell_type": "code",
   "execution_count": null,
   "metadata": {},
   "outputs": [],
   "source": [
    "gp.plot_section(geo_data, runner.trace(\"gempy_model\")[:][:,0,0,:][30], 5)\n",
    "plt.savefig('original_model.pdf')"
   ]
  },
  {
   "cell_type": "code",
   "execution_count": null,
   "metadata": {},
   "outputs": [],
   "source": [
    "p_i = gp.pa.calculate_probability_lithology(runner.trace(\"gempy_model\")[:][:,0,0,:])"
   ]
  },
  {
   "cell_type": "code",
   "execution_count": null,
   "metadata": {},
   "outputs": [],
   "source": [
    "gp.plot_section(geo_data,p_i[3], 5, cmap='viridis', norm=None)\n",
    "plt.colorbar(orientation='horizontal')\n",
    "#plt.savefig(\"doc/figs/prob.pdf\", facecolor=\"white\")"
   ]
  },
  {
   "cell_type": "code",
   "execution_count": null,
   "metadata": {},
   "outputs": [],
   "source": [
    "e = gp.pa.calcualte_ie_masked(p_i)"
   ]
  },
  {
   "cell_type": "code",
   "execution_count": null,
   "metadata": {},
   "outputs": [],
   "source": [
    "gp.plot_section(geo_data,e, 5, cmap='magma', norm=None)\n",
    "plt.colorbar(orientation='horizontal')\n",
    "\n",
    "\n",
    "#plt.savefig(\"doc/figs/entropy.pdf\", facecolor=\"white\")"
   ]
  },
  {
   "cell_type": "markdown",
   "metadata": {},
   "source": [
    "## Create syntetic gravity for likelihoods"
   ]
  },
  {
   "cell_type": "code",
   "execution_count": null,
   "metadata": {},
   "outputs": [],
   "source": [
    "geo_data_g = gp.create_data([-10e3,30e3,-10e3,20e3,-10e3,0],[50,50,50],\n",
    "                         path_f = \"input_data/paper_Orientations.csv\",\n",
    "                         path_i = \"input_data/paper_Points.csv\")\n",
    "geo_data_g.add_interface(X=10, Y=4, Z=-7, formation='fault1')\n",
    "\n",
    "gp.set_series(geo_data_g, {'fault_serie1': 'fault1','younger_serie' : 'Unconformity', 'older_serie': ('Layer1', 'Layer2')},\n",
    "              order_formations= ['fault1', 'Unconformity', 'Layer2', 'Layer1'], verbose=2)\n",
    "\n",
    "geo_data_g.modify_interface(9, Z = -6.4)\n",
    "\n",
    "geo_data_g.interfaces[['X', 'Y', 'Z']] = geo_data_g.interfaces[['X', 'Y', 'Z']]*1000\n",
    "geo_data_g.orientations[['X', 'Y', 'Z']] = geo_data_g.orientations[['X', 'Y', 'Z']]*1000\n",
    "\n",
    "# Theano compilation\n",
    "interp_data_g = gp.InterpolatorData(geo_data_g, u_grade=[3, 3, 3], dtype='float64', verbose=[],  output='gravity')"
   ]
  },
  {
   "cell_type": "markdown",
   "metadata": {},
   "source": [
    "Change the initial data for the iteration that we want to compute"
   ]
  },
  {
   "cell_type": "code",
   "execution_count": null,
   "metadata": {},
   "outputs": [],
   "source": [
    "trace = 72\n",
    "# modify input data values accordingly\n",
    "interp_data_g.geo_data_res.interfaces[[\"X\", \"Y\", \"Z\"]] = runner.trace(\"input_data\")[72][0]\n",
    "\n",
    "# Gx, Gy, Gz are just used for visualization. The theano function gets azimuth dip and polarity!!!\n",
    "interp_data_g.geo_data_res.orientations[[\"X\", \"Y\", \"Z\", 'dip', 'azimuth', 'polarity']] = runner.trace(\"input_data\")[15][1]\n",
    "\n"
   ]
  },
  {
   "cell_type": "code",
   "execution_count": null,
   "metadata": {},
   "outputs": [],
   "source": [
    "# Set the specific parameters for the measurement grid of gravity:\n",
    "gp.set_geophysics_obj(interp_data_g,  \n",
    "                      [0.1e3,19.9e3,.1e3,.9e3, -10e3, 0], # Extent\n",
    "                      [30,20])                            # Resolution \n",
    "\n",
    "# Setting desity and precomputations \n",
    "t = gp.precomputations_gravity(interp_data_g, 25,\n",
    "                         [2.92e6, 3.1e6, 2.61e6, 2.92e6])"
   ]
  },
  {
   "cell_type": "code",
   "execution_count": null,
   "metadata": {},
   "outputs": [],
   "source": [
    "lith, fault, grav = gp.compute_model(interp_data_g, output='gravity')"
   ]
  },
  {
   "cell_type": "code",
   "execution_count": null,
   "metadata": {},
   "outputs": [],
   "source": [
    "# grav_u = np.load('real_grav.npy')"
   ]
  },
  {
   "cell_type": "code",
   "execution_count": null,
   "metadata": {},
   "outputs": [],
   "source": [
    "gp.plot_section(geo_data_g, lith[0], 5, direction='z',plot_data=True)\n",
    "#annotate_plot(gp.get_data(geo_data_g, verbosity=2), 'annotations', 'X', 'Z', size = 20)\n",
    "# ax = plt.gca()\n",
    "# ax.set_xticks(np.linspace(0, 20, 50))\n",
    "# ax.set_yticks(np.linspace(0, -10, 50))\n",
    "#plt.grid()\n",
    "fig = plt.gcf()\n",
    "ax = plt.gca()\n",
    "p = ax.imshow(grav.reshape(20,30), cmap='viridis', origin='lower', alpha=0.8, extent=[0,20e3,0,10e3])\n",
    "# plt.xlim(-2e3,22e3)\n",
    "# plt.ylim(-2e3,12e3)\n",
    "\n",
    "plt.xlim(-2e3,22e3)\n",
    "plt.ylim(-2e3,12e3)\n",
    "\n",
    "plt.colorbar(p, orientation='horizontal')\n",
    "#plt.savefig('Initial_grav.pdf')"
   ]
  },
  {
   "cell_type": "code",
   "execution_count": null,
   "metadata": {},
   "outputs": [],
   "source": [
    "gp.plot_section(geo_data_g, lith[0], 5, direction='z',plot_data=True)\n",
    "\n",
    "plt.grid()\n",
    "fig = plt.gcf()\n",
    "ax = plt.gca()\n",
    "p = ax.imshow(grav.reshape(20,30), cmap='viridis', origin='lower', alpha=0.8, extent=[0,20e3,0,10e3])\n",
    "# plt.xlim(-2e3,22e3)\n",
    "# plt.ylim(-2e3,12e3)\n",
    "\n",
    "plt.xlim(-10e3,30e3)\n",
    "plt.ylim(-10e3,20e3)\n",
    "\n",
    "plt.colorbar(p)"
   ]
  },
  {
   "cell_type": "code",
   "execution_count": null,
   "metadata": {},
   "outputs": [],
   "source": [
    "# np.save('real_grav', grav)"
   ]
  }
 ],
 "metadata": {
  "kernelspec": {
   "display_name": "Python 3",
   "language": "python",
   "name": "python3"
  },
  "language_info": {
   "codemirror_mode": {
    "name": "ipython",
    "version": 3
   },
   "file_extension": ".py",
   "mimetype": "text/x-python",
   "name": "python",
   "nbconvert_exporter": "python",
   "pygments_lexer": "ipython3",
   "version": "3.6.8"
  },
  "latex_envs": {
   "LaTeX_envs_menu_present": true,
   "autocomplete": true,
   "bibliofile": "biblio.bib",
   "cite_by": "apalike",
   "current_citInitial": 1,
   "eqLabelWithNumbers": true,
   "eqNumInitial": 1,
   "hotkeys": {
    "equation": "Ctrl-E",
    "itemize": "Ctrl-I"
   },
   "labels_anchors": false,
   "latex_user_defs": false,
   "report_style_numbering": false,
   "user_envs_cfg": false
  },
  "toc": {
   "colors": {
    "hover_highlight": "#DAA520",
    "running_highlight": "#FF0000",
    "selected_highlight": "#FFD700"
   },
   "moveMenuLeft": true,
   "nav_menu": {
    "height": "12px",
    "width": "252px"
   },
   "navigate_menu": true,
   "number_sections": false,
   "sideBar": true,
   "threshold": 4,
   "toc_cell": false,
   "toc_section_display": "block",
   "toc_window_display": false,
   "widenNotebook": false
  }
 },
 "nbformat": 4,
 "nbformat_minor": 2
}
