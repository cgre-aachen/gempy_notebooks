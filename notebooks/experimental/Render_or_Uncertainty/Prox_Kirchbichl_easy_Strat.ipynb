{
 "cells": [
  {
   "cell_type": "code",
   "execution_count": 1,
   "metadata": {},
   "outputs": [],
   "source": [
    "import sys\n",
    "sys.path.insert(0, r'C:\\Users\\Kevin\\Documents\\Studium\\Master_Thesis\\GemPy_Models\\gempy')\n",
    "import gempy as gp\n",
    "import numpy as np\n",
    "import matplotlib.pyplot as plt\n",
    "%matplotlib inline"
   ]
  },
  {
   "cell_type": "code",
   "execution_count": 2,
   "metadata": {},
   "outputs": [],
   "source": [
    "geo_model = gp.create_model('Prox_Kirchbichl_easy_Strat')"
   ]
  },
  {
   "cell_type": "code",
   "execution_count": 3,
   "metadata": {},
   "outputs": [
    {
     "name": "stdout",
     "output_type": "stream",
     "text": [
      "Active grids: ['regular']\n"
     ]
    }
   ],
   "source": [
    "gp.init_data(geo_model, [4466600,4500000.,5280000,5300000.,-3000,2000.],[100,100,100],\n",
    "            path_o = 'C:/Users/Kevin/Documents/Studium/Master_Thesis/GemPy_Models/data/True_Boundary_Sets/Prox_Kirchbichl_easy_Strat/orientations_Prox_Kirchbichl_easy_Strat.csv',\n",
    "            path_i = 'C:/Users/Kevin/Documents/Studium/Master_Thesis/GemPy_Models/data/True_Boundary_Sets/Prox_Kirchbichl_easy_Strat/Points_Prox_Kirchbichl_easy_Strat.csv', default_values=True);"
   ]
  },
  {
   "cell_type": "code",
   "execution_count": 4,
   "metadata": {},
   "outputs": [
    {
     "data": {
      "text/html": [
       "<div>\n",
       "<style scoped>\n",
       "    .dataframe tbody tr th:only-of-type {\n",
       "        vertical-align: middle;\n",
       "    }\n",
       "\n",
       "    .dataframe tbody tr th {\n",
       "        vertical-align: top;\n",
       "    }\n",
       "\n",
       "    .dataframe thead th {\n",
       "        text-align: right;\n",
       "    }\n",
       "</style>\n",
       "<table border=\"1\" class=\"dataframe\">\n",
       "  <thead>\n",
       "    <tr style=\"text-align: right;\">\n",
       "      <th></th>\n",
       "      <th>X</th>\n",
       "      <th>Y</th>\n",
       "      <th>Z</th>\n",
       "      <th>X_r</th>\n",
       "      <th>Y_r</th>\n",
       "      <th>Z_r</th>\n",
       "      <th>surface</th>\n",
       "      <th>series</th>\n",
       "      <th>id</th>\n",
       "      <th>order_series</th>\n",
       "      <th>smooth</th>\n",
       "    </tr>\n",
       "  </thead>\n",
       "  <tbody>\n",
       "    <tr>\n",
       "      <th>0</th>\n",
       "      <td>4467249.179</td>\n",
       "      <td>5291197.496</td>\n",
       "      <td>672.036962</td>\n",
       "      <td>0.305337</td>\n",
       "      <td>0.475283</td>\n",
       "      <td>0.514848</td>\n",
       "      <td>Baustein Beds</td>\n",
       "      <td>Default series</td>\n",
       "      <td>1</td>\n",
       "      <td>1</td>\n",
       "      <td>1.000000e-08</td>\n",
       "    </tr>\n",
       "    <tr>\n",
       "      <th>1</th>\n",
       "      <td>4468277.473</td>\n",
       "      <td>5290691.389</td>\n",
       "      <td>704.486260</td>\n",
       "      <td>0.317719</td>\n",
       "      <td>0.469189</td>\n",
       "      <td>0.515239</td>\n",
       "      <td>Baustein Beds</td>\n",
       "      <td>Default series</td>\n",
       "      <td>1</td>\n",
       "      <td>1</td>\n",
       "      <td>1.000000e-08</td>\n",
       "    </tr>\n",
       "    <tr>\n",
       "      <th>2</th>\n",
       "      <td>4472008.151</td>\n",
       "      <td>5290197.705</td>\n",
       "      <td>768.049430</td>\n",
       "      <td>0.362641</td>\n",
       "      <td>0.463244</td>\n",
       "      <td>0.516004</td>\n",
       "      <td>Baustein Beds</td>\n",
       "      <td>Default series</td>\n",
       "      <td>1</td>\n",
       "      <td>1</td>\n",
       "      <td>1.000000e-08</td>\n",
       "    </tr>\n",
       "    <tr>\n",
       "      <th>3</th>\n",
       "      <td>4473729.137</td>\n",
       "      <td>5290046.892</td>\n",
       "      <td>875.499077</td>\n",
       "      <td>0.383364</td>\n",
       "      <td>0.461428</td>\n",
       "      <td>0.517298</td>\n",
       "      <td>Baustein Beds</td>\n",
       "      <td>Default series</td>\n",
       "      <td>1</td>\n",
       "      <td>1</td>\n",
       "      <td>1.000000e-08</td>\n",
       "    </tr>\n",
       "    <tr>\n",
       "      <th>4</th>\n",
       "      <td>4474006.099</td>\n",
       "      <td>5292147.082</td>\n",
       "      <td>747.446767</td>\n",
       "      <td>0.386699</td>\n",
       "      <td>0.486717</td>\n",
       "      <td>0.515756</td>\n",
       "      <td>Baustein Beds</td>\n",
       "      <td>Default series</td>\n",
       "      <td>1</td>\n",
       "      <td>1</td>\n",
       "      <td>1.000000e-08</td>\n",
       "    </tr>\n",
       "  </tbody>\n",
       "</table>\n",
       "</div>"
      ],
      "text/plain": [
       "             X            Y           Z       X_r       Y_r       Z_r  \\\n",
       "0  4467249.179  5291197.496  672.036962  0.305337  0.475283  0.514848   \n",
       "1  4468277.473  5290691.389  704.486260  0.317719  0.469189  0.515239   \n",
       "2  4472008.151  5290197.705  768.049430  0.362641  0.463244  0.516004   \n",
       "3  4473729.137  5290046.892  875.499077  0.383364  0.461428  0.517298   \n",
       "4  4474006.099  5292147.082  747.446767  0.386699  0.486717  0.515756   \n",
       "\n",
       "         surface          series  id  order_series        smooth  \n",
       "0  Baustein Beds  Default series   1             1  1.000000e-08  \n",
       "1  Baustein Beds  Default series   1             1  1.000000e-08  \n",
       "2  Baustein Beds  Default series   1             1  1.000000e-08  \n",
       "3  Baustein Beds  Default series   1             1  1.000000e-08  \n",
       "4  Baustein Beds  Default series   1             1  1.000000e-08  "
      ]
     },
     "execution_count": 4,
     "metadata": {},
     "output_type": "execute_result"
    }
   ],
   "source": [
    "gp.get_data(geo_model, 'surface_points').head()"
   ]
  },
  {
   "cell_type": "code",
   "execution_count": 5,
   "metadata": {},
   "outputs": [
    {
     "data": {
      "text/html": [
       "<div>\n",
       "<style scoped>\n",
       "    .dataframe tbody tr th:only-of-type {\n",
       "        vertical-align: middle;\n",
       "    }\n",
       "\n",
       "    .dataframe tbody tr th {\n",
       "        vertical-align: top;\n",
       "    }\n",
       "\n",
       "    .dataframe thead th {\n",
       "        text-align: right;\n",
       "    }\n",
       "</style>\n",
       "<table border=\"1\" class=\"dataframe\">\n",
       "  <thead>\n",
       "    <tr style=\"text-align: right;\">\n",
       "      <th></th>\n",
       "      <th>X</th>\n",
       "      <th>Y</th>\n",
       "      <th>Z</th>\n",
       "      <th>X_r</th>\n",
       "      <th>Y_r</th>\n",
       "      <th>Z_r</th>\n",
       "      <th>G_x</th>\n",
       "      <th>G_y</th>\n",
       "      <th>G_z</th>\n",
       "      <th>dip</th>\n",
       "      <th>azimuth</th>\n",
       "      <th>polarity</th>\n",
       "      <th>surface</th>\n",
       "      <th>series</th>\n",
       "      <th>id</th>\n",
       "      <th>order_series</th>\n",
       "      <th>smooth</th>\n",
       "    </tr>\n",
       "  </thead>\n",
       "  <tbody>\n",
       "    <tr>\n",
       "      <th>0</th>\n",
       "      <td>4466913.000</td>\n",
       "      <td>5290477.988</td>\n",
       "      <td>655.0</td>\n",
       "      <td>0.301289</td>\n",
       "      <td>0.466619</td>\n",
       "      <td>0.514643</td>\n",
       "      <td>0.166061</td>\n",
       "      <td>0.941776</td>\n",
       "      <td>-0.292372</td>\n",
       "      <td>73</td>\n",
       "      <td>190</td>\n",
       "      <td>-1</td>\n",
       "      <td>Baustein Beds</td>\n",
       "      <td>Default series</td>\n",
       "      <td>1</td>\n",
       "      <td>1</td>\n",
       "      <td>0.01</td>\n",
       "    </tr>\n",
       "    <tr>\n",
       "      <th>1</th>\n",
       "      <td>4466936.202</td>\n",
       "      <td>5291480.442</td>\n",
       "      <td>655.0</td>\n",
       "      <td>0.301568</td>\n",
       "      <td>0.478690</td>\n",
       "      <td>0.514643</td>\n",
       "      <td>0.750000</td>\n",
       "      <td>-0.433013</td>\n",
       "      <td>0.500000</td>\n",
       "      <td>60</td>\n",
       "      <td>120</td>\n",
       "      <td>1</td>\n",
       "      <td>Baustein Beds</td>\n",
       "      <td>Default series</td>\n",
       "      <td>1</td>\n",
       "      <td>1</td>\n",
       "      <td>0.01</td>\n",
       "    </tr>\n",
       "    <tr>\n",
       "      <th>2</th>\n",
       "      <td>4467174.513</td>\n",
       "      <td>5291634.748</td>\n",
       "      <td>670.0</td>\n",
       "      <td>0.304438</td>\n",
       "      <td>0.480548</td>\n",
       "      <td>0.514824</td>\n",
       "      <td>0.719846</td>\n",
       "      <td>-0.604023</td>\n",
       "      <td>0.342020</td>\n",
       "      <td>70</td>\n",
       "      <td>130</td>\n",
       "      <td>1</td>\n",
       "      <td>Baustein Beds</td>\n",
       "      <td>Default series</td>\n",
       "      <td>1</td>\n",
       "      <td>1</td>\n",
       "      <td>0.01</td>\n",
       "    </tr>\n",
       "    <tr>\n",
       "      <th>3</th>\n",
       "      <td>4468019.499</td>\n",
       "      <td>5290564.385</td>\n",
       "      <td>680.0</td>\n",
       "      <td>0.314613</td>\n",
       "      <td>0.467660</td>\n",
       "      <td>0.514944</td>\n",
       "      <td>0.172354</td>\n",
       "      <td>0.977467</td>\n",
       "      <td>-0.121869</td>\n",
       "      <td>83</td>\n",
       "      <td>190</td>\n",
       "      <td>-1</td>\n",
       "      <td>Baustein Beds</td>\n",
       "      <td>Default series</td>\n",
       "      <td>1</td>\n",
       "      <td>1</td>\n",
       "      <td>0.01</td>\n",
       "    </tr>\n",
       "    <tr>\n",
       "      <th>4</th>\n",
       "      <td>4473494.152</td>\n",
       "      <td>5289945.627</td>\n",
       "      <td>800.0</td>\n",
       "      <td>0.380535</td>\n",
       "      <td>0.460209</td>\n",
       "      <td>0.516389</td>\n",
       "      <td>0.078990</td>\n",
       "      <td>0.902859</td>\n",
       "      <td>0.422618</td>\n",
       "      <td>65</td>\n",
       "      <td>5</td>\n",
       "      <td>1</td>\n",
       "      <td>Baustein Beds</td>\n",
       "      <td>Default series</td>\n",
       "      <td>1</td>\n",
       "      <td>1</td>\n",
       "      <td>0.01</td>\n",
       "    </tr>\n",
       "  </tbody>\n",
       "</table>\n",
       "</div>"
      ],
      "text/plain": [
       "             X            Y      Z       X_r       Y_r       Z_r       G_x  \\\n",
       "0  4466913.000  5290477.988  655.0  0.301289  0.466619  0.514643  0.166061   \n",
       "1  4466936.202  5291480.442  655.0  0.301568  0.478690  0.514643  0.750000   \n",
       "2  4467174.513  5291634.748  670.0  0.304438  0.480548  0.514824  0.719846   \n",
       "3  4468019.499  5290564.385  680.0  0.314613  0.467660  0.514944  0.172354   \n",
       "4  4473494.152  5289945.627  800.0  0.380535  0.460209  0.516389  0.078990   \n",
       "\n",
       "        G_y       G_z  dip  azimuth  polarity        surface          series  \\\n",
       "0  0.941776 -0.292372   73      190        -1  Baustein Beds  Default series   \n",
       "1 -0.433013  0.500000   60      120         1  Baustein Beds  Default series   \n",
       "2 -0.604023  0.342020   70      130         1  Baustein Beds  Default series   \n",
       "3  0.977467 -0.121869   83      190        -1  Baustein Beds  Default series   \n",
       "4  0.902859  0.422618   65        5         1  Baustein Beds  Default series   \n",
       "\n",
       "   id  order_series  smooth  \n",
       "0   1             1    0.01  \n",
       "1   1             1    0.01  \n",
       "2   1             1    0.01  \n",
       "3   1             1    0.01  \n",
       "4   1             1    0.01  "
      ]
     },
     "execution_count": 5,
     "metadata": {},
     "output_type": "execute_result"
    }
   ],
   "source": [
    "gp.get_data(geo_model, 'orientations').head()"
   ]
  },
  {
   "cell_type": "code",
   "execution_count": 6,
   "metadata": {},
   "outputs": [
    {
     "data": {
      "text/html": [
       "<style  type=\"text/css\" >\n",
       "    #T_7cade266_ea94_11e9_9b1a_96852c9b7e93row0_col4 {\n",
       "            background-color:  #015482;\n",
       "        }    #T_7cade266_ea94_11e9_9b1a_96852c9b7e93row1_col4 {\n",
       "            background-color:  #9f0052;\n",
       "        }    #T_7cade266_ea94_11e9_9b1a_96852c9b7e93row2_col4 {\n",
       "            background-color:  #ffbe00;\n",
       "        }    #T_7cade266_ea94_11e9_9b1a_96852c9b7e93row3_col4 {\n",
       "            background-color:  #728f02;\n",
       "        }    #T_7cade266_ea94_11e9_9b1a_96852c9b7e93row4_col4 {\n",
       "            background-color:  #443988;\n",
       "        }    #T_7cade266_ea94_11e9_9b1a_96852c9b7e93row5_col4 {\n",
       "            background-color:  #ff3f20;\n",
       "        }    #T_7cade266_ea94_11e9_9b1a_96852c9b7e93row6_col4 {\n",
       "            background-color:  #325916;\n",
       "        }    #T_7cade266_ea94_11e9_9b1a_96852c9b7e93row7_col4 {\n",
       "            background-color:  #5DA629;\n",
       "        }</style><table id=\"T_7cade266_ea94_11e9_9b1a_96852c9b7e93\" ><thead>    <tr>        <th class=\"blank level0\" ></th>        <th class=\"col_heading level0 col0\" >surface</th>        <th class=\"col_heading level0 col1\" >series</th>        <th class=\"col_heading level0 col2\" >order_surfaces</th>        <th class=\"col_heading level0 col3\" >isBasement</th>        <th class=\"col_heading level0 col4\" >color</th>        <th class=\"col_heading level0 col5\" >id</th>    </tr></thead><tbody>\n",
       "                <tr>\n",
       "                        <th id=\"T_7cade266_ea94_11e9_9b1a_96852c9b7e93level0_row0\" class=\"row_heading level0 row0\" >0</th>\n",
       "                        <td id=\"T_7cade266_ea94_11e9_9b1a_96852c9b7e93row0_col0\" class=\"data row0 col0\" >Baustein Beds</td>\n",
       "                        <td id=\"T_7cade266_ea94_11e9_9b1a_96852c9b7e93row0_col1\" class=\"data row0 col1\" >Default series</td>\n",
       "                        <td id=\"T_7cade266_ea94_11e9_9b1a_96852c9b7e93row0_col2\" class=\"data row0 col2\" >1</td>\n",
       "                        <td id=\"T_7cade266_ea94_11e9_9b1a_96852c9b7e93row0_col3\" class=\"data row0 col3\" >False</td>\n",
       "                        <td id=\"T_7cade266_ea94_11e9_9b1a_96852c9b7e93row0_col4\" class=\"data row0 col4\" >#015482</td>\n",
       "                        <td id=\"T_7cade266_ea94_11e9_9b1a_96852c9b7e93row0_col5\" class=\"data row0 col5\" >1</td>\n",
       "            </tr>\n",
       "            <tr>\n",
       "                        <th id=\"T_7cade266_ea94_11e9_9b1a_96852c9b7e93level0_row1\" class=\"row_heading level0 row1\" >1</th>\n",
       "                        <td id=\"T_7cade266_ea94_11e9_9b1a_96852c9b7e93row1_col0\" class=\"data row1 col0\" >Helvetics_Base_Thrust</td>\n",
       "                        <td id=\"T_7cade266_ea94_11e9_9b1a_96852c9b7e93row1_col1\" class=\"data row1 col1\" >Default series</td>\n",
       "                        <td id=\"T_7cade266_ea94_11e9_9b1a_96852c9b7e93row1_col2\" class=\"data row1 col2\" >2</td>\n",
       "                        <td id=\"T_7cade266_ea94_11e9_9b1a_96852c9b7e93row1_col3\" class=\"data row1 col3\" >False</td>\n",
       "                        <td id=\"T_7cade266_ea94_11e9_9b1a_96852c9b7e93row1_col4\" class=\"data row1 col4\" >#9f0052</td>\n",
       "                        <td id=\"T_7cade266_ea94_11e9_9b1a_96852c9b7e93row1_col5\" class=\"data row1 col5\" >2</td>\n",
       "            </tr>\n",
       "            <tr>\n",
       "                        <th id=\"T_7cade266_ea94_11e9_9b1a_96852c9b7e93level0_row2\" class=\"row_heading level0 row2\" >2</th>\n",
       "                        <td id=\"T_7cade266_ea94_11e9_9b1a_96852c9b7e93row2_col0\" class=\"data row2 col0\" >Kirchbichl_Thrust_proximal</td>\n",
       "                        <td id=\"T_7cade266_ea94_11e9_9b1a_96852c9b7e93row2_col1\" class=\"data row2 col1\" >Default series</td>\n",
       "                        <td id=\"T_7cade266_ea94_11e9_9b1a_96852c9b7e93row2_col2\" class=\"data row2 col2\" >3</td>\n",
       "                        <td id=\"T_7cade266_ea94_11e9_9b1a_96852c9b7e93row2_col3\" class=\"data row2 col3\" >False</td>\n",
       "                        <td id=\"T_7cade266_ea94_11e9_9b1a_96852c9b7e93row2_col4\" class=\"data row2 col4\" >#ffbe00</td>\n",
       "                        <td id=\"T_7cade266_ea94_11e9_9b1a_96852c9b7e93row2_col5\" class=\"data row2 col5\" >3</td>\n",
       "            </tr>\n",
       "            <tr>\n",
       "                        <th id=\"T_7cade266_ea94_11e9_9b1a_96852c9b7e93level0_row3\" class=\"row_heading level0 row3\" >3</th>\n",
       "                        <td id=\"T_7cade266_ea94_11e9_9b1a_96852c9b7e93row3_col0\" class=\"data row3 col0\" >Leitzach_Thrust</td>\n",
       "                        <td id=\"T_7cade266_ea94_11e9_9b1a_96852c9b7e93row3_col1\" class=\"data row3 col1\" >Default series</td>\n",
       "                        <td id=\"T_7cade266_ea94_11e9_9b1a_96852c9b7e93row3_col2\" class=\"data row3 col2\" >4</td>\n",
       "                        <td id=\"T_7cade266_ea94_11e9_9b1a_96852c9b7e93row3_col3\" class=\"data row3 col3\" >False</td>\n",
       "                        <td id=\"T_7cade266_ea94_11e9_9b1a_96852c9b7e93row3_col4\" class=\"data row3 col4\" >#728f02</td>\n",
       "                        <td id=\"T_7cade266_ea94_11e9_9b1a_96852c9b7e93row3_col5\" class=\"data row3 col5\" >4</td>\n",
       "            </tr>\n",
       "            <tr>\n",
       "                        <th id=\"T_7cade266_ea94_11e9_9b1a_96852c9b7e93level0_row4\" class=\"row_heading level0 row4\" >4</th>\n",
       "                        <td id=\"T_7cade266_ea94_11e9_9b1a_96852c9b7e93row4_col0\" class=\"data row4 col0\" >Lower Bunte Molasse</td>\n",
       "                        <td id=\"T_7cade266_ea94_11e9_9b1a_96852c9b7e93row4_col1\" class=\"data row4 col1\" >Default series</td>\n",
       "                        <td id=\"T_7cade266_ea94_11e9_9b1a_96852c9b7e93row4_col2\" class=\"data row4 col2\" >5</td>\n",
       "                        <td id=\"T_7cade266_ea94_11e9_9b1a_96852c9b7e93row4_col3\" class=\"data row4 col3\" >False</td>\n",
       "                        <td id=\"T_7cade266_ea94_11e9_9b1a_96852c9b7e93row4_col4\" class=\"data row4 col4\" >#443988</td>\n",
       "                        <td id=\"T_7cade266_ea94_11e9_9b1a_96852c9b7e93row4_col5\" class=\"data row4 col5\" >5</td>\n",
       "            </tr>\n",
       "            <tr>\n",
       "                        <th id=\"T_7cade266_ea94_11e9_9b1a_96852c9b7e93level0_row5\" class=\"row_heading level0 row5\" >5</th>\n",
       "                        <td id=\"T_7cade266_ea94_11e9_9b1a_96852c9b7e93row5_col0\" class=\"data row5 col0\" >Lower Chattian Coal FM</td>\n",
       "                        <td id=\"T_7cade266_ea94_11e9_9b1a_96852c9b7e93row5_col1\" class=\"data row5 col1\" >Default series</td>\n",
       "                        <td id=\"T_7cade266_ea94_11e9_9b1a_96852c9b7e93row5_col2\" class=\"data row5 col2\" >6</td>\n",
       "                        <td id=\"T_7cade266_ea94_11e9_9b1a_96852c9b7e93row5_col3\" class=\"data row5 col3\" >False</td>\n",
       "                        <td id=\"T_7cade266_ea94_11e9_9b1a_96852c9b7e93row5_col4\" class=\"data row5 col4\" >#ff3f20</td>\n",
       "                        <td id=\"T_7cade266_ea94_11e9_9b1a_96852c9b7e93row5_col5\" class=\"data row5 col5\" >6</td>\n",
       "            </tr>\n",
       "            <tr>\n",
       "                        <th id=\"T_7cade266_ea94_11e9_9b1a_96852c9b7e93level0_row6\" class=\"row_heading level0 row6\" >6</th>\n",
       "                        <td id=\"T_7cade266_ea94_11e9_9b1a_96852c9b7e93row6_col0\" class=\"data row6 col0\" >Muehlau_Thrust</td>\n",
       "                        <td id=\"T_7cade266_ea94_11e9_9b1a_96852c9b7e93row6_col1\" class=\"data row6 col1\" >Default series</td>\n",
       "                        <td id=\"T_7cade266_ea94_11e9_9b1a_96852c9b7e93row6_col2\" class=\"data row6 col2\" >7</td>\n",
       "                        <td id=\"T_7cade266_ea94_11e9_9b1a_96852c9b7e93row6_col3\" class=\"data row6 col3\" >False</td>\n",
       "                        <td id=\"T_7cade266_ea94_11e9_9b1a_96852c9b7e93row6_col4\" class=\"data row6 col4\" >#325916</td>\n",
       "                        <td id=\"T_7cade266_ea94_11e9_9b1a_96852c9b7e93row6_col5\" class=\"data row6 col5\" >7</td>\n",
       "            </tr>\n",
       "            <tr>\n",
       "                        <th id=\"T_7cade266_ea94_11e9_9b1a_96852c9b7e93level0_row7\" class=\"row_heading level0 row7\" >7</th>\n",
       "                        <td id=\"T_7cade266_ea94_11e9_9b1a_96852c9b7e93row7_col0\" class=\"data row7 col0\" >basement</td>\n",
       "                        <td id=\"T_7cade266_ea94_11e9_9b1a_96852c9b7e93row7_col1\" class=\"data row7 col1\" >Basement</td>\n",
       "                        <td id=\"T_7cade266_ea94_11e9_9b1a_96852c9b7e93row7_col2\" class=\"data row7 col2\" >1</td>\n",
       "                        <td id=\"T_7cade266_ea94_11e9_9b1a_96852c9b7e93row7_col3\" class=\"data row7 col3\" >True</td>\n",
       "                        <td id=\"T_7cade266_ea94_11e9_9b1a_96852c9b7e93row7_col4\" class=\"data row7 col4\" >#5DA629</td>\n",
       "                        <td id=\"T_7cade266_ea94_11e9_9b1a_96852c9b7e93row7_col5\" class=\"data row7 col5\" >8</td>\n",
       "            </tr>\n",
       "    </tbody></table>"
      ],
      "text/plain": [
       "                      surface          series  order_surfaces  isBasement    color vertices edges  id\n",
       "0               Baustein Beds  Default series               1       False  #015482      NaN   NaN   1\n",
       "1       Helvetics_Base_Thrust  Default series               2       False  #9f0052      NaN   NaN   2\n",
       "2  Kirchbichl_Thrust_proximal  Default series               3       False  #ffbe00      NaN   NaN   3\n",
       "3             Leitzach_Thrust  Default series               4       False  #728f02      NaN   NaN   4\n",
       "4         Lower Bunte Molasse  Default series               5       False  #443988      NaN   NaN   5\n",
       "5      Lower Chattian Coal FM  Default series               6       False  #ff3f20      NaN   NaN   6\n",
       "6              Muehlau_Thrust  Default series               7       False  #325916      NaN   NaN   7\n",
       "7                    basement        Basement               1        True  #5DA629      NaN   NaN   8"
      ]
     },
     "execution_count": 6,
     "metadata": {},
     "output_type": "execute_result"
    }
   ],
   "source": [
    "geo_model.surfaces"
   ]
  },
  {
   "cell_type": "code",
   "execution_count": 7,
   "metadata": {},
   "outputs": [],
   "source": [
    "gp.map_series_to_surfaces(geo_model,\n",
    "                            {\"Kirchbichl_Thrust_proximal\":('Kirchbichl_Thrust_proximal'),\n",
    "                             \"Helvetics_Thrust\":('Helvetics_Base_Thrust'),\n",
    "                             \"Muehlau_Thrust\":('Muehlau_Thrust'),\n",
    "                             \"Leitzach_Thrust\":('Leitzach_Thrust'),                       \n",
    "                             \"Molasse\": ('Lower Bunte Molasse','Lower Chattian Coal FM','Baustein Beds','basement')},remove_unused_series=True);"
   ]
  },
  {
   "cell_type": "code",
   "execution_count": 8,
   "metadata": {},
   "outputs": [
    {
     "name": "stdout",
     "output_type": "stream",
     "text": [
      "Fault colors changed. If you do not like this behavior, set change_color to False.\n"
     ]
    },
    {
     "data": {
      "text/html": [
       "<table border=\"1\" class=\"dataframe\">\n",
       "  <thead>\n",
       "    <tr style=\"text-align: right;\">\n",
       "      <th></th>\n",
       "      <th>isFault</th>\n",
       "      <th>isFinite</th>\n",
       "    </tr>\n",
       "  </thead>\n",
       "  <tbody>\n",
       "    <tr>\n",
       "      <th>Kirchbichl_Thrust_proximal</th>\n",
       "      <td>True</td>\n",
       "      <td>False</td>\n",
       "    </tr>\n",
       "    <tr>\n",
       "      <th>Helvetics_Thrust</th>\n",
       "      <td>True</td>\n",
       "      <td>False</td>\n",
       "    </tr>\n",
       "    <tr>\n",
       "      <th>Muehlau_Thrust</th>\n",
       "      <td>True</td>\n",
       "      <td>False</td>\n",
       "    </tr>\n",
       "    <tr>\n",
       "      <th>Leitzach_Thrust</th>\n",
       "      <td>True</td>\n",
       "      <td>False</td>\n",
       "    </tr>\n",
       "    <tr>\n",
       "      <th>Molasse</th>\n",
       "      <td>False</td>\n",
       "      <td>False</td>\n",
       "    </tr>\n",
       "  </tbody>\n",
       "</table>"
      ],
      "text/plain": [
       "                            isFault  isFinite\n",
       "Kirchbichl_Thrust_proximal     True     False\n",
       "Helvetics_Thrust               True     False\n",
       "Muehlau_Thrust                 True     False\n",
       "Leitzach_Thrust                True     False\n",
       "Molasse                       False     False"
      ]
     },
     "execution_count": 8,
     "metadata": {},
     "output_type": "execute_result"
    }
   ],
   "source": [
    "geo_model.set_is_fault(['Helvetics_Thrust','Kirchbichl_Thrust_proximal','Muehlau_Thrust','Leitzach_Thrust'])"
   ]
  },
  {
   "cell_type": "code",
   "execution_count": 9,
   "metadata": {},
   "outputs": [
    {
     "data": {
      "text/html": [
       "<table border=\"1\" class=\"dataframe\">\n",
       "  <thead>\n",
       "    <tr style=\"text-align: right;\">\n",
       "      <th></th>\n",
       "      <th>order_series</th>\n",
       "      <th>BottomRelation</th>\n",
       "    </tr>\n",
       "  </thead>\n",
       "  <tbody>\n",
       "    <tr>\n",
       "      <th>Kirchbichl_Thrust_proximal</th>\n",
       "      <td>1</td>\n",
       "      <td>Fault</td>\n",
       "    </tr>\n",
       "    <tr>\n",
       "      <th>Helvetics_Thrust</th>\n",
       "      <td>2</td>\n",
       "      <td>Fault</td>\n",
       "    </tr>\n",
       "    <tr>\n",
       "      <th>Muehlau_Thrust</th>\n",
       "      <td>3</td>\n",
       "      <td>Fault</td>\n",
       "    </tr>\n",
       "    <tr>\n",
       "      <th>Leitzach_Thrust</th>\n",
       "      <td>4</td>\n",
       "      <td>Fault</td>\n",
       "    </tr>\n",
       "    <tr>\n",
       "      <th>Molasse</th>\n",
       "      <td>5</td>\n",
       "      <td>Erosion</td>\n",
       "    </tr>\n",
       "  </tbody>\n",
       "</table>"
      ],
      "text/plain": [
       "                            order_series BottomRelation\n",
       "Kirchbichl_Thrust_proximal             1          Fault\n",
       "Helvetics_Thrust                       2          Fault\n",
       "Muehlau_Thrust                         3          Fault\n",
       "Leitzach_Thrust                        4          Fault\n",
       "Molasse                                5        Erosion"
      ]
     },
     "execution_count": 9,
     "metadata": {},
     "output_type": "execute_result"
    }
   ],
   "source": [
    "geo_model.series"
   ]
  },
  {
   "cell_type": "code",
   "execution_count": 10,
   "metadata": {},
   "outputs": [
    {
     "data": {
      "text/html": [
       "<div>\n",
       "<style scoped>\n",
       "    .dataframe tbody tr th:only-of-type {\n",
       "        vertical-align: middle;\n",
       "    }\n",
       "\n",
       "    .dataframe tbody tr th {\n",
       "        vertical-align: top;\n",
       "    }\n",
       "\n",
       "    .dataframe thead th {\n",
       "        text-align: right;\n",
       "    }\n",
       "</style>\n",
       "<table border=\"1\" class=\"dataframe\">\n",
       "  <thead>\n",
       "    <tr style=\"text-align: right;\">\n",
       "      <th></th>\n",
       "      <th>Kirchbichl_Thrust_proximal</th>\n",
       "      <th>Helvetics_Thrust</th>\n",
       "      <th>Muehlau_Thrust</th>\n",
       "      <th>Leitzach_Thrust</th>\n",
       "      <th>Molasse</th>\n",
       "    </tr>\n",
       "  </thead>\n",
       "  <tbody>\n",
       "    <tr>\n",
       "      <th>Kirchbichl_Thrust_proximal</th>\n",
       "      <td>False</td>\n",
       "      <td>False</td>\n",
       "      <td>False</td>\n",
       "      <td>False</td>\n",
       "      <td>True</td>\n",
       "    </tr>\n",
       "    <tr>\n",
       "      <th>Helvetics_Thrust</th>\n",
       "      <td>False</td>\n",
       "      <td>False</td>\n",
       "      <td>False</td>\n",
       "      <td>False</td>\n",
       "      <td>True</td>\n",
       "    </tr>\n",
       "    <tr>\n",
       "      <th>Muehlau_Thrust</th>\n",
       "      <td>False</td>\n",
       "      <td>False</td>\n",
       "      <td>False</td>\n",
       "      <td>False</td>\n",
       "      <td>True</td>\n",
       "    </tr>\n",
       "    <tr>\n",
       "      <th>Leitzach_Thrust</th>\n",
       "      <td>False</td>\n",
       "      <td>False</td>\n",
       "      <td>False</td>\n",
       "      <td>False</td>\n",
       "      <td>True</td>\n",
       "    </tr>\n",
       "    <tr>\n",
       "      <th>Molasse</th>\n",
       "      <td>False</td>\n",
       "      <td>False</td>\n",
       "      <td>False</td>\n",
       "      <td>False</td>\n",
       "      <td>False</td>\n",
       "    </tr>\n",
       "  </tbody>\n",
       "</table>\n",
       "</div>"
      ],
      "text/plain": [
       "                            Kirchbichl_Thrust_proximal  Helvetics_Thrust  \\\n",
       "Kirchbichl_Thrust_proximal                       False             False   \n",
       "Helvetics_Thrust                                 False             False   \n",
       "Muehlau_Thrust                                   False             False   \n",
       "Leitzach_Thrust                                  False             False   \n",
       "Molasse                                          False             False   \n",
       "\n",
       "                            Muehlau_Thrust  Leitzach_Thrust  Molasse  \n",
       "Kirchbichl_Thrust_proximal           False            False     True  \n",
       "Helvetics_Thrust                     False            False     True  \n",
       "Muehlau_Thrust                       False            False     True  \n",
       "Leitzach_Thrust                      False            False     True  \n",
       "Molasse                              False            False    False  "
      ]
     },
     "execution_count": 10,
     "metadata": {},
     "output_type": "execute_result"
    }
   ],
   "source": [
    "geo_model.faults.faults_relations_df"
   ]
  },
  {
   "cell_type": "code",
   "execution_count": 11,
   "metadata": {},
   "outputs": [
    {
     "data": {
      "text/html": [
       "<div>\n",
       "<style scoped>\n",
       "    .dataframe tbody tr th:only-of-type {\n",
       "        vertical-align: middle;\n",
       "    }\n",
       "\n",
       "    .dataframe tbody tr th {\n",
       "        vertical-align: top;\n",
       "    }\n",
       "\n",
       "    .dataframe thead th {\n",
       "        text-align: right;\n",
       "    }\n",
       "</style>\n",
       "<table border=\"1\" class=\"dataframe\">\n",
       "  <thead>\n",
       "    <tr style=\"text-align: right;\">\n",
       "      <th></th>\n",
       "      <th>Kirchbichl_Thrust_proximal</th>\n",
       "      <th>Helvetics_Thrust</th>\n",
       "      <th>Muehlau_Thrust</th>\n",
       "      <th>Leitzach_Thrust</th>\n",
       "      <th>Molasse</th>\n",
       "    </tr>\n",
       "  </thead>\n",
       "  <tbody>\n",
       "    <tr>\n",
       "      <th>Kirchbichl_Thrust_proximal</th>\n",
       "      <td>False</td>\n",
       "      <td>True</td>\n",
       "      <td>True</td>\n",
       "      <td>True</td>\n",
       "      <td>True</td>\n",
       "    </tr>\n",
       "    <tr>\n",
       "      <th>Helvetics_Thrust</th>\n",
       "      <td>False</td>\n",
       "      <td>False</td>\n",
       "      <td>True</td>\n",
       "      <td>True</td>\n",
       "      <td>True</td>\n",
       "    </tr>\n",
       "    <tr>\n",
       "      <th>Muehlau_Thrust</th>\n",
       "      <td>False</td>\n",
       "      <td>False</td>\n",
       "      <td>False</td>\n",
       "      <td>True</td>\n",
       "      <td>True</td>\n",
       "    </tr>\n",
       "    <tr>\n",
       "      <th>Leitzach_Thrust</th>\n",
       "      <td>False</td>\n",
       "      <td>False</td>\n",
       "      <td>False</td>\n",
       "      <td>False</td>\n",
       "      <td>True</td>\n",
       "    </tr>\n",
       "    <tr>\n",
       "      <th>Molasse</th>\n",
       "      <td>False</td>\n",
       "      <td>False</td>\n",
       "      <td>False</td>\n",
       "      <td>False</td>\n",
       "      <td>False</td>\n",
       "    </tr>\n",
       "  </tbody>\n",
       "</table>\n",
       "</div>"
      ],
      "text/plain": [
       "                            Kirchbichl_Thrust_proximal  Helvetics_Thrust  \\\n",
       "Kirchbichl_Thrust_proximal                       False              True   \n",
       "Helvetics_Thrust                                 False             False   \n",
       "Muehlau_Thrust                                   False             False   \n",
       "Leitzach_Thrust                                  False             False   \n",
       "Molasse                                          False             False   \n",
       "\n",
       "                            Muehlau_Thrust  Leitzach_Thrust  Molasse  \n",
       "Kirchbichl_Thrust_proximal            True             True     True  \n",
       "Helvetics_Thrust                      True             True     True  \n",
       "Muehlau_Thrust                       False             True     True  \n",
       "Leitzach_Thrust                      False            False     True  \n",
       "Molasse                              False            False    False  "
      ]
     },
     "execution_count": 11,
     "metadata": {},
     "output_type": "execute_result"
    }
   ],
   "source": [
    "fr = np.zeros((5,5))\n",
    "fr[0,4] = True\n",
    "fr[1,4] = True\n",
    "fr[2,4] = True\n",
    "fr[3,4] = True\n",
    "\n",
    "fr[0,3] = True\n",
    "fr[0,2] = True\n",
    "fr[0,1] = True\n",
    "\n",
    "\n",
    "fr[1,2] = True\n",
    "fr[1,3] = True\n",
    "\n",
    "fr[2,3] = True\n",
    "\n",
    "\n",
    "geo_model.faults.set_fault_relation(fr)"
   ]
  },
  {
   "cell_type": "code",
   "execution_count": 12,
   "metadata": {},
   "outputs": [
    {
     "data": {
      "text/html": [
       "<style  type=\"text/css\" >\n",
       "    #T_7d543be6_ea94_11e9_94df_96852c9b7e93row0_col4 {\n",
       "            background-color:  #527682;\n",
       "        }    #T_7d543be6_ea94_11e9_94df_96852c9b7e93row1_col4 {\n",
       "            background-color:  #527682;\n",
       "        }    #T_7d543be6_ea94_11e9_94df_96852c9b7e93row2_col4 {\n",
       "            background-color:  #527682;\n",
       "        }    #T_7d543be6_ea94_11e9_94df_96852c9b7e93row3_col4 {\n",
       "            background-color:  #527682;\n",
       "        }    #T_7d543be6_ea94_11e9_94df_96852c9b7e93row4_col4 {\n",
       "            background-color:  #015482;\n",
       "        }    #T_7d543be6_ea94_11e9_94df_96852c9b7e93row5_col4 {\n",
       "            background-color:  #443988;\n",
       "        }    #T_7d543be6_ea94_11e9_94df_96852c9b7e93row6_col4 {\n",
       "            background-color:  #ff3f20;\n",
       "        }    #T_7d543be6_ea94_11e9_94df_96852c9b7e93row7_col4 {\n",
       "            background-color:  #5DA629;\n",
       "        }</style><table id=\"T_7d543be6_ea94_11e9_94df_96852c9b7e93\" ><thead>    <tr>        <th class=\"blank level0\" ></th>        <th class=\"col_heading level0 col0\" >surface</th>        <th class=\"col_heading level0 col1\" >series</th>        <th class=\"col_heading level0 col2\" >order_surfaces</th>        <th class=\"col_heading level0 col3\" >isBasement</th>        <th class=\"col_heading level0 col4\" >color</th>        <th class=\"col_heading level0 col5\" >id</th>    </tr></thead><tbody>\n",
       "                <tr>\n",
       "                        <th id=\"T_7d543be6_ea94_11e9_94df_96852c9b7e93level0_row0\" class=\"row_heading level0 row0\" >2</th>\n",
       "                        <td id=\"T_7d543be6_ea94_11e9_94df_96852c9b7e93row0_col0\" class=\"data row0 col0\" >Kirchbichl_Thrust_proximal</td>\n",
       "                        <td id=\"T_7d543be6_ea94_11e9_94df_96852c9b7e93row0_col1\" class=\"data row0 col1\" >Kirchbichl_Thrust_proximal</td>\n",
       "                        <td id=\"T_7d543be6_ea94_11e9_94df_96852c9b7e93row0_col2\" class=\"data row0 col2\" >1</td>\n",
       "                        <td id=\"T_7d543be6_ea94_11e9_94df_96852c9b7e93row0_col3\" class=\"data row0 col3\" >False</td>\n",
       "                        <td id=\"T_7d543be6_ea94_11e9_94df_96852c9b7e93row0_col4\" class=\"data row0 col4\" >#527682</td>\n",
       "                        <td id=\"T_7d543be6_ea94_11e9_94df_96852c9b7e93row0_col5\" class=\"data row0 col5\" >1</td>\n",
       "            </tr>\n",
       "            <tr>\n",
       "                        <th id=\"T_7d543be6_ea94_11e9_94df_96852c9b7e93level0_row1\" class=\"row_heading level0 row1\" >1</th>\n",
       "                        <td id=\"T_7d543be6_ea94_11e9_94df_96852c9b7e93row1_col0\" class=\"data row1 col0\" >Helvetics_Base_Thrust</td>\n",
       "                        <td id=\"T_7d543be6_ea94_11e9_94df_96852c9b7e93row1_col1\" class=\"data row1 col1\" >Helvetics_Thrust</td>\n",
       "                        <td id=\"T_7d543be6_ea94_11e9_94df_96852c9b7e93row1_col2\" class=\"data row1 col2\" >1</td>\n",
       "                        <td id=\"T_7d543be6_ea94_11e9_94df_96852c9b7e93row1_col3\" class=\"data row1 col3\" >False</td>\n",
       "                        <td id=\"T_7d543be6_ea94_11e9_94df_96852c9b7e93row1_col4\" class=\"data row1 col4\" >#527682</td>\n",
       "                        <td id=\"T_7d543be6_ea94_11e9_94df_96852c9b7e93row1_col5\" class=\"data row1 col5\" >2</td>\n",
       "            </tr>\n",
       "            <tr>\n",
       "                        <th id=\"T_7d543be6_ea94_11e9_94df_96852c9b7e93level0_row2\" class=\"row_heading level0 row2\" >6</th>\n",
       "                        <td id=\"T_7d543be6_ea94_11e9_94df_96852c9b7e93row2_col0\" class=\"data row2 col0\" >Muehlau_Thrust</td>\n",
       "                        <td id=\"T_7d543be6_ea94_11e9_94df_96852c9b7e93row2_col1\" class=\"data row2 col1\" >Muehlau_Thrust</td>\n",
       "                        <td id=\"T_7d543be6_ea94_11e9_94df_96852c9b7e93row2_col2\" class=\"data row2 col2\" >1</td>\n",
       "                        <td id=\"T_7d543be6_ea94_11e9_94df_96852c9b7e93row2_col3\" class=\"data row2 col3\" >False</td>\n",
       "                        <td id=\"T_7d543be6_ea94_11e9_94df_96852c9b7e93row2_col4\" class=\"data row2 col4\" >#527682</td>\n",
       "                        <td id=\"T_7d543be6_ea94_11e9_94df_96852c9b7e93row2_col5\" class=\"data row2 col5\" >3</td>\n",
       "            </tr>\n",
       "            <tr>\n",
       "                        <th id=\"T_7d543be6_ea94_11e9_94df_96852c9b7e93level0_row3\" class=\"row_heading level0 row3\" >3</th>\n",
       "                        <td id=\"T_7d543be6_ea94_11e9_94df_96852c9b7e93row3_col0\" class=\"data row3 col0\" >Leitzach_Thrust</td>\n",
       "                        <td id=\"T_7d543be6_ea94_11e9_94df_96852c9b7e93row3_col1\" class=\"data row3 col1\" >Leitzach_Thrust</td>\n",
       "                        <td id=\"T_7d543be6_ea94_11e9_94df_96852c9b7e93row3_col2\" class=\"data row3 col2\" >1</td>\n",
       "                        <td id=\"T_7d543be6_ea94_11e9_94df_96852c9b7e93row3_col3\" class=\"data row3 col3\" >False</td>\n",
       "                        <td id=\"T_7d543be6_ea94_11e9_94df_96852c9b7e93row3_col4\" class=\"data row3 col4\" >#527682</td>\n",
       "                        <td id=\"T_7d543be6_ea94_11e9_94df_96852c9b7e93row3_col5\" class=\"data row3 col5\" >4</td>\n",
       "            </tr>\n",
       "            <tr>\n",
       "                        <th id=\"T_7d543be6_ea94_11e9_94df_96852c9b7e93level0_row4\" class=\"row_heading level0 row4\" >0</th>\n",
       "                        <td id=\"T_7d543be6_ea94_11e9_94df_96852c9b7e93row4_col0\" class=\"data row4 col0\" >Baustein Beds</td>\n",
       "                        <td id=\"T_7d543be6_ea94_11e9_94df_96852c9b7e93row4_col1\" class=\"data row4 col1\" >Molasse</td>\n",
       "                        <td id=\"T_7d543be6_ea94_11e9_94df_96852c9b7e93row4_col2\" class=\"data row4 col2\" >1</td>\n",
       "                        <td id=\"T_7d543be6_ea94_11e9_94df_96852c9b7e93row4_col3\" class=\"data row4 col3\" >False</td>\n",
       "                        <td id=\"T_7d543be6_ea94_11e9_94df_96852c9b7e93row4_col4\" class=\"data row4 col4\" >#015482</td>\n",
       "                        <td id=\"T_7d543be6_ea94_11e9_94df_96852c9b7e93row4_col5\" class=\"data row4 col5\" >5</td>\n",
       "            </tr>\n",
       "            <tr>\n",
       "                        <th id=\"T_7d543be6_ea94_11e9_94df_96852c9b7e93level0_row5\" class=\"row_heading level0 row5\" >4</th>\n",
       "                        <td id=\"T_7d543be6_ea94_11e9_94df_96852c9b7e93row5_col0\" class=\"data row5 col0\" >Lower Bunte Molasse</td>\n",
       "                        <td id=\"T_7d543be6_ea94_11e9_94df_96852c9b7e93row5_col1\" class=\"data row5 col1\" >Molasse</td>\n",
       "                        <td id=\"T_7d543be6_ea94_11e9_94df_96852c9b7e93row5_col2\" class=\"data row5 col2\" >2</td>\n",
       "                        <td id=\"T_7d543be6_ea94_11e9_94df_96852c9b7e93row5_col3\" class=\"data row5 col3\" >False</td>\n",
       "                        <td id=\"T_7d543be6_ea94_11e9_94df_96852c9b7e93row5_col4\" class=\"data row5 col4\" >#443988</td>\n",
       "                        <td id=\"T_7d543be6_ea94_11e9_94df_96852c9b7e93row5_col5\" class=\"data row5 col5\" >6</td>\n",
       "            </tr>\n",
       "            <tr>\n",
       "                        <th id=\"T_7d543be6_ea94_11e9_94df_96852c9b7e93level0_row6\" class=\"row_heading level0 row6\" >5</th>\n",
       "                        <td id=\"T_7d543be6_ea94_11e9_94df_96852c9b7e93row6_col0\" class=\"data row6 col0\" >Lower Chattian Coal FM</td>\n",
       "                        <td id=\"T_7d543be6_ea94_11e9_94df_96852c9b7e93row6_col1\" class=\"data row6 col1\" >Molasse</td>\n",
       "                        <td id=\"T_7d543be6_ea94_11e9_94df_96852c9b7e93row6_col2\" class=\"data row6 col2\" >3</td>\n",
       "                        <td id=\"T_7d543be6_ea94_11e9_94df_96852c9b7e93row6_col3\" class=\"data row6 col3\" >False</td>\n",
       "                        <td id=\"T_7d543be6_ea94_11e9_94df_96852c9b7e93row6_col4\" class=\"data row6 col4\" >#ff3f20</td>\n",
       "                        <td id=\"T_7d543be6_ea94_11e9_94df_96852c9b7e93row6_col5\" class=\"data row6 col5\" >7</td>\n",
       "            </tr>\n",
       "            <tr>\n",
       "                        <th id=\"T_7d543be6_ea94_11e9_94df_96852c9b7e93level0_row7\" class=\"row_heading level0 row7\" >7</th>\n",
       "                        <td id=\"T_7d543be6_ea94_11e9_94df_96852c9b7e93row7_col0\" class=\"data row7 col0\" >basement</td>\n",
       "                        <td id=\"T_7d543be6_ea94_11e9_94df_96852c9b7e93row7_col1\" class=\"data row7 col1\" >Molasse</td>\n",
       "                        <td id=\"T_7d543be6_ea94_11e9_94df_96852c9b7e93row7_col2\" class=\"data row7 col2\" >4</td>\n",
       "                        <td id=\"T_7d543be6_ea94_11e9_94df_96852c9b7e93row7_col3\" class=\"data row7 col3\" >True</td>\n",
       "                        <td id=\"T_7d543be6_ea94_11e9_94df_96852c9b7e93row7_col4\" class=\"data row7 col4\" >#5DA629</td>\n",
       "                        <td id=\"T_7d543be6_ea94_11e9_94df_96852c9b7e93row7_col5\" class=\"data row7 col5\" >8</td>\n",
       "            </tr>\n",
       "    </tbody></table>"
      ],
      "text/plain": [
       "                      surface                      series  order_surfaces  isBasement    color vertices edges  id\n",
       "2  Kirchbichl_Thrust_proximal  Kirchbichl_Thrust_proximal               1       False  #527682      NaN   NaN   1\n",
       "1       Helvetics_Base_Thrust            Helvetics_Thrust               1       False  #527682      NaN   NaN   2\n",
       "6              Muehlau_Thrust              Muehlau_Thrust               1       False  #527682      NaN   NaN   3\n",
       "3             Leitzach_Thrust             Leitzach_Thrust               1       False  #527682      NaN   NaN   4\n",
       "0               Baustein Beds                     Molasse               1       False  #015482      NaN   NaN   5\n",
       "4         Lower Bunte Molasse                     Molasse               2       False  #443988      NaN   NaN   6\n",
       "5      Lower Chattian Coal FM                     Molasse               3       False  #ff3f20      NaN   NaN   7\n",
       "7                    basement                     Molasse               4        True  #5DA629      NaN   NaN   8"
      ]
     },
     "execution_count": 12,
     "metadata": {},
     "output_type": "execute_result"
    }
   ],
   "source": [
    "geo_model.surfaces"
   ]
  },
  {
   "cell_type": "code",
   "execution_count": 13,
   "metadata": {},
   "outputs": [
    {
     "data": {
      "text/html": [
       "<style  type=\"text/css\" >\n",
       "    #T_7d6113a2_ea94_11e9_9ca2_96852c9b7e93row0_col4 {\n",
       "            background-color:  #a800d6;\n",
       "        }    #T_7d6113a2_ea94_11e9_9ca2_96852c9b7e93row1_col4 {\n",
       "            background-color:  #24deff;\n",
       "        }    #T_7d6113a2_ea94_11e9_9ca2_96852c9b7e93row2_col4 {\n",
       "            background-color:  #0015d6;\n",
       "        }    #T_7d6113a2_ea94_11e9_9ca2_96852c9b7e93row3_col4 {\n",
       "            background-color:  #0081d6;\n",
       "        }    #T_7d6113a2_ea94_11e9_9ca2_96852c9b7e93row4_col4 {\n",
       "            background-color:  #e8e402;\n",
       "        }    #T_7d6113a2_ea94_11e9_9ca2_96852c9b7e93row5_col4 {\n",
       "            background-color:  #ff7700;\n",
       "        }    #T_7d6113a2_ea94_11e9_9ca2_96852c9b7e93row6_col4 {\n",
       "            background-color:  #9e5f00;\n",
       "        }    #T_7d6113a2_ea94_11e9_9ca2_96852c9b7e93row7_col4 {\n",
       "            background-color:  #000000;\n",
       "        }</style><table id=\"T_7d6113a2_ea94_11e9_9ca2_96852c9b7e93\" ><thead>    <tr>        <th class=\"blank level0\" ></th>        <th class=\"col_heading level0 col0\" >surface</th>        <th class=\"col_heading level0 col1\" >series</th>        <th class=\"col_heading level0 col2\" >order_surfaces</th>        <th class=\"col_heading level0 col3\" >isBasement</th>        <th class=\"col_heading level0 col4\" >color</th>        <th class=\"col_heading level0 col5\" >id</th>    </tr></thead><tbody>\n",
       "                <tr>\n",
       "                        <th id=\"T_7d6113a2_ea94_11e9_9ca2_96852c9b7e93level0_row0\" class=\"row_heading level0 row0\" >2</th>\n",
       "                        <td id=\"T_7d6113a2_ea94_11e9_9ca2_96852c9b7e93row0_col0\" class=\"data row0 col0\" >Kirchbichl_Thrust_proximal</td>\n",
       "                        <td id=\"T_7d6113a2_ea94_11e9_9ca2_96852c9b7e93row0_col1\" class=\"data row0 col1\" >Kirchbichl_Thrust_proximal</td>\n",
       "                        <td id=\"T_7d6113a2_ea94_11e9_9ca2_96852c9b7e93row0_col2\" class=\"data row0 col2\" >1</td>\n",
       "                        <td id=\"T_7d6113a2_ea94_11e9_9ca2_96852c9b7e93row0_col3\" class=\"data row0 col3\" >False</td>\n",
       "                        <td id=\"T_7d6113a2_ea94_11e9_9ca2_96852c9b7e93row0_col4\" class=\"data row0 col4\" >#a800d6</td>\n",
       "                        <td id=\"T_7d6113a2_ea94_11e9_9ca2_96852c9b7e93row0_col5\" class=\"data row0 col5\" >1</td>\n",
       "            </tr>\n",
       "            <tr>\n",
       "                        <th id=\"T_7d6113a2_ea94_11e9_9ca2_96852c9b7e93level0_row1\" class=\"row_heading level0 row1\" >1</th>\n",
       "                        <td id=\"T_7d6113a2_ea94_11e9_9ca2_96852c9b7e93row1_col0\" class=\"data row1 col0\" >Helvetics_Base_Thrust</td>\n",
       "                        <td id=\"T_7d6113a2_ea94_11e9_9ca2_96852c9b7e93row1_col1\" class=\"data row1 col1\" >Helvetics_Thrust</td>\n",
       "                        <td id=\"T_7d6113a2_ea94_11e9_9ca2_96852c9b7e93row1_col2\" class=\"data row1 col2\" >1</td>\n",
       "                        <td id=\"T_7d6113a2_ea94_11e9_9ca2_96852c9b7e93row1_col3\" class=\"data row1 col3\" >False</td>\n",
       "                        <td id=\"T_7d6113a2_ea94_11e9_9ca2_96852c9b7e93row1_col4\" class=\"data row1 col4\" >#24deff</td>\n",
       "                        <td id=\"T_7d6113a2_ea94_11e9_9ca2_96852c9b7e93row1_col5\" class=\"data row1 col5\" >2</td>\n",
       "            </tr>\n",
       "            <tr>\n",
       "                        <th id=\"T_7d6113a2_ea94_11e9_9ca2_96852c9b7e93level0_row2\" class=\"row_heading level0 row2\" >6</th>\n",
       "                        <td id=\"T_7d6113a2_ea94_11e9_9ca2_96852c9b7e93row2_col0\" class=\"data row2 col0\" >Muehlau_Thrust</td>\n",
       "                        <td id=\"T_7d6113a2_ea94_11e9_9ca2_96852c9b7e93row2_col1\" class=\"data row2 col1\" >Muehlau_Thrust</td>\n",
       "                        <td id=\"T_7d6113a2_ea94_11e9_9ca2_96852c9b7e93row2_col2\" class=\"data row2 col2\" >1</td>\n",
       "                        <td id=\"T_7d6113a2_ea94_11e9_9ca2_96852c9b7e93row2_col3\" class=\"data row2 col3\" >False</td>\n",
       "                        <td id=\"T_7d6113a2_ea94_11e9_9ca2_96852c9b7e93row2_col4\" class=\"data row2 col4\" >#0015d6</td>\n",
       "                        <td id=\"T_7d6113a2_ea94_11e9_9ca2_96852c9b7e93row2_col5\" class=\"data row2 col5\" >3</td>\n",
       "            </tr>\n",
       "            <tr>\n",
       "                        <th id=\"T_7d6113a2_ea94_11e9_9ca2_96852c9b7e93level0_row3\" class=\"row_heading level0 row3\" >3</th>\n",
       "                        <td id=\"T_7d6113a2_ea94_11e9_9ca2_96852c9b7e93row3_col0\" class=\"data row3 col0\" >Leitzach_Thrust</td>\n",
       "                        <td id=\"T_7d6113a2_ea94_11e9_9ca2_96852c9b7e93row3_col1\" class=\"data row3 col1\" >Leitzach_Thrust</td>\n",
       "                        <td id=\"T_7d6113a2_ea94_11e9_9ca2_96852c9b7e93row3_col2\" class=\"data row3 col2\" >1</td>\n",
       "                        <td id=\"T_7d6113a2_ea94_11e9_9ca2_96852c9b7e93row3_col3\" class=\"data row3 col3\" >False</td>\n",
       "                        <td id=\"T_7d6113a2_ea94_11e9_9ca2_96852c9b7e93row3_col4\" class=\"data row3 col4\" >#0081d6</td>\n",
       "                        <td id=\"T_7d6113a2_ea94_11e9_9ca2_96852c9b7e93row3_col5\" class=\"data row3 col5\" >4</td>\n",
       "            </tr>\n",
       "            <tr>\n",
       "                        <th id=\"T_7d6113a2_ea94_11e9_9ca2_96852c9b7e93level0_row4\" class=\"row_heading level0 row4\" >0</th>\n",
       "                        <td id=\"T_7d6113a2_ea94_11e9_9ca2_96852c9b7e93row4_col0\" class=\"data row4 col0\" >Baustein Beds</td>\n",
       "                        <td id=\"T_7d6113a2_ea94_11e9_9ca2_96852c9b7e93row4_col1\" class=\"data row4 col1\" >Molasse</td>\n",
       "                        <td id=\"T_7d6113a2_ea94_11e9_9ca2_96852c9b7e93row4_col2\" class=\"data row4 col2\" >1</td>\n",
       "                        <td id=\"T_7d6113a2_ea94_11e9_9ca2_96852c9b7e93row4_col3\" class=\"data row4 col3\" >False</td>\n",
       "                        <td id=\"T_7d6113a2_ea94_11e9_9ca2_96852c9b7e93row4_col4\" class=\"data row4 col4\" >#e8e402</td>\n",
       "                        <td id=\"T_7d6113a2_ea94_11e9_9ca2_96852c9b7e93row4_col5\" class=\"data row4 col5\" >5</td>\n",
       "            </tr>\n",
       "            <tr>\n",
       "                        <th id=\"T_7d6113a2_ea94_11e9_9ca2_96852c9b7e93level0_row5\" class=\"row_heading level0 row5\" >4</th>\n",
       "                        <td id=\"T_7d6113a2_ea94_11e9_9ca2_96852c9b7e93row5_col0\" class=\"data row5 col0\" >Lower Bunte Molasse</td>\n",
       "                        <td id=\"T_7d6113a2_ea94_11e9_9ca2_96852c9b7e93row5_col1\" class=\"data row5 col1\" >Molasse</td>\n",
       "                        <td id=\"T_7d6113a2_ea94_11e9_9ca2_96852c9b7e93row5_col2\" class=\"data row5 col2\" >2</td>\n",
       "                        <td id=\"T_7d6113a2_ea94_11e9_9ca2_96852c9b7e93row5_col3\" class=\"data row5 col3\" >False</td>\n",
       "                        <td id=\"T_7d6113a2_ea94_11e9_9ca2_96852c9b7e93row5_col4\" class=\"data row5 col4\" >#ff7700</td>\n",
       "                        <td id=\"T_7d6113a2_ea94_11e9_9ca2_96852c9b7e93row5_col5\" class=\"data row5 col5\" >6</td>\n",
       "            </tr>\n",
       "            <tr>\n",
       "                        <th id=\"T_7d6113a2_ea94_11e9_9ca2_96852c9b7e93level0_row6\" class=\"row_heading level0 row6\" >5</th>\n",
       "                        <td id=\"T_7d6113a2_ea94_11e9_9ca2_96852c9b7e93row6_col0\" class=\"data row6 col0\" >Lower Chattian Coal FM</td>\n",
       "                        <td id=\"T_7d6113a2_ea94_11e9_9ca2_96852c9b7e93row6_col1\" class=\"data row6 col1\" >Molasse</td>\n",
       "                        <td id=\"T_7d6113a2_ea94_11e9_9ca2_96852c9b7e93row6_col2\" class=\"data row6 col2\" >3</td>\n",
       "                        <td id=\"T_7d6113a2_ea94_11e9_9ca2_96852c9b7e93row6_col3\" class=\"data row6 col3\" >False</td>\n",
       "                        <td id=\"T_7d6113a2_ea94_11e9_9ca2_96852c9b7e93row6_col4\" class=\"data row6 col4\" >#9e5f00</td>\n",
       "                        <td id=\"T_7d6113a2_ea94_11e9_9ca2_96852c9b7e93row6_col5\" class=\"data row6 col5\" >7</td>\n",
       "            </tr>\n",
       "            <tr>\n",
       "                        <th id=\"T_7d6113a2_ea94_11e9_9ca2_96852c9b7e93level0_row7\" class=\"row_heading level0 row7\" >7</th>\n",
       "                        <td id=\"T_7d6113a2_ea94_11e9_9ca2_96852c9b7e93row7_col0\" class=\"data row7 col0\" >basement</td>\n",
       "                        <td id=\"T_7d6113a2_ea94_11e9_9ca2_96852c9b7e93row7_col1\" class=\"data row7 col1\" >Molasse</td>\n",
       "                        <td id=\"T_7d6113a2_ea94_11e9_9ca2_96852c9b7e93row7_col2\" class=\"data row7 col2\" >4</td>\n",
       "                        <td id=\"T_7d6113a2_ea94_11e9_9ca2_96852c9b7e93row7_col3\" class=\"data row7 col3\" >True</td>\n",
       "                        <td id=\"T_7d6113a2_ea94_11e9_9ca2_96852c9b7e93row7_col4\" class=\"data row7 col4\" >#000000</td>\n",
       "                        <td id=\"T_7d6113a2_ea94_11e9_9ca2_96852c9b7e93row7_col5\" class=\"data row7 col5\" >8</td>\n",
       "            </tr>\n",
       "    </tbody></table>"
      ],
      "text/plain": [
       "                      surface                      series  order_surfaces  isBasement    color vertices edges  id\n",
       "2  Kirchbichl_Thrust_proximal  Kirchbichl_Thrust_proximal               1       False  #a800d6      NaN   NaN   1\n",
       "1       Helvetics_Base_Thrust            Helvetics_Thrust               1       False  #24deff      NaN   NaN   2\n",
       "6              Muehlau_Thrust              Muehlau_Thrust               1       False  #0015d6      NaN   NaN   3\n",
       "3             Leitzach_Thrust             Leitzach_Thrust               1       False  #0081d6      NaN   NaN   4\n",
       "0               Baustein Beds                     Molasse               1       False  #e8e402      NaN   NaN   5\n",
       "4         Lower Bunte Molasse                     Molasse               2       False  #ff7700      NaN   NaN   6\n",
       "5      Lower Chattian Coal FM                     Molasse               3       False  #9e5f00      NaN   NaN   7\n",
       "7                    basement                     Molasse               4        True  #000000      NaN   NaN   8"
      ]
     },
     "execution_count": 13,
     "metadata": {},
     "output_type": "execute_result"
    }
   ],
   "source": [
    "new_colors={'Baustein Beds':'#e8e402', 'Lower Chattian Coal FM':'#9e5f00','Lower Bunte Molasse':'#ff7700','basement':'#000000','Helvetics_Base_Thrust':'#24deff','Leitzach_Thrust':'#0081d6','Muehlau_Thrust':'#0015d6','Kirchbichl_Thrust_proximal':'#a800d6'}\n",
    "geo_model.surfaces.colors.change_colors(new_colors)"
   ]
  },
  {
   "cell_type": "code",
   "execution_count": 14,
   "metadata": {},
   "outputs": [
    {
     "name": "stdout",
     "output_type": "stream",
     "text": [
      "Click to select new colors.\n"
     ]
    },
    {
     "data": {
      "application/vnd.jupyter.widget-view+json": {
       "model_id": "e83628c090a840b1805978d59e5b514f",
       "version_major": 2,
       "version_minor": 0
      },
      "text/plain": [
       "VBox(children=(ColorPicker(value='#e8e402', description='Baustein Beds'), ColorPicker(value='#24deff', descrip…"
      ]
     },
     "metadata": {},
     "output_type": "display_data"
    }
   ],
   "source": [
    "geo_model.surfaces.colors.change_colors()"
   ]
  },
  {
   "cell_type": "code",
   "execution_count": 15,
   "metadata": {},
   "outputs": [
    {
     "data": {
      "text/plain": [
       "Grid Object. Values: \n",
       "array([[ 4.466767e+06,  5.280100e+06, -2.975000e+03],\n",
       "       [ 4.466767e+06,  5.280100e+06, -2.925000e+03],\n",
       "       [ 4.466767e+06,  5.280100e+06, -2.875000e+03],\n",
       "       ...,\n",
       "       [ 4.499833e+06,  5.299900e+06,  1.875000e+03],\n",
       "       [ 4.499833e+06,  5.299900e+06,  1.925000e+03],\n",
       "       [ 4.499833e+06,  5.299900e+06,  1.975000e+03]])"
      ]
     },
     "execution_count": 15,
     "metadata": {},
     "output_type": "execute_result"
    }
   ],
   "source": [
    "geo_model.grid"
   ]
  },
  {
   "cell_type": "code",
   "execution_count": 16,
   "metadata": {},
   "outputs": [
    {
     "data": {
      "text/plain": [
       "<gempy.plot.visualization_3d.GemPyvtkInteract at 0x22f41386550>"
      ]
     },
     "execution_count": 16,
     "metadata": {},
     "output_type": "execute_result"
    }
   ],
   "source": [
    "%matplotlib inline\n",
    "gp.plot.plot_data_3D(geo_model)"
   ]
  },
  {
   "cell_type": "code",
   "execution_count": 16,
   "metadata": {},
   "outputs": [
    {
     "name": "stdout",
     "output_type": "stream",
     "text": [
      "Compiling theano function...\n",
      "Level of Optimization:  fast_run\n",
      "Device:  cpu\n",
      "Precision:  float64\n",
      "Number of faults:  4\n",
      "Compilation Done!\n"
     ]
    },
    {
     "data": {
      "text/plain": [
       "<gempy.core.interpolator.InterpolatorModel at 0x174e1e4b550>"
      ]
     },
     "execution_count": 16,
     "metadata": {},
     "output_type": "execute_result"
    }
   ],
   "source": [
    "gp.set_interpolation_data(geo_model,\n",
    "                         compile_theano=True,\n",
    "                         theano_optimizer='fast_run',\n",
    "                         verbose=[])"
   ]
  },
  {
   "cell_type": "code",
   "execution_count": 17,
   "metadata": {},
   "outputs": [
    {
     "data": {
      "text/html": [
       "<table border=\"1\" class=\"dataframe\">\n",
       "  <thead>\n",
       "    <tr style=\"text-align: right;\">\n",
       "      <th></th>\n",
       "      <th>values</th>\n",
       "    </tr>\n",
       "  </thead>\n",
       "  <tbody>\n",
       "    <tr>\n",
       "      <th>range</th>\n",
       "      <td>39250</td>\n",
       "    </tr>\n",
       "    <tr>\n",
       "      <th>$C_o$</th>\n",
       "      <td>3.668e+07</td>\n",
       "    </tr>\n",
       "    <tr>\n",
       "      <th>drift equations</th>\n",
       "      <td>[3, 3, 3, 3, 3]</td>\n",
       "    </tr>\n",
       "    <tr>\n",
       "      <th>nugget grad</th>\n",
       "      <td>0.01</td>\n",
       "    </tr>\n",
       "    <tr>\n",
       "      <th>nugget scalar</th>\n",
       "      <td>1e-06</td>\n",
       "    </tr>\n",
       "  </tbody>\n",
       "</table>"
      ],
      "text/plain": [
       "                          values\n",
       "range                      39250\n",
       "$C_o$                  3.668e+07\n",
       "drift equations  [3, 3, 3, 3, 3]\n",
       "nugget grad                 0.01\n",
       "nugget scalar              1e-06"
      ]
     },
     "execution_count": 17,
     "metadata": {},
     "output_type": "execute_result"
    }
   ],
   "source": [
    "gp.get_data(geo_model, 'kriging')"
   ]
  },
  {
   "cell_type": "code",
   "execution_count": 18,
   "metadata": {},
   "outputs": [
    {
     "data": {
      "text/html": [
       "<table border=\"1\" class=\"dataframe\">\n",
       "  <thead>\n",
       "    <tr style=\"text-align: right;\">\n",
       "      <th></th>\n",
       "      <th>values</th>\n",
       "    </tr>\n",
       "  </thead>\n",
       "  <tbody>\n",
       "    <tr>\n",
       "      <th>isLith</th>\n",
       "      <td>True</td>\n",
       "    </tr>\n",
       "    <tr>\n",
       "      <th>isFault</th>\n",
       "      <td>True</td>\n",
       "    </tr>\n",
       "    <tr>\n",
       "      <th>number faults</th>\n",
       "      <td>4</td>\n",
       "    </tr>\n",
       "    <tr>\n",
       "      <th>number surfaces</th>\n",
       "      <td>7</td>\n",
       "    </tr>\n",
       "    <tr>\n",
       "      <th>number series</th>\n",
       "      <td>5</td>\n",
       "    </tr>\n",
       "    <tr>\n",
       "      <th>number surfaces per series</th>\n",
       "      <td>[1, 1, 1, 1, 3]</td>\n",
       "    </tr>\n",
       "    <tr>\n",
       "      <th>len surfaces surface_points</th>\n",
       "      <td>[10, 15, 5, 7, 21, 20, 20]</td>\n",
       "    </tr>\n",
       "    <tr>\n",
       "      <th>len series surface_points</th>\n",
       "      <td>[10, 15, 5, 7, 61]</td>\n",
       "    </tr>\n",
       "    <tr>\n",
       "      <th>len series orientations</th>\n",
       "      <td>[3, 3, 4, 4, 164]</td>\n",
       "    </tr>\n",
       "  </tbody>\n",
       "</table>"
      ],
      "text/plain": [
       "                                                 values\n",
       "isLith                                             True\n",
       "isFault                                            True\n",
       "number faults                                         4\n",
       "number surfaces                                       7\n",
       "number series                                         5\n",
       "number surfaces per series              [1, 1, 1, 1, 3]\n",
       "len surfaces surface_points  [10, 15, 5, 7, 21, 20, 20]\n",
       "len series surface_points            [10, 15, 5, 7, 61]\n",
       "len series orientations               [3, 3, 4, 4, 164]"
      ]
     },
     "execution_count": 18,
     "metadata": {},
     "output_type": "execute_result"
    }
   ],
   "source": [
    "geo_model.additional_data.structure_data"
   ]
  },
  {
   "cell_type": "code",
   "execution_count": 14,
   "metadata": {},
   "outputs": [],
   "source": [
    "sol = gp.compute_model(geo_model, compute_mesh=False)"
   ]
  },
  {
   "cell_type": "code",
   "execution_count": 19,
   "metadata": {},
   "outputs": [
    {
     "name": "stderr",
     "output_type": "stream",
     "text": [
      "C:\\Users\\Kevin\\Anaconda3\\lib\\site-packages\\theano\\tensor\\slinalg.py:255: LinAlgWarning: Ill-conditioned matrix (rcond=5.63606e-31): result may not be accurate.\n",
      "  rval = scipy.linalg.solve(A, b)\n",
      "C:\\Users\\Kevin\\Anaconda3\\lib\\site-packages\\theano\\tensor\\slinalg.py:255: LinAlgWarning: Ill-conditioned matrix (rcond=1.67378e-30): result may not be accurate.\n",
      "  rval = scipy.linalg.solve(A, b)\n",
      "C:\\Users\\Kevin\\Anaconda3\\lib\\site-packages\\theano\\tensor\\slinalg.py:255: LinAlgWarning: Ill-conditioned matrix (rcond=9.5745e-32): result may not be accurate.\n",
      "  rval = scipy.linalg.solve(A, b)\n",
      "C:\\Users\\Kevin\\Documents\\Studium\\Master_Thesis\\GemPy_Models\\gempy\\gempy\\core\\solution.py:253: UserWarning: Attribute error. Using non masked marching cubesmarching_cubes_lewiner() got an unexpected keyword argument 'mask'.\n",
      "  warnings.warn('Attribute error. Using non masked marching cubes' + str(e)+'.')\n"
     ]
    },
    {
     "data": {
      "text/plain": [
       "\n",
       "Lithology ids \n",
       "  [8. 8. 8. ... 8. 8. 8.] "
      ]
     },
     "execution_count": 19,
     "metadata": {},
     "output_type": "execute_result"
    }
   ],
   "source": [
    "gp.compute_model(geo_model)"
   ]
  },
  {
   "cell_type": "code",
   "execution_count": 35,
   "metadata": {},
   "outputs": [
    {
     "data": {
      "text/plain": [
       "<gempy.plot.visualization_2d.PlotSolution at 0x26710d2f748>"
      ]
     },
     "execution_count": 35,
     "metadata": {},
     "output_type": "execute_result"
    },
    {
     "data": {
      "image/png": "[encoded data removed]",
      "text/plain": [
       "<Figure size 432x288 with 1 Axes>"
      ]
     },
     "metadata": {
      "needs_background": "light"
     },
     "output_type": "display_data"
    }
   ],
   "source": [
    "%matplotlib inline\n",
    "gp.plot.plot_section(geo_model, cell_number=99, show_legend=True,\n",
    "                    direction='x', show_data=False)"
   ]
  },
  {
   "cell_type": "code",
   "execution_count": 20,
   "metadata": {},
   "outputs": [
    {
     "data": {
      "text/html": [
       "<table border=\"1\" class=\"dataframe\">\n",
       "  <thead>\n",
       "    <tr style=\"text-align: right;\">\n",
       "      <th></th>\n",
       "      <th>order_series</th>\n",
       "      <th>BottomRelation</th>\n",
       "    </tr>\n",
       "  </thead>\n",
       "  <tbody>\n",
       "    <tr>\n",
       "      <th>Kirchbichl_Thrust_proximal</th>\n",
       "      <td>1</td>\n",
       "      <td>Fault</td>\n",
       "    </tr>\n",
       "    <tr>\n",
       "      <th>Helvetics_Thrust</th>\n",
       "      <td>2</td>\n",
       "      <td>Fault</td>\n",
       "    </tr>\n",
       "    <tr>\n",
       "      <th>Muehlau_Thrust</th>\n",
       "      <td>3</td>\n",
       "      <td>Fault</td>\n",
       "    </tr>\n",
       "    <tr>\n",
       "      <th>Leitzach_Thrust</th>\n",
       "      <td>4</td>\n",
       "      <td>Fault</td>\n",
       "    </tr>\n",
       "    <tr>\n",
       "      <th>Molasse</th>\n",
       "      <td>5</td>\n",
       "      <td>Erosion</td>\n",
       "    </tr>\n",
       "  </tbody>\n",
       "</table>"
      ],
      "text/plain": [
       "                            order_series BottomRelation\n",
       "Kirchbichl_Thrust_proximal             1          Fault\n",
       "Helvetics_Thrust                       2          Fault\n",
       "Muehlau_Thrust                         3          Fault\n",
       "Leitzach_Thrust                        4          Fault\n",
       "Molasse                                5        Erosion"
      ]
     },
     "execution_count": 20,
     "metadata": {},
     "output_type": "execute_result"
    }
   ],
   "source": [
    "geo_model.series"
   ]
  },
  {
   "cell_type": "code",
   "execution_count": 21,
   "metadata": {},
   "outputs": [
    {
     "ename": "SyntaxError",
     "evalue": "invalid syntax (<ipython-input-21-8ff2bfec0e4a>, line 1)",
     "output_type": "error",
     "traceback": [
      "\u001b[1;36m  File \u001b[1;32m\"<ipython-input-21-8ff2bfec0e4a>\"\u001b[1;36m, line \u001b[1;32m1\u001b[0m\n\u001b[1;33m    gp.plot.plot_scalar_field(geo_model, , series=4, direction='x')\u001b[0m\n\u001b[1;37m                                         ^\u001b[0m\n\u001b[1;31mSyntaxError\u001b[0m\u001b[1;31m:\u001b[0m invalid syntax\n"
     ]
    }
   ],
   "source": [
    "gp.plot.plot_scalar_field(geo_model, , series=4, direction='x')"
   ]
  },
  {
   "cell_type": "code",
   "execution_count": 22,
   "metadata": {},
   "outputs": [],
   "source": [
    "ver, sim = gp.get_surfaces(geo_model)"
   ]
  },
  {
   "cell_type": "code",
   "execution_count": null,
   "metadata": {},
   "outputs": [],
   "source": [
    "gp.plot.plot_3D(geo_model)"
   ]
  },
  {
   "cell_type": "code",
   "execution_count": 17,
   "metadata": {},
   "outputs": [
    {
     "data": {
      "text/plain": [
       "True"
      ]
     },
     "execution_count": 17,
     "metadata": {},
     "output_type": "execute_result"
    }
   ],
   "source": [
    "gp.save_model(geo_model, path='C:/Users/Kevin/Documents/Studium/Master_Thesis/GemPy_Models')"
   ]
  },
  {
   "cell_type": "code",
   "execution_count": null,
   "metadata": {},
   "outputs": [],
   "source": []
  }
 ],
 "metadata": {
  "kernelspec": {
   "display_name": "Python 3",
   "language": "python",
   "name": "python3"
  },
  "language_info": {
   "codemirror_mode": {
    "name": "ipython",
    "version": 3
   },
   "file_extension": ".py",
   "mimetype": "text/x-python",
   "name": "python",
   "nbconvert_exporter": "python",
   "pygments_lexer": "ipython3",
   "version": "3.7.3"
  }
 },
 "nbformat": 4,
 "nbformat_minor": 2
}
