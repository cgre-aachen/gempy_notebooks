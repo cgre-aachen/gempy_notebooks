{
 "cells": [
  {
   "cell_type": "code",
   "execution_count": 1,
   "metadata": {},
   "outputs": [],
   "source": [
    "#import sys\n",
    "#sys.path.insert(0, r'C:\\Users\\Kevin\\Documents\\Studium\\Master_Thesis\\GemPy_Models\\gempy')\n",
    "import gempy as gp\n",
    "import numpy as np\n",
    "import matplotlib.pyplot as plt\n",
    "%matplotlib inline"
   ]
  },
  {
   "cell_type": "code",
   "execution_count": 2,
   "metadata": {},
   "outputs": [],
   "source": [
    "geo_model = gp.create_model('Hausham_Syncline_Bounding_Thrust')"
   ]
  },
  {
   "cell_type": "code",
   "execution_count": 3,
   "metadata": {},
   "outputs": [
    {
     "name": "stdout",
     "output_type": "stream",
     "text": [
      "Active grids: ['regular']\n"
     ]
    }
   ],
   "source": [
    "gp.init_data(geo_model, [4466600,4500000.,5280000,5300000.,-3000,2000.],[100,100,100],\n",
    "            path_o = 'C:/Users/Kevin/Documents/Studium/Master_Thesis/GemPy_Models/data/True_Boundary_Sets/Hausham_Bounding_Thrust/orientations_Hausham_Bounding_Thrust.csv',\n",
    "            path_i = 'C:/Users/Kevin/Documents/Studium/Master_Thesis/GemPy_Models/data/True_Boundary_Sets/Hausham_Bounding_Thrust/Points_Hausham_Bounding_Thrust.csv', default_values=True);"
   ]
  },
  {
   "cell_type": "code",
   "execution_count": 4,
   "metadata": {},
   "outputs": [
    {
     "data": {
      "text/html": [
       "<div>\n",
       "<style scoped>\n",
       "    .dataframe tbody tr th:only-of-type {\n",
       "        vertical-align: middle;\n",
       "    }\n",
       "\n",
       "    .dataframe tbody tr th {\n",
       "        vertical-align: top;\n",
       "    }\n",
       "\n",
       "    .dataframe thead th {\n",
       "        text-align: right;\n",
       "    }\n",
       "</style>\n",
       "<table border=\"1\" class=\"dataframe\">\n",
       "  <thead>\n",
       "    <tr style=\"text-align: right;\">\n",
       "      <th></th>\n",
       "      <th>X</th>\n",
       "      <th>Y</th>\n",
       "      <th>Z</th>\n",
       "      <th>X_r</th>\n",
       "      <th>Y_r</th>\n",
       "      <th>Z_r</th>\n",
       "      <th>surface</th>\n",
       "      <th>series</th>\n",
       "      <th>id</th>\n",
       "      <th>order_series</th>\n",
       "      <th>smooth</th>\n",
       "    </tr>\n",
       "  </thead>\n",
       "  <tbody>\n",
       "    <tr>\n",
       "      <th>0</th>\n",
       "      <td>4495626.286</td>\n",
       "      <td>5295414.616</td>\n",
       "      <td>624.900716</td>\n",
       "      <td>0.690692</td>\n",
       "      <td>0.539890</td>\n",
       "      <td>0.505351</td>\n",
       "      <td>Leitzach_Thrust</td>\n",
       "      <td>Default series</td>\n",
       "      <td>1</td>\n",
       "      <td>1</td>\n",
       "      <td>1.000000e-08</td>\n",
       "    </tr>\n",
       "    <tr>\n",
       "      <th>1</th>\n",
       "      <td>4497761.902</td>\n",
       "      <td>5295183.699</td>\n",
       "      <td>515.182999</td>\n",
       "      <td>0.719236</td>\n",
       "      <td>0.536803</td>\n",
       "      <td>0.503884</td>\n",
       "      <td>Leitzach_Thrust</td>\n",
       "      <td>Default series</td>\n",
       "      <td>1</td>\n",
       "      <td>1</td>\n",
       "      <td>1.000000e-08</td>\n",
       "    </tr>\n",
       "    <tr>\n",
       "      <th>2</th>\n",
       "      <td>4491191.979</td>\n",
       "      <td>5295179.036</td>\n",
       "      <td>690.367884</td>\n",
       "      <td>0.631424</td>\n",
       "      <td>0.536741</td>\n",
       "      <td>0.506226</td>\n",
       "      <td>Leitzach_Thrust</td>\n",
       "      <td>Default series</td>\n",
       "      <td>1</td>\n",
       "      <td>1</td>\n",
       "      <td>1.000000e-08</td>\n",
       "    </tr>\n",
       "    <tr>\n",
       "      <th>4</th>\n",
       "      <td>4500071.124</td>\n",
       "      <td>5294651.288</td>\n",
       "      <td>480.234841</td>\n",
       "      <td>0.750100</td>\n",
       "      <td>0.529687</td>\n",
       "      <td>0.503417</td>\n",
       "      <td>Leitzach_Thrust</td>\n",
       "      <td>Default series</td>\n",
       "      <td>1</td>\n",
       "      <td>1</td>\n",
       "      <td>1.000000e-08</td>\n",
       "    </tr>\n",
       "    <tr>\n",
       "      <th>12</th>\n",
       "      <td>4474748.717</td>\n",
       "      <td>5293614.842</td>\n",
       "      <td>736.569628</td>\n",
       "      <td>0.411649</td>\n",
       "      <td>0.515834</td>\n",
       "      <td>0.506843</td>\n",
       "      <td>Leitzach_Thrust</td>\n",
       "      <td>Default series</td>\n",
       "      <td>1</td>\n",
       "      <td>1</td>\n",
       "      <td>1.000000e-08</td>\n",
       "    </tr>\n",
       "  </tbody>\n",
       "</table>\n",
       "</div>"
      ],
      "text/plain": [
       "              X            Y           Z       X_r       Y_r       Z_r  \\\n",
       "0   4495626.286  5295414.616  624.900716  0.690692  0.539890  0.505351   \n",
       "1   4497761.902  5295183.699  515.182999  0.719236  0.536803  0.503884   \n",
       "2   4491191.979  5295179.036  690.367884  0.631424  0.536741  0.506226   \n",
       "4   4500071.124  5294651.288  480.234841  0.750100  0.529687  0.503417   \n",
       "12  4474748.717  5293614.842  736.569628  0.411649  0.515834  0.506843   \n",
       "\n",
       "            surface          series  id  order_series        smooth  \n",
       "0   Leitzach_Thrust  Default series   1             1  1.000000e-08  \n",
       "1   Leitzach_Thrust  Default series   1             1  1.000000e-08  \n",
       "2   Leitzach_Thrust  Default series   1             1  1.000000e-08  \n",
       "4   Leitzach_Thrust  Default series   1             1  1.000000e-08  \n",
       "12  Leitzach_Thrust  Default series   1             1  1.000000e-08  "
      ]
     },
     "execution_count": 4,
     "metadata": {},
     "output_type": "execute_result"
    }
   ],
   "source": [
    "gp.get_data(geo_model, 'surface_points').head()"
   ]
  },
  {
   "cell_type": "code",
   "execution_count": 5,
   "metadata": {},
   "outputs": [
    {
     "data": {
      "text/html": [
       "<div>\n",
       "<style scoped>\n",
       "    .dataframe tbody tr th:only-of-type {\n",
       "        vertical-align: middle;\n",
       "    }\n",
       "\n",
       "    .dataframe tbody tr th {\n",
       "        vertical-align: top;\n",
       "    }\n",
       "\n",
       "    .dataframe thead th {\n",
       "        text-align: right;\n",
       "    }\n",
       "</style>\n",
       "<table border=\"1\" class=\"dataframe\">\n",
       "  <thead>\n",
       "    <tr style=\"text-align: right;\">\n",
       "      <th></th>\n",
       "      <th>X</th>\n",
       "      <th>Y</th>\n",
       "      <th>Z</th>\n",
       "      <th>X_r</th>\n",
       "      <th>Y_r</th>\n",
       "      <th>Z_r</th>\n",
       "      <th>G_x</th>\n",
       "      <th>G_y</th>\n",
       "      <th>G_z</th>\n",
       "      <th>dip</th>\n",
       "      <th>azimuth</th>\n",
       "      <th>polarity</th>\n",
       "      <th>surface</th>\n",
       "      <th>series</th>\n",
       "      <th>id</th>\n",
       "      <th>order_series</th>\n",
       "      <th>smooth</th>\n",
       "    </tr>\n",
       "  </thead>\n",
       "  <tbody>\n",
       "    <tr>\n",
       "      <th>33</th>\n",
       "      <td>4496717.5</td>\n",
       "      <td>5295230.0</td>\n",
       "      <td>553.1</td>\n",
       "      <td>0.705277</td>\n",
       "      <td>0.537422</td>\n",
       "      <td>0.504391</td>\n",
       "      <td>-0.150384</td>\n",
       "      <td>-0.852869</td>\n",
       "      <td>0.500000</td>\n",
       "      <td>60</td>\n",
       "      <td>190</td>\n",
       "      <td>1</td>\n",
       "      <td>Leitzach_Thrust</td>\n",
       "      <td>Default series</td>\n",
       "      <td>1</td>\n",
       "      <td>1</td>\n",
       "      <td>0.01</td>\n",
       "    </tr>\n",
       "    <tr>\n",
       "      <th>34</th>\n",
       "      <td>4495968.0</td>\n",
       "      <td>5295343.5</td>\n",
       "      <td>582.0</td>\n",
       "      <td>0.695259</td>\n",
       "      <td>0.538939</td>\n",
       "      <td>0.504777</td>\n",
       "      <td>-0.072255</td>\n",
       "      <td>-0.825883</td>\n",
       "      <td>0.559193</td>\n",
       "      <td>56</td>\n",
       "      <td>185</td>\n",
       "      <td>1</td>\n",
       "      <td>Leitzach_Thrust</td>\n",
       "      <td>Default series</td>\n",
       "      <td>1</td>\n",
       "      <td>1</td>\n",
       "      <td>0.01</td>\n",
       "    </tr>\n",
       "    <tr>\n",
       "      <th>35</th>\n",
       "      <td>4491264.0</td>\n",
       "      <td>5294907.5</td>\n",
       "      <td>670.0</td>\n",
       "      <td>0.632387</td>\n",
       "      <td>0.533112</td>\n",
       "      <td>0.505953</td>\n",
       "      <td>-0.077656</td>\n",
       "      <td>-0.887616</td>\n",
       "      <td>0.453990</td>\n",
       "      <td>63</td>\n",
       "      <td>185</td>\n",
       "      <td>1</td>\n",
       "      <td>Leitzach_Thrust</td>\n",
       "      <td>Default series</td>\n",
       "      <td>1</td>\n",
       "      <td>1</td>\n",
       "      <td>0.01</td>\n",
       "    </tr>\n",
       "    <tr>\n",
       "      <th>36</th>\n",
       "      <td>4484115.0</td>\n",
       "      <td>5293588.5</td>\n",
       "      <td>717.3</td>\n",
       "      <td>0.536836</td>\n",
       "      <td>0.515482</td>\n",
       "      <td>0.506586</td>\n",
       "      <td>-0.077656</td>\n",
       "      <td>-0.887616</td>\n",
       "      <td>0.453990</td>\n",
       "      <td>63</td>\n",
       "      <td>185</td>\n",
       "      <td>1</td>\n",
       "      <td>Leitzach_Thrust</td>\n",
       "      <td>Default series</td>\n",
       "      <td>1</td>\n",
       "      <td>1</td>\n",
       "      <td>0.01</td>\n",
       "    </tr>\n",
       "    <tr>\n",
       "      <th>171</th>\n",
       "      <td>4483827.5</td>\n",
       "      <td>5293384.0</td>\n",
       "      <td>702.5</td>\n",
       "      <td>0.532993</td>\n",
       "      <td>0.512749</td>\n",
       "      <td>0.506388</td>\n",
       "      <td>0.172987</td>\n",
       "      <td>-0.981060</td>\n",
       "      <td>0.087156</td>\n",
       "      <td>85</td>\n",
       "      <td>170</td>\n",
       "      <td>1</td>\n",
       "      <td>Muehlau_Thrust</td>\n",
       "      <td>Default series</td>\n",
       "      <td>2</td>\n",
       "      <td>1</td>\n",
       "      <td>0.01</td>\n",
       "    </tr>\n",
       "  </tbody>\n",
       "</table>\n",
       "</div>"
      ],
      "text/plain": [
       "             X          Y      Z       X_r       Y_r       Z_r       G_x  \\\n",
       "33   4496717.5  5295230.0  553.1  0.705277  0.537422  0.504391 -0.150384   \n",
       "34   4495968.0  5295343.5  582.0  0.695259  0.538939  0.504777 -0.072255   \n",
       "35   4491264.0  5294907.5  670.0  0.632387  0.533112  0.505953 -0.077656   \n",
       "36   4484115.0  5293588.5  717.3  0.536836  0.515482  0.506586 -0.077656   \n",
       "171  4483827.5  5293384.0  702.5  0.532993  0.512749  0.506388  0.172987   \n",
       "\n",
       "          G_y       G_z  dip  azimuth  polarity          surface  \\\n",
       "33  -0.852869  0.500000   60      190         1  Leitzach_Thrust   \n",
       "34  -0.825883  0.559193   56      185         1  Leitzach_Thrust   \n",
       "35  -0.887616  0.453990   63      185         1  Leitzach_Thrust   \n",
       "36  -0.887616  0.453990   63      185         1  Leitzach_Thrust   \n",
       "171 -0.981060  0.087156   85      170         1   Muehlau_Thrust   \n",
       "\n",
       "             series  id  order_series  smooth  \n",
       "33   Default series   1             1    0.01  \n",
       "34   Default series   1             1    0.01  \n",
       "35   Default series   1             1    0.01  \n",
       "36   Default series   1             1    0.01  \n",
       "171  Default series   2             1    0.01  "
      ]
     },
     "execution_count": 5,
     "metadata": {},
     "output_type": "execute_result"
    }
   ],
   "source": [
    "gp.get_data(geo_model, 'orientations').head()"
   ]
  },
  {
   "cell_type": "code",
   "execution_count": 6,
   "metadata": {},
   "outputs": [
    {
     "data": {
      "text/html": [
       "<style  type=\"text/css\" >\n",
       "    #T_71908f54_ea93_11e9_beb6_96852c9b7e93row0_col4 {\n",
       "            background-color:  #015482;\n",
       "        }    #T_71908f54_ea93_11e9_beb6_96852c9b7e93row1_col4 {\n",
       "            background-color:  #9f0052;\n",
       "        }    #T_71908f54_ea93_11e9_beb6_96852c9b7e93row2_col4 {\n",
       "            background-color:  #ffbe00;\n",
       "        }    #T_71908f54_ea93_11e9_beb6_96852c9b7e93row3_col4 {\n",
       "            background-color:  #728f02;\n",
       "        }    #T_71908f54_ea93_11e9_beb6_96852c9b7e93row4_col4 {\n",
       "            background-color:  #443988;\n",
       "        }    #T_71908f54_ea93_11e9_beb6_96852c9b7e93row5_col4 {\n",
       "            background-color:  #ff3f20;\n",
       "        }    #T_71908f54_ea93_11e9_beb6_96852c9b7e93row6_col4 {\n",
       "            background-color:  #325916;\n",
       "        }</style><table id=\"T_71908f54_ea93_11e9_beb6_96852c9b7e93\" ><thead>    <tr>        <th class=\"blank level0\" ></th>        <th class=\"col_heading level0 col0\" >surface</th>        <th class=\"col_heading level0 col1\" >series</th>        <th class=\"col_heading level0 col2\" >order_surfaces</th>        <th class=\"col_heading level0 col3\" >isBasement</th>        <th class=\"col_heading level0 col4\" >color</th>        <th class=\"col_heading level0 col5\" >id</th>    </tr></thead><tbody>\n",
       "                <tr>\n",
       "                        <th id=\"T_71908f54_ea93_11e9_beb6_96852c9b7e93level0_row0\" class=\"row_heading level0 row0\" >0</th>\n",
       "                        <td id=\"T_71908f54_ea93_11e9_beb6_96852c9b7e93row0_col0\" class=\"data row0 col0\" >Leitzach_Thrust</td>\n",
       "                        <td id=\"T_71908f54_ea93_11e9_beb6_96852c9b7e93row0_col1\" class=\"data row0 col1\" >Default series</td>\n",
       "                        <td id=\"T_71908f54_ea93_11e9_beb6_96852c9b7e93row0_col2\" class=\"data row0 col2\" >1</td>\n",
       "                        <td id=\"T_71908f54_ea93_11e9_beb6_96852c9b7e93row0_col3\" class=\"data row0 col3\" >False</td>\n",
       "                        <td id=\"T_71908f54_ea93_11e9_beb6_96852c9b7e93row0_col4\" class=\"data row0 col4\" >#015482</td>\n",
       "                        <td id=\"T_71908f54_ea93_11e9_beb6_96852c9b7e93row0_col5\" class=\"data row0 col5\" >1</td>\n",
       "            </tr>\n",
       "            <tr>\n",
       "                        <th id=\"T_71908f54_ea93_11e9_beb6_96852c9b7e93level0_row1\" class=\"row_heading level0 row1\" >1</th>\n",
       "                        <td id=\"T_71908f54_ea93_11e9_beb6_96852c9b7e93row1_col0\" class=\"data row1 col0\" >Muehlau_Thrust</td>\n",
       "                        <td id=\"T_71908f54_ea93_11e9_beb6_96852c9b7e93row1_col1\" class=\"data row1 col1\" >Default series</td>\n",
       "                        <td id=\"T_71908f54_ea93_11e9_beb6_96852c9b7e93row1_col2\" class=\"data row1 col2\" >2</td>\n",
       "                        <td id=\"T_71908f54_ea93_11e9_beb6_96852c9b7e93row1_col3\" class=\"data row1 col3\" >False</td>\n",
       "                        <td id=\"T_71908f54_ea93_11e9_beb6_96852c9b7e93row1_col4\" class=\"data row1 col4\" >#9f0052</td>\n",
       "                        <td id=\"T_71908f54_ea93_11e9_beb6_96852c9b7e93row1_col5\" class=\"data row1 col5\" >2</td>\n",
       "            </tr>\n",
       "            <tr>\n",
       "                        <th id=\"T_71908f54_ea93_11e9_beb6_96852c9b7e93level0_row2\" class=\"row_heading level0 row2\" >2</th>\n",
       "                        <td id=\"T_71908f54_ea93_11e9_beb6_96852c9b7e93row2_col0\" class=\"data row2 col0\" >Baustein Beds</td>\n",
       "                        <td id=\"T_71908f54_ea93_11e9_beb6_96852c9b7e93row2_col1\" class=\"data row2 col1\" >Default series</td>\n",
       "                        <td id=\"T_71908f54_ea93_11e9_beb6_96852c9b7e93row2_col2\" class=\"data row2 col2\" >3</td>\n",
       "                        <td id=\"T_71908f54_ea93_11e9_beb6_96852c9b7e93row2_col3\" class=\"data row2 col3\" >False</td>\n",
       "                        <td id=\"T_71908f54_ea93_11e9_beb6_96852c9b7e93row2_col4\" class=\"data row2 col4\" >#ffbe00</td>\n",
       "                        <td id=\"T_71908f54_ea93_11e9_beb6_96852c9b7e93row2_col5\" class=\"data row2 col5\" >3</td>\n",
       "            </tr>\n",
       "            <tr>\n",
       "                        <th id=\"T_71908f54_ea93_11e9_beb6_96852c9b7e93level0_row3\" class=\"row_heading level0 row3\" >3</th>\n",
       "                        <td id=\"T_71908f54_ea93_11e9_beb6_96852c9b7e93row3_col0\" class=\"data row3 col0\" >Lower Chattian Coal FM</td>\n",
       "                        <td id=\"T_71908f54_ea93_11e9_beb6_96852c9b7e93row3_col1\" class=\"data row3 col1\" >Default series</td>\n",
       "                        <td id=\"T_71908f54_ea93_11e9_beb6_96852c9b7e93row3_col2\" class=\"data row3 col2\" >4</td>\n",
       "                        <td id=\"T_71908f54_ea93_11e9_beb6_96852c9b7e93row3_col3\" class=\"data row3 col3\" >False</td>\n",
       "                        <td id=\"T_71908f54_ea93_11e9_beb6_96852c9b7e93row3_col4\" class=\"data row3 col4\" >#728f02</td>\n",
       "                        <td id=\"T_71908f54_ea93_11e9_beb6_96852c9b7e93row3_col5\" class=\"data row3 col5\" >4</td>\n",
       "            </tr>\n",
       "            <tr>\n",
       "                        <th id=\"T_71908f54_ea93_11e9_beb6_96852c9b7e93level0_row4\" class=\"row_heading level0 row4\" >4</th>\n",
       "                        <td id=\"T_71908f54_ea93_11e9_beb6_96852c9b7e93row4_col0\" class=\"data row4 col0\" >Lower Bunte Molasse</td>\n",
       "                        <td id=\"T_71908f54_ea93_11e9_beb6_96852c9b7e93row4_col1\" class=\"data row4 col1\" >Default series</td>\n",
       "                        <td id=\"T_71908f54_ea93_11e9_beb6_96852c9b7e93row4_col2\" class=\"data row4 col2\" >5</td>\n",
       "                        <td id=\"T_71908f54_ea93_11e9_beb6_96852c9b7e93row4_col3\" class=\"data row4 col3\" >False</td>\n",
       "                        <td id=\"T_71908f54_ea93_11e9_beb6_96852c9b7e93row4_col4\" class=\"data row4 col4\" >#443988</td>\n",
       "                        <td id=\"T_71908f54_ea93_11e9_beb6_96852c9b7e93row4_col5\" class=\"data row4 col5\" >5</td>\n",
       "            </tr>\n",
       "            <tr>\n",
       "                        <th id=\"T_71908f54_ea93_11e9_beb6_96852c9b7e93level0_row5\" class=\"row_heading level0 row5\" >5</th>\n",
       "                        <td id=\"T_71908f54_ea93_11e9_beb6_96852c9b7e93row5_col0\" class=\"data row5 col0\" >Helvetics_Base_Thrust</td>\n",
       "                        <td id=\"T_71908f54_ea93_11e9_beb6_96852c9b7e93row5_col1\" class=\"data row5 col1\" >Default series</td>\n",
       "                        <td id=\"T_71908f54_ea93_11e9_beb6_96852c9b7e93row5_col2\" class=\"data row5 col2\" >6</td>\n",
       "                        <td id=\"T_71908f54_ea93_11e9_beb6_96852c9b7e93row5_col3\" class=\"data row5 col3\" >False</td>\n",
       "                        <td id=\"T_71908f54_ea93_11e9_beb6_96852c9b7e93row5_col4\" class=\"data row5 col4\" >#ff3f20</td>\n",
       "                        <td id=\"T_71908f54_ea93_11e9_beb6_96852c9b7e93row5_col5\" class=\"data row5 col5\" >6</td>\n",
       "            </tr>\n",
       "            <tr>\n",
       "                        <th id=\"T_71908f54_ea93_11e9_beb6_96852c9b7e93level0_row6\" class=\"row_heading level0 row6\" >6</th>\n",
       "                        <td id=\"T_71908f54_ea93_11e9_beb6_96852c9b7e93row6_col0\" class=\"data row6 col0\" >basement</td>\n",
       "                        <td id=\"T_71908f54_ea93_11e9_beb6_96852c9b7e93row6_col1\" class=\"data row6 col1\" >Basement</td>\n",
       "                        <td id=\"T_71908f54_ea93_11e9_beb6_96852c9b7e93row6_col2\" class=\"data row6 col2\" >1</td>\n",
       "                        <td id=\"T_71908f54_ea93_11e9_beb6_96852c9b7e93row6_col3\" class=\"data row6 col3\" >True</td>\n",
       "                        <td id=\"T_71908f54_ea93_11e9_beb6_96852c9b7e93row6_col4\" class=\"data row6 col4\" >#325916</td>\n",
       "                        <td id=\"T_71908f54_ea93_11e9_beb6_96852c9b7e93row6_col5\" class=\"data row6 col5\" >7</td>\n",
       "            </tr>\n",
       "    </tbody></table>"
      ],
      "text/plain": [
       "                  surface          series  order_surfaces  isBasement    color vertices edges  id\n",
       "0         Leitzach_Thrust  Default series               1       False  #015482      NaN   NaN   1\n",
       "1          Muehlau_Thrust  Default series               2       False  #9f0052      NaN   NaN   2\n",
       "2           Baustein Beds  Default series               3       False  #ffbe00      NaN   NaN   3\n",
       "3  Lower Chattian Coal FM  Default series               4       False  #728f02      NaN   NaN   4\n",
       "4     Lower Bunte Molasse  Default series               5       False  #443988      NaN   NaN   5\n",
       "5   Helvetics_Base_Thrust  Default series               6       False  #ff3f20      NaN   NaN   6\n",
       "6                basement        Basement               1        True  #325916      NaN   NaN   7"
      ]
     },
     "execution_count": 6,
     "metadata": {},
     "output_type": "execute_result"
    }
   ],
   "source": [
    "geo_model.surfaces"
   ]
  },
  {
   "cell_type": "code",
   "execution_count": 7,
   "metadata": {},
   "outputs": [],
   "source": [
    "gp.map_series_to_surfaces(geo_model,\n",
    "                            {\"Helvetics_Thrust\":('Helvetics_Base_Thrust'),\n",
    "                             \"Muehlau_Thrust\":('Muehlau_Thrust'),\n",
    "                             \"Leitzach_Thrust\":('Leitzach_Thrust'),\n",
    "                             \"Molasse\": ('Lower Bunte Molasse','Lower Chattian Coal FM','Baustein Beds','basement')},remove_unused_series=True);"
   ]
  },
  {
   "cell_type": "markdown",
   "metadata": {},
   "source": [
    "# Topography"
   ]
  },
  {
   "cell_type": "code",
   "execution_count": 8,
   "metadata": {},
   "outputs": [],
   "source": [
    "fp = r\"C:/Users/Kevin/Documents/Studium/Master_Thesis/GemPy_Models/data/True_Boundary_Sets/GausKrueSRTM.tif\""
   ]
  },
  {
   "cell_type": "code",
   "execution_count": 9,
   "metadata": {},
   "outputs": [
    {
     "data": {
      "text/plain": [
       "'C:/Users/Kevin/Documents/Studium/Master_Thesis/GemPy_Models/data/True_Boundary_Sets/GausKrueSRTM.tif'"
      ]
     },
     "execution_count": 9,
     "metadata": {},
     "output_type": "execute_result"
    }
   ],
   "source": [
    "fp"
   ]
  },
  {
   "cell_type": "code",
   "execution_count": 10,
   "metadata": {},
   "outputs": [
    {
     "ename": "AttributeError",
     "evalue": "'NoneType' object has no attribute 'ReadAsArray'",
     "output_type": "error",
     "traceback": [
      "\u001b[1;31m---------------------------------------------------------------------------\u001b[0m",
      "\u001b[1;31mAttributeError\u001b[0m                            Traceback (most recent call last)",
      "\u001b[1;32m<ipython-input-10-47b2b61776ce>\u001b[0m in \u001b[0;36m<module>\u001b[1;34m\u001b[0m\n\u001b[1;32m----> 1\u001b[1;33m \u001b[0mgeo_model\u001b[0m\u001b[1;33m.\u001b[0m\u001b[0mset_topography\u001b[0m\u001b[1;33m(\u001b[0m\u001b[0msource\u001b[0m\u001b[1;33m=\u001b[0m\u001b[1;34m'gdal'\u001b[0m\u001b[1;33m,\u001b[0m\u001b[0mfilepath\u001b[0m\u001b[1;33m=\u001b[0m\u001b[0mfp\u001b[0m\u001b[1;33m)\u001b[0m\u001b[1;33m\u001b[0m\u001b[1;33m\u001b[0m\u001b[0m\n\u001b[0m",
      "\u001b[1;32m~\\Documents\\Studium\\Master_Thesis\\GemPy_Models\\gempy\\gempy\\plot\\decorators.py\u001b[0m in \u001b[0;36mpst\u001b[1;34m(*args, **kwargs)\u001b[0m\n\u001b[0;32m     99\u001b[0m     \u001b[1;32mdef\u001b[0m \u001b[0mpst\u001b[0m\u001b[1;33m(\u001b[0m\u001b[1;33m*\u001b[0m\u001b[0margs\u001b[0m\u001b[1;33m,\u001b[0m \u001b[1;33m**\u001b[0m\u001b[0mkwargs\u001b[0m\u001b[1;33m)\u001b[0m\u001b[1;33m:\u001b[0m\u001b[1;33m\u001b[0m\u001b[1;33m\u001b[0m\u001b[0m\n\u001b[0;32m    100\u001b[0m         \u001b[0mplot_object\u001b[0m \u001b[1;33m=\u001b[0m \u001b[0mkwargs\u001b[0m\u001b[1;33m.\u001b[0m\u001b[0mpop\u001b[0m\u001b[1;33m(\u001b[0m\u001b[1;34m'plot_object'\u001b[0m\u001b[1;33m)\u001b[0m \u001b[1;32mif\u001b[0m \u001b[1;34m'plot_object'\u001b[0m \u001b[1;32min\u001b[0m \u001b[0mkwargs\u001b[0m \u001b[1;32melse\u001b[0m \u001b[1;32mNone\u001b[0m\u001b[1;33m\u001b[0m\u001b[1;33m\u001b[0m\u001b[0m\n\u001b[1;32m--> 101\u001b[1;33m         \u001b[0mtopography\u001b[0m \u001b[1;33m=\u001b[0m \u001b[0mfunc\u001b[0m\u001b[1;33m(\u001b[0m\u001b[1;33m*\u001b[0m\u001b[0margs\u001b[0m\u001b[1;33m,\u001b[0m \u001b[1;33m**\u001b[0m\u001b[0mkwargs\u001b[0m\u001b[1;33m)\u001b[0m\u001b[1;33m\u001b[0m\u001b[1;33m\u001b[0m\u001b[0m\n\u001b[0m\u001b[0;32m    102\u001b[0m \u001b[1;33m\u001b[0m\u001b[0m\n\u001b[0;32m    103\u001b[0m         \u001b[1;32mif\u001b[0m \u001b[0mplot_object\u001b[0m \u001b[1;32mis\u001b[0m \u001b[1;32mnot\u001b[0m \u001b[1;32mNone\u001b[0m\u001b[1;33m:\u001b[0m\u001b[1;33m\u001b[0m\u001b[1;33m\u001b[0m\u001b[0m\n",
      "\u001b[1;32m~\\Documents\\Studium\\Master_Thesis\\GemPy_Models\\gempy\\gempy\\core\\model.py\u001b[0m in \u001b[0;36mset_topography\u001b[1;34m(self, source, **kwargs)\u001b[0m\n\u001b[0;32m    195\u001b[0m         \"\"\"\n\u001b[0;32m    196\u001b[0m \u001b[1;33m\u001b[0m\u001b[0m\n\u001b[1;32m--> 197\u001b[1;33m         \u001b[0mself\u001b[0m\u001b[1;33m.\u001b[0m\u001b[0mgrid\u001b[0m\u001b[1;33m.\u001b[0m\u001b[0mset_topography\u001b[0m\u001b[1;33m(\u001b[0m\u001b[0msource\u001b[0m\u001b[1;33m,\u001b[0m \u001b[1;33m**\u001b[0m\u001b[0mkwargs\u001b[0m\u001b[1;33m)\u001b[0m\u001b[1;33m\u001b[0m\u001b[1;33m\u001b[0m\u001b[0m\n\u001b[0m\u001b[0;32m    198\u001b[0m         \u001b[0mself\u001b[0m\u001b[1;33m.\u001b[0m\u001b[0mupdate_from_grid\u001b[0m\u001b[1;33m(\u001b[0m\u001b[1;33m)\u001b[0m\u001b[1;33m\u001b[0m\u001b[1;33m\u001b[0m\u001b[0m\n\u001b[0;32m    199\u001b[0m         \u001b[0mprint\u001b[0m\u001b[1;33m(\u001b[0m\u001b[1;34mf'Active grids: {self.grid.grid_types[self.grid.active_grids]}'\u001b[0m\u001b[1;33m)\u001b[0m\u001b[1;33m\u001b[0m\u001b[1;33m\u001b[0m\u001b[0m\n",
      "\u001b[1;32m~\\Documents\\Studium\\Master_Thesis\\GemPy_Models\\gempy\\gempy\\core\\data.py\u001b[0m in \u001b[0;36mset_topography\u001b[1;34m(self, source, **kwargs)\u001b[0m\n\u001b[0;32m    148\u001b[0m             \u001b[0mfilepath\u001b[0m \u001b[1;33m=\u001b[0m \u001b[0mkwargs\u001b[0m\u001b[1;33m.\u001b[0m\u001b[0mget\u001b[0m\u001b[1;33m(\u001b[0m\u001b[1;34m'filepath'\u001b[0m\u001b[1;33m,\u001b[0m \u001b[1;32mNone\u001b[0m\u001b[1;33m)\u001b[0m\u001b[1;33m\u001b[0m\u001b[1;33m\u001b[0m\u001b[0m\n\u001b[0;32m    149\u001b[0m             \u001b[1;32mif\u001b[0m \u001b[0mfilepath\u001b[0m \u001b[1;32mis\u001b[0m \u001b[1;32mnot\u001b[0m \u001b[1;32mNone\u001b[0m\u001b[1;33m:\u001b[0m\u001b[1;33m\u001b[0m\u001b[1;33m\u001b[0m\u001b[0m\n\u001b[1;32m--> 150\u001b[1;33m                 \u001b[0mself\u001b[0m\u001b[1;33m.\u001b[0m\u001b[0mtopography\u001b[0m\u001b[1;33m.\u001b[0m\u001b[0mload_from_gdal\u001b[0m\u001b[1;33m(\u001b[0m\u001b[0mfilepath\u001b[0m\u001b[1;33m)\u001b[0m\u001b[1;33m\u001b[0m\u001b[1;33m\u001b[0m\u001b[0m\n\u001b[0m\u001b[0;32m    151\u001b[0m             \u001b[1;32melse\u001b[0m\u001b[1;33m:\u001b[0m\u001b[1;33m\u001b[0m\u001b[1;33m\u001b[0m\u001b[0m\n\u001b[0;32m    152\u001b[0m                 \u001b[0mprint\u001b[0m\u001b[1;33m(\u001b[0m\u001b[1;34m'to load a raster file, a path to the file must be provided'\u001b[0m\u001b[1;33m)\u001b[0m\u001b[1;33m\u001b[0m\u001b[1;33m\u001b[0m\u001b[0m\n",
      "\u001b[1;32m~\\Documents\\Studium\\Master_Thesis\\GemPy_Models\\gempy\\gempy\\core\\grid_modules\\grid_types.py\u001b[0m in \u001b[0;36mload_from_gdal\u001b[1;34m(self, filepath)\u001b[0m\n\u001b[0;32m    371\u001b[0m \u001b[1;33m\u001b[0m\u001b[0m\n\u001b[0;32m    372\u001b[0m     \u001b[1;32mdef\u001b[0m \u001b[0mload_from_gdal\u001b[0m\u001b[1;33m(\u001b[0m\u001b[0mself\u001b[0m\u001b[1;33m,\u001b[0m \u001b[0mfilepath\u001b[0m\u001b[1;33m)\u001b[0m\u001b[1;33m:\u001b[0m\u001b[1;33m\u001b[0m\u001b[1;33m\u001b[0m\u001b[0m\n\u001b[1;32m--> 373\u001b[1;33m         \u001b[0mself\u001b[0m\u001b[1;33m.\u001b[0m\u001b[0mtopo\u001b[0m \u001b[1;33m=\u001b[0m \u001b[0mLoad_DEM_GDAL\u001b[0m\u001b[1;33m(\u001b[0m\u001b[0mfilepath\u001b[0m\u001b[1;33m,\u001b[0m \u001b[0mself\u001b[0m\u001b[1;33m.\u001b[0m\u001b[0mregular_grid\u001b[0m\u001b[1;33m)\u001b[0m\u001b[1;33m\u001b[0m\u001b[1;33m\u001b[0m\u001b[0m\n\u001b[0m\u001b[0;32m    374\u001b[0m         \u001b[0mself\u001b[0m\u001b[1;33m.\u001b[0m\u001b[0m_create_init\u001b[0m\u001b[1;33m(\u001b[0m\u001b[1;33m)\u001b[0m\u001b[1;33m\u001b[0m\u001b[1;33m\u001b[0m\u001b[0m\n\u001b[0;32m    375\u001b[0m         \u001b[0mself\u001b[0m\u001b[1;33m.\u001b[0m\u001b[0m_fit2model\u001b[0m\u001b[1;33m(\u001b[0m\u001b[1;33m)\u001b[0m\u001b[1;33m\u001b[0m\u001b[1;33m\u001b[0m\u001b[0m\n",
      "\u001b[1;32m~\\Documents\\Studium\\Master_Thesis\\GemPy_Models\\gempy\\gempy\\utils\\create_topography.py\u001b[0m in \u001b[0;36m__init__\u001b[1;34m(self, path_dem, grid)\u001b[0m\n\u001b[0;32m     44\u001b[0m         \u001b[1;32mif\u001b[0m \u001b[0mgrid\u001b[0m \u001b[1;32mis\u001b[0m \u001b[1;32mnot\u001b[0m \u001b[1;32mNone\u001b[0m\u001b[1;33m:\u001b[0m\u001b[1;33m\u001b[0m\u001b[1;33m\u001b[0m\u001b[0m\n\u001b[0;32m     45\u001b[0m             \u001b[0mself\u001b[0m\u001b[1;33m.\u001b[0m\u001b[0mgrid\u001b[0m \u001b[1;33m=\u001b[0m \u001b[0mgrid\u001b[0m\u001b[1;33m\u001b[0m\u001b[1;33m\u001b[0m\u001b[0m\n\u001b[1;32m---> 46\u001b[1;33m             \u001b[0mself\u001b[0m\u001b[1;33m.\u001b[0m\u001b[0mcrop2grid\u001b[0m\u001b[1;33m(\u001b[0m\u001b[1;33m)\u001b[0m\u001b[1;33m\u001b[0m\u001b[1;33m\u001b[0m\u001b[0m\n\u001b[0m\u001b[0;32m     47\u001b[0m         \u001b[1;32melse\u001b[0m\u001b[1;33m:\u001b[0m\u001b[1;33m\u001b[0m\u001b[1;33m\u001b[0m\u001b[0m\n\u001b[0;32m     48\u001b[0m             \u001b[0mprint\u001b[0m\u001b[1;33m(\u001b[0m\u001b[1;34m'pass geo_model to directly crop the DEM to the grid extent'\u001b[0m\u001b[1;33m)\u001b[0m\u001b[1;33m\u001b[0m\u001b[1;33m\u001b[0m\u001b[0m\n",
      "\u001b[1;32m~\\Documents\\Studium\\Master_Thesis\\GemPy_Models\\gempy\\gempy\\utils\\create_topography.py\u001b[0m in \u001b[0;36mcrop2grid\u001b[1;34m(self)\u001b[0m\n\u001b[0;32m     86\u001b[0m \u001b[1;33m\u001b[0m\u001b[0m\n\u001b[0;32m     87\u001b[0m             \u001b[0mself\u001b[0m\u001b[1;33m.\u001b[0m\u001b[0mdem\u001b[0m \u001b[1;33m=\u001b[0m \u001b[0mgdal\u001b[0m\u001b[1;33m.\u001b[0m\u001b[0mOpen\u001b[0m\u001b[1;33m(\u001b[0m\u001b[0mpath_dest\u001b[0m\u001b[1;33m)\u001b[0m\u001b[1;33m\u001b[0m\u001b[1;33m\u001b[0m\u001b[0m\n\u001b[1;32m---> 88\u001b[1;33m             \u001b[0mself\u001b[0m\u001b[1;33m.\u001b[0m\u001b[0mdem_zval\u001b[0m \u001b[1;33m=\u001b[0m \u001b[0mself\u001b[0m\u001b[1;33m.\u001b[0m\u001b[0mdem\u001b[0m\u001b[1;33m.\u001b[0m\u001b[0mReadAsArray\u001b[0m\u001b[1;33m(\u001b[0m\u001b[1;33m)\u001b[0m\u001b[1;33m\u001b[0m\u001b[1;33m\u001b[0m\u001b[0m\n\u001b[0m\u001b[0;32m     89\u001b[0m             \u001b[0mself\u001b[0m\u001b[1;33m.\u001b[0m\u001b[0m_get_raster_dimensions\u001b[0m\u001b[1;33m(\u001b[0m\u001b[1;33m)\u001b[0m\u001b[1;33m\u001b[0m\u001b[1;33m\u001b[0m\u001b[0m\n\u001b[0;32m     90\u001b[0m         \u001b[0mprint\u001b[0m\u001b[1;33m(\u001b[0m\u001b[1;34m'Cropped raster to geo_model.grid.extent.'\u001b[0m\u001b[1;33m)\u001b[0m\u001b[1;33m\u001b[0m\u001b[1;33m\u001b[0m\u001b[0m\n",
      "\u001b[1;31mAttributeError\u001b[0m: 'NoneType' object has no attribute 'ReadAsArray'"
     ]
    }
   ],
   "source": [
    "geo_model.set_topography(source='gdal',filepath=fp)"
   ]
  },
  {
   "cell_type": "code",
   "execution_count": null,
   "metadata": {},
   "outputs": [],
   "source": [
    "%debug"
   ]
  },
  {
   "cell_type": "code",
   "execution_count": null,
   "metadata": {},
   "outputs": [],
   "source": [
    "import gdal"
   ]
  },
  {
   "cell_type": "markdown",
   "metadata": {},
   "source": [
    "# Thrusts"
   ]
  },
  {
   "cell_type": "code",
   "execution_count": 8,
   "metadata": {},
   "outputs": [
    {
     "name": "stdout",
     "output_type": "stream",
     "text": [
      "Fault colors changed. If you do not like this behavior, set change_color to False.\n"
     ]
    },
    {
     "data": {
      "text/html": [
       "<table border=\"1\" class=\"dataframe\">\n",
       "  <thead>\n",
       "    <tr style=\"text-align: right;\">\n",
       "      <th></th>\n",
       "      <th>isFault</th>\n",
       "      <th>isFinite</th>\n",
       "    </tr>\n",
       "  </thead>\n",
       "  <tbody>\n",
       "    <tr>\n",
       "      <th>Helvetics_Thrust</th>\n",
       "      <td>True</td>\n",
       "      <td>False</td>\n",
       "    </tr>\n",
       "    <tr>\n",
       "      <th>Muehlau_Thrust</th>\n",
       "      <td>True</td>\n",
       "      <td>False</td>\n",
       "    </tr>\n",
       "    <tr>\n",
       "      <th>Leitzach_Thrust</th>\n",
       "      <td>True</td>\n",
       "      <td>False</td>\n",
       "    </tr>\n",
       "    <tr>\n",
       "      <th>Molasse</th>\n",
       "      <td>False</td>\n",
       "      <td>False</td>\n",
       "    </tr>\n",
       "  </tbody>\n",
       "</table>"
      ],
      "text/plain": [
       "                  isFault  isFinite\n",
       "Helvetics_Thrust     True     False\n",
       "Muehlau_Thrust       True     False\n",
       "Leitzach_Thrust      True     False\n",
       "Molasse             False     False"
      ]
     },
     "execution_count": 8,
     "metadata": {},
     "output_type": "execute_result"
    }
   ],
   "source": [
    "geo_model.set_is_fault(['Helvetics_Thrust','Muehlau_Thrust','Leitzach_Thrust'])"
   ]
  },
  {
   "cell_type": "code",
   "execution_count": 9,
   "metadata": {},
   "outputs": [
    {
     "data": {
      "text/html": [
       "<table border=\"1\" class=\"dataframe\">\n",
       "  <thead>\n",
       "    <tr style=\"text-align: right;\">\n",
       "      <th></th>\n",
       "      <th>order_series</th>\n",
       "      <th>BottomRelation</th>\n",
       "    </tr>\n",
       "  </thead>\n",
       "  <tbody>\n",
       "    <tr>\n",
       "      <th>Helvetics_Thrust</th>\n",
       "      <td>1</td>\n",
       "      <td>Fault</td>\n",
       "    </tr>\n",
       "    <tr>\n",
       "      <th>Muehlau_Thrust</th>\n",
       "      <td>2</td>\n",
       "      <td>Fault</td>\n",
       "    </tr>\n",
       "    <tr>\n",
       "      <th>Leitzach_Thrust</th>\n",
       "      <td>3</td>\n",
       "      <td>Fault</td>\n",
       "    </tr>\n",
       "    <tr>\n",
       "      <th>Molasse</th>\n",
       "      <td>4</td>\n",
       "      <td>Erosion</td>\n",
       "    </tr>\n",
       "  </tbody>\n",
       "</table>"
      ],
      "text/plain": [
       "                  order_series BottomRelation\n",
       "Helvetics_Thrust             1          Fault\n",
       "Muehlau_Thrust               2          Fault\n",
       "Leitzach_Thrust              3          Fault\n",
       "Molasse                      4        Erosion"
      ]
     },
     "execution_count": 9,
     "metadata": {},
     "output_type": "execute_result"
    }
   ],
   "source": [
    "geo_model.series"
   ]
  },
  {
   "cell_type": "markdown",
   "metadata": {},
   "source": [
    "# adjust fault system"
   ]
  },
  {
   "cell_type": "code",
   "execution_count": 10,
   "metadata": {},
   "outputs": [
    {
     "data": {
      "text/html": [
       "<table border=\"1\" class=\"dataframe\">\n",
       "  <thead>\n",
       "    <tr style=\"text-align: right;\">\n",
       "      <th></th>\n",
       "      <th>isFault</th>\n",
       "      <th>isFinite</th>\n",
       "    </tr>\n",
       "  </thead>\n",
       "  <tbody>\n",
       "    <tr>\n",
       "      <th>Helvetics_Thrust</th>\n",
       "      <td>True</td>\n",
       "      <td>False</td>\n",
       "    </tr>\n",
       "    <tr>\n",
       "      <th>Muehlau_Thrust</th>\n",
       "      <td>True</td>\n",
       "      <td>False</td>\n",
       "    </tr>\n",
       "    <tr>\n",
       "      <th>Leitzach_Thrust</th>\n",
       "      <td>True</td>\n",
       "      <td>False</td>\n",
       "    </tr>\n",
       "    <tr>\n",
       "      <th>Molasse</th>\n",
       "      <td>False</td>\n",
       "      <td>False</td>\n",
       "    </tr>\n",
       "  </tbody>\n",
       "</table>"
      ],
      "text/plain": [
       "                  isFault  isFinite\n",
       "Helvetics_Thrust     True     False\n",
       "Muehlau_Thrust       True     False\n",
       "Leitzach_Thrust      True     False\n",
       "Molasse             False     False"
      ]
     },
     "execution_count": 10,
     "metadata": {},
     "output_type": "execute_result"
    }
   ],
   "source": [
    "geo_model.faults"
   ]
  },
  {
   "cell_type": "code",
   "execution_count": 11,
   "metadata": {},
   "outputs": [
    {
     "data": {
      "text/html": [
       "<div>\n",
       "<style scoped>\n",
       "    .dataframe tbody tr th:only-of-type {\n",
       "        vertical-align: middle;\n",
       "    }\n",
       "\n",
       "    .dataframe tbody tr th {\n",
       "        vertical-align: top;\n",
       "    }\n",
       "\n",
       "    .dataframe thead th {\n",
       "        text-align: right;\n",
       "    }\n",
       "</style>\n",
       "<table border=\"1\" class=\"dataframe\">\n",
       "  <thead>\n",
       "    <tr style=\"text-align: right;\">\n",
       "      <th></th>\n",
       "      <th>Helvetics_Thrust</th>\n",
       "      <th>Muehlau_Thrust</th>\n",
       "      <th>Leitzach_Thrust</th>\n",
       "      <th>Molasse</th>\n",
       "    </tr>\n",
       "  </thead>\n",
       "  <tbody>\n",
       "    <tr>\n",
       "      <th>Helvetics_Thrust</th>\n",
       "      <td>False</td>\n",
       "      <td>False</td>\n",
       "      <td>False</td>\n",
       "      <td>True</td>\n",
       "    </tr>\n",
       "    <tr>\n",
       "      <th>Muehlau_Thrust</th>\n",
       "      <td>False</td>\n",
       "      <td>False</td>\n",
       "      <td>False</td>\n",
       "      <td>True</td>\n",
       "    </tr>\n",
       "    <tr>\n",
       "      <th>Leitzach_Thrust</th>\n",
       "      <td>False</td>\n",
       "      <td>False</td>\n",
       "      <td>False</td>\n",
       "      <td>True</td>\n",
       "    </tr>\n",
       "    <tr>\n",
       "      <th>Molasse</th>\n",
       "      <td>False</td>\n",
       "      <td>False</td>\n",
       "      <td>False</td>\n",
       "      <td>False</td>\n",
       "    </tr>\n",
       "  </tbody>\n",
       "</table>\n",
       "</div>"
      ],
      "text/plain": [
       "                  Helvetics_Thrust  Muehlau_Thrust  Leitzach_Thrust  Molasse\n",
       "Helvetics_Thrust             False           False            False     True\n",
       "Muehlau_Thrust               False           False            False     True\n",
       "Leitzach_Thrust              False           False            False     True\n",
       "Molasse                      False           False            False    False"
      ]
     },
     "execution_count": 11,
     "metadata": {},
     "output_type": "execute_result"
    }
   ],
   "source": [
    "geo_model.faults.faults_relations_df"
   ]
  },
  {
   "cell_type": "code",
   "execution_count": 12,
   "metadata": {},
   "outputs": [
    {
     "data": {
      "text/html": [
       "<div>\n",
       "<style scoped>\n",
       "    .dataframe tbody tr th:only-of-type {\n",
       "        vertical-align: middle;\n",
       "    }\n",
       "\n",
       "    .dataframe tbody tr th {\n",
       "        vertical-align: top;\n",
       "    }\n",
       "\n",
       "    .dataframe thead th {\n",
       "        text-align: right;\n",
       "    }\n",
       "</style>\n",
       "<table border=\"1\" class=\"dataframe\">\n",
       "  <thead>\n",
       "    <tr style=\"text-align: right;\">\n",
       "      <th></th>\n",
       "      <th>Helvetics_Thrust</th>\n",
       "      <th>Muehlau_Thrust</th>\n",
       "      <th>Leitzach_Thrust</th>\n",
       "      <th>Molasse</th>\n",
       "    </tr>\n",
       "  </thead>\n",
       "  <tbody>\n",
       "    <tr>\n",
       "      <th>Helvetics_Thrust</th>\n",
       "      <td>False</td>\n",
       "      <td>False</td>\n",
       "      <td>False</td>\n",
       "      <td>True</td>\n",
       "    </tr>\n",
       "    <tr>\n",
       "      <th>Muehlau_Thrust</th>\n",
       "      <td>False</td>\n",
       "      <td>False</td>\n",
       "      <td>True</td>\n",
       "      <td>True</td>\n",
       "    </tr>\n",
       "    <tr>\n",
       "      <th>Leitzach_Thrust</th>\n",
       "      <td>False</td>\n",
       "      <td>False</td>\n",
       "      <td>False</td>\n",
       "      <td>True</td>\n",
       "    </tr>\n",
       "    <tr>\n",
       "      <th>Molasse</th>\n",
       "      <td>False</td>\n",
       "      <td>False</td>\n",
       "      <td>False</td>\n",
       "      <td>False</td>\n",
       "    </tr>\n",
       "  </tbody>\n",
       "</table>\n",
       "</div>"
      ],
      "text/plain": [
       "                  Helvetics_Thrust  Muehlau_Thrust  Leitzach_Thrust  Molasse\n",
       "Helvetics_Thrust             False           False            False     True\n",
       "Muehlau_Thrust               False           False             True     True\n",
       "Leitzach_Thrust              False           False            False     True\n",
       "Molasse                      False           False            False    False"
      ]
     },
     "execution_count": 12,
     "metadata": {},
     "output_type": "execute_result"
    }
   ],
   "source": [
    "fr = np.zeros((4,4))\n",
    "fr[0,3] = True\n",
    "fr[1,2] = True\n",
    "fr[1,3] = True\n",
    "fr[2,3] = True\n",
    "#fr[0,1] = True\n",
    "#fr[0,2] = True\n",
    "\n",
    "geo_model.faults.set_fault_relation((fr))"
   ]
  },
  {
   "cell_type": "markdown",
   "metadata": {},
   "source": [
    "# surface colors"
   ]
  },
  {
   "cell_type": "code",
   "execution_count": 13,
   "metadata": {},
   "outputs": [
    {
     "data": {
      "text/html": [
       "<style  type=\"text/css\" >\n",
       "    #T_76bc2080_ea93_11e9_977d_96852c9b7e93row0_col4 {\n",
       "            background-color:  #527682;\n",
       "        }    #T_76bc2080_ea93_11e9_977d_96852c9b7e93row1_col4 {\n",
       "            background-color:  #527682;\n",
       "        }    #T_76bc2080_ea93_11e9_977d_96852c9b7e93row2_col4 {\n",
       "            background-color:  #527682;\n",
       "        }    #T_76bc2080_ea93_11e9_977d_96852c9b7e93row3_col4 {\n",
       "            background-color:  #ffbe00;\n",
       "        }    #T_76bc2080_ea93_11e9_977d_96852c9b7e93row4_col4 {\n",
       "            background-color:  #728f02;\n",
       "        }    #T_76bc2080_ea93_11e9_977d_96852c9b7e93row5_col4 {\n",
       "            background-color:  #443988;\n",
       "        }    #T_76bc2080_ea93_11e9_977d_96852c9b7e93row6_col4 {\n",
       "            background-color:  #325916;\n",
       "        }</style><table id=\"T_76bc2080_ea93_11e9_977d_96852c9b7e93\" ><thead>    <tr>        <th class=\"blank level0\" ></th>        <th class=\"col_heading level0 col0\" >surface</th>        <th class=\"col_heading level0 col1\" >series</th>        <th class=\"col_heading level0 col2\" >order_surfaces</th>        <th class=\"col_heading level0 col3\" >isBasement</th>        <th class=\"col_heading level0 col4\" >color</th>        <th class=\"col_heading level0 col5\" >id</th>    </tr></thead><tbody>\n",
       "                <tr>\n",
       "                        <th id=\"T_76bc2080_ea93_11e9_977d_96852c9b7e93level0_row0\" class=\"row_heading level0 row0\" >5</th>\n",
       "                        <td id=\"T_76bc2080_ea93_11e9_977d_96852c9b7e93row0_col0\" class=\"data row0 col0\" >Helvetics_Base_Thrust</td>\n",
       "                        <td id=\"T_76bc2080_ea93_11e9_977d_96852c9b7e93row0_col1\" class=\"data row0 col1\" >Helvetics_Thrust</td>\n",
       "                        <td id=\"T_76bc2080_ea93_11e9_977d_96852c9b7e93row0_col2\" class=\"data row0 col2\" >1</td>\n",
       "                        <td id=\"T_76bc2080_ea93_11e9_977d_96852c9b7e93row0_col3\" class=\"data row0 col3\" >False</td>\n",
       "                        <td id=\"T_76bc2080_ea93_11e9_977d_96852c9b7e93row0_col4\" class=\"data row0 col4\" >#527682</td>\n",
       "                        <td id=\"T_76bc2080_ea93_11e9_977d_96852c9b7e93row0_col5\" class=\"data row0 col5\" >1</td>\n",
       "            </tr>\n",
       "            <tr>\n",
       "                        <th id=\"T_76bc2080_ea93_11e9_977d_96852c9b7e93level0_row1\" class=\"row_heading level0 row1\" >1</th>\n",
       "                        <td id=\"T_76bc2080_ea93_11e9_977d_96852c9b7e93row1_col0\" class=\"data row1 col0\" >Muehlau_Thrust</td>\n",
       "                        <td id=\"T_76bc2080_ea93_11e9_977d_96852c9b7e93row1_col1\" class=\"data row1 col1\" >Muehlau_Thrust</td>\n",
       "                        <td id=\"T_76bc2080_ea93_11e9_977d_96852c9b7e93row1_col2\" class=\"data row1 col2\" >1</td>\n",
       "                        <td id=\"T_76bc2080_ea93_11e9_977d_96852c9b7e93row1_col3\" class=\"data row1 col3\" >False</td>\n",
       "                        <td id=\"T_76bc2080_ea93_11e9_977d_96852c9b7e93row1_col4\" class=\"data row1 col4\" >#527682</td>\n",
       "                        <td id=\"T_76bc2080_ea93_11e9_977d_96852c9b7e93row1_col5\" class=\"data row1 col5\" >2</td>\n",
       "            </tr>\n",
       "            <tr>\n",
       "                        <th id=\"T_76bc2080_ea93_11e9_977d_96852c9b7e93level0_row2\" class=\"row_heading level0 row2\" >0</th>\n",
       "                        <td id=\"T_76bc2080_ea93_11e9_977d_96852c9b7e93row2_col0\" class=\"data row2 col0\" >Leitzach_Thrust</td>\n",
       "                        <td id=\"T_76bc2080_ea93_11e9_977d_96852c9b7e93row2_col1\" class=\"data row2 col1\" >Leitzach_Thrust</td>\n",
       "                        <td id=\"T_76bc2080_ea93_11e9_977d_96852c9b7e93row2_col2\" class=\"data row2 col2\" >1</td>\n",
       "                        <td id=\"T_76bc2080_ea93_11e9_977d_96852c9b7e93row2_col3\" class=\"data row2 col3\" >False</td>\n",
       "                        <td id=\"T_76bc2080_ea93_11e9_977d_96852c9b7e93row2_col4\" class=\"data row2 col4\" >#527682</td>\n",
       "                        <td id=\"T_76bc2080_ea93_11e9_977d_96852c9b7e93row2_col5\" class=\"data row2 col5\" >3</td>\n",
       "            </tr>\n",
       "            <tr>\n",
       "                        <th id=\"T_76bc2080_ea93_11e9_977d_96852c9b7e93level0_row3\" class=\"row_heading level0 row3\" >2</th>\n",
       "                        <td id=\"T_76bc2080_ea93_11e9_977d_96852c9b7e93row3_col0\" class=\"data row3 col0\" >Baustein Beds</td>\n",
       "                        <td id=\"T_76bc2080_ea93_11e9_977d_96852c9b7e93row3_col1\" class=\"data row3 col1\" >Molasse</td>\n",
       "                        <td id=\"T_76bc2080_ea93_11e9_977d_96852c9b7e93row3_col2\" class=\"data row3 col2\" >1</td>\n",
       "                        <td id=\"T_76bc2080_ea93_11e9_977d_96852c9b7e93row3_col3\" class=\"data row3 col3\" >False</td>\n",
       "                        <td id=\"T_76bc2080_ea93_11e9_977d_96852c9b7e93row3_col4\" class=\"data row3 col4\" >#ffbe00</td>\n",
       "                        <td id=\"T_76bc2080_ea93_11e9_977d_96852c9b7e93row3_col5\" class=\"data row3 col5\" >4</td>\n",
       "            </tr>\n",
       "            <tr>\n",
       "                        <th id=\"T_76bc2080_ea93_11e9_977d_96852c9b7e93level0_row4\" class=\"row_heading level0 row4\" >3</th>\n",
       "                        <td id=\"T_76bc2080_ea93_11e9_977d_96852c9b7e93row4_col0\" class=\"data row4 col0\" >Lower Chattian Coal FM</td>\n",
       "                        <td id=\"T_76bc2080_ea93_11e9_977d_96852c9b7e93row4_col1\" class=\"data row4 col1\" >Molasse</td>\n",
       "                        <td id=\"T_76bc2080_ea93_11e9_977d_96852c9b7e93row4_col2\" class=\"data row4 col2\" >2</td>\n",
       "                        <td id=\"T_76bc2080_ea93_11e9_977d_96852c9b7e93row4_col3\" class=\"data row4 col3\" >False</td>\n",
       "                        <td id=\"T_76bc2080_ea93_11e9_977d_96852c9b7e93row4_col4\" class=\"data row4 col4\" >#728f02</td>\n",
       "                        <td id=\"T_76bc2080_ea93_11e9_977d_96852c9b7e93row4_col5\" class=\"data row4 col5\" >5</td>\n",
       "            </tr>\n",
       "            <tr>\n",
       "                        <th id=\"T_76bc2080_ea93_11e9_977d_96852c9b7e93level0_row5\" class=\"row_heading level0 row5\" >4</th>\n",
       "                        <td id=\"T_76bc2080_ea93_11e9_977d_96852c9b7e93row5_col0\" class=\"data row5 col0\" >Lower Bunte Molasse</td>\n",
       "                        <td id=\"T_76bc2080_ea93_11e9_977d_96852c9b7e93row5_col1\" class=\"data row5 col1\" >Molasse</td>\n",
       "                        <td id=\"T_76bc2080_ea93_11e9_977d_96852c9b7e93row5_col2\" class=\"data row5 col2\" >3</td>\n",
       "                        <td id=\"T_76bc2080_ea93_11e9_977d_96852c9b7e93row5_col3\" class=\"data row5 col3\" >False</td>\n",
       "                        <td id=\"T_76bc2080_ea93_11e9_977d_96852c9b7e93row5_col4\" class=\"data row5 col4\" >#443988</td>\n",
       "                        <td id=\"T_76bc2080_ea93_11e9_977d_96852c9b7e93row5_col5\" class=\"data row5 col5\" >6</td>\n",
       "            </tr>\n",
       "            <tr>\n",
       "                        <th id=\"T_76bc2080_ea93_11e9_977d_96852c9b7e93level0_row6\" class=\"row_heading level0 row6\" >6</th>\n",
       "                        <td id=\"T_76bc2080_ea93_11e9_977d_96852c9b7e93row6_col0\" class=\"data row6 col0\" >basement</td>\n",
       "                        <td id=\"T_76bc2080_ea93_11e9_977d_96852c9b7e93row6_col1\" class=\"data row6 col1\" >Molasse</td>\n",
       "                        <td id=\"T_76bc2080_ea93_11e9_977d_96852c9b7e93row6_col2\" class=\"data row6 col2\" >4</td>\n",
       "                        <td id=\"T_76bc2080_ea93_11e9_977d_96852c9b7e93row6_col3\" class=\"data row6 col3\" >True</td>\n",
       "                        <td id=\"T_76bc2080_ea93_11e9_977d_96852c9b7e93row6_col4\" class=\"data row6 col4\" >#325916</td>\n",
       "                        <td id=\"T_76bc2080_ea93_11e9_977d_96852c9b7e93row6_col5\" class=\"data row6 col5\" >7</td>\n",
       "            </tr>\n",
       "    </tbody></table>"
      ],
      "text/plain": [
       "                  surface            series  order_surfaces  isBasement    color vertices edges  id\n",
       "5   Helvetics_Base_Thrust  Helvetics_Thrust               1       False  #527682      NaN   NaN   1\n",
       "1          Muehlau_Thrust    Muehlau_Thrust               1       False  #527682      NaN   NaN   2\n",
       "0         Leitzach_Thrust   Leitzach_Thrust               1       False  #527682      NaN   NaN   3\n",
       "2           Baustein Beds           Molasse               1       False  #ffbe00      NaN   NaN   4\n",
       "3  Lower Chattian Coal FM           Molasse               2       False  #728f02      NaN   NaN   5\n",
       "4     Lower Bunte Molasse           Molasse               3       False  #443988      NaN   NaN   6\n",
       "6                basement           Molasse               4        True  #325916      NaN   NaN   7"
      ]
     },
     "execution_count": 13,
     "metadata": {},
     "output_type": "execute_result"
    }
   ],
   "source": [
    "geo_model.surfaces"
   ]
  },
  {
   "cell_type": "code",
   "execution_count": 14,
   "metadata": {},
   "outputs": [
    {
     "data": {
      "text/html": [
       "<style  type=\"text/css\" >\n",
       "    #T_78103dba_ea93_11e9_a9f5_96852c9b7e93row0_col4 {\n",
       "            background-color:  #24deff;\n",
       "        }    #T_78103dba_ea93_11e9_a9f5_96852c9b7e93row1_col4 {\n",
       "            background-color:  #0015d6;\n",
       "        }    #T_78103dba_ea93_11e9_a9f5_96852c9b7e93row2_col4 {\n",
       "            background-color:  #0081d6;\n",
       "        }    #T_78103dba_ea93_11e9_a9f5_96852c9b7e93row3_col4 {\n",
       "            background-color:  #e8e402;\n",
       "        }    #T_78103dba_ea93_11e9_a9f5_96852c9b7e93row4_col4 {\n",
       "            background-color:  #9e5f00;\n",
       "        }    #T_78103dba_ea93_11e9_a9f5_96852c9b7e93row5_col4 {\n",
       "            background-color:  #ff7700;\n",
       "        }    #T_78103dba_ea93_11e9_a9f5_96852c9b7e93row6_col4 {\n",
       "            background-color:  #000000;\n",
       "        }</style><table id=\"T_78103dba_ea93_11e9_a9f5_96852c9b7e93\" ><thead>    <tr>        <th class=\"blank level0\" ></th>        <th class=\"col_heading level0 col0\" >surface</th>        <th class=\"col_heading level0 col1\" >series</th>        <th class=\"col_heading level0 col2\" >order_surfaces</th>        <th class=\"col_heading level0 col3\" >isBasement</th>        <th class=\"col_heading level0 col4\" >color</th>        <th class=\"col_heading level0 col5\" >id</th>    </tr></thead><tbody>\n",
       "                <tr>\n",
       "                        <th id=\"T_78103dba_ea93_11e9_a9f5_96852c9b7e93level0_row0\" class=\"row_heading level0 row0\" >5</th>\n",
       "                        <td id=\"T_78103dba_ea93_11e9_a9f5_96852c9b7e93row0_col0\" class=\"data row0 col0\" >Helvetics_Base_Thrust</td>\n",
       "                        <td id=\"T_78103dba_ea93_11e9_a9f5_96852c9b7e93row0_col1\" class=\"data row0 col1\" >Helvetics_Thrust</td>\n",
       "                        <td id=\"T_78103dba_ea93_11e9_a9f5_96852c9b7e93row0_col2\" class=\"data row0 col2\" >1</td>\n",
       "                        <td id=\"T_78103dba_ea93_11e9_a9f5_96852c9b7e93row0_col3\" class=\"data row0 col3\" >False</td>\n",
       "                        <td id=\"T_78103dba_ea93_11e9_a9f5_96852c9b7e93row0_col4\" class=\"data row0 col4\" >#24deff</td>\n",
       "                        <td id=\"T_78103dba_ea93_11e9_a9f5_96852c9b7e93row0_col5\" class=\"data row0 col5\" >1</td>\n",
       "            </tr>\n",
       "            <tr>\n",
       "                        <th id=\"T_78103dba_ea93_11e9_a9f5_96852c9b7e93level0_row1\" class=\"row_heading level0 row1\" >1</th>\n",
       "                        <td id=\"T_78103dba_ea93_11e9_a9f5_96852c9b7e93row1_col0\" class=\"data row1 col0\" >Muehlau_Thrust</td>\n",
       "                        <td id=\"T_78103dba_ea93_11e9_a9f5_96852c9b7e93row1_col1\" class=\"data row1 col1\" >Muehlau_Thrust</td>\n",
       "                        <td id=\"T_78103dba_ea93_11e9_a9f5_96852c9b7e93row1_col2\" class=\"data row1 col2\" >1</td>\n",
       "                        <td id=\"T_78103dba_ea93_11e9_a9f5_96852c9b7e93row1_col3\" class=\"data row1 col3\" >False</td>\n",
       "                        <td id=\"T_78103dba_ea93_11e9_a9f5_96852c9b7e93row1_col4\" class=\"data row1 col4\" >#0015d6</td>\n",
       "                        <td id=\"T_78103dba_ea93_11e9_a9f5_96852c9b7e93row1_col5\" class=\"data row1 col5\" >2</td>\n",
       "            </tr>\n",
       "            <tr>\n",
       "                        <th id=\"T_78103dba_ea93_11e9_a9f5_96852c9b7e93level0_row2\" class=\"row_heading level0 row2\" >0</th>\n",
       "                        <td id=\"T_78103dba_ea93_11e9_a9f5_96852c9b7e93row2_col0\" class=\"data row2 col0\" >Leitzach_Thrust</td>\n",
       "                        <td id=\"T_78103dba_ea93_11e9_a9f5_96852c9b7e93row2_col1\" class=\"data row2 col1\" >Leitzach_Thrust</td>\n",
       "                        <td id=\"T_78103dba_ea93_11e9_a9f5_96852c9b7e93row2_col2\" class=\"data row2 col2\" >1</td>\n",
       "                        <td id=\"T_78103dba_ea93_11e9_a9f5_96852c9b7e93row2_col3\" class=\"data row2 col3\" >False</td>\n",
       "                        <td id=\"T_78103dba_ea93_11e9_a9f5_96852c9b7e93row2_col4\" class=\"data row2 col4\" >#0081d6</td>\n",
       "                        <td id=\"T_78103dba_ea93_11e9_a9f5_96852c9b7e93row2_col5\" class=\"data row2 col5\" >3</td>\n",
       "            </tr>\n",
       "            <tr>\n",
       "                        <th id=\"T_78103dba_ea93_11e9_a9f5_96852c9b7e93level0_row3\" class=\"row_heading level0 row3\" >2</th>\n",
       "                        <td id=\"T_78103dba_ea93_11e9_a9f5_96852c9b7e93row3_col0\" class=\"data row3 col0\" >Baustein Beds</td>\n",
       "                        <td id=\"T_78103dba_ea93_11e9_a9f5_96852c9b7e93row3_col1\" class=\"data row3 col1\" >Molasse</td>\n",
       "                        <td id=\"T_78103dba_ea93_11e9_a9f5_96852c9b7e93row3_col2\" class=\"data row3 col2\" >1</td>\n",
       "                        <td id=\"T_78103dba_ea93_11e9_a9f5_96852c9b7e93row3_col3\" class=\"data row3 col3\" >False</td>\n",
       "                        <td id=\"T_78103dba_ea93_11e9_a9f5_96852c9b7e93row3_col4\" class=\"data row3 col4\" >#e8e402</td>\n",
       "                        <td id=\"T_78103dba_ea93_11e9_a9f5_96852c9b7e93row3_col5\" class=\"data row3 col5\" >4</td>\n",
       "            </tr>\n",
       "            <tr>\n",
       "                        <th id=\"T_78103dba_ea93_11e9_a9f5_96852c9b7e93level0_row4\" class=\"row_heading level0 row4\" >3</th>\n",
       "                        <td id=\"T_78103dba_ea93_11e9_a9f5_96852c9b7e93row4_col0\" class=\"data row4 col0\" >Lower Chattian Coal FM</td>\n",
       "                        <td id=\"T_78103dba_ea93_11e9_a9f5_96852c9b7e93row4_col1\" class=\"data row4 col1\" >Molasse</td>\n",
       "                        <td id=\"T_78103dba_ea93_11e9_a9f5_96852c9b7e93row4_col2\" class=\"data row4 col2\" >2</td>\n",
       "                        <td id=\"T_78103dba_ea93_11e9_a9f5_96852c9b7e93row4_col3\" class=\"data row4 col3\" >False</td>\n",
       "                        <td id=\"T_78103dba_ea93_11e9_a9f5_96852c9b7e93row4_col4\" class=\"data row4 col4\" >#9e5f00</td>\n",
       "                        <td id=\"T_78103dba_ea93_11e9_a9f5_96852c9b7e93row4_col5\" class=\"data row4 col5\" >5</td>\n",
       "            </tr>\n",
       "            <tr>\n",
       "                        <th id=\"T_78103dba_ea93_11e9_a9f5_96852c9b7e93level0_row5\" class=\"row_heading level0 row5\" >4</th>\n",
       "                        <td id=\"T_78103dba_ea93_11e9_a9f5_96852c9b7e93row5_col0\" class=\"data row5 col0\" >Lower Bunte Molasse</td>\n",
       "                        <td id=\"T_78103dba_ea93_11e9_a9f5_96852c9b7e93row5_col1\" class=\"data row5 col1\" >Molasse</td>\n",
       "                        <td id=\"T_78103dba_ea93_11e9_a9f5_96852c9b7e93row5_col2\" class=\"data row5 col2\" >3</td>\n",
       "                        <td id=\"T_78103dba_ea93_11e9_a9f5_96852c9b7e93row5_col3\" class=\"data row5 col3\" >False</td>\n",
       "                        <td id=\"T_78103dba_ea93_11e9_a9f5_96852c9b7e93row5_col4\" class=\"data row5 col4\" >#ff7700</td>\n",
       "                        <td id=\"T_78103dba_ea93_11e9_a9f5_96852c9b7e93row5_col5\" class=\"data row5 col5\" >6</td>\n",
       "            </tr>\n",
       "            <tr>\n",
       "                        <th id=\"T_78103dba_ea93_11e9_a9f5_96852c9b7e93level0_row6\" class=\"row_heading level0 row6\" >6</th>\n",
       "                        <td id=\"T_78103dba_ea93_11e9_a9f5_96852c9b7e93row6_col0\" class=\"data row6 col0\" >basement</td>\n",
       "                        <td id=\"T_78103dba_ea93_11e9_a9f5_96852c9b7e93row6_col1\" class=\"data row6 col1\" >Molasse</td>\n",
       "                        <td id=\"T_78103dba_ea93_11e9_a9f5_96852c9b7e93row6_col2\" class=\"data row6 col2\" >4</td>\n",
       "                        <td id=\"T_78103dba_ea93_11e9_a9f5_96852c9b7e93row6_col3\" class=\"data row6 col3\" >True</td>\n",
       "                        <td id=\"T_78103dba_ea93_11e9_a9f5_96852c9b7e93row6_col4\" class=\"data row6 col4\" >#000000</td>\n",
       "                        <td id=\"T_78103dba_ea93_11e9_a9f5_96852c9b7e93row6_col5\" class=\"data row6 col5\" >7</td>\n",
       "            </tr>\n",
       "    </tbody></table>"
      ],
      "text/plain": [
       "                  surface            series  order_surfaces  isBasement    color vertices edges  id\n",
       "5   Helvetics_Base_Thrust  Helvetics_Thrust               1       False  #24deff      NaN   NaN   1\n",
       "1          Muehlau_Thrust    Muehlau_Thrust               1       False  #0015d6      NaN   NaN   2\n",
       "0         Leitzach_Thrust   Leitzach_Thrust               1       False  #0081d6      NaN   NaN   3\n",
       "2           Baustein Beds           Molasse               1       False  #e8e402      NaN   NaN   4\n",
       "3  Lower Chattian Coal FM           Molasse               2       False  #9e5f00      NaN   NaN   5\n",
       "4     Lower Bunte Molasse           Molasse               3       False  #ff7700      NaN   NaN   6\n",
       "6                basement           Molasse               4        True  #000000      NaN   NaN   7"
      ]
     },
     "execution_count": 14,
     "metadata": {},
     "output_type": "execute_result"
    }
   ],
   "source": [
    "new_colors={'Baustein Beds':'#e8e402', 'Lower Chattian Coal FM':'#9e5f00','Lower Bunte Molasse':'#ff7700','basement':'#000000','Helvetics_Base_Thrust':'#24deff','Leitzach_Thrust':'#0081d6','Muehlau_Thrust':'#0015d6'}\n",
    "geo_model.surfaces.colors.change_colors(new_colors)"
   ]
  },
  {
   "cell_type": "code",
   "execution_count": 15,
   "metadata": {},
   "outputs": [
    {
     "name": "stdout",
     "output_type": "stream",
     "text": [
      "Click to select new colors.\n"
     ]
    },
    {
     "data": {
      "application/vnd.jupyter.widget-view+json": {
       "model_id": "44e86562a1444166a3688a225bd39733",
       "version_major": 2,
       "version_minor": 0
      },
      "text/plain": [
       "VBox(children=(ColorPicker(value='#0081d6', description='Leitzach_Thrust'), ColorPicker(value='#0015d6', descr…"
      ]
     },
     "metadata": {},
     "output_type": "display_data"
    }
   ],
   "source": [
    "geo_model.surfaces.colors.change_colors()"
   ]
  },
  {
   "cell_type": "code",
   "execution_count": 16,
   "metadata": {},
   "outputs": [
    {
     "data": {
      "text/plain": [
       "Grid Object. Values: \n",
       "array([[ 4.466767e+06,  5.280100e+06, -2.975000e+03],\n",
       "       [ 4.466767e+06,  5.280100e+06, -2.925000e+03],\n",
       "       [ 4.466767e+06,  5.280100e+06, -2.875000e+03],\n",
       "       ...,\n",
       "       [ 4.499833e+06,  5.299900e+06,  1.875000e+03],\n",
       "       [ 4.499833e+06,  5.299900e+06,  1.925000e+03],\n",
       "       [ 4.499833e+06,  5.299900e+06,  1.975000e+03]])"
      ]
     },
     "execution_count": 16,
     "metadata": {},
     "output_type": "execute_result"
    }
   ],
   "source": [
    "geo_model.grid"
   ]
  },
  {
   "cell_type": "code",
   "execution_count": 18,
   "metadata": {},
   "outputs": [
    {
     "data": {
      "text/plain": [
       "<gempy.plot.visualization_3d.GemPyvtkInteract at 0x2859a4f3748>"
      ]
     },
     "execution_count": 18,
     "metadata": {},
     "output_type": "execute_result"
    }
   ],
   "source": [
    "%matplotlib inline\n",
    "gp.plot.plot_data_3D(geo_model)"
   ]
  },
  {
   "cell_type": "code",
   "execution_count": 35,
   "metadata": {},
   "outputs": [
    {
     "data": {
      "text/plain": [
       "<gempy.core.grid_modules.grid_types.RegularGrid at 0x1911809db70>"
      ]
     },
     "execution_count": 35,
     "metadata": {},
     "output_type": "execute_result"
    }
   ],
   "source": [
    "#geo_model.grid.set_regular_grid([4470000,4500000.,5280000,5300000.,-3000,2000.],[100,100,100])"
   ]
  },
  {
   "cell_type": "code",
   "execution_count": 17,
   "metadata": {},
   "outputs": [
    {
     "name": "stdout",
     "output_type": "stream",
     "text": [
      "Compiling theano function...\n",
      "Compilation Done!\n"
     ]
    },
    {
     "data": {
      "text/plain": [
       "<gempy.core.interpolator.InterpolatorModel at 0x127a03d2320>"
      ]
     },
     "execution_count": 17,
     "metadata": {},
     "output_type": "execute_result"
    }
   ],
   "source": [
    "gp.set_interpolation_data(geo_model,\n",
    "                         compile_theano=True,\n",
    "                         theano_optimizer='fast_run',\n",
    "                         verbose=[])"
   ]
  },
  {
   "cell_type": "code",
   "execution_count": 18,
   "metadata": {},
   "outputs": [
    {
     "data": {
      "text/html": [
       "<table border=\"1\" class=\"dataframe\">\n",
       "  <thead>\n",
       "    <tr style=\"text-align: right;\">\n",
       "      <th></th>\n",
       "      <th>values</th>\n",
       "    </tr>\n",
       "  </thead>\n",
       "  <tbody>\n",
       "    <tr>\n",
       "      <th>range</th>\n",
       "      <td>39250</td>\n",
       "    </tr>\n",
       "    <tr>\n",
       "      <th>$C_o$</th>\n",
       "      <td>3.668e+07</td>\n",
       "    </tr>\n",
       "    <tr>\n",
       "      <th>drift equations</th>\n",
       "      <td>[3, 3, 3, 3]</td>\n",
       "    </tr>\n",
       "    <tr>\n",
       "      <th>nugget grad</th>\n",
       "      <td>0.01</td>\n",
       "    </tr>\n",
       "    <tr>\n",
       "      <th>nugget scalar</th>\n",
       "      <td>1e-06</td>\n",
       "    </tr>\n",
       "  </tbody>\n",
       "</table>"
      ],
      "text/plain": [
       "                       values\n",
       "range                   39250\n",
       "$C_o$               3.668e+07\n",
       "drift equations  [3, 3, 3, 3]\n",
       "nugget grad              0.01\n",
       "nugget scalar           1e-06"
      ]
     },
     "execution_count": 18,
     "metadata": {},
     "output_type": "execute_result"
    }
   ],
   "source": [
    "gp.get_data(geo_model, 'kriging')"
   ]
  },
  {
   "cell_type": "code",
   "execution_count": 19,
   "metadata": {},
   "outputs": [
    {
     "data": {
      "text/html": [
       "<table border=\"1\" class=\"dataframe\">\n",
       "  <thead>\n",
       "    <tr style=\"text-align: right;\">\n",
       "      <th></th>\n",
       "      <th>values</th>\n",
       "    </tr>\n",
       "  </thead>\n",
       "  <tbody>\n",
       "    <tr>\n",
       "      <th>isLith</th>\n",
       "      <td>True</td>\n",
       "    </tr>\n",
       "    <tr>\n",
       "      <th>isFault</th>\n",
       "      <td>True</td>\n",
       "    </tr>\n",
       "    <tr>\n",
       "      <th>number faults</th>\n",
       "      <td>3</td>\n",
       "    </tr>\n",
       "    <tr>\n",
       "      <th>number surfaces</th>\n",
       "      <td>6</td>\n",
       "    </tr>\n",
       "    <tr>\n",
       "      <th>number series</th>\n",
       "      <td>4</td>\n",
       "    </tr>\n",
       "    <tr>\n",
       "      <th>number surfaces per series</th>\n",
       "      <td>[1, 1, 1, 3]</td>\n",
       "    </tr>\n",
       "    <tr>\n",
       "      <th>len surfaces surface_points</th>\n",
       "      <td>[15, 5, 7, 20, 20, 20]</td>\n",
       "    </tr>\n",
       "    <tr>\n",
       "      <th>len series surface_points</th>\n",
       "      <td>[15, 5, 7, 60]</td>\n",
       "    </tr>\n",
       "    <tr>\n",
       "      <th>len series orientations</th>\n",
       "      <td>[3, 4, 4, 164]</td>\n",
       "    </tr>\n",
       "  </tbody>\n",
       "</table>"
      ],
      "text/plain": [
       "                                             values\n",
       "isLith                                         True\n",
       "isFault                                        True\n",
       "number faults                                     3\n",
       "number surfaces                                   6\n",
       "number series                                     4\n",
       "number surfaces per series             [1, 1, 1, 3]\n",
       "len surfaces surface_points  [15, 5, 7, 20, 20, 20]\n",
       "len series surface_points            [15, 5, 7, 60]\n",
       "len series orientations              [3, 4, 4, 164]"
      ]
     },
     "execution_count": 19,
     "metadata": {},
     "output_type": "execute_result"
    }
   ],
   "source": [
    "geo_model.additional_data.structure_data"
   ]
  },
  {
   "cell_type": "code",
   "execution_count": 41,
   "metadata": {},
   "outputs": [
    {
     "ename": "LinAlgError",
     "evalue": "Matrix is singular.\nApply node that caused the error: Solve{A_structure='general', lower=False, overwrite_A=False, overwrite_b=False}(Block Covariance Matrix, b vector)\nToposort index: 606\nInputs types: [TensorType(float64, matrix), TensorType(float64, vector)]\nInputs shapes: [(554, 554), (554,)]\nInputs strides: [(4432, 8), (8,)]\nInputs values: ['not shown', 'not shown']\nInputs type_num: [12, 12]\nOutputs clients: [[Shape(Solve{A_structure='general', lower=False, overwrite_A=False, overwrite_b=False}.0), Reshape{1}(Solve{A_structure='general', lower=False, overwrite_A=False, overwrite_b=False}.0, MakeVector{dtype='int64'}.0)]]\n\nBacktrace when the node is created(use Theano flag traceback.limit=N to make it longer):\n  File \"C:\\Users\\Kevin\\Anaconda3\\lib\\site-packages\\IPython\\core\\interactiveshell.py\", line 3325, in run_code\n    exec(code_obj, self.user_global_ns, self.user_ns)\n  File \"<ipython-input-38-6d618a42653d>\", line 4, in <module>\n    verbose=[])\n  File \"C:\\Users\\Kevin\\Documents\\Studium\\Master_Thesis\\GemPy_Models\\gempy\\gempy\\core\\gempy_api.py\", line 162, in set_interpolation_data\n    geo_model.interpolator.compile_th_fn(inplace=True, grid=grid)\n  File \"C:\\Users\\Kevin\\Documents\\Studium\\Master_Thesis\\GemPy_Models\\gempy\\gempy\\core\\interpolator.py\", line 880, in compile_th_fn\n    self.theano_graph.compute_series(),\n  File \"C:\\Users\\Kevin\\Documents\\Studium\\Master_Thesis\\GemPy_Models\\gempy\\gempy\\core\\theano\\theano_graph_pro.py\", line 378, in compute_series\n    profile=False\n  File \"C:\\Users\\Kevin\\Anaconda3\\lib\\site-packages\\theano\\scan_module\\scan.py\", line 774, in scan\n    condition, outputs, updates = scan_utils.get_updates_and_outputs(fn(*args))\n  File \"C:\\Users\\Kevin\\Documents\\Studium\\Master_Thesis\\GemPy_Models\\gempy\\gempy\\core\\theano\\theano_graph_pro.py\", line 1589, in compute_a_series\n    self.solve_kriging(b),\n  File \"C:\\Users\\Kevin\\Documents\\Studium\\Master_Thesis\\GemPy_Models\\gempy\\gempy\\core\\theano\\theano_graph_pro.py\", line 940, in solve_kriging\n    DK_parameters = theano.tensor.slinalg.solve(C_matrix, b)\n\nDebugprint of the apply node: \nSolve{A_structure='general', lower=False, overwrite_A=False, overwrite_b=False} [id A] <TensorType(float64, vector)> ''   \n |IncSubtensor{Set;int64::, int64:int64:} [id B] <TensorType(float64, matrix)> 'Block Covariance Matrix'   \n |IncSubtensor{Set;int64:int64:} [id C] <TensorType(float64, vector)> 'b vector'   \n\nHINT: Use the Theano flag 'exception_verbosity=high' for a debugprint and storage map footprint of this apply node.\nApply node that caused the error: for{cpu,Looping}(Elemwise{minimum,no_inplace}.0, Subtensor{:int64:}.0, Subtensor{:int64:}.0, Subtensor{:int64:}.0, Subtensor{:int64:}.0, Subtensor{:int64:}.0, Subtensor{:int64:}.0, Subtensor{:int64:}.0, Subtensor{:int64:}.0, Subtensor{:int64:}.0, Subtensor{:int64:}.0, Subtensor{:int64:}.0, Subtensor{:int64:}.0, Subtensor{:int64:}.0, Subtensor{:int64:}.0, Subtensor{:int64:}.0, Subtensor{:int64:}.0, IncSubtensor{Set;:int64:}.0, IncSubtensor{Set;:int64:}.0, IncSubtensor{Set;:int64:}.0, IncSubtensor{Set;:int64:}.0, IncSubtensor{Set;:int64:}.0, Constant values to interpolate., Number of points per surface used to split rest-ref, fault relation matrix, <TensorType(float64, scalar)>, <TensorType(float64, scalar)>, Range, Covariance at 0, <TensorType(float64, scalar)>, Nugget effect of gradients, Nugget effect of scalar, Attenuation factor, Sigmoid Outside, Sigmoid slope, <TensorType(bool, vector)>, All the surface_points points at once, Position of the dips, Angle of every dip, Azimuth, Polarity, Values that the blocks are taking)\nToposort index: 131\nInputs types: [TensorType(int64, scalar), TensorType(int32, vector), TensorType(int32, vector), TensorType(int32, vector), TensorType(int32, vector), TensorType(int32, vector), TensorType(int32, vector), TensorType(int32, vector), TensorType(int32, vector), TensorType(int32, vector), TensorType(bool, vector), TensorType(bool, vector), TensorType(bool, vector), TensorType(int32, vector), TensorType(int32, vector), TensorType(int32, vector), TensorType(int32, vector), TensorType(float64, 4D), TensorType(float64, matrix), TensorType(float64, 3D), TensorType(float64, 3D), TensorType(bool, 3D), TensorType(float32, matrix), TensorType(int32, vector), TensorType(int32, matrix), TensorType(float64, scalar), TensorType(float64, scalar), TensorType(float64, scalar), TensorType(float64, scalar), TensorType(float64, scalar), TensorType(float64, vector), TensorType(float64, vector), TensorType(float64, scalar), TensorType(float64, scalar), TensorType(float64, scalar), TensorType(bool, vector), TensorType(float64, matrix), TensorType(float64, matrix), TensorType(float64, vector), TensorType(float64, vector), TensorType(float64, vector), TensorType(float64, matrix)]\nInputs shapes: [(), (4,), (4,), (4,), (4,), (4,), (4,), (4,), (4,), (4,), (4,), (4,), (4,), (4,), (4,), (4,), (4,), (5, 4, 1, 1000160), (5, 621), (5, 4, 1000160), (5, 4, 6), (5, 4, 1000160), (1000000, 3), (6,), (4, 4), (), (), (), (), (), (525,), (86,), (), (), (), (4,), (86, 3), (175, 3), (175,), (175,), (175,), (1, 7)]\nInputs strides: [(), (4,), (4,), (4,), (4,), (4,), (4,), (4,), (4,), (4,), (1,), (1,), (1,), (4,), (4,), (4,), (4,), (32005120, 8001280, 8001280, 8), (4968, 8), (32005120, 8001280, 8), (192, 48, 8), (4000640, 1000160, 1), (12, 4), (4,), (16, 4), (), (), (), (), (), (8,), (8,), (), (), (), (1,), (8, 688), (8, 1400), (8,), (8,), (8,), (56, 8)]\nInputs values: [array(4, dtype=int64), array([ 0, 14, 20, 24]), array([14, 20, 24, 80]), array([ 0,  3,  7, 11]), array([  3,   7,  11, 175]), array([ 0, 26, 47, 67]), array([ 26,  47,  67, 621]), array([0, 1, 2, 3]), array([1, 2, 3, 6]), array([3, 3, 3, 3]), array([ True,  True,  True,  True]), array([ True,  True,  True,  True]), array([ True,  True,  True,  True]), array([0, 0, 0, 0]), array([0, 0, 0, 0]), array([0, 0, 0, 0]), array([0, 1, 2, 3]), 'not shown', 'not shown', 'not shown', 'not shown', 'not shown', 'not shown', 'not shown', 'not shown', array(10.), array(2.), array(0.52460247), array(490.25311279), array(4.), 'not shown', 'not shown', array(2.), array(50.), array(50000.), array([ True,  True,  True, False]), 'not shown', 'not shown', 'not shown', 'not shown', 'not shown', 'not shown']\nInputs type_num: [9, 7, 7, 7, 7, 7, 7, 7, 7, 7, 0, 0, 0, 7, 7, 7, 7, 12, 12, 12, 12, 0, 11, 7, 7, 12, 12, 12, 12, 12, 12, 12, 12, 12, 12, 0, 12, 12, 12, 12, 12, 12]\nOutputs clients: [[Subtensor{int64::}(for{cpu,Looping}.0, Constant{1})], [Subtensor{int64::}(for{cpu,Looping}.1, Constant{1})], [Subtensor{int64::}(for{cpu,Looping}.2, Constant{1})], [Subtensor{int64::}(for{cpu,Looping}.3, Constant{1})], [Subtensor{int64::}(for{cpu,Looping}.4, Constant{1})]]\n\nBacktrace when the node is created(use Theano flag traceback.limit=N to make it longer):\n  File \"C:\\Users\\Kevin\\Anaconda3\\lib\\site-packages\\IPython\\core\\async_helpers.py\", line 68, in _pseudo_sync_runner\n    coro.send(None)\n  File \"C:\\Users\\Kevin\\Anaconda3\\lib\\site-packages\\IPython\\core\\interactiveshell.py\", line 3057, in run_cell_async\n    interactivity=interactivity, compiler=compiler, result=result)\n  File \"C:\\Users\\Kevin\\Anaconda3\\lib\\site-packages\\IPython\\core\\interactiveshell.py\", line 3248, in run_ast_nodes\n    if (await self.run_code(code, result,  async_=asy)):\n  File \"C:\\Users\\Kevin\\Anaconda3\\lib\\site-packages\\IPython\\core\\interactiveshell.py\", line 3325, in run_code\n    exec(code_obj, self.user_global_ns, self.user_ns)\n  File \"<ipython-input-38-6d618a42653d>\", line 4, in <module>\n    verbose=[])\n  File \"C:\\Users\\Kevin\\Documents\\Studium\\Master_Thesis\\GemPy_Models\\gempy\\gempy\\core\\gempy_api.py\", line 162, in set_interpolation_data\n    geo_model.interpolator.compile_th_fn(inplace=True, grid=grid)\n  File \"C:\\Users\\Kevin\\Documents\\Studium\\Master_Thesis\\GemPy_Models\\gempy\\gempy\\core\\interpolator.py\", line 880, in compile_th_fn\n    self.theano_graph.compute_series(),\n  File \"C:\\Users\\Kevin\\Documents\\Studium\\Master_Thesis\\GemPy_Models\\gempy\\gempy\\core\\theano\\theano_graph_pro.py\", line 378, in compute_series\n    profile=False\n\nDebugprint of the apply node: \nfor{cpu,Looping}.0 [id A] <TensorType(float64, 4D)> ''   \n |Elemwise{minimum,no_inplace} [id B] <TensorType(int64, scalar)> ''   \n | |Elemwise{minimum,no_inplace} [id C] <TensorType(int64, scalar)> ''   \n | | |Elemwise{minimum,no_inplace} [id D] <TensorType(int64, scalar)> ''   \n | | | |Elemwise{minimum,no_inplace} [id E] <TensorType(int64, scalar)> ''   \n | | | | |Elemwise{minimum,no_inplace} [id F] <TensorType(int64, scalar)> ''   \n | | | | | |Elemwise{minimum,no_inplace} [id G] <TensorType(int64, scalar)> ''   \n | | | | | | |Elemwise{minimum,no_inplace} [id H] <TensorType(int64, scalar)> ''   \n | | | | | | | |Elemwise{minimum,no_inplace} [id I] <TensorType(int64, scalar)> ''   \n | | | | | | | | |Elemwise{minimum,no_inplace} [id J] <TensorType(int64, scalar)> ''   \n | | | | | | | | | |Elemwise{minimum,no_inplace} [id K] <TensorType(int64, scalar)> ''   \n | | | | | | | | | | |Elemwise{minimum,no_inplace} [id L] <TensorType(int64, scalar)> ''   \n | | | | | | | | | | | |Elemwise{minimum,no_inplace} [id M] <TensorType(int64, scalar)> ''   \n | | | | | | | | | | | | |Elemwise{minimum,no_inplace} [id N] <TensorType(int64, scalar)> ''   \n | | | | | | | | | | | | | |Elemwise{minimum,no_inplace} [id O] <TensorType(int64, scalar)> ''   \n | | | | | | | | | | | | | | |Elemwise{minimum,no_inplace} [id P] <TensorType(int64, scalar)> ''   \n | | | | | | | | | | | | | | | |Subtensor{int64} [id Q] <TensorType(int64, scalar)> ''   \n | | | | | | | | | | | | | | | | |Shape [id R] <TensorType(int64, vector)> ''   \n | | | | | | | | | | | | | | | | | |Subtensor{int64:int64:} [id S] <TensorType(int32, vector)> 'Length of surface_points in every series[0:-1]'   \n | | | | | | | | | | | | | | | | |Constant{0} [id T] <int64>\n | | | | | | | | | | | | | | | |Subtensor{int64} [id U] <TensorType(int64, scalar)> ''   \n | | | | | | | | | | | | | | |   |Shape [id V] <TensorType(int64, vector)> ''   \n | | | | | | | | | | | | | | |   | |Subtensor{int64::} [id W] <TensorType(int32, vector)> 'Length of surface_points in every series[1:]'   \n | | | | | | | | | | | | | | |   |Constant{0} [id T] <int64>\n | | | | | | | | | | | | | | |Subtensor{int64} [id X] <TensorType(int64, scalar)> ''   \n | | | | | | | | | | | | | |   |Shape [id Y] <TensorType(int64, vector)> ''   \n | | | | | | | | | | | | | |   | |Subtensor{int64:int64:} [id Z] <TensorType(int32, vector)> 'Length of foliations in every series[0:-1]'   \n | | | | | | | | | | | | | |   |Constant{0} [id T] <int64>\n | | | | | | | | | | | | | |Subtensor{int64} [id BA] <TensorType(int64, scalar)> ''   \n | | | | | | | | | | | | |   |Shape [id BB] <TensorType(int64, vector)> ''   \n | | | | | | | | | | | | |   | |Subtensor{int64::} [id BC] <TensorType(int32, vector)> 'Length of foliations in every series[1:]'   \n | | | | | | | | | | | | |   |Constant{0} [id T] <int64>\n | | | | | | | | | | | | |Subtensor{int64} [id BD] <TensorType(int64, scalar)> ''   \n | | | | | | | | | | | |   |Shape [id BE] <TensorType(int64, vector)> ''   \n | | | | | | | | | | | |   | |Subtensor{int64:int64:} [id BF] <TensorType(int32, vector)> 'Length of weights in every series[0:-1]'   \n | | | | | | | | | | | |   |Constant{0} [id T] <int64>\n | | | | | | | | | | | |Subtensor{int64} [id BG] <TensorType(int64, scalar)> ''   \n | | | | | | | | | | |   |Shape [id BH] <TensorType(int64, vector)> ''   \n | | | | | | | | | | |   | |Subtensor{int64::} [id BI] <TensorType(int32, vector)> 'Length of weights in every series[1:]'   \n | | | | | | | | | | |   |Constant{0} [id T] <int64>\n | | | | | | | | | | |Subtensor{int64} [id BJ] <TensorType(int64, scalar)> ''   \n | | | | | | | | | |   |Shape [id BK] <TensorType(int64, vector)> ''   \n | | | | | | | | | |   | |Subtensor{int64:int64:} [id BL] <TensorType(int32, vector)> 'List with the number of surfaces[0:-1]'   \n | | | | | | | | | |   |Constant{0} [id T] <int64>\n | | | | | | | | | |Subtensor{int64} [id BM] <TensorType(int64, scalar)> ''   \n | | | | | | | | |   |Shape [id BN] <TensorType(int64, vector)> ''   \n | | | | | | | | |   | |Subtensor{int64::} [id BO] <TensorType(int32, vector)> 'List with the number of surfaces[1:]'   \n | | | | | | | | |   |Constant{0} [id T] <int64>\n | | | | | | | | |Subtensor{int64} [id BP] <TensorType(int64, scalar)> ''   \n | | | | | | | |   |Shape [id BQ] <TensorType(int64, vector)> ''   \n | | | | | | | |   | |Subtensor{int64::} [id BR] <TensorType(int32, vector)> 'Grade of the universal drift[0:]'   \n | | | | | | | |   |Constant{0} [id T] <int64>\n | | | | | | | |Subtensor{int64} [id BS] <TensorType(int64, scalar)> ''   \n | | | | | | |   |Shape [id BT] <TensorType(int64, vector)> ''   \n | | | | | | |   | |Subtensor{int64::} [id BU] <TensorType(bool, vector)> 'Vector controlling if weights must be recomputed[0:]'   \n | | | | | | |   |Constant{0} [id T] <int64>\n | | | | | | |Subtensor{int64} [id BV] <TensorType(int64, scalar)> ''   \n | | | | | |   |Shape [id BW] <TensorType(int64, vector)> ''   \n | | | | | |   | |Subtensor{int64::} [id BX] <TensorType(bool, vector)> 'Vector controlling if scalar matrix must be recomputed[0:]'   \n | | | | | |   |Constant{0} [id T] <int64>\n | | | | | |Subtensor{int64} [id BY] <TensorType(int64, scalar)> ''   \n | | | | |   |Shape [id BZ] <TensorType(int64, vector)> ''   \n | | | | |   | |Subtensor{int64::} [id CA] <TensorType(bool, vector)> 'Vector controlling if block matrix must be recomputed[0:]'   \n | | | | |   |Constant{0} [id T] <int64>\n | | | | |Subtensor{int64} [id CB] <TensorType(int64, scalar)> ''   \n | | | |   |Shape [id CC] <TensorType(int64, vector)> ''   \n | | | |   | |Subtensor{int64::} [id CD] <TensorType(int32, vector)> 'The series (fault) is finite[0:]'   \n | | | |   |Constant{0} [id T] <int64>\n | | | |Subtensor{int64} [id CE] <TensorType(int64, scalar)> ''   \n | | |   |Shape [id CF] <TensorType(int64, vector)> ''   \n | | |   | |Subtensor{int64::} [id CG] <TensorType(int32, vector)> ''   \n | | |   |   |<TensorType(int32, vector)> [id CH] <TensorType(int32, vector)>\n | | |   |   |Constant{0} [id T] <int64>\n | | |   |Constant{0} [id T] <int64>\n | | |Subtensor{int64} [id CI] <TensorType(int64, scalar)> ''   \n | |   |Shape [id CJ] <TensorType(int64, vector)> ''   \n | |   | |Subtensor{int64::} [id CK] <TensorType(int32, vector)> ''   \n | |   |   |<TensorType(int32, vector)> [id CL] <TensorType(int32, vector)>\n | |   |   |Constant{0} [id T] <int64>\n | |   |Constant{0} [id T] <int64>\n | |TensorConstant{5000} [id CM] <TensorType(int64, scalar)>\n |Subtensor{:int64:} [id CN] <TensorType(int32, vector)> ''   \n | |Subtensor{int64:int64:} [id S] <TensorType(int32, vector)> 'Length of surface_points in every series[0:-1]'   \n | |ScalarFromTensor [id CO] <int64> ''   \n |   |Elemwise{minimum,no_inplace} [id B] <TensorType(int64, scalar)> ''   \n |Subtensor{:int64:} [id CP] <TensorType(int32, vector)> ''   \n | |Subtensor{int64::} [id W] <TensorType(int32, vector)> 'Length of surface_points in every series[1:]'   \n | |ScalarFromTensor [id CO] <int64> ''   \n |Subtensor{:int64:} [id CQ] <TensorType(int32, vector)> ''   \n | |Subtensor{int64:int64:} [id Z] <TensorType(int32, vector)> 'Length of foliations in every series[0:-1]'   \n | |ScalarFromTensor [id CO] <int64> ''   \n |Subtensor{:int64:} [id CR] <TensorType(int32, vector)> ''   \n | |Subtensor{int64::} [id BC] <TensorType(int32, vector)> 'Length of foliations in every series[1:]'   \n | |ScalarFromTensor [id CO] <int64> ''   \n |Subtensor{:int64:} [id CS] <TensorType(int32, vector)> ''   \n | |Subtensor{int64:int64:} [id BF] <TensorType(int32, vector)> 'Length of weights in every series[0:-1]'   \n | |ScalarFromTensor [id CO] <int64> ''   \n |Subtensor{:int64:} [id CT] <TensorType(int32, vector)> ''   \n | |Subtensor{int64::} [id BI] <TensorType(int32, vector)> 'Length of weights in every series[1:]'   \n | |ScalarFromTensor [id CO] <int64> ''   \n |Subtensor{:int64:} [id CU] <TensorType(int32, vector)> ''   \n | |Subtensor{int64:int64:} [id BL] <TensorType(int32, vector)> 'List with the number of surfaces[0:-1]'   \n | |ScalarFromTensor [id CO] <int64> ''   \n |Subtensor{:int64:} [id CV] <TensorType(int32, vector)> ''   \n | |Subtensor{int64::} [id BO] <TensorType(int32, vector)> 'List with the number of surfaces[1:]'   \n | |ScalarFromTensor [id CO] <int64> ''   \n |Subtensor{:int64:} [id CW] <TensorType(int32, vector)> ''   \n | |Subtensor{int64::} [id BR] <TensorType(int32, vector)> 'Grade of the universal drift[0:]'   \n | |ScalarFromTensor [id CO] <int64> ''   \n |Subtensor{:int64:} [id CX] <TensorType(bool, vector)> ''   \n | |Subtensor{int64::} [id BU] <TensorType(bool, vector)> 'Vector controlling if weights must be recomputed[0:]'   \n | |ScalarFromTensor [id CO] <int64> ''   \n |Subtensor{:int64:} [id CY] <TensorType(bool, vector)> ''   \n | |Subtensor{int64::} [id BX] <TensorType(bool, vector)> 'Vector controlling if scalar matrix must be recomputed[0:]'   \n | |ScalarFromTensor [id CO] <int64> ''   \n |Subtensor{:int64:} [id CZ] <TensorType(bool, vector)> ''   \n | |Subtensor{int64::} [id CA] <TensorType(bool, vector)> 'Vector controlling if block matrix must be recomputed[0:]'   \n | |ScalarFromTensor [id CO] <int64> ''   \n |Subtensor{:int64:} [id DA] <TensorType(int32, vector)> ''   \n | |Subtensor{int64::} [id CD] <TensorType(int32, vector)> 'The series (fault) is finite[0:]'   \n | |ScalarFromTensor [id CO] <int64> ''   \n |Subtensor{:int64:} [id DB] <TensorType(int32, vector)> ''   \n | |Subtensor{int64::} [id CG] <TensorType(int32, vector)> ''   \n | |ScalarFromTensor [id CO] <int64> ''   \n |Subtensor{:int64:} [id DC] <TensorType(int32, vector)> ''   \n | |Subtensor{int64::} [id CK] <TensorType(int32, vector)> ''   \n | |ScalarFromTensor [id CO] <int64> ''   \n |Subtensor{:int64:} [id DD] <TensorType(int32, vector)> ''   \n | |TensorConstant{[   0    1..4998 4999]} [id DE] <TensorType(int32, vector)>\n | |ScalarFromTensor [id CO] <int64> ''   \n |IncSubtensor{Set;:int64:} [id DF] <TensorType(float64, 4D)> ''   \n | |AllocEmpty{dtype='float64'} [id DG] <TensorType(float64, 4D)> ''   \n | | |Elemwise{add,no_inplace} [id DH] <TensorType(int64, scalar)> ''   \n | | | |Elemwise{minimum,no_inplace} [id B] <TensorType(int64, scalar)> ''   \n | | | |Subtensor{int64} [id DI] <TensorType(int64, scalar)> ''   \n | | |   |Shape [id DJ] <TensorType(int64, vector)> ''   \n | | |   | |Rebroadcast{0} [id DK] <TensorType(float64, 4D)> ''   \n | | |   |   |InplaceDimShuffle{x,0,1,2} [id DL] <TensorType(float64, (True, False, False, False))> ''   \n | | |   |     |block matrix [id DM] <TensorType(float64, 3D)>\n | | |   |Constant{0} [id T] <int64>\n | | |Subtensor{int64} [id DN] <TensorType(int64, scalar)> ''   \n | | | |Shape [id DJ] <TensorType(int64, vector)> ''   \n | | | |Constant{1} [id DO] <int64>\n | | |Subtensor{int64} [id DP] <TensorType(int64, scalar)> ''   \n | | | |Shape [id DJ] <TensorType(int64, vector)> ''   \n | | | |Constant{2} [id DQ] <int64>\n | | |Subtensor{int64} [id DR] <TensorType(int64, scalar)> ''   \n | |   |Shape [id DJ] <TensorType(int64, vector)> ''   \n | |   |Constant{3} [id DS] <int64>\n | |Rebroadcast{0} [id DK] <TensorType(float64, 4D)> ''   \n | |ScalarFromTensor [id DT] <int64> ''   \n |   |Subtensor{int64} [id DI] <TensorType(int64, scalar)> ''   \n |IncSubtensor{Set;:int64:} [id DU] <TensorType(float64, matrix)> ''   \n | |AllocEmpty{dtype='float64'} [id DV] <TensorType(float64, matrix)> ''   \n | | |Elemwise{add,no_inplace} [id DW] <TensorType(int64, scalar)> ''   \n | | | |Elemwise{minimum,no_inplace} [id B] <TensorType(int64, scalar)> ''   \n | | | |Subtensor{int64} [id DX] <TensorType(int64, scalar)> ''   \n | | |   |Shape [id DY] <TensorType(int64, vector)> ''   \n | | |   | |Rebroadcast{0} [id DZ] <TensorType(float64, matrix)> ''   \n | | |   |   |InplaceDimShuffle{x,0} [id EA] <TensorType(float64, row)> ''   \n | | |   |     |Weights vector [id EB] <TensorType(float64, vector)>\n | | |   |Constant{0} [id T] <int64>\n | | |Subtensor{int64} [id EC] <TensorType(int64, scalar)> ''   \n | |   |Shape [id DY] <TensorType(int64, vector)> ''   \n | |   |Constant{1} [id DO] <int64>\n | |Rebroadcast{0} [id DZ] <TensorType(float64, matrix)> ''   \n | |ScalarFromTensor [id ED] <int64> ''   \n |   |Subtensor{int64} [id DX] <TensorType(int64, scalar)> ''   \n |IncSubtensor{Set;:int64:} [id EE] <TensorType(float64, 3D)> ''   \n | |AllocEmpty{dtype='float64'} [id EF] <TensorType(float64, 3D)> ''   \n | | |Elemwise{add,no_inplace} [id EG] <TensorType(int64, scalar)> ''   \n | | | |Elemwise{minimum,no_inplace} [id B] <TensorType(int64, scalar)> ''   \n | | | |Subtensor{int64} [id EH] <TensorType(int64, scalar)> ''   \n | | |   |Shape [id EI] <TensorType(int64, vector)> ''   \n | | |   | |Rebroadcast{0} [id EJ] <TensorType(float64, 3D)> ''   \n | | |   |   |InplaceDimShuffle{x,0,1} [id EK] <TensorType(float64, (True, False, False))> ''   \n | | |   |     |Scalar matrix [id EL] <TensorType(float64, matrix)>\n | | |   |Constant{0} [id T] <int64>\n | | |Subtensor{int64} [id EM] <TensorType(int64, scalar)> ''   \n | | | |Shape [id EI] <TensorType(int64, vector)> ''   \n | | | |Constant{1} [id DO] <int64>\n | | |Subtensor{int64} [id EN] <TensorType(int64, scalar)> ''   \n | |   |Shape [id EI] <TensorType(int64, vector)> ''   \n | |   |Constant{2} [id DQ] <int64>\n | |Rebroadcast{0} [id EJ] <TensorType(float64, 3D)> ''   \n | |ScalarFromTensor [id EO] <int64> ''   \n |   |Subtensor{int64} [id EH] <TensorType(int64, scalar)> ''   \n |IncSubtensor{Set;:int64:} [id EP] <TensorType(float64, 3D)> ''   \n | |AllocEmpty{dtype='float64'} [id EQ] <TensorType(float64, 3D)> ''   \n | | |Elemwise{add,no_inplace} [id ER] <TensorType(int64, scalar)> ''   \n | | | |Elemwise{minimum,no_inplace} [id B] <TensorType(int64, scalar)> ''   \n | | | |Subtensor{int64} [id ES] <TensorType(int64, scalar)> ''   \n | | |   |Shape [id ET] <TensorType(int64, vector)> ''   \n | | |   | |Rebroadcast{0} [id EU] <TensorType(float64, 3D)> ''   \n | | |   |   |InplaceDimShuffle{x,0,1} [id EV] <TensorType(float64, (True, False, False))> ''   \n | | |   |     |Alloc [id EW] <TensorType(float64, matrix)> ''   \n | | |   |       |TensorConstant{0.0} [id EX] <TensorType(float64, scalar)>\n | | |   |       |Subtensor{int64} [id EY] <TensorType(int64, scalar)> ''   \n | | |   |       | |Shape [id EZ] <TensorType(int64, vector)> ''   \n | | |   |       | | |<TensorType(int32, vector)> [id CH] <TensorType(int32, vector)>\n | | |   |       | |Constant{0} [id T] <int64>\n | | |   |       |Subtensor{int64} [id FA] <TensorType(int32, scalar)> ''   \n | | |   |         |List with the number of surfaces [id FB] <TensorType(int32, vector)>\n | | |   |         |Constant{-1} [id FC] <int64>\n | | |   |Constant{0} [id T] <int64>\n | | |Subtensor{int64} [id FD] <TensorType(int64, scalar)> ''   \n | | | |Shape [id ET] <TensorType(int64, vector)> ''   \n | | | |Constant{1} [id DO] <int64>\n | | |Subtensor{int64} [id FE] <TensorType(int64, scalar)> ''   \n | |   |Shape [id ET] <TensorType(int64, vector)> ''   \n | |   |Constant{2} [id DQ] <int64>\n | |Rebroadcast{0} [id EU] <TensorType(float64, 3D)> ''   \n | |ScalarFromTensor [id FF] <int64> ''   \n |   |Subtensor{int64} [id ES] <TensorType(int64, scalar)> ''   \n |IncSubtensor{Set;:int64:} [id FG] <TensorType(bool, 3D)> ''   \n | |AllocEmpty{dtype='bool'} [id FH] <TensorType(bool, 3D)> ''   \n | | |Elemwise{add,no_inplace} [id FI] <TensorType(int64, scalar)> ''   \n | | | |Elemwise{minimum,no_inplace} [id B] <TensorType(int64, scalar)> ''   \n | | | |Subtensor{int64} [id FJ] <TensorType(int64, scalar)> ''   \n | | |   |Shape [id FK] <TensorType(int64, vector)> ''   \n | | |   | |Rebroadcast{0} [id FL] <TensorType(bool, 3D)> ''   \n | | |   |   |InplaceDimShuffle{x,0,1} [id FM] <TensorType(bool, (True, False, False))> ''   \n | | |   |     |mask matrix [id FN] <TensorType(bool, matrix)>\n | | |   |Constant{0} [id T] <int64>\n | | |Subtensor{int64} [id FO] <TensorType(int64, scalar)> ''   \n | | | |Shape [id FK] <TensorType(int64, vector)> ''   \n | | | |Constant{1} [id DO] <int64>\n | | |Subtensor{int64} [id FP] <TensorType(int64, scalar)> ''   \n | |   |Shape [id FK] <TensorType(int64, vector)> ''   \n | |   |Constant{2} [id DQ] <int64>\n | |Rebroadcast{0} [id FL] <TensorType(bool, 3D)> ''   \n | |ScalarFromTensor [id FQ] <int64> ''   \n |   |Subtensor{int64} [id FJ] <TensorType(int64, scalar)> ''   \n |Constant values to interpolate. [id FR] <TensorType(float32, matrix)>\n |Number of points per surface used to split rest-ref [id FS] <TensorType(int32, vector)>\n |fault relation matrix [id FT] <TensorType(int32, matrix)>\n |<TensorType(float64, scalar)> [id FU] <TensorType(float64, scalar)>\n |<TensorType(float64, scalar)> [id FV] <TensorType(float64, scalar)>\n |Range [id FW] <TensorType(float64, scalar)>\n |Covariance at 0 [id FX] <TensorType(float64, scalar)>\n |<TensorType(float64, scalar)> [id FY] <TensorType(float64, scalar)>\n |Nugget effect of gradients [id FZ] <TensorType(float64, vector)>\n |Nugget effect of scalar [id GA] <TensorType(float64, vector)>\n |Attenuation factor [id GB] <TensorType(float64, scalar)>\n |Sigmoid Outside [id GC] <TensorType(float64, scalar)>\n |Sigmoid slope [id GD] <TensorType(float64, scalar)>\n |<TensorType(bool, vector)> [id GE] <TensorType(bool, vector)>\n |All the surface_points points at once [id GF] <TensorType(float64, matrix)>\n |Position of the dips [id GG] <TensorType(float64, matrix)>\n |Angle of every dip [id GH] <TensorType(float64, vector)>\n |Azimuth [id GI] <TensorType(float64, vector)>\n |Polarity [id GJ] <TensorType(float64, vector)>\n |Values that the blocks are taking [id GK] <TensorType(float64, matrix)>\nfor{cpu,Looping}.1 [id A] <TensorType(float64, matrix)> ''   \nfor{cpu,Looping}.2 [id A] <TensorType(float64, 3D)> ''   \nfor{cpu,Looping}.3 [id A] <TensorType(float64, 3D)> ''   \nfor{cpu,Looping}.4 [id A] <TensorType(bool, 3D)> ''   \n\nInner graphs of the scan ops:\n\nfor{cpu,Looping}.0 [id A] <TensorType(float64, 4D)> ''   \n >IncSubtensor{Set;int32, ::} [id GL] <TensorType(float64, 3D)> ''   \n > |block matrix[t-1] [id GM] <TensorType(float64, 3D)> -> [id DF]\n > |if{} [id GN] <TensorType(float64, matrix)> ''   \n > | |Vector controlling if block matrix must be recomputed[t] [id GO] <TensorType(bool, scalar)> -> [id CZ]\n > | |if{} [id GP] <TensorType(float64, matrix)> ''   \n > | | |The series (fault) is finite[t] [id GQ] <TensorType(int32, scalar)> -> [id DA]\n > | | |Sum{axis=[0], acc_dtype=float64} [id GR] <TensorType(float64, matrix)> 'The chunk of block model of a specific series'   \n > | | |Sum{axis=[0], acc_dtype=float64} [id GS] <TensorType(float64, matrix)> 'The chunk of block model of a specific series'   \n > | |Subtensor{int32, ::} [id GT] <TensorType(float64, matrix)> ''   \n > |   |block matrix[t-1] [id GM] <TensorType(float64, 3D)> -> [id DF]\n > |   |ScalarFromTensor [id GU] <int32> ''   \n > |     |<TensorType(int32, scalar)> [id GV] <TensorType(int32, scalar)> -> [id DD]\n > |ScalarFromTensor [id GU] <int32> ''   \n >IncSubtensor{Set;int32:int32:} [id GW] <TensorType(float64, vector)> ''   \n > |Weights vector[t-1] [id GX] <TensorType(float64, vector)> -> [id DU]\n > |if{} [id GY] <TensorType(float64, vector)> ''   \n > | |Vector controlling if weights must be recomputed[t] [id GZ] <TensorType(bool, scalar)> -> [id CX]\n > | |Reshape{1} [id HA] <TensorType(float64, vector)> 'Dual Kriging parameters'   \n > | |Subtensor{int32:int32:} [id HB] <TensorType(float64, vector)> ''   \n > |   |Weights vector[t-1] [id GX] <TensorType(float64, vector)> -> [id DU]\n > |   |ScalarFromTensor [id HC] <int32> ''   \n > |   | |Length of weights in every series[t] [id HD] <TensorType(int32, scalar)> -> [id CS]\n > |   |ScalarFromTensor [id HE] <int32> ''   \n > |     |Length of weights in every series[t+1] [id HF] <TensorType(int32, scalar)> -> [id CT]\n > |ScalarFromTensor [id HC] <int32> ''   \n > |ScalarFromTensor [id HE] <int32> ''   \n >IncSubtensor{Set;int32} [id HG] <TensorType(float64, matrix)> ''   \n > |Scalar matrix[t-1] [id HH] <TensorType(float64, matrix)> -> [id EE]\n > |if{} [id HI] <TensorType(float64, vector)> ''   \n > | |Vector controlling if scalar matrix must be recomputed[t] [id HJ] <TensorType(bool, scalar)> -> [id CY]\n > | |Subtensor{int64} [id HK] <TensorType(float64, vector)> 'Value of the potential field at every point'   \n > | |Subtensor{int32} [id HL] <TensorType(float64, vector)> ''   \n > |   |Scalar matrix[t-1] [id HH] <TensorType(float64, matrix)> -> [id EE]\n > |   |ScalarFromTensor [id GU] <int32> ''   \n > |ScalarFromTensor [id GU] <int32> ''   \n >AdvancedIncSubtensor{inplace=False,  set_instead_of_inc=True} [id HM] <TensorType(float64, matrix)> ''   \n > |<TensorType(float64, matrix)> [id HN] <TensorType(float64, matrix)> -> [id EP]\n > |AdvancedSubtensor1 [id HO] <TensorType(float64, vector)> ''   \n > | |Subtensor{int64:int64:} [id HP] <TensorType(float64, vector)> ''   \n > | | |if{} [id HI] <TensorType(float64, vector)> ''   \n > | | |ScalarFromTensor [id HQ] <int64> ''   \n > | | | |Elemwise{mul,no_inplace} [id HR] <TensorType(int64, scalar)> ''   \n > | | |   |TensorConstant{-2} [id HS] <TensorType(int8, scalar)>\n > | | |   |Elemwise{sub,no_inplace} [id HT] <TensorType(int64, scalar)> ''   \n > | | |     |Subtensor{int64} [id HU] <TensorType(int64, scalar)> ''   \n > | | |     | |Shape [id HV] <TensorType(int64, vector)> ''   \n > | | |     | | |All the surface_points points at once_copy [id HW] <TensorType(float64, matrix)> -> [id GF]\n > | | |     | |Constant{0} [id HX] <int64>\n > | | |     |Subtensor{int64} [id HY] <TensorType(int64, scalar)> ''   \n > | | |       |Shape [id HZ] <TensorType(int64, vector)> ''   \n > | | |       | |Number of points per surface used to split rest-ref_copy [id IA] <TensorType(int32, vector)> -> [id FS]\n > | | |       |Constant{0} [id HX] <int64>\n > | | |ScalarFromTensor [id IB] <int64> ''   \n > | |   |Elemwise{neg,no_inplace} [id IC] <TensorType(int64, scalar)> ''   \n > | |     |Elemwise{sub,no_inplace} [id HT] <TensorType(int64, scalar)> ''   \n > | |Subtensor{int32:int32:} [id ID] <TensorType(int32, vector)> ''   \n > |   |CumOp{None, add} [id IE] <TensorType(int32, vector)> 'Number of points per surfaces after rest-ref. This is used for finding the differentsurface points withing a layer.'   \n > |   |ScalarFromTensor [id IF] <int32> ''   \n > |   | |List with the number of surfaces[t] [id IG] <TensorType(int32, scalar)> -> [id CU]\n > |   |ScalarFromTensor [id IH] <int32> ''   \n > |     |List with the number of surfaces[t+1] [id II] <TensorType(int32, scalar)> -> [id CV]\n > |<TensorType(int32, scalar)> [id GV] <TensorType(int32, scalar)> -> [id DD]\n > |Elemwise{sub,no_inplace} [id IJ] <TensorType(int32, vector)> ''   \n >   |Subtensor{int32:int32:} [id IK] <TensorType(int32, vector)> ''   \n >   | |TensorConstant{[   1    2..4998 4999]} [id IL] <TensorType(int32, vector)>\n >   | |ScalarFromTensor [id IF] <int32> ''   \n >   | |ScalarFromTensor [id IH] <int32> ''   \n >   |TensorConstant{(1,) of 1} [id IM] <TensorType(int8, (True,))>\n >IncSubtensor{Set;int32, ::} [id IN] <TensorType(bool, matrix)> ''   \n > |IncSubtensor{Set;int32, ::} [id IO] <TensorType(bool, matrix)> ''   \n > | |mask matrix[t-1] [id IP] <TensorType(bool, matrix)> -> [id FG]\n > | |if{} [id IQ] <TensorType(bool, vector)> ''   \n > | | |<TensorType(int32, scalar)> [id IR] <TensorType(int32, scalar)> -> [id DC]\n > | | |Elemwise{gt,no_inplace} [id IS] <TensorType(bool, vector)> ''   \n > | | | |if{} [id HI] <TensorType(float64, vector)> ''   \n > | | | |InplaceDimShuffle{x} [id IT] <TensorType(float64, (True,))> ''   \n > | | |   |MaxAndArgmax{axis=(0,)}.0 [id IU] <TensorType(float64, scalar)> 'max'   \n > | | |Subtensor{int32, ::} [id IV] <TensorType(bool, vector)> ''   \n > | |   |mask matrix[t-1] [id IP] <TensorType(bool, matrix)> -> [id FG]\n > | |   |ScalarFromTensor [id IW] <int32> ''   \n > | |     |Elemwise{sub,no_inplace} [id IX] <TensorType(int32, scalar)> ''   \n > | |       |<TensorType(int32, scalar)> [id GV] <TensorType(int32, scalar)> -> [id DD]\n > | |       |TensorConstant{1} [id IY] <TensorType(int8, scalar)>\n > | |ScalarFromTensor [id IW] <int32> ''   \n > |if{} [id IZ] <TensorType(bool, vector)> ''   \n > | |<TensorType(int32, scalar)> [id JA] <TensorType(int32, scalar)> -> [id DB]\n > | |Elemwise{gt,no_inplace} [id JB] <TensorType(bool, vector)> ''   \n > | | |if{} [id HI] <TensorType(float64, vector)> ''   \n > | | |InplaceDimShuffle{x} [id JC] <TensorType(float64, (True,))> ''   \n > | |   |Elemwise{neg,no_inplace} [id JD] <TensorType(float64, scalar)> ''   \n > | |     |MaxAndArgmax{axis=(0,)}.0 [id JE] <TensorType(float64, scalar)> 'max'   \n > | |Elemwise{mul,no_inplace} [id JF] <TensorType(bool, vector)> ''   \n > |   |InplaceDimShuffle{x} [id JG] <TensorType(bool, (True,))> ''   \n > |   | |Elemwise{invert,no_inplace} [id JH] <TensorType(bool, scalar)> ''   \n > |   |   |Subtensor{int32} [id JI] <TensorType(bool, scalar)> ''   \n > |   |     |<TensorType(bool, vector)> [id JJ] <TensorType(bool, vector)> -> [id GE]\n > |   |     |ScalarFromTensor [id GU] <int32> ''   \n > |   |Elemwise{second,no_inplace} [id JK] <TensorType(bool, vector)> ''   \n > |     |if{} [id HI] <TensorType(float64, vector)> ''   \n > |     |TensorConstant{(1,) of True} [id JL] <TensorType(bool, (True,))>\n > |ScalarFromTensor [id GU] <int32> ''   \n\nfor{cpu,Looping}.1 [id A] <TensorType(float64, matrix)> ''   \n >IncSubtensor{Set;int32, ::} [id GL] <TensorType(float64, 3D)> ''   \n >IncSubtensor{Set;int32:int32:} [id GW] <TensorType(float64, vector)> ''   \n >IncSubtensor{Set;int32} [id HG] <TensorType(float64, matrix)> ''   \n >AdvancedIncSubtensor{inplace=False,  set_instead_of_inc=True} [id HM] <TensorType(float64, matrix)> ''   \n >IncSubtensor{Set;int32, ::} [id IN] <TensorType(bool, matrix)> ''   \n\nfor{cpu,Looping}.2 [id A] <TensorType(float64, 3D)> ''   \n >IncSubtensor{Set;int32, ::} [id GL] <TensorType(float64, 3D)> ''   \n >IncSubtensor{Set;int32:int32:} [id GW] <TensorType(float64, vector)> ''   \n >IncSubtensor{Set;int32} [id HG] <TensorType(float64, matrix)> ''   \n >AdvancedIncSubtensor{inplace=False,  set_instead_of_inc=True} [id HM] <TensorType(float64, matrix)> ''   \n >IncSubtensor{Set;int32, ::} [id IN] <TensorType(bool, matrix)> ''   \n\nfor{cpu,Looping}.3 [id A] <TensorType(float64, 3D)> ''   \n >IncSubtensor{Set;int32, ::} [id GL] <TensorType(float64, 3D)> ''   \n >IncSubtensor{Set;int32:int32:} [id GW] <TensorType(float64, vector)> ''   \n >IncSubtensor{Set;int32} [id HG] <TensorType(float64, matrix)> ''   \n >AdvancedIncSubtensor{inplace=False,  set_instead_of_inc=True} [id HM] <TensorType(float64, matrix)> ''   \n >IncSubtensor{Set;int32, ::} [id IN] <TensorType(bool, matrix)> ''   \n\nfor{cpu,Looping}.4 [id A] <TensorType(bool, 3D)> ''   \n >IncSubtensor{Set;int32, ::} [id GL] <TensorType(float64, 3D)> ''   \n >IncSubtensor{Set;int32:int32:} [id GW] <TensorType(float64, vector)> ''   \n >IncSubtensor{Set;int32} [id HG] <TensorType(float64, matrix)> ''   \n >AdvancedIncSubtensor{inplace=False,  set_instead_of_inc=True} [id HM] <TensorType(float64, matrix)> ''   \n >IncSubtensor{Set;int32, ::} [id IN] <TensorType(bool, matrix)> ''   \n\nStorage map footprint:\n - IncSubtensor{Set;:int64:}.0, Shape: (5, 4, 1000160), ElemSize: 8 Byte(s), TotalSize: 160025600 Byte(s)\n - IncSubtensor{Set;:int64:}.0, Shape: (5, 4, 1, 1000160), ElemSize: 8 Byte(s), TotalSize: 160025600 Byte(s)\n - for{cpu,Looping}.0, Shape: (5, 4, 1, 1000160), ElemSize: 8 Byte(s), TotalSize: 160025600 Byte(s)\n - for{cpu,Looping}.2, Shape: (5, 4, 1000160), ElemSize: 8 Byte(s), TotalSize: 160025600 Byte(s)\n - block matrix, Shared Input, Shape: (4, 1, 1000160), ElemSize: 8 Byte(s), TotalSize: 32005120 Byte(s)\n - Scalar matrix, Shared Input, Shape: (4, 1000160), ElemSize: 8 Byte(s), TotalSize: 32005120 Byte(s)\n - Coordinates of the grid points to interpolate, Input, Shape: (1000000, 3), ElemSize: 8 Byte(s), TotalSize: 24000000 Byte(s)\n - IncSubtensor{Set;:int64:}.0, Shape: (5, 4, 1000160), ElemSize: 1 Byte(s), TotalSize: 20003200 Byte(s)\n - for{cpu,Looping}.4, Shape: (5, 4, 1000160), ElemSize: 1 Byte(s), TotalSize: 20003200 Byte(s)\n - Constant values to interpolate., Shared Input, Shape: (1000000, 3), ElemSize: 4 Byte(s), TotalSize: 12000000 Byte(s)\n - mask matrix, Shared Input, Shape: (4, 1000160), ElemSize: 1 Byte(s), TotalSize: 4000640 Byte(s)\n - IncSubtensor{Set;:int64:}.0, Shape: (5, 621), ElemSize: 8 Byte(s), TotalSize: 24840 Byte(s)\n - for{cpu,Looping}.1, Shape: (5, 621), ElemSize: 8 Byte(s), TotalSize: 24840 Byte(s)\n - TensorConstant{[   0    1..4998 4999]}, Shape: (5000,), ElemSize: 4 Byte(s), TotalSize: 20000 Byte(s)\n - Weights vector, Shared Input, Shape: (621,), ElemSize: 8 Byte(s), TotalSize: 4968 Byte(s)\n - Position of the dips, Input, Shape: (175, 3), ElemSize: 8 Byte(s), TotalSize: 4200 Byte(s)\n - Nugget effect of gradients, Shared Input, Shape: (525,), ElemSize: 8 Byte(s), TotalSize: 4200 Byte(s)\n - All the surface_points points at once, Input, Shape: (86, 3), ElemSize: 8 Byte(s), TotalSize: 2064 Byte(s)\n - Angle of every dip, Input, Shape: (175,), ElemSize: 8 Byte(s), TotalSize: 1400 Byte(s)\n - Azimuth, Input, Shape: (175,), ElemSize: 8 Byte(s), TotalSize: 1400 Byte(s)\n - Polarity, Input, Shape: (175,), ElemSize: 8 Byte(s), TotalSize: 1400 Byte(s)\n - Vector controlling if weights must be recomputed, Input, Shape: (1000,), ElemSize: 1 Byte(s), TotalSize: 1000 Byte(s)\n - Vector controlling if scalar matrix must be recomputed, Input, Shape: (1000,), ElemSize: 1 Byte(s), TotalSize: 1000 Byte(s)\n - Vector controlling if block matrix must be recomputed, Input, Shape: (1000,), ElemSize: 1 Byte(s), TotalSize: 1000 Byte(s)\n - IncSubtensor{Set;:int64:}.0, Shape: (5, 4, 6), ElemSize: 8 Byte(s), TotalSize: 960 Byte(s)\n - for{cpu,Looping}.3, Shape: (5, 4, 6), ElemSize: 8 Byte(s), TotalSize: 960 Byte(s)\n - Nugget effect of scalar, Shared Input, Shape: (86,), ElemSize: 8 Byte(s), TotalSize: 688 Byte(s)\n - fault relation matrix, Shared Input, Shape: (4, 4), ElemSize: 4 Byte(s), TotalSize: 64 Byte(s)\n - Values that the blocks are taking, Input, Shape: (1, 7), ElemSize: 8 Byte(s), TotalSize: 56 Byte(s)\n - Number of points per surface used to split rest-ref, Shared Input, Shape: (6,), ElemSize: 4 Byte(s), TotalSize: 24 Byte(s)\n - Length of surface_points in every series, Shared Input, Shape: (5,), ElemSize: 4 Byte(s), TotalSize: 20 Byte(s)\n - Length of foliations in every series, Shared Input, Shape: (5,), ElemSize: 4 Byte(s), TotalSize: 20 Byte(s)\n - Length of weights in every series, Shared Input, Shape: (5,), ElemSize: 4 Byte(s), TotalSize: 20 Byte(s)\n - List with the number of surfaces, Shared Input, Shape: (5,), ElemSize: 4 Byte(s), TotalSize: 20 Byte(s)\n - Grade of the universal drift, Shared Input, Shape: (4,), ElemSize: 4 Byte(s), TotalSize: 16 Byte(s)\n - The series (fault) is finite, Shared Input, Shape: (4,), ElemSize: 4 Byte(s), TotalSize: 16 Byte(s)\n - <TensorType(int32, vector)>, Shared Input, Shape: (4,), ElemSize: 4 Byte(s), TotalSize: 16 Byte(s)\n - <TensorType(int32, vector)>, Shared Input, Shape: (4,), ElemSize: 4 Byte(s), TotalSize: 16 Byte(s)\n - Subtensor{:int64:}.0, Shape: (4,), ElemSize: 4 Byte(s), TotalSize: 16 Byte(s)\n - Subtensor{:int64:}.0, Shape: (4,), ElemSize: 4 Byte(s), TotalSize: 16 Byte(s)\n - Subtensor{:int64:}.0, Shape: (4,), ElemSize: 4 Byte(s), TotalSize: 16 Byte(s)\n - Subtensor{:int64:}.0, Shape: (4,), ElemSize: 4 Byte(s), TotalSize: 16 Byte(s)\n - Subtensor{:int64:}.0, Shape: (4,), ElemSize: 4 Byte(s), TotalSize: 16 Byte(s)\n - Subtensor{:int64:}.0, Shape: (4,), ElemSize: 4 Byte(s), TotalSize: 16 Byte(s)\n - Subtensor{:int64:}.0, Shape: (4,), ElemSize: 4 Byte(s), TotalSize: 16 Byte(s)\n - Subtensor{:int64:}.0, Shape: (4,), ElemSize: 4 Byte(s), TotalSize: 16 Byte(s)\n - Subtensor{:int64:}.0, Shape: (4,), ElemSize: 4 Byte(s), TotalSize: 16 Byte(s)\n - Subtensor{:int64:}.0, Shape: (4,), ElemSize: 4 Byte(s), TotalSize: 16 Byte(s)\n - Subtensor{:int64:}.0, Shape: (4,), ElemSize: 4 Byte(s), TotalSize: 16 Byte(s)\n - Subtensor{:int64:}.0, Shape: (4,), ElemSize: 4 Byte(s), TotalSize: 16 Byte(s)\n - Subtensor{:int64:}.0, Shape: (4,), ElemSize: 4 Byte(s), TotalSize: 16 Byte(s)\n - <TensorType(float64, scalar)>, Shared Input, Shape: (), ElemSize: 8 Byte(s), TotalSize: 8.0 Byte(s)\n - <TensorType(float64, scalar)>, Shared Input, Shape: (), ElemSize: 8 Byte(s), TotalSize: 8.0 Byte(s)\n - Range, Shared Input, Shape: (), ElemSize: 8 Byte(s), TotalSize: 8.0 Byte(s)\n - Covariance at 0, Shared Input, Shape: (), ElemSize: 8 Byte(s), TotalSize: 8.0 Byte(s)\n - <TensorType(float64, scalar)>, Shared Input, Shape: (), ElemSize: 8 Byte(s), TotalSize: 8.0 Byte(s)\n - Attenuation factor, Shared Input, Shape: (), ElemSize: 8 Byte(s), TotalSize: 8.0 Byte(s)\n - Sigmoid Outside, Shared Input, Shape: (), ElemSize: 8 Byte(s), TotalSize: 8.0 Byte(s)\n - Sigmoid slope, Shared Input, Shape: (), ElemSize: 8 Byte(s), TotalSize: 8.0 Byte(s)\n - Constant{0}, Shape: (), ElemSize: 8 Byte(s), TotalSize: 8.0 Byte(s)\n - Constant{2}, Shape: (), ElemSize: 8 Byte(s), TotalSize: 8.0 Byte(s)\n - Constant{1}, Shape: (), ElemSize: 8 Byte(s), TotalSize: 8.0 Byte(s)\n - Constant{-1}, Shape: (), ElemSize: 8 Byte(s), TotalSize: 8.0 Byte(s)\n - TensorConstant{5000}, Shape: (), ElemSize: 8 Byte(s), TotalSize: 8.0 Byte(s)\n - Elemwise{minimum,no_inplace}.0, Shape: (), ElemSize: 8 Byte(s), TotalSize: 8.0 Byte(s)\n - TensorConstant{0.0}, Shape: (), ElemSize: 8 Byte(s), TotalSize: 8.0 Byte(s)\n - Constant{3}, Shape: (), ElemSize: 8 Byte(s), TotalSize: 8.0 Byte(s)\n - <TensorType(bool, vector)>, Shared Input, Shape: (4,), ElemSize: 1 Byte(s), TotalSize: 4 Byte(s)\n - Subtensor{:int64:}.0, Shape: (4,), ElemSize: 1 Byte(s), TotalSize: 4 Byte(s)\n - Subtensor{:int64:}.0, Shape: (4,), ElemSize: 1 Byte(s), TotalSize: 4 Byte(s)\n - Subtensor{:int64:}.0, Shape: (4,), ElemSize: 1 Byte(s), TotalSize: 4 Byte(s)\n - TensorConstant{(1,) of -1}, Shape: (1,), ElemSize: 4 Byte(s), TotalSize: 4 Byte(s)\n - TensorConstant{0}, Shape: (), ElemSize: 1 Byte(s), TotalSize: 1.0 Byte(s)\n - Full block matrix for faults or drift. We take 2 times len points for the faultdrift., Input, Shape: (0, 1000160), ElemSize: 8 Byte(s), TotalSize: 0 Byte(s)\n TotalSize: 784215229.0 Byte(s) 0.730 GB\n TotalSize inputs: 104054617.0 Byte(s) 0.097 GB\n\n",
     "output_type": "error",
     "traceback": [
      "\u001b[1;31m---------------------------------------------------------------------------\u001b[0m",
      "\u001b[1;31mLinAlgError\u001b[0m                               Traceback (most recent call last)",
      "\u001b[1;32mscan_perform.pyx\u001b[0m in \u001b[0;36mtheano.scan_module.scan_perform.perform\u001b[1;34m()\u001b[0m\n",
      "\u001b[1;32m~\\Anaconda3\\lib\\site-packages\\theano\\gof\\op.py\u001b[0m in \u001b[0;36mrval\u001b[1;34m(p, i, o, n)\u001b[0m\n\u001b[0;32m    891\u001b[0m             \u001b[1;32mdef\u001b[0m \u001b[0mrval\u001b[0m\u001b[1;33m(\u001b[0m\u001b[0mp\u001b[0m\u001b[1;33m=\u001b[0m\u001b[0mp\u001b[0m\u001b[1;33m,\u001b[0m \u001b[0mi\u001b[0m\u001b[1;33m=\u001b[0m\u001b[0mnode_input_storage\u001b[0m\u001b[1;33m,\u001b[0m \u001b[0mo\u001b[0m\u001b[1;33m=\u001b[0m\u001b[0mnode_output_storage\u001b[0m\u001b[1;33m,\u001b[0m \u001b[0mn\u001b[0m\u001b[1;33m=\u001b[0m\u001b[0mnode\u001b[0m\u001b[1;33m)\u001b[0m\u001b[1;33m:\u001b[0m\u001b[1;33m\u001b[0m\u001b[1;33m\u001b[0m\u001b[0m\n\u001b[1;32m--> 892\u001b[1;33m                 \u001b[0mr\u001b[0m \u001b[1;33m=\u001b[0m \u001b[0mp\u001b[0m\u001b[1;33m(\u001b[0m\u001b[0mn\u001b[0m\u001b[1;33m,\u001b[0m \u001b[1;33m[\u001b[0m\u001b[0mx\u001b[0m\u001b[1;33m[\u001b[0m\u001b[1;36m0\u001b[0m\u001b[1;33m]\u001b[0m \u001b[1;32mfor\u001b[0m \u001b[0mx\u001b[0m \u001b[1;32min\u001b[0m \u001b[0mi\u001b[0m\u001b[1;33m]\u001b[0m\u001b[1;33m,\u001b[0m \u001b[0mo\u001b[0m\u001b[1;33m)\u001b[0m\u001b[1;33m\u001b[0m\u001b[1;33m\u001b[0m\u001b[0m\n\u001b[0m\u001b[0;32m    893\u001b[0m                 \u001b[1;32mfor\u001b[0m \u001b[0mo\u001b[0m \u001b[1;32min\u001b[0m \u001b[0mnode\u001b[0m\u001b[1;33m.\u001b[0m\u001b[0moutputs\u001b[0m\u001b[1;33m:\u001b[0m\u001b[1;33m\u001b[0m\u001b[1;33m\u001b[0m\u001b[0m\n",
      "\u001b[1;32m~\\Anaconda3\\lib\\site-packages\\theano\\tensor\\slinalg.py\u001b[0m in \u001b[0;36mperform\u001b[1;34m(self, node, inputs, output_storage)\u001b[0m\n\u001b[0;32m    254\u001b[0m         \u001b[1;32melse\u001b[0m\u001b[1;33m:\u001b[0m\u001b[1;33m\u001b[0m\u001b[1;33m\u001b[0m\u001b[0m\n\u001b[1;32m--> 255\u001b[1;33m             \u001b[0mrval\u001b[0m \u001b[1;33m=\u001b[0m \u001b[0mscipy\u001b[0m\u001b[1;33m.\u001b[0m\u001b[0mlinalg\u001b[0m\u001b[1;33m.\u001b[0m\u001b[0msolve\u001b[0m\u001b[1;33m(\u001b[0m\u001b[0mA\u001b[0m\u001b[1;33m,\u001b[0m \u001b[0mb\u001b[0m\u001b[1;33m)\u001b[0m\u001b[1;33m\u001b[0m\u001b[1;33m\u001b[0m\u001b[0m\n\u001b[0m\u001b[0;32m    256\u001b[0m         \u001b[0moutput_storage\u001b[0m\u001b[1;33m[\u001b[0m\u001b[1;36m0\u001b[0m\u001b[1;33m]\u001b[0m\u001b[1;33m[\u001b[0m\u001b[1;36m0\u001b[0m\u001b[1;33m]\u001b[0m \u001b[1;33m=\u001b[0m \u001b[0mrval\u001b[0m\u001b[1;33m\u001b[0m\u001b[1;33m\u001b[0m\u001b[0m\n",
      "\u001b[1;32m~\\Anaconda3\\lib\\site-packages\\scipy\\linalg\\basic.py\u001b[0m in \u001b[0;36msolve\u001b[1;34m(a, b, sym_pos, lower, overwrite_a, overwrite_b, debug, check_finite, assume_a, transposed)\u001b[0m\n\u001b[0;32m    215\u001b[0m         \u001b[0mlu\u001b[0m\u001b[1;33m,\u001b[0m \u001b[0mipvt\u001b[0m\u001b[1;33m,\u001b[0m \u001b[0minfo\u001b[0m \u001b[1;33m=\u001b[0m \u001b[0mgetrf\u001b[0m\u001b[1;33m(\u001b[0m\u001b[0ma1\u001b[0m\u001b[1;33m,\u001b[0m \u001b[0moverwrite_a\u001b[0m\u001b[1;33m=\u001b[0m\u001b[0moverwrite_a\u001b[0m\u001b[1;33m)\u001b[0m\u001b[1;33m\u001b[0m\u001b[1;33m\u001b[0m\u001b[0m\n\u001b[1;32m--> 216\u001b[1;33m         \u001b[0m_solve_check\u001b[0m\u001b[1;33m(\u001b[0m\u001b[0mn\u001b[0m\u001b[1;33m,\u001b[0m \u001b[0minfo\u001b[0m\u001b[1;33m)\u001b[0m\u001b[1;33m\u001b[0m\u001b[1;33m\u001b[0m\u001b[0m\n\u001b[0m\u001b[0;32m    217\u001b[0m         x, info = getrs(lu, ipvt, b1,\n",
      "\u001b[1;32m~\\Anaconda3\\lib\\site-packages\\scipy\\linalg\\basic.py\u001b[0m in \u001b[0;36m_solve_check\u001b[1;34m(n, info, lamch, rcond)\u001b[0m\n\u001b[0;32m     30\u001b[0m     \u001b[1;32melif\u001b[0m \u001b[1;36m0\u001b[0m \u001b[1;33m<\u001b[0m \u001b[0minfo\u001b[0m\u001b[1;33m:\u001b[0m\u001b[1;33m\u001b[0m\u001b[1;33m\u001b[0m\u001b[0m\n\u001b[1;32m---> 31\u001b[1;33m         \u001b[1;32mraise\u001b[0m \u001b[0mLinAlgError\u001b[0m\u001b[1;33m(\u001b[0m\u001b[1;34m'Matrix is singular.'\u001b[0m\u001b[1;33m)\u001b[0m\u001b[1;33m\u001b[0m\u001b[1;33m\u001b[0m\u001b[0m\n\u001b[0m\u001b[0;32m     32\u001b[0m \u001b[1;33m\u001b[0m\u001b[0m\n",
      "\u001b[1;31mLinAlgError\u001b[0m: Matrix is singular.",
      "\nDuring handling of the above exception, another exception occurred:\n",
      "\u001b[1;31mLinAlgError\u001b[0m                               Traceback (most recent call last)",
      "\u001b[1;32m~\\Anaconda3\\lib\\site-packages\\theano\\compile\\function_module.py\u001b[0m in \u001b[0;36m__call__\u001b[1;34m(self, *args, **kwargs)\u001b[0m\n\u001b[0;32m    902\u001b[0m             \u001b[0moutputs\u001b[0m \u001b[1;33m=\u001b[0m\u001b[0;31m\\\u001b[0m\u001b[1;33m\u001b[0m\u001b[1;33m\u001b[0m\u001b[0m\n\u001b[1;32m--> 903\u001b[1;33m                 \u001b[0mself\u001b[0m\u001b[1;33m.\u001b[0m\u001b[0mfn\u001b[0m\u001b[1;33m(\u001b[0m\u001b[1;33m)\u001b[0m \u001b[1;32mif\u001b[0m \u001b[0moutput_subset\u001b[0m \u001b[1;32mis\u001b[0m \u001b[1;32mNone\u001b[0m \u001b[1;32melse\u001b[0m\u001b[0;31m\\\u001b[0m\u001b[1;33m\u001b[0m\u001b[1;33m\u001b[0m\u001b[0m\n\u001b[0m\u001b[0;32m    904\u001b[0m                 \u001b[0mself\u001b[0m\u001b[1;33m.\u001b[0m\u001b[0mfn\u001b[0m\u001b[1;33m(\u001b[0m\u001b[0moutput_subset\u001b[0m\u001b[1;33m=\u001b[0m\u001b[0moutput_subset\u001b[0m\u001b[1;33m)\u001b[0m\u001b[1;33m\u001b[0m\u001b[1;33m\u001b[0m\u001b[0m\n",
      "\u001b[1;32m~\\Anaconda3\\lib\\site-packages\\theano\\scan_module\\scan_op.py\u001b[0m in \u001b[0;36mrval\u001b[1;34m(p, i, o, n, allow_gc)\u001b[0m\n\u001b[0;32m    962\u001b[0m                  allow_gc=allow_gc):\n\u001b[1;32m--> 963\u001b[1;33m             \u001b[0mr\u001b[0m \u001b[1;33m=\u001b[0m \u001b[0mp\u001b[0m\u001b[1;33m(\u001b[0m\u001b[0mn\u001b[0m\u001b[1;33m,\u001b[0m \u001b[1;33m[\u001b[0m\u001b[0mx\u001b[0m\u001b[1;33m[\u001b[0m\u001b[1;36m0\u001b[0m\u001b[1;33m]\u001b[0m \u001b[1;32mfor\u001b[0m \u001b[0mx\u001b[0m \u001b[1;32min\u001b[0m \u001b[0mi\u001b[0m\u001b[1;33m]\u001b[0m\u001b[1;33m,\u001b[0m \u001b[0mo\u001b[0m\u001b[1;33m)\u001b[0m\u001b[1;33m\u001b[0m\u001b[1;33m\u001b[0m\u001b[0m\n\u001b[0m\u001b[0;32m    964\u001b[0m             \u001b[1;32mfor\u001b[0m \u001b[0mo\u001b[0m \u001b[1;32min\u001b[0m \u001b[0mnode\u001b[0m\u001b[1;33m.\u001b[0m\u001b[0moutputs\u001b[0m\u001b[1;33m:\u001b[0m\u001b[1;33m\u001b[0m\u001b[1;33m\u001b[0m\u001b[0m\n",
      "\u001b[1;32m~\\Anaconda3\\lib\\site-packages\\theano\\scan_module\\scan_op.py\u001b[0m in \u001b[0;36mp\u001b[1;34m(node, args, outs)\u001b[0m\n\u001b[0;32m    951\u001b[0m                                                 \u001b[0mouts\u001b[0m\u001b[1;33m,\u001b[0m\u001b[1;33m\u001b[0m\u001b[1;33m\u001b[0m\u001b[0m\n\u001b[1;32m--> 952\u001b[1;33m                                                 self, node)\n\u001b[0m\u001b[0;32m    953\u001b[0m         \u001b[1;32mexcept\u001b[0m \u001b[1;33m(\u001b[0m\u001b[0mImportError\u001b[0m\u001b[1;33m,\u001b[0m \u001b[0mtheano\u001b[0m\u001b[1;33m.\u001b[0m\u001b[0mgof\u001b[0m\u001b[1;33m.\u001b[0m\u001b[0mcmodule\u001b[0m\u001b[1;33m.\u001b[0m\u001b[0mMissingGXX\u001b[0m\u001b[1;33m)\u001b[0m\u001b[1;33m:\u001b[0m\u001b[1;33m\u001b[0m\u001b[1;33m\u001b[0m\u001b[0m\n",
      "\u001b[1;32mscan_perform.pyx\u001b[0m in \u001b[0;36mtheano.scan_module.scan_perform.perform\u001b[1;34m()\u001b[0m\n",
      "\u001b[1;32m~\\Anaconda3\\lib\\site-packages\\theano\\gof\\link.py\u001b[0m in \u001b[0;36mraise_with_op\u001b[1;34m(node, thunk, exc_info, storage_map)\u001b[0m\n\u001b[0;32m    324\u001b[0m         \u001b[1;32mpass\u001b[0m\u001b[1;33m\u001b[0m\u001b[1;33m\u001b[0m\u001b[0m\n\u001b[1;32m--> 325\u001b[1;33m     \u001b[0mreraise\u001b[0m\u001b[1;33m(\u001b[0m\u001b[0mexc_type\u001b[0m\u001b[1;33m,\u001b[0m \u001b[0mexc_value\u001b[0m\u001b[1;33m,\u001b[0m \u001b[0mexc_trace\u001b[0m\u001b[1;33m)\u001b[0m\u001b[1;33m\u001b[0m\u001b[1;33m\u001b[0m\u001b[0m\n\u001b[0m\u001b[0;32m    326\u001b[0m \u001b[1;33m\u001b[0m\u001b[0m\n",
      "\u001b[1;32m~\\Anaconda3\\lib\\site-packages\\six.py\u001b[0m in \u001b[0;36mreraise\u001b[1;34m(tp, value, tb)\u001b[0m\n\u001b[0;32m    691\u001b[0m             \u001b[1;32mif\u001b[0m \u001b[0mvalue\u001b[0m\u001b[1;33m.\u001b[0m\u001b[0m__traceback__\u001b[0m \u001b[1;32mis\u001b[0m \u001b[1;32mnot\u001b[0m \u001b[0mtb\u001b[0m\u001b[1;33m:\u001b[0m\u001b[1;33m\u001b[0m\u001b[1;33m\u001b[0m\u001b[0m\n\u001b[1;32m--> 692\u001b[1;33m                 \u001b[1;32mraise\u001b[0m \u001b[0mvalue\u001b[0m\u001b[1;33m.\u001b[0m\u001b[0mwith_traceback\u001b[0m\u001b[1;33m(\u001b[0m\u001b[0mtb\u001b[0m\u001b[1;33m)\u001b[0m\u001b[1;33m\u001b[0m\u001b[1;33m\u001b[0m\u001b[0m\n\u001b[0m\u001b[0;32m    693\u001b[0m             \u001b[1;32mraise\u001b[0m \u001b[0mvalue\u001b[0m\u001b[1;33m\u001b[0m\u001b[1;33m\u001b[0m\u001b[0m\n",
      "\u001b[1;32mscan_perform.pyx\u001b[0m in \u001b[0;36mtheano.scan_module.scan_perform.perform\u001b[1;34m()\u001b[0m\n",
      "\u001b[1;32m~\\Anaconda3\\lib\\site-packages\\theano\\gof\\op.py\u001b[0m in \u001b[0;36mrval\u001b[1;34m(p, i, o, n)\u001b[0m\n\u001b[0;32m    891\u001b[0m             \u001b[1;32mdef\u001b[0m \u001b[0mrval\u001b[0m\u001b[1;33m(\u001b[0m\u001b[0mp\u001b[0m\u001b[1;33m=\u001b[0m\u001b[0mp\u001b[0m\u001b[1;33m,\u001b[0m \u001b[0mi\u001b[0m\u001b[1;33m=\u001b[0m\u001b[0mnode_input_storage\u001b[0m\u001b[1;33m,\u001b[0m \u001b[0mo\u001b[0m\u001b[1;33m=\u001b[0m\u001b[0mnode_output_storage\u001b[0m\u001b[1;33m,\u001b[0m \u001b[0mn\u001b[0m\u001b[1;33m=\u001b[0m\u001b[0mnode\u001b[0m\u001b[1;33m)\u001b[0m\u001b[1;33m:\u001b[0m\u001b[1;33m\u001b[0m\u001b[1;33m\u001b[0m\u001b[0m\n\u001b[1;32m--> 892\u001b[1;33m                 \u001b[0mr\u001b[0m \u001b[1;33m=\u001b[0m \u001b[0mp\u001b[0m\u001b[1;33m(\u001b[0m\u001b[0mn\u001b[0m\u001b[1;33m,\u001b[0m \u001b[1;33m[\u001b[0m\u001b[0mx\u001b[0m\u001b[1;33m[\u001b[0m\u001b[1;36m0\u001b[0m\u001b[1;33m]\u001b[0m \u001b[1;32mfor\u001b[0m \u001b[0mx\u001b[0m \u001b[1;32min\u001b[0m \u001b[0mi\u001b[0m\u001b[1;33m]\u001b[0m\u001b[1;33m,\u001b[0m \u001b[0mo\u001b[0m\u001b[1;33m)\u001b[0m\u001b[1;33m\u001b[0m\u001b[1;33m\u001b[0m\u001b[0m\n\u001b[0m\u001b[0;32m    893\u001b[0m                 \u001b[1;32mfor\u001b[0m \u001b[0mo\u001b[0m \u001b[1;32min\u001b[0m \u001b[0mnode\u001b[0m\u001b[1;33m.\u001b[0m\u001b[0moutputs\u001b[0m\u001b[1;33m:\u001b[0m\u001b[1;33m\u001b[0m\u001b[1;33m\u001b[0m\u001b[0m\n",
      "\u001b[1;32m~\\Anaconda3\\lib\\site-packages\\theano\\tensor\\slinalg.py\u001b[0m in \u001b[0;36mperform\u001b[1;34m(self, node, inputs, output_storage)\u001b[0m\n\u001b[0;32m    254\u001b[0m         \u001b[1;32melse\u001b[0m\u001b[1;33m:\u001b[0m\u001b[1;33m\u001b[0m\u001b[1;33m\u001b[0m\u001b[0m\n\u001b[1;32m--> 255\u001b[1;33m             \u001b[0mrval\u001b[0m \u001b[1;33m=\u001b[0m \u001b[0mscipy\u001b[0m\u001b[1;33m.\u001b[0m\u001b[0mlinalg\u001b[0m\u001b[1;33m.\u001b[0m\u001b[0msolve\u001b[0m\u001b[1;33m(\u001b[0m\u001b[0mA\u001b[0m\u001b[1;33m,\u001b[0m \u001b[0mb\u001b[0m\u001b[1;33m)\u001b[0m\u001b[1;33m\u001b[0m\u001b[1;33m\u001b[0m\u001b[0m\n\u001b[0m\u001b[0;32m    256\u001b[0m         \u001b[0moutput_storage\u001b[0m\u001b[1;33m[\u001b[0m\u001b[1;36m0\u001b[0m\u001b[1;33m]\u001b[0m\u001b[1;33m[\u001b[0m\u001b[1;36m0\u001b[0m\u001b[1;33m]\u001b[0m \u001b[1;33m=\u001b[0m \u001b[0mrval\u001b[0m\u001b[1;33m\u001b[0m\u001b[1;33m\u001b[0m\u001b[0m\n",
      "\u001b[1;32m~\\Anaconda3\\lib\\site-packages\\scipy\\linalg\\basic.py\u001b[0m in \u001b[0;36msolve\u001b[1;34m(a, b, sym_pos, lower, overwrite_a, overwrite_b, debug, check_finite, assume_a, transposed)\u001b[0m\n\u001b[0;32m    215\u001b[0m         \u001b[0mlu\u001b[0m\u001b[1;33m,\u001b[0m \u001b[0mipvt\u001b[0m\u001b[1;33m,\u001b[0m \u001b[0minfo\u001b[0m \u001b[1;33m=\u001b[0m \u001b[0mgetrf\u001b[0m\u001b[1;33m(\u001b[0m\u001b[0ma1\u001b[0m\u001b[1;33m,\u001b[0m \u001b[0moverwrite_a\u001b[0m\u001b[1;33m=\u001b[0m\u001b[0moverwrite_a\u001b[0m\u001b[1;33m)\u001b[0m\u001b[1;33m\u001b[0m\u001b[1;33m\u001b[0m\u001b[0m\n\u001b[1;32m--> 216\u001b[1;33m         \u001b[0m_solve_check\u001b[0m\u001b[1;33m(\u001b[0m\u001b[0mn\u001b[0m\u001b[1;33m,\u001b[0m \u001b[0minfo\u001b[0m\u001b[1;33m)\u001b[0m\u001b[1;33m\u001b[0m\u001b[1;33m\u001b[0m\u001b[0m\n\u001b[0m\u001b[0;32m    217\u001b[0m         x, info = getrs(lu, ipvt, b1,\n",
      "\u001b[1;32m~\\Anaconda3\\lib\\site-packages\\scipy\\linalg\\basic.py\u001b[0m in \u001b[0;36m_solve_check\u001b[1;34m(n, info, lamch, rcond)\u001b[0m\n\u001b[0;32m     30\u001b[0m     \u001b[1;32melif\u001b[0m \u001b[1;36m0\u001b[0m \u001b[1;33m<\u001b[0m \u001b[0minfo\u001b[0m\u001b[1;33m:\u001b[0m\u001b[1;33m\u001b[0m\u001b[1;33m\u001b[0m\u001b[0m\n\u001b[1;32m---> 31\u001b[1;33m         \u001b[1;32mraise\u001b[0m \u001b[0mLinAlgError\u001b[0m\u001b[1;33m(\u001b[0m\u001b[1;34m'Matrix is singular.'\u001b[0m\u001b[1;33m)\u001b[0m\u001b[1;33m\u001b[0m\u001b[1;33m\u001b[0m\u001b[0m\n\u001b[0m\u001b[0;32m     32\u001b[0m \u001b[1;33m\u001b[0m\u001b[0m\n",
      "\u001b[1;31mLinAlgError\u001b[0m: Matrix is singular.\nApply node that caused the error: Solve{A_structure='general', lower=False, overwrite_A=False, overwrite_b=False}(Block Covariance Matrix, b vector)\nToposort index: 606\nInputs types: [TensorType(float64, matrix), TensorType(float64, vector)]\nInputs shapes: [(554, 554), (554,)]\nInputs strides: [(4432, 8), (8,)]\nInputs values: ['not shown', 'not shown']\nInputs type_num: [12, 12]\nOutputs clients: [[Shape(Solve{A_structure='general', lower=False, overwrite_A=False, overwrite_b=False}.0), Reshape{1}(Solve{A_structure='general', lower=False, overwrite_A=False, overwrite_b=False}.0, MakeVector{dtype='int64'}.0)]]\n\nBacktrace when the node is created(use Theano flag traceback.limit=N to make it longer):\n  File \"C:\\Users\\Kevin\\Anaconda3\\lib\\site-packages\\IPython\\core\\interactiveshell.py\", line 3325, in run_code\n    exec(code_obj, self.user_global_ns, self.user_ns)\n  File \"<ipython-input-38-6d618a42653d>\", line 4, in <module>\n    verbose=[])\n  File \"C:\\Users\\Kevin\\Documents\\Studium\\Master_Thesis\\GemPy_Models\\gempy\\gempy\\core\\gempy_api.py\", line 162, in set_interpolation_data\n    geo_model.interpolator.compile_th_fn(inplace=True, grid=grid)\n  File \"C:\\Users\\Kevin\\Documents\\Studium\\Master_Thesis\\GemPy_Models\\gempy\\gempy\\core\\interpolator.py\", line 880, in compile_th_fn\n    self.theano_graph.compute_series(),\n  File \"C:\\Users\\Kevin\\Documents\\Studium\\Master_Thesis\\GemPy_Models\\gempy\\gempy\\core\\theano\\theano_graph_pro.py\", line 378, in compute_series\n    profile=False\n  File \"C:\\Users\\Kevin\\Anaconda3\\lib\\site-packages\\theano\\scan_module\\scan.py\", line 774, in scan\n    condition, outputs, updates = scan_utils.get_updates_and_outputs(fn(*args))\n  File \"C:\\Users\\Kevin\\Documents\\Studium\\Master_Thesis\\GemPy_Models\\gempy\\gempy\\core\\theano\\theano_graph_pro.py\", line 1589, in compute_a_series\n    self.solve_kriging(b),\n  File \"C:\\Users\\Kevin\\Documents\\Studium\\Master_Thesis\\GemPy_Models\\gempy\\gempy\\core\\theano\\theano_graph_pro.py\", line 940, in solve_kriging\n    DK_parameters = theano.tensor.slinalg.solve(C_matrix, b)\n\nDebugprint of the apply node: \nSolve{A_structure='general', lower=False, overwrite_A=False, overwrite_b=False} [id A] <TensorType(float64, vector)> ''   \n |IncSubtensor{Set;int64::, int64:int64:} [id B] <TensorType(float64, matrix)> 'Block Covariance Matrix'   \n |IncSubtensor{Set;int64:int64:} [id C] <TensorType(float64, vector)> 'b vector'   \n\nHINT: Use the Theano flag 'exception_verbosity=high' for a debugprint and storage map footprint of this apply node.",
      "\nDuring handling of the above exception, another exception occurred:\n",
      "\u001b[1;31mLinAlgError\u001b[0m                               Traceback (most recent call last)",
      "\u001b[1;32m<ipython-input-41-fcb22f14be0b>\u001b[0m in \u001b[0;36m<module>\u001b[1;34m\u001b[0m\n\u001b[1;32m----> 1\u001b[1;33m \u001b[0msol\u001b[0m \u001b[1;33m=\u001b[0m \u001b[0mgp\u001b[0m\u001b[1;33m.\u001b[0m\u001b[0mcompute_model\u001b[0m\u001b[1;33m(\u001b[0m\u001b[0mgeo_model\u001b[0m\u001b[1;33m,\u001b[0m \u001b[0mcompute_mesh\u001b[0m\u001b[1;33m=\u001b[0m\u001b[1;32mFalse\u001b[0m\u001b[1;33m)\u001b[0m\u001b[1;33m\u001b[0m\u001b[1;33m\u001b[0m\u001b[0m\n\u001b[0m",
      "\u001b[1;32m~\\Documents\\Studium\\Master_Thesis\\GemPy_Models\\gempy\\gempy\\core\\gempy_api.py\u001b[0m in \u001b[0;36mcompute_model\u001b[1;34m(model, output, compute_mesh, reset_weights, reset_scalar, reset_block, sort_surfaces, debug, set_solutions)\u001b[0m\n\u001b[0;32m    238\u001b[0m         \u001b[0mmodel\u001b[0m\u001b[1;33m.\u001b[0m\u001b[0minterpolator\u001b[0m\u001b[1;33m.\u001b[0m\u001b[0mreset_flow_control_initial_results\u001b[0m\u001b[1;33m(\u001b[0m\u001b[0mreset_weights\u001b[0m\u001b[1;33m,\u001b[0m \u001b[0mreset_scalar\u001b[0m\u001b[1;33m,\u001b[0m \u001b[0mreset_block\u001b[0m\u001b[1;33m)\u001b[0m\u001b[1;33m\u001b[0m\u001b[1;33m\u001b[0m\u001b[0m\n\u001b[0;32m    239\u001b[0m \u001b[1;33m\u001b[0m\u001b[0m\n\u001b[1;32m--> 240\u001b[1;33m         \u001b[0msol\u001b[0m \u001b[1;33m=\u001b[0m \u001b[0mmodel\u001b[0m\u001b[1;33m.\u001b[0m\u001b[0minterpolator\u001b[0m\u001b[1;33m.\u001b[0m\u001b[0mtheano_function\u001b[0m\u001b[1;33m(\u001b[0m\u001b[1;33m*\u001b[0m\u001b[0mi\u001b[0m\u001b[1;33m)\u001b[0m\u001b[1;33m\u001b[0m\u001b[1;33m\u001b[0m\u001b[0m\n\u001b[0m\u001b[0;32m    241\u001b[0m     \u001b[1;32melif\u001b[0m \u001b[0moutput\u001b[0m \u001b[1;33m==\u001b[0m \u001b[1;34m'gravity'\u001b[0m\u001b[1;33m:\u001b[0m\u001b[1;33m\u001b[0m\u001b[1;33m\u001b[0m\u001b[0m\n\u001b[0;32m    242\u001b[0m         \u001b[1;32massert\u001b[0m \u001b[0misinstance\u001b[0m\u001b[1;33m(\u001b[0m\u001b[0mmodel\u001b[0m\u001b[1;33m.\u001b[0m\u001b[0minterpolator_gravity\u001b[0m\u001b[1;33m,\u001b[0m \u001b[0mInterpolatorGravity\u001b[0m\u001b[1;33m)\u001b[0m\u001b[1;33m,\u001b[0m \u001b[1;34m'You need to set the gravity interpolator'\u001b[0m\u001b[0;31m \u001b[0m\u001b[0;31m\\\u001b[0m\u001b[1;33m\u001b[0m\u001b[1;33m\u001b[0m\u001b[0m\n",
      "\u001b[1;32m~\\Anaconda3\\lib\\site-packages\\theano\\compile\\function_module.py\u001b[0m in \u001b[0;36m__call__\u001b[1;34m(self, *args, **kwargs)\u001b[0m\n\u001b[0;32m    915\u001b[0m                     \u001b[0mnode\u001b[0m\u001b[1;33m=\u001b[0m\u001b[0mself\u001b[0m\u001b[1;33m.\u001b[0m\u001b[0mfn\u001b[0m\u001b[1;33m.\u001b[0m\u001b[0mnodes\u001b[0m\u001b[1;33m[\u001b[0m\u001b[0mself\u001b[0m\u001b[1;33m.\u001b[0m\u001b[0mfn\u001b[0m\u001b[1;33m.\u001b[0m\u001b[0mposition_of_error\u001b[0m\u001b[1;33m]\u001b[0m\u001b[1;33m,\u001b[0m\u001b[1;33m\u001b[0m\u001b[1;33m\u001b[0m\u001b[0m\n\u001b[0;32m    916\u001b[0m                     \u001b[0mthunk\u001b[0m\u001b[1;33m=\u001b[0m\u001b[0mthunk\u001b[0m\u001b[1;33m,\u001b[0m\u001b[1;33m\u001b[0m\u001b[1;33m\u001b[0m\u001b[0m\n\u001b[1;32m--> 917\u001b[1;33m                     storage_map=getattr(self.fn, 'storage_map', None))\n\u001b[0m\u001b[0;32m    918\u001b[0m             \u001b[1;32melse\u001b[0m\u001b[1;33m:\u001b[0m\u001b[1;33m\u001b[0m\u001b[1;33m\u001b[0m\u001b[0m\n\u001b[0;32m    919\u001b[0m                 \u001b[1;31m# old-style linkers raise their own exceptions\u001b[0m\u001b[1;33m\u001b[0m\u001b[1;33m\u001b[0m\u001b[1;33m\u001b[0m\u001b[0m\n",
      "\u001b[1;32m~\\Anaconda3\\lib\\site-packages\\theano\\gof\\link.py\u001b[0m in \u001b[0;36mraise_with_op\u001b[1;34m(node, thunk, exc_info, storage_map)\u001b[0m\n\u001b[0;32m    323\u001b[0m         \u001b[1;31m# extra long error message in that case.\u001b[0m\u001b[1;33m\u001b[0m\u001b[1;33m\u001b[0m\u001b[1;33m\u001b[0m\u001b[0m\n\u001b[0;32m    324\u001b[0m         \u001b[1;32mpass\u001b[0m\u001b[1;33m\u001b[0m\u001b[1;33m\u001b[0m\u001b[0m\n\u001b[1;32m--> 325\u001b[1;33m     \u001b[0mreraise\u001b[0m\u001b[1;33m(\u001b[0m\u001b[0mexc_type\u001b[0m\u001b[1;33m,\u001b[0m \u001b[0mexc_value\u001b[0m\u001b[1;33m,\u001b[0m \u001b[0mexc_trace\u001b[0m\u001b[1;33m)\u001b[0m\u001b[1;33m\u001b[0m\u001b[1;33m\u001b[0m\u001b[0m\n\u001b[0m\u001b[0;32m    326\u001b[0m \u001b[1;33m\u001b[0m\u001b[0m\n\u001b[0;32m    327\u001b[0m \u001b[1;33m\u001b[0m\u001b[0m\n",
      "\u001b[1;32m~\\Anaconda3\\lib\\site-packages\\six.py\u001b[0m in \u001b[0;36mreraise\u001b[1;34m(tp, value, tb)\u001b[0m\n\u001b[0;32m    690\u001b[0m                 \u001b[0mvalue\u001b[0m \u001b[1;33m=\u001b[0m \u001b[0mtp\u001b[0m\u001b[1;33m(\u001b[0m\u001b[1;33m)\u001b[0m\u001b[1;33m\u001b[0m\u001b[1;33m\u001b[0m\u001b[0m\n\u001b[0;32m    691\u001b[0m             \u001b[1;32mif\u001b[0m \u001b[0mvalue\u001b[0m\u001b[1;33m.\u001b[0m\u001b[0m__traceback__\u001b[0m \u001b[1;32mis\u001b[0m \u001b[1;32mnot\u001b[0m \u001b[0mtb\u001b[0m\u001b[1;33m:\u001b[0m\u001b[1;33m\u001b[0m\u001b[1;33m\u001b[0m\u001b[0m\n\u001b[1;32m--> 692\u001b[1;33m                 \u001b[1;32mraise\u001b[0m \u001b[0mvalue\u001b[0m\u001b[1;33m.\u001b[0m\u001b[0mwith_traceback\u001b[0m\u001b[1;33m(\u001b[0m\u001b[0mtb\u001b[0m\u001b[1;33m)\u001b[0m\u001b[1;33m\u001b[0m\u001b[1;33m\u001b[0m\u001b[0m\n\u001b[0m\u001b[0;32m    693\u001b[0m             \u001b[1;32mraise\u001b[0m \u001b[0mvalue\u001b[0m\u001b[1;33m\u001b[0m\u001b[1;33m\u001b[0m\u001b[0m\n\u001b[0;32m    694\u001b[0m         \u001b[1;32mfinally\u001b[0m\u001b[1;33m:\u001b[0m\u001b[1;33m\u001b[0m\u001b[1;33m\u001b[0m\u001b[0m\n",
      "\u001b[1;32m~\\Anaconda3\\lib\\site-packages\\theano\\compile\\function_module.py\u001b[0m in \u001b[0;36m__call__\u001b[1;34m(self, *args, **kwargs)\u001b[0m\n\u001b[0;32m    901\u001b[0m         \u001b[1;32mtry\u001b[0m\u001b[1;33m:\u001b[0m\u001b[1;33m\u001b[0m\u001b[1;33m\u001b[0m\u001b[0m\n\u001b[0;32m    902\u001b[0m             \u001b[0moutputs\u001b[0m \u001b[1;33m=\u001b[0m\u001b[0;31m\\\u001b[0m\u001b[1;33m\u001b[0m\u001b[1;33m\u001b[0m\u001b[0m\n\u001b[1;32m--> 903\u001b[1;33m                 \u001b[0mself\u001b[0m\u001b[1;33m.\u001b[0m\u001b[0mfn\u001b[0m\u001b[1;33m(\u001b[0m\u001b[1;33m)\u001b[0m \u001b[1;32mif\u001b[0m \u001b[0moutput_subset\u001b[0m \u001b[1;32mis\u001b[0m \u001b[1;32mNone\u001b[0m \u001b[1;32melse\u001b[0m\u001b[0;31m\\\u001b[0m\u001b[1;33m\u001b[0m\u001b[1;33m\u001b[0m\u001b[0m\n\u001b[0m\u001b[0;32m    904\u001b[0m                 \u001b[0mself\u001b[0m\u001b[1;33m.\u001b[0m\u001b[0mfn\u001b[0m\u001b[1;33m(\u001b[0m\u001b[0moutput_subset\u001b[0m\u001b[1;33m=\u001b[0m\u001b[0moutput_subset\u001b[0m\u001b[1;33m)\u001b[0m\u001b[1;33m\u001b[0m\u001b[1;33m\u001b[0m\u001b[0m\n\u001b[0;32m    905\u001b[0m         \u001b[1;32mexcept\u001b[0m \u001b[0mException\u001b[0m\u001b[1;33m:\u001b[0m\u001b[1;33m\u001b[0m\u001b[1;33m\u001b[0m\u001b[0m\n",
      "\u001b[1;32m~\\Anaconda3\\lib\\site-packages\\theano\\scan_module\\scan_op.py\u001b[0m in \u001b[0;36mrval\u001b[1;34m(p, i, o, n, allow_gc)\u001b[0m\n\u001b[0;32m    961\u001b[0m         def rval(p=p, i=node_input_storage, o=node_output_storage, n=node,\n\u001b[0;32m    962\u001b[0m                  allow_gc=allow_gc):\n\u001b[1;32m--> 963\u001b[1;33m             \u001b[0mr\u001b[0m \u001b[1;33m=\u001b[0m \u001b[0mp\u001b[0m\u001b[1;33m(\u001b[0m\u001b[0mn\u001b[0m\u001b[1;33m,\u001b[0m \u001b[1;33m[\u001b[0m\u001b[0mx\u001b[0m\u001b[1;33m[\u001b[0m\u001b[1;36m0\u001b[0m\u001b[1;33m]\u001b[0m \u001b[1;32mfor\u001b[0m \u001b[0mx\u001b[0m \u001b[1;32min\u001b[0m \u001b[0mi\u001b[0m\u001b[1;33m]\u001b[0m\u001b[1;33m,\u001b[0m \u001b[0mo\u001b[0m\u001b[1;33m)\u001b[0m\u001b[1;33m\u001b[0m\u001b[1;33m\u001b[0m\u001b[0m\n\u001b[0m\u001b[0;32m    964\u001b[0m             \u001b[1;32mfor\u001b[0m \u001b[0mo\u001b[0m \u001b[1;32min\u001b[0m \u001b[0mnode\u001b[0m\u001b[1;33m.\u001b[0m\u001b[0moutputs\u001b[0m\u001b[1;33m:\u001b[0m\u001b[1;33m\u001b[0m\u001b[1;33m\u001b[0m\u001b[0m\n\u001b[0;32m    965\u001b[0m                 \u001b[0mcompute_map\u001b[0m\u001b[1;33m[\u001b[0m\u001b[0mo\u001b[0m\u001b[1;33m]\u001b[0m\u001b[1;33m[\u001b[0m\u001b[1;36m0\u001b[0m\u001b[1;33m]\u001b[0m \u001b[1;33m=\u001b[0m \u001b[1;32mTrue\u001b[0m\u001b[1;33m\u001b[0m\u001b[1;33m\u001b[0m\u001b[0m\n",
      "\u001b[1;32m~\\Anaconda3\\lib\\site-packages\\theano\\scan_module\\scan_op.py\u001b[0m in \u001b[0;36mp\u001b[1;34m(node, args, outs)\u001b[0m\n\u001b[0;32m    950\u001b[0m                                                 \u001b[0margs\u001b[0m\u001b[1;33m,\u001b[0m\u001b[1;33m\u001b[0m\u001b[1;33m\u001b[0m\u001b[0m\n\u001b[0;32m    951\u001b[0m                                                 \u001b[0mouts\u001b[0m\u001b[1;33m,\u001b[0m\u001b[1;33m\u001b[0m\u001b[1;33m\u001b[0m\u001b[0m\n\u001b[1;32m--> 952\u001b[1;33m                                                 self, node)\n\u001b[0m\u001b[0;32m    953\u001b[0m         \u001b[1;32mexcept\u001b[0m \u001b[1;33m(\u001b[0m\u001b[0mImportError\u001b[0m\u001b[1;33m,\u001b[0m \u001b[0mtheano\u001b[0m\u001b[1;33m.\u001b[0m\u001b[0mgof\u001b[0m\u001b[1;33m.\u001b[0m\u001b[0mcmodule\u001b[0m\u001b[1;33m.\u001b[0m\u001b[0mMissingGXX\u001b[0m\u001b[1;33m)\u001b[0m\u001b[1;33m:\u001b[0m\u001b[1;33m\u001b[0m\u001b[1;33m\u001b[0m\u001b[0m\n\u001b[0;32m    954\u001b[0m             \u001b[0mp\u001b[0m \u001b[1;33m=\u001b[0m \u001b[0mself\u001b[0m\u001b[1;33m.\u001b[0m\u001b[0mexecute\u001b[0m\u001b[1;33m\u001b[0m\u001b[1;33m\u001b[0m\u001b[0m\n",
      "\u001b[1;32mscan_perform.pyx\u001b[0m in \u001b[0;36mtheano.scan_module.scan_perform.perform\u001b[1;34m()\u001b[0m\n",
      "\u001b[1;32m~\\Anaconda3\\lib\\site-packages\\theano\\gof\\link.py\u001b[0m in \u001b[0;36mraise_with_op\u001b[1;34m(node, thunk, exc_info, storage_map)\u001b[0m\n\u001b[0;32m    323\u001b[0m         \u001b[1;31m# extra long error message in that case.\u001b[0m\u001b[1;33m\u001b[0m\u001b[1;33m\u001b[0m\u001b[1;33m\u001b[0m\u001b[0m\n\u001b[0;32m    324\u001b[0m         \u001b[1;32mpass\u001b[0m\u001b[1;33m\u001b[0m\u001b[1;33m\u001b[0m\u001b[0m\n\u001b[1;32m--> 325\u001b[1;33m     \u001b[0mreraise\u001b[0m\u001b[1;33m(\u001b[0m\u001b[0mexc_type\u001b[0m\u001b[1;33m,\u001b[0m \u001b[0mexc_value\u001b[0m\u001b[1;33m,\u001b[0m \u001b[0mexc_trace\u001b[0m\u001b[1;33m)\u001b[0m\u001b[1;33m\u001b[0m\u001b[1;33m\u001b[0m\u001b[0m\n\u001b[0m\u001b[0;32m    326\u001b[0m \u001b[1;33m\u001b[0m\u001b[0m\n\u001b[0;32m    327\u001b[0m \u001b[1;33m\u001b[0m\u001b[0m\n",
      "\u001b[1;32m~\\Anaconda3\\lib\\site-packages\\six.py\u001b[0m in \u001b[0;36mreraise\u001b[1;34m(tp, value, tb)\u001b[0m\n\u001b[0;32m    690\u001b[0m                 \u001b[0mvalue\u001b[0m \u001b[1;33m=\u001b[0m \u001b[0mtp\u001b[0m\u001b[1;33m(\u001b[0m\u001b[1;33m)\u001b[0m\u001b[1;33m\u001b[0m\u001b[1;33m\u001b[0m\u001b[0m\n\u001b[0;32m    691\u001b[0m             \u001b[1;32mif\u001b[0m \u001b[0mvalue\u001b[0m\u001b[1;33m.\u001b[0m\u001b[0m__traceback__\u001b[0m \u001b[1;32mis\u001b[0m \u001b[1;32mnot\u001b[0m \u001b[0mtb\u001b[0m\u001b[1;33m:\u001b[0m\u001b[1;33m\u001b[0m\u001b[1;33m\u001b[0m\u001b[0m\n\u001b[1;32m--> 692\u001b[1;33m                 \u001b[1;32mraise\u001b[0m \u001b[0mvalue\u001b[0m\u001b[1;33m.\u001b[0m\u001b[0mwith_traceback\u001b[0m\u001b[1;33m(\u001b[0m\u001b[0mtb\u001b[0m\u001b[1;33m)\u001b[0m\u001b[1;33m\u001b[0m\u001b[1;33m\u001b[0m\u001b[0m\n\u001b[0m\u001b[0;32m    693\u001b[0m             \u001b[1;32mraise\u001b[0m \u001b[0mvalue\u001b[0m\u001b[1;33m\u001b[0m\u001b[1;33m\u001b[0m\u001b[0m\n\u001b[0;32m    694\u001b[0m         \u001b[1;32mfinally\u001b[0m\u001b[1;33m:\u001b[0m\u001b[1;33m\u001b[0m\u001b[1;33m\u001b[0m\u001b[0m\n",
      "\u001b[1;32mscan_perform.pyx\u001b[0m in \u001b[0;36mtheano.scan_module.scan_perform.perform\u001b[1;34m()\u001b[0m\n",
      "\u001b[1;32m~\\Anaconda3\\lib\\site-packages\\theano\\gof\\op.py\u001b[0m in \u001b[0;36mrval\u001b[1;34m(p, i, o, n)\u001b[0m\n\u001b[0;32m    890\u001b[0m             \u001b[1;31m# default arguments are stored in the closure of `rval`\u001b[0m\u001b[1;33m\u001b[0m\u001b[1;33m\u001b[0m\u001b[1;33m\u001b[0m\u001b[0m\n\u001b[0;32m    891\u001b[0m             \u001b[1;32mdef\u001b[0m \u001b[0mrval\u001b[0m\u001b[1;33m(\u001b[0m\u001b[0mp\u001b[0m\u001b[1;33m=\u001b[0m\u001b[0mp\u001b[0m\u001b[1;33m,\u001b[0m \u001b[0mi\u001b[0m\u001b[1;33m=\u001b[0m\u001b[0mnode_input_storage\u001b[0m\u001b[1;33m,\u001b[0m \u001b[0mo\u001b[0m\u001b[1;33m=\u001b[0m\u001b[0mnode_output_storage\u001b[0m\u001b[1;33m,\u001b[0m \u001b[0mn\u001b[0m\u001b[1;33m=\u001b[0m\u001b[0mnode\u001b[0m\u001b[1;33m)\u001b[0m\u001b[1;33m:\u001b[0m\u001b[1;33m\u001b[0m\u001b[1;33m\u001b[0m\u001b[0m\n\u001b[1;32m--> 892\u001b[1;33m                 \u001b[0mr\u001b[0m \u001b[1;33m=\u001b[0m \u001b[0mp\u001b[0m\u001b[1;33m(\u001b[0m\u001b[0mn\u001b[0m\u001b[1;33m,\u001b[0m \u001b[1;33m[\u001b[0m\u001b[0mx\u001b[0m\u001b[1;33m[\u001b[0m\u001b[1;36m0\u001b[0m\u001b[1;33m]\u001b[0m \u001b[1;32mfor\u001b[0m \u001b[0mx\u001b[0m \u001b[1;32min\u001b[0m \u001b[0mi\u001b[0m\u001b[1;33m]\u001b[0m\u001b[1;33m,\u001b[0m \u001b[0mo\u001b[0m\u001b[1;33m)\u001b[0m\u001b[1;33m\u001b[0m\u001b[1;33m\u001b[0m\u001b[0m\n\u001b[0m\u001b[0;32m    893\u001b[0m                 \u001b[1;32mfor\u001b[0m \u001b[0mo\u001b[0m \u001b[1;32min\u001b[0m \u001b[0mnode\u001b[0m\u001b[1;33m.\u001b[0m\u001b[0moutputs\u001b[0m\u001b[1;33m:\u001b[0m\u001b[1;33m\u001b[0m\u001b[1;33m\u001b[0m\u001b[0m\n\u001b[0;32m    894\u001b[0m                     \u001b[0mcompute_map\u001b[0m\u001b[1;33m[\u001b[0m\u001b[0mo\u001b[0m\u001b[1;33m]\u001b[0m\u001b[1;33m[\u001b[0m\u001b[1;36m0\u001b[0m\u001b[1;33m]\u001b[0m \u001b[1;33m=\u001b[0m \u001b[1;32mTrue\u001b[0m\u001b[1;33m\u001b[0m\u001b[1;33m\u001b[0m\u001b[0m\n",
      "\u001b[1;32m~\\Anaconda3\\lib\\site-packages\\theano\\tensor\\slinalg.py\u001b[0m in \u001b[0;36mperform\u001b[1;34m(self, node, inputs, output_storage)\u001b[0m\n\u001b[0;32m    253\u001b[0m                 A, b, lower=False)\n\u001b[0;32m    254\u001b[0m         \u001b[1;32melse\u001b[0m\u001b[1;33m:\u001b[0m\u001b[1;33m\u001b[0m\u001b[1;33m\u001b[0m\u001b[0m\n\u001b[1;32m--> 255\u001b[1;33m             \u001b[0mrval\u001b[0m \u001b[1;33m=\u001b[0m \u001b[0mscipy\u001b[0m\u001b[1;33m.\u001b[0m\u001b[0mlinalg\u001b[0m\u001b[1;33m.\u001b[0m\u001b[0msolve\u001b[0m\u001b[1;33m(\u001b[0m\u001b[0mA\u001b[0m\u001b[1;33m,\u001b[0m \u001b[0mb\u001b[0m\u001b[1;33m)\u001b[0m\u001b[1;33m\u001b[0m\u001b[1;33m\u001b[0m\u001b[0m\n\u001b[0m\u001b[0;32m    256\u001b[0m         \u001b[0moutput_storage\u001b[0m\u001b[1;33m[\u001b[0m\u001b[1;36m0\u001b[0m\u001b[1;33m]\u001b[0m\u001b[1;33m[\u001b[0m\u001b[1;36m0\u001b[0m\u001b[1;33m]\u001b[0m \u001b[1;33m=\u001b[0m \u001b[0mrval\u001b[0m\u001b[1;33m\u001b[0m\u001b[1;33m\u001b[0m\u001b[0m\n\u001b[0;32m    257\u001b[0m \u001b[1;33m\u001b[0m\u001b[0m\n",
      "\u001b[1;32m~\\Anaconda3\\lib\\site-packages\\scipy\\linalg\\basic.py\u001b[0m in \u001b[0;36msolve\u001b[1;34m(a, b, sym_pos, lower, overwrite_a, overwrite_b, debug, check_finite, assume_a, transposed)\u001b[0m\n\u001b[0;32m    214\u001b[0m                                                (a1, b1))\n\u001b[0;32m    215\u001b[0m         \u001b[0mlu\u001b[0m\u001b[1;33m,\u001b[0m \u001b[0mipvt\u001b[0m\u001b[1;33m,\u001b[0m \u001b[0minfo\u001b[0m \u001b[1;33m=\u001b[0m \u001b[0mgetrf\u001b[0m\u001b[1;33m(\u001b[0m\u001b[0ma1\u001b[0m\u001b[1;33m,\u001b[0m \u001b[0moverwrite_a\u001b[0m\u001b[1;33m=\u001b[0m\u001b[0moverwrite_a\u001b[0m\u001b[1;33m)\u001b[0m\u001b[1;33m\u001b[0m\u001b[1;33m\u001b[0m\u001b[0m\n\u001b[1;32m--> 216\u001b[1;33m         \u001b[0m_solve_check\u001b[0m\u001b[1;33m(\u001b[0m\u001b[0mn\u001b[0m\u001b[1;33m,\u001b[0m \u001b[0minfo\u001b[0m\u001b[1;33m)\u001b[0m\u001b[1;33m\u001b[0m\u001b[1;33m\u001b[0m\u001b[0m\n\u001b[0m\u001b[0;32m    217\u001b[0m         x, info = getrs(lu, ipvt, b1,\n\u001b[0;32m    218\u001b[0m                         trans=trans, overwrite_b=overwrite_b)\n",
      "\u001b[1;32m~\\Anaconda3\\lib\\site-packages\\scipy\\linalg\\basic.py\u001b[0m in \u001b[0;36m_solve_check\u001b[1;34m(n, info, lamch, rcond)\u001b[0m\n\u001b[0;32m     29\u001b[0m                          '.'.format(-info))\n\u001b[0;32m     30\u001b[0m     \u001b[1;32melif\u001b[0m \u001b[1;36m0\u001b[0m \u001b[1;33m<\u001b[0m \u001b[0minfo\u001b[0m\u001b[1;33m:\u001b[0m\u001b[1;33m\u001b[0m\u001b[1;33m\u001b[0m\u001b[0m\n\u001b[1;32m---> 31\u001b[1;33m         \u001b[1;32mraise\u001b[0m \u001b[0mLinAlgError\u001b[0m\u001b[1;33m(\u001b[0m\u001b[1;34m'Matrix is singular.'\u001b[0m\u001b[1;33m)\u001b[0m\u001b[1;33m\u001b[0m\u001b[1;33m\u001b[0m\u001b[0m\n\u001b[0m\u001b[0;32m     32\u001b[0m \u001b[1;33m\u001b[0m\u001b[0m\n\u001b[0;32m     33\u001b[0m     \u001b[1;32mif\u001b[0m \u001b[0mlamch\u001b[0m \u001b[1;32mis\u001b[0m \u001b[1;32mNone\u001b[0m\u001b[1;33m:\u001b[0m\u001b[1;33m\u001b[0m\u001b[1;33m\u001b[0m\u001b[0m\n",
      "\u001b[1;31mLinAlgError\u001b[0m: Matrix is singular.\nApply node that caused the error: Solve{A_structure='general', lower=False, overwrite_A=False, overwrite_b=False}(Block Covariance Matrix, b vector)\nToposort index: 606\nInputs types: [TensorType(float64, matrix), TensorType(float64, vector)]\nInputs shapes: [(554, 554), (554,)]\nInputs strides: [(4432, 8), (8,)]\nInputs values: ['not shown', 'not shown']\nInputs type_num: [12, 12]\nOutputs clients: [[Shape(Solve{A_structure='general', lower=False, overwrite_A=False, overwrite_b=False}.0), Reshape{1}(Solve{A_structure='general', lower=False, overwrite_A=False, overwrite_b=False}.0, MakeVector{dtype='int64'}.0)]]\n\nBacktrace when the node is created(use Theano flag traceback.limit=N to make it longer):\n  File \"C:\\Users\\Kevin\\Anaconda3\\lib\\site-packages\\IPython\\core\\interactiveshell.py\", line 3325, in run_code\n    exec(code_obj, self.user_global_ns, self.user_ns)\n  File \"<ipython-input-38-6d618a42653d>\", line 4, in <module>\n    verbose=[])\n  File \"C:\\Users\\Kevin\\Documents\\Studium\\Master_Thesis\\GemPy_Models\\gempy\\gempy\\core\\gempy_api.py\", line 162, in set_interpolation_data\n    geo_model.interpolator.compile_th_fn(inplace=True, grid=grid)\n  File \"C:\\Users\\Kevin\\Documents\\Studium\\Master_Thesis\\GemPy_Models\\gempy\\gempy\\core\\interpolator.py\", line 880, in compile_th_fn\n    self.theano_graph.compute_series(),\n  File \"C:\\Users\\Kevin\\Documents\\Studium\\Master_Thesis\\GemPy_Models\\gempy\\gempy\\core\\theano\\theano_graph_pro.py\", line 378, in compute_series\n    profile=False\n  File \"C:\\Users\\Kevin\\Anaconda3\\lib\\site-packages\\theano\\scan_module\\scan.py\", line 774, in scan\n    condition, outputs, updates = scan_utils.get_updates_and_outputs(fn(*args))\n  File \"C:\\Users\\Kevin\\Documents\\Studium\\Master_Thesis\\GemPy_Models\\gempy\\gempy\\core\\theano\\theano_graph_pro.py\", line 1589, in compute_a_series\n    self.solve_kriging(b),\n  File \"C:\\Users\\Kevin\\Documents\\Studium\\Master_Thesis\\GemPy_Models\\gempy\\gempy\\core\\theano\\theano_graph_pro.py\", line 940, in solve_kriging\n    DK_parameters = theano.tensor.slinalg.solve(C_matrix, b)\n\nDebugprint of the apply node: \nSolve{A_structure='general', lower=False, overwrite_A=False, overwrite_b=False} [id A] <TensorType(float64, vector)> ''   \n |IncSubtensor{Set;int64::, int64:int64:} [id B] <TensorType(float64, matrix)> 'Block Covariance Matrix'   \n |IncSubtensor{Set;int64:int64:} [id C] <TensorType(float64, vector)> 'b vector'   \n\nHINT: Use the Theano flag 'exception_verbosity=high' for a debugprint and storage map footprint of this apply node.\nApply node that caused the error: for{cpu,Looping}(Elemwise{minimum,no_inplace}.0, Subtensor{:int64:}.0, Subtensor{:int64:}.0, Subtensor{:int64:}.0, Subtensor{:int64:}.0, Subtensor{:int64:}.0, Subtensor{:int64:}.0, Subtensor{:int64:}.0, Subtensor{:int64:}.0, Subtensor{:int64:}.0, Subtensor{:int64:}.0, Subtensor{:int64:}.0, Subtensor{:int64:}.0, Subtensor{:int64:}.0, Subtensor{:int64:}.0, Subtensor{:int64:}.0, Subtensor{:int64:}.0, IncSubtensor{Set;:int64:}.0, IncSubtensor{Set;:int64:}.0, IncSubtensor{Set;:int64:}.0, IncSubtensor{Set;:int64:}.0, IncSubtensor{Set;:int64:}.0, Constant values to interpolate., Number of points per surface used to split rest-ref, fault relation matrix, <TensorType(float64, scalar)>, <TensorType(float64, scalar)>, Range, Covariance at 0, <TensorType(float64, scalar)>, Nugget effect of gradients, Nugget effect of scalar, Attenuation factor, Sigmoid Outside, Sigmoid slope, <TensorType(bool, vector)>, All the surface_points points at once, Position of the dips, Angle of every dip, Azimuth, Polarity, Values that the blocks are taking)\nToposort index: 131\nInputs types: [TensorType(int64, scalar), TensorType(int32, vector), TensorType(int32, vector), TensorType(int32, vector), TensorType(int32, vector), TensorType(int32, vector), TensorType(int32, vector), TensorType(int32, vector), TensorType(int32, vector), TensorType(int32, vector), TensorType(bool, vector), TensorType(bool, vector), TensorType(bool, vector), TensorType(int32, vector), TensorType(int32, vector), TensorType(int32, vector), TensorType(int32, vector), TensorType(float64, 4D), TensorType(float64, matrix), TensorType(float64, 3D), TensorType(float64, 3D), TensorType(bool, 3D), TensorType(float32, matrix), TensorType(int32, vector), TensorType(int32, matrix), TensorType(float64, scalar), TensorType(float64, scalar), TensorType(float64, scalar), TensorType(float64, scalar), TensorType(float64, scalar), TensorType(float64, vector), TensorType(float64, vector), TensorType(float64, scalar), TensorType(float64, scalar), TensorType(float64, scalar), TensorType(bool, vector), TensorType(float64, matrix), TensorType(float64, matrix), TensorType(float64, vector), TensorType(float64, vector), TensorType(float64, vector), TensorType(float64, matrix)]\nInputs shapes: [(), (4,), (4,), (4,), (4,), (4,), (4,), (4,), (4,), (4,), (4,), (4,), (4,), (4,), (4,), (4,), (4,), (5, 4, 1, 1000160), (5, 621), (5, 4, 1000160), (5, 4, 6), (5, 4, 1000160), (1000000, 3), (6,), (4, 4), (), (), (), (), (), (525,), (86,), (), (), (), (4,), (86, 3), (175, 3), (175,), (175,), (175,), (1, 7)]\nInputs strides: [(), (4,), (4,), (4,), (4,), (4,), (4,), (4,), (4,), (4,), (1,), (1,), (1,), (4,), (4,), (4,), (4,), (32005120, 8001280, 8001280, 8), (4968, 8), (32005120, 8001280, 8), (192, 48, 8), (4000640, 1000160, 1), (12, 4), (4,), (16, 4), (), (), (), (), (), (8,), (8,), (), (), (), (1,), (8, 688), (8, 1400), (8,), (8,), (8,), (56, 8)]\nInputs values: [array(4, dtype=int64), array([ 0, 14, 20, 24]), array([14, 20, 24, 80]), array([ 0,  3,  7, 11]), array([  3,   7,  11, 175]), array([ 0, 26, 47, 67]), array([ 26,  47,  67, 621]), array([0, 1, 2, 3]), array([1, 2, 3, 6]), array([3, 3, 3, 3]), array([ True,  True,  True,  True]), array([ True,  True,  True,  True]), array([ True,  True,  True,  True]), array([0, 0, 0, 0]), array([0, 0, 0, 0]), array([0, 0, 0, 0]), array([0, 1, 2, 3]), 'not shown', 'not shown', 'not shown', 'not shown', 'not shown', 'not shown', 'not shown', 'not shown', array(10.), array(2.), array(0.52460247), array(490.25311279), array(4.), 'not shown', 'not shown', array(2.), array(50.), array(50000.), array([ True,  True,  True, False]), 'not shown', 'not shown', 'not shown', 'not shown', 'not shown', 'not shown']\nInputs type_num: [9, 7, 7, 7, 7, 7, 7, 7, 7, 7, 0, 0, 0, 7, 7, 7, 7, 12, 12, 12, 12, 0, 11, 7, 7, 12, 12, 12, 12, 12, 12, 12, 12, 12, 12, 0, 12, 12, 12, 12, 12, 12]\nOutputs clients: [[Subtensor{int64::}(for{cpu,Looping}.0, Constant{1})], [Subtensor{int64::}(for{cpu,Looping}.1, Constant{1})], [Subtensor{int64::}(for{cpu,Looping}.2, Constant{1})], [Subtensor{int64::}(for{cpu,Looping}.3, Constant{1})], [Subtensor{int64::}(for{cpu,Looping}.4, Constant{1})]]\n\nBacktrace when the node is created(use Theano flag traceback.limit=N to make it longer):\n  File \"C:\\Users\\Kevin\\Anaconda3\\lib\\site-packages\\IPython\\core\\async_helpers.py\", line 68, in _pseudo_sync_runner\n    coro.send(None)\n  File \"C:\\Users\\Kevin\\Anaconda3\\lib\\site-packages\\IPython\\core\\interactiveshell.py\", line 3057, in run_cell_async\n    interactivity=interactivity, compiler=compiler, result=result)\n  File \"C:\\Users\\Kevin\\Anaconda3\\lib\\site-packages\\IPython\\core\\interactiveshell.py\", line 3248, in run_ast_nodes\n    if (await self.run_code(code, result,  async_=asy)):\n  File \"C:\\Users\\Kevin\\Anaconda3\\lib\\site-packages\\IPython\\core\\interactiveshell.py\", line 3325, in run_code\n    exec(code_obj, self.user_global_ns, self.user_ns)\n  File \"<ipython-input-38-6d618a42653d>\", line 4, in <module>\n    verbose=[])\n  File \"C:\\Users\\Kevin\\Documents\\Studium\\Master_Thesis\\GemPy_Models\\gempy\\gempy\\core\\gempy_api.py\", line 162, in set_interpolation_data\n    geo_model.interpolator.compile_th_fn(inplace=True, grid=grid)\n  File \"C:\\Users\\Kevin\\Documents\\Studium\\Master_Thesis\\GemPy_Models\\gempy\\gempy\\core\\interpolator.py\", line 880, in compile_th_fn\n    self.theano_graph.compute_series(),\n  File \"C:\\Users\\Kevin\\Documents\\Studium\\Master_Thesis\\GemPy_Models\\gempy\\gempy\\core\\theano\\theano_graph_pro.py\", line 378, in compute_series\n    profile=False\n\nDebugprint of the apply node: \nfor{cpu,Looping}.0 [id A] <TensorType(float64, 4D)> ''   \n |Elemwise{minimum,no_inplace} [id B] <TensorType(int64, scalar)> ''   \n | |Elemwise{minimum,no_inplace} [id C] <TensorType(int64, scalar)> ''   \n | | |Elemwise{minimum,no_inplace} [id D] <TensorType(int64, scalar)> ''   \n | | | |Elemwise{minimum,no_inplace} [id E] <TensorType(int64, scalar)> ''   \n | | | | |Elemwise{minimum,no_inplace} [id F] <TensorType(int64, scalar)> ''   \n | | | | | |Elemwise{minimum,no_inplace} [id G] <TensorType(int64, scalar)> ''   \n | | | | | | |Elemwise{minimum,no_inplace} [id H] <TensorType(int64, scalar)> ''   \n | | | | | | | |Elemwise{minimum,no_inplace} [id I] <TensorType(int64, scalar)> ''   \n | | | | | | | | |Elemwise{minimum,no_inplace} [id J] <TensorType(int64, scalar)> ''   \n | | | | | | | | | |Elemwise{minimum,no_inplace} [id K] <TensorType(int64, scalar)> ''   \n | | | | | | | | | | |Elemwise{minimum,no_inplace} [id L] <TensorType(int64, scalar)> ''   \n | | | | | | | | | | | |Elemwise{minimum,no_inplace} [id M] <TensorType(int64, scalar)> ''   \n | | | | | | | | | | | | |Elemwise{minimum,no_inplace} [id N] <TensorType(int64, scalar)> ''   \n | | | | | | | | | | | | | |Elemwise{minimum,no_inplace} [id O] <TensorType(int64, scalar)> ''   \n | | | | | | | | | | | | | | |Elemwise{minimum,no_inplace} [id P] <TensorType(int64, scalar)> ''   \n | | | | | | | | | | | | | | | |Subtensor{int64} [id Q] <TensorType(int64, scalar)> ''   \n | | | | | | | | | | | | | | | | |Shape [id R] <TensorType(int64, vector)> ''   \n | | | | | | | | | | | | | | | | | |Subtensor{int64:int64:} [id S] <TensorType(int32, vector)> 'Length of surface_points in every series[0:-1]'   \n | | | | | | | | | | | | | | | | |Constant{0} [id T] <int64>\n | | | | | | | | | | | | | | | |Subtensor{int64} [id U] <TensorType(int64, scalar)> ''   \n | | | | | | | | | | | | | | |   |Shape [id V] <TensorType(int64, vector)> ''   \n | | | | | | | | | | | | | | |   | |Subtensor{int64::} [id W] <TensorType(int32, vector)> 'Length of surface_points in every series[1:]'   \n | | | | | | | | | | | | | | |   |Constant{0} [id T] <int64>\n | | | | | | | | | | | | | | |Subtensor{int64} [id X] <TensorType(int64, scalar)> ''   \n | | | | | | | | | | | | | |   |Shape [id Y] <TensorType(int64, vector)> ''   \n | | | | | | | | | | | | | |   | |Subtensor{int64:int64:} [id Z] <TensorType(int32, vector)> 'Length of foliations in every series[0:-1]'   \n | | | | | | | | | | | | | |   |Constant{0} [id T] <int64>\n | | | | | | | | | | | | | |Subtensor{int64} [id BA] <TensorType(int64, scalar)> ''   \n | | | | | | | | | | | | |   |Shape [id BB] <TensorType(int64, vector)> ''   \n | | | | | | | | | | | | |   | |Subtensor{int64::} [id BC] <TensorType(int32, vector)> 'Length of foliations in every series[1:]'   \n | | | | | | | | | | | | |   |Constant{0} [id T] <int64>\n | | | | | | | | | | | | |Subtensor{int64} [id BD] <TensorType(int64, scalar)> ''   \n | | | | | | | | | | | |   |Shape [id BE] <TensorType(int64, vector)> ''   \n | | | | | | | | | | | |   | |Subtensor{int64:int64:} [id BF] <TensorType(int32, vector)> 'Length of weights in every series[0:-1]'   \n | | | | | | | | | | | |   |Constant{0} [id T] <int64>\n | | | | | | | | | | | |Subtensor{int64} [id BG] <TensorType(int64, scalar)> ''   \n | | | | | | | | | | |   |Shape [id BH] <TensorType(int64, vector)> ''   \n | | | | | | | | | | |   | |Subtensor{int64::} [id BI] <TensorType(int32, vector)> 'Length of weights in every series[1:]'   \n | | | | | | | | | | |   |Constant{0} [id T] <int64>\n | | | | | | | | | | |Subtensor{int64} [id BJ] <TensorType(int64, scalar)> ''   \n | | | | | | | | | |   |Shape [id BK] <TensorType(int64, vector)> ''   \n | | | | | | | | | |   | |Subtensor{int64:int64:} [id BL] <TensorType(int32, vector)> 'List with the number of surfaces[0:-1]'   \n | | | | | | | | | |   |Constant{0} [id T] <int64>\n | | | | | | | | | |Subtensor{int64} [id BM] <TensorType(int64, scalar)> ''   \n | | | | | | | | |   |Shape [id BN] <TensorType(int64, vector)> ''   \n | | | | | | | | |   | |Subtensor{int64::} [id BO] <TensorType(int32, vector)> 'List with the number of surfaces[1:]'   \n | | | | | | | | |   |Constant{0} [id T] <int64>\n | | | | | | | | |Subtensor{int64} [id BP] <TensorType(int64, scalar)> ''   \n | | | | | | | |   |Shape [id BQ] <TensorType(int64, vector)> ''   \n | | | | | | | |   | |Subtensor{int64::} [id BR] <TensorType(int32, vector)> 'Grade of the universal drift[0:]'   \n | | | | | | | |   |Constant{0} [id T] <int64>\n | | | | | | | |Subtensor{int64} [id BS] <TensorType(int64, scalar)> ''   \n | | | | | | |   |Shape [id BT] <TensorType(int64, vector)> ''   \n | | | | | | |   | |Subtensor{int64::} [id BU] <TensorType(bool, vector)> 'Vector controlling if weights must be recomputed[0:]'   \n | | | | | | |   |Constant{0} [id T] <int64>\n | | | | | | |Subtensor{int64} [id BV] <TensorType(int64, scalar)> ''   \n | | | | | |   |Shape [id BW] <TensorType(int64, vector)> ''   \n | | | | | |   | |Subtensor{int64::} [id BX] <TensorType(bool, vector)> 'Vector controlling if scalar matrix must be recomputed[0:]'   \n | | | | | |   |Constant{0} [id T] <int64>\n | | | | | |Subtensor{int64} [id BY] <TensorType(int64, scalar)> ''   \n | | | | |   |Shape [id BZ] <TensorType(int64, vector)> ''   \n | | | | |   | |Subtensor{int64::} [id CA] <TensorType(bool, vector)> 'Vector controlling if block matrix must be recomputed[0:]'   \n | | | | |   |Constant{0} [id T] <int64>\n | | | | |Subtensor{int64} [id CB] <TensorType(int64, scalar)> ''   \n | | | |   |Shape [id CC] <TensorType(int64, vector)> ''   \n | | | |   | |Subtensor{int64::} [id CD] <TensorType(int32, vector)> 'The series (fault) is finite[0:]'   \n | | | |   |Constant{0} [id T] <int64>\n | | | |Subtensor{int64} [id CE] <TensorType(int64, scalar)> ''   \n | | |   |Shape [id CF] <TensorType(int64, vector)> ''   \n | | |   | |Subtensor{int64::} [id CG] <TensorType(int32, vector)> ''   \n | | |   |   |<TensorType(int32, vector)> [id CH] <TensorType(int32, vector)>\n | | |   |   |Constant{0} [id T] <int64>\n | | |   |Constant{0} [id T] <int64>\n | | |Subtensor{int64} [id CI] <TensorType(int64, scalar)> ''   \n | |   |Shape [id CJ] <TensorType(int64, vector)> ''   \n | |   | |Subtensor{int64::} [id CK] <TensorType(int32, vector)> ''   \n | |   |   |<TensorType(int32, vector)> [id CL] <TensorType(int32, vector)>\n | |   |   |Constant{0} [id T] <int64>\n | |   |Constant{0} [id T] <int64>\n | |TensorConstant{5000} [id CM] <TensorType(int64, scalar)>\n |Subtensor{:int64:} [id CN] <TensorType(int32, vector)> ''   \n | |Subtensor{int64:int64:} [id S] <TensorType(int32, vector)> 'Length of surface_points in every series[0:-1]'   \n | |ScalarFromTensor [id CO] <int64> ''   \n |   |Elemwise{minimum,no_inplace} [id B] <TensorType(int64, scalar)> ''   \n |Subtensor{:int64:} [id CP] <TensorType(int32, vector)> ''   \n | |Subtensor{int64::} [id W] <TensorType(int32, vector)> 'Length of surface_points in every series[1:]'   \n | |ScalarFromTensor [id CO] <int64> ''   \n |Subtensor{:int64:} [id CQ] <TensorType(int32, vector)> ''   \n | |Subtensor{int64:int64:} [id Z] <TensorType(int32, vector)> 'Length of foliations in every series[0:-1]'   \n | |ScalarFromTensor [id CO] <int64> ''   \n |Subtensor{:int64:} [id CR] <TensorType(int32, vector)> ''   \n | |Subtensor{int64::} [id BC] <TensorType(int32, vector)> 'Length of foliations in every series[1:]'   \n | |ScalarFromTensor [id CO] <int64> ''   \n |Subtensor{:int64:} [id CS] <TensorType(int32, vector)> ''   \n | |Subtensor{int64:int64:} [id BF] <TensorType(int32, vector)> 'Length of weights in every series[0:-1]'   \n | |ScalarFromTensor [id CO] <int64> ''   \n |Subtensor{:int64:} [id CT] <TensorType(int32, vector)> ''   \n | |Subtensor{int64::} [id BI] <TensorType(int32, vector)> 'Length of weights in every series[1:]'   \n | |ScalarFromTensor [id CO] <int64> ''   \n |Subtensor{:int64:} [id CU] <TensorType(int32, vector)> ''   \n | |Subtensor{int64:int64:} [id BL] <TensorType(int32, vector)> 'List with the number of surfaces[0:-1]'   \n | |ScalarFromTensor [id CO] <int64> ''   \n |Subtensor{:int64:} [id CV] <TensorType(int32, vector)> ''   \n | |Subtensor{int64::} [id BO] <TensorType(int32, vector)> 'List with the number of surfaces[1:]'   \n | |ScalarFromTensor [id CO] <int64> ''   \n |Subtensor{:int64:} [id CW] <TensorType(int32, vector)> ''   \n | |Subtensor{int64::} [id BR] <TensorType(int32, vector)> 'Grade of the universal drift[0:]'   \n | |ScalarFromTensor [id CO] <int64> ''   \n |Subtensor{:int64:} [id CX] <TensorType(bool, vector)> ''   \n | |Subtensor{int64::} [id BU] <TensorType(bool, vector)> 'Vector controlling if weights must be recomputed[0:]'   \n | |ScalarFromTensor [id CO] <int64> ''   \n |Subtensor{:int64:} [id CY] <TensorType(bool, vector)> ''   \n | |Subtensor{int64::} [id BX] <TensorType(bool, vector)> 'Vector controlling if scalar matrix must be recomputed[0:]'   \n | |ScalarFromTensor [id CO] <int64> ''   \n |Subtensor{:int64:} [id CZ] <TensorType(bool, vector)> ''   \n | |Subtensor{int64::} [id CA] <TensorType(bool, vector)> 'Vector controlling if block matrix must be recomputed[0:]'   \n | |ScalarFromTensor [id CO] <int64> ''   \n |Subtensor{:int64:} [id DA] <TensorType(int32, vector)> ''   \n | |Subtensor{int64::} [id CD] <TensorType(int32, vector)> 'The series (fault) is finite[0:]'   \n | |ScalarFromTensor [id CO] <int64> ''   \n |Subtensor{:int64:} [id DB] <TensorType(int32, vector)> ''   \n | |Subtensor{int64::} [id CG] <TensorType(int32, vector)> ''   \n | |ScalarFromTensor [id CO] <int64> ''   \n |Subtensor{:int64:} [id DC] <TensorType(int32, vector)> ''   \n | |Subtensor{int64::} [id CK] <TensorType(int32, vector)> ''   \n | |ScalarFromTensor [id CO] <int64> ''   \n |Subtensor{:int64:} [id DD] <TensorType(int32, vector)> ''   \n | |TensorConstant{[   0    1..4998 4999]} [id DE] <TensorType(int32, vector)>\n | |ScalarFromTensor [id CO] <int64> ''   \n |IncSubtensor{Set;:int64:} [id DF] <TensorType(float64, 4D)> ''   \n | |AllocEmpty{dtype='float64'} [id DG] <TensorType(float64, 4D)> ''   \n | | |Elemwise{add,no_inplace} [id DH] <TensorType(int64, scalar)> ''   \n | | | |Elemwise{minimum,no_inplace} [id B] <TensorType(int64, scalar)> ''   \n | | | |Subtensor{int64} [id DI] <TensorType(int64, scalar)> ''   \n | | |   |Shape [id DJ] <TensorType(int64, vector)> ''   \n | | |   | |Rebroadcast{0} [id DK] <TensorType(float64, 4D)> ''   \n | | |   |   |InplaceDimShuffle{x,0,1,2} [id DL] <TensorType(float64, (True, False, False, False))> ''   \n | | |   |     |block matrix [id DM] <TensorType(float64, 3D)>\n | | |   |Constant{0} [id T] <int64>\n | | |Subtensor{int64} [id DN] <TensorType(int64, scalar)> ''   \n | | | |Shape [id DJ] <TensorType(int64, vector)> ''   \n | | | |Constant{1} [id DO] <int64>\n | | |Subtensor{int64} [id DP] <TensorType(int64, scalar)> ''   \n | | | |Shape [id DJ] <TensorType(int64, vector)> ''   \n | | | |Constant{2} [id DQ] <int64>\n | | |Subtensor{int64} [id DR] <TensorType(int64, scalar)> ''   \n | |   |Shape [id DJ] <TensorType(int64, vector)> ''   \n | |   |Constant{3} [id DS] <int64>\n | |Rebroadcast{0} [id DK] <TensorType(float64, 4D)> ''   \n | |ScalarFromTensor [id DT] <int64> ''   \n |   |Subtensor{int64} [id DI] <TensorType(int64, scalar)> ''   \n |IncSubtensor{Set;:int64:} [id DU] <TensorType(float64, matrix)> ''   \n | |AllocEmpty{dtype='float64'} [id DV] <TensorType(float64, matrix)> ''   \n | | |Elemwise{add,no_inplace} [id DW] <TensorType(int64, scalar)> ''   \n | | | |Elemwise{minimum,no_inplace} [id B] <TensorType(int64, scalar)> ''   \n | | | |Subtensor{int64} [id DX] <TensorType(int64, scalar)> ''   \n | | |   |Shape [id DY] <TensorType(int64, vector)> ''   \n | | |   | |Rebroadcast{0} [id DZ] <TensorType(float64, matrix)> ''   \n | | |   |   |InplaceDimShuffle{x,0} [id EA] <TensorType(float64, row)> ''   \n | | |   |     |Weights vector [id EB] <TensorType(float64, vector)>\n | | |   |Constant{0} [id T] <int64>\n | | |Subtensor{int64} [id EC] <TensorType(int64, scalar)> ''   \n | |   |Shape [id DY] <TensorType(int64, vector)> ''   \n | |   |Constant{1} [id DO] <int64>\n | |Rebroadcast{0} [id DZ] <TensorType(float64, matrix)> ''   \n | |ScalarFromTensor [id ED] <int64> ''   \n |   |Subtensor{int64} [id DX] <TensorType(int64, scalar)> ''   \n |IncSubtensor{Set;:int64:} [id EE] <TensorType(float64, 3D)> ''   \n | |AllocEmpty{dtype='float64'} [id EF] <TensorType(float64, 3D)> ''   \n | | |Elemwise{add,no_inplace} [id EG] <TensorType(int64, scalar)> ''   \n | | | |Elemwise{minimum,no_inplace} [id B] <TensorType(int64, scalar)> ''   \n | | | |Subtensor{int64} [id EH] <TensorType(int64, scalar)> ''   \n | | |   |Shape [id EI] <TensorType(int64, vector)> ''   \n | | |   | |Rebroadcast{0} [id EJ] <TensorType(float64, 3D)> ''   \n | | |   |   |InplaceDimShuffle{x,0,1} [id EK] <TensorType(float64, (True, False, False))> ''   \n | | |   |     |Scalar matrix [id EL] <TensorType(float64, matrix)>\n | | |   |Constant{0} [id T] <int64>\n | | |Subtensor{int64} [id EM] <TensorType(int64, scalar)> ''   \n | | | |Shape [id EI] <TensorType(int64, vector)> ''   \n | | | |Constant{1} [id DO] <int64>\n | | |Subtensor{int64} [id EN] <TensorType(int64, scalar)> ''   \n | |   |Shape [id EI] <TensorType(int64, vector)> ''   \n | |   |Constant{2} [id DQ] <int64>\n | |Rebroadcast{0} [id EJ] <TensorType(float64, 3D)> ''   \n | |ScalarFromTensor [id EO] <int64> ''   \n |   |Subtensor{int64} [id EH] <TensorType(int64, scalar)> ''   \n |IncSubtensor{Set;:int64:} [id EP] <TensorType(float64, 3D)> ''   \n | |AllocEmpty{dtype='float64'} [id EQ] <TensorType(float64, 3D)> ''   \n | | |Elemwise{add,no_inplace} [id ER] <TensorType(int64, scalar)> ''   \n | | | |Elemwise{minimum,no_inplace} [id B] <TensorType(int64, scalar)> ''   \n | | | |Subtensor{int64} [id ES] <TensorType(int64, scalar)> ''   \n | | |   |Shape [id ET] <TensorType(int64, vector)> ''   \n | | |   | |Rebroadcast{0} [id EU] <TensorType(float64, 3D)> ''   \n | | |   |   |InplaceDimShuffle{x,0,1} [id EV] <TensorType(float64, (True, False, False))> ''   \n | | |   |     |Alloc [id EW] <TensorType(float64, matrix)> ''   \n | | |   |       |TensorConstant{0.0} [id EX] <TensorType(float64, scalar)>\n | | |   |       |Subtensor{int64} [id EY] <TensorType(int64, scalar)> ''   \n | | |   |       | |Shape [id EZ] <TensorType(int64, vector)> ''   \n | | |   |       | | |<TensorType(int32, vector)> [id CH] <TensorType(int32, vector)>\n | | |   |       | |Constant{0} [id T] <int64>\n | | |   |       |Subtensor{int64} [id FA] <TensorType(int32, scalar)> ''   \n | | |   |         |List with the number of surfaces [id FB] <TensorType(int32, vector)>\n | | |   |         |Constant{-1} [id FC] <int64>\n | | |   |Constant{0} [id T] <int64>\n | | |Subtensor{int64} [id FD] <TensorType(int64, scalar)> ''   \n | | | |Shape [id ET] <TensorType(int64, vector)> ''   \n | | | |Constant{1} [id DO] <int64>\n | | |Subtensor{int64} [id FE] <TensorType(int64, scalar)> ''   \n | |   |Shape [id ET] <TensorType(int64, vector)> ''   \n | |   |Constant{2} [id DQ] <int64>\n | |Rebroadcast{0} [id EU] <TensorType(float64, 3D)> ''   \n | |ScalarFromTensor [id FF] <int64> ''   \n |   |Subtensor{int64} [id ES] <TensorType(int64, scalar)> ''   \n |IncSubtensor{Set;:int64:} [id FG] <TensorType(bool, 3D)> ''   \n | |AllocEmpty{dtype='bool'} [id FH] <TensorType(bool, 3D)> ''   \n | | |Elemwise{add,no_inplace} [id FI] <TensorType(int64, scalar)> ''   \n | | | |Elemwise{minimum,no_inplace} [id B] <TensorType(int64, scalar)> ''   \n | | | |Subtensor{int64} [id FJ] <TensorType(int64, scalar)> ''   \n | | |   |Shape [id FK] <TensorType(int64, vector)> ''   \n | | |   | |Rebroadcast{0} [id FL] <TensorType(bool, 3D)> ''   \n | | |   |   |InplaceDimShuffle{x,0,1} [id FM] <TensorType(bool, (True, False, False))> ''   \n | | |   |     |mask matrix [id FN] <TensorType(bool, matrix)>\n | | |   |Constant{0} [id T] <int64>\n | | |Subtensor{int64} [id FO] <TensorType(int64, scalar)> ''   \n | | | |Shape [id FK] <TensorType(int64, vector)> ''   \n | | | |Constant{1} [id DO] <int64>\n | | |Subtensor{int64} [id FP] <TensorType(int64, scalar)> ''   \n | |   |Shape [id FK] <TensorType(int64, vector)> ''   \n | |   |Constant{2} [id DQ] <int64>\n | |Rebroadcast{0} [id FL] <TensorType(bool, 3D)> ''   \n | |ScalarFromTensor [id FQ] <int64> ''   \n |   |Subtensor{int64} [id FJ] <TensorType(int64, scalar)> ''   \n |Constant values to interpolate. [id FR] <TensorType(float32, matrix)>\n |Number of points per surface used to split rest-ref [id FS] <TensorType(int32, vector)>\n |fault relation matrix [id FT] <TensorType(int32, matrix)>\n |<TensorType(float64, scalar)> [id FU] <TensorType(float64, scalar)>\n |<TensorType(float64, scalar)> [id FV] <TensorType(float64, scalar)>\n |Range [id FW] <TensorType(float64, scalar)>\n |Covariance at 0 [id FX] <TensorType(float64, scalar)>\n |<TensorType(float64, scalar)> [id FY] <TensorType(float64, scalar)>\n |Nugget effect of gradients [id FZ] <TensorType(float64, vector)>\n |Nugget effect of scalar [id GA] <TensorType(float64, vector)>\n |Attenuation factor [id GB] <TensorType(float64, scalar)>\n |Sigmoid Outside [id GC] <TensorType(float64, scalar)>\n |Sigmoid slope [id GD] <TensorType(float64, scalar)>\n |<TensorType(bool, vector)> [id GE] <TensorType(bool, vector)>\n |All the surface_points points at once [id GF] <TensorType(float64, matrix)>\n |Position of the dips [id GG] <TensorType(float64, matrix)>\n |Angle of every dip [id GH] <TensorType(float64, vector)>\n |Azimuth [id GI] <TensorType(float64, vector)>\n |Polarity [id GJ] <TensorType(float64, vector)>\n |Values that the blocks are taking [id GK] <TensorType(float64, matrix)>\nfor{cpu,Looping}.1 [id A] <TensorType(float64, matrix)> ''   \nfor{cpu,Looping}.2 [id A] <TensorType(float64, 3D)> ''   \nfor{cpu,Looping}.3 [id A] <TensorType(float64, 3D)> ''   \nfor{cpu,Looping}.4 [id A] <TensorType(bool, 3D)> ''   \n\nInner graphs of the scan ops:\n\nfor{cpu,Looping}.0 [id A] <TensorType(float64, 4D)> ''   \n >IncSubtensor{Set;int32, ::} [id GL] <TensorType(float64, 3D)> ''   \n > |block matrix[t-1] [id GM] <TensorType(float64, 3D)> -> [id DF]\n > |if{} [id GN] <TensorType(float64, matrix)> ''   \n > | |Vector controlling if block matrix must be recomputed[t] [id GO] <TensorType(bool, scalar)> -> [id CZ]\n > | |if{} [id GP] <TensorType(float64, matrix)> ''   \n > | | |The series (fault) is finite[t] [id GQ] <TensorType(int32, scalar)> -> [id DA]\n > | | |Sum{axis=[0], acc_dtype=float64} [id GR] <TensorType(float64, matrix)> 'The chunk of block model of a specific series'   \n > | | |Sum{axis=[0], acc_dtype=float64} [id GS] <TensorType(float64, matrix)> 'The chunk of block model of a specific series'   \n > | |Subtensor{int32, ::} [id GT] <TensorType(float64, matrix)> ''   \n > |   |block matrix[t-1] [id GM] <TensorType(float64, 3D)> -> [id DF]\n > |   |ScalarFromTensor [id GU] <int32> ''   \n > |     |<TensorType(int32, scalar)> [id GV] <TensorType(int32, scalar)> -> [id DD]\n > |ScalarFromTensor [id GU] <int32> ''   \n >IncSubtensor{Set;int32:int32:} [id GW] <TensorType(float64, vector)> ''   \n > |Weights vector[t-1] [id GX] <TensorType(float64, vector)> -> [id DU]\n > |if{} [id GY] <TensorType(float64, vector)> ''   \n > | |Vector controlling if weights must be recomputed[t] [id GZ] <TensorType(bool, scalar)> -> [id CX]\n > | |Reshape{1} [id HA] <TensorType(float64, vector)> 'Dual Kriging parameters'   \n > | |Subtensor{int32:int32:} [id HB] <TensorType(float64, vector)> ''   \n > |   |Weights vector[t-1] [id GX] <TensorType(float64, vector)> -> [id DU]\n > |   |ScalarFromTensor [id HC] <int32> ''   \n > |   | |Length of weights in every series[t] [id HD] <TensorType(int32, scalar)> -> [id CS]\n > |   |ScalarFromTensor [id HE] <int32> ''   \n > |     |Length of weights in every series[t+1] [id HF] <TensorType(int32, scalar)> -> [id CT]\n > |ScalarFromTensor [id HC] <int32> ''   \n > |ScalarFromTensor [id HE] <int32> ''   \n >IncSubtensor{Set;int32} [id HG] <TensorType(float64, matrix)> ''   \n > |Scalar matrix[t-1] [id HH] <TensorType(float64, matrix)> -> [id EE]\n > |if{} [id HI] <TensorType(float64, vector)> ''   \n > | |Vector controlling if scalar matrix must be recomputed[t] [id HJ] <TensorType(bool, scalar)> -> [id CY]\n > | |Subtensor{int64} [id HK] <TensorType(float64, vector)> 'Value of the potential field at every point'   \n > | |Subtensor{int32} [id HL] <TensorType(float64, vector)> ''   \n > |   |Scalar matrix[t-1] [id HH] <TensorType(float64, matrix)> -> [id EE]\n > |   |ScalarFromTensor [id GU] <int32> ''   \n > |ScalarFromTensor [id GU] <int32> ''   \n >AdvancedIncSubtensor{inplace=False,  set_instead_of_inc=True} [id HM] <TensorType(float64, matrix)> ''   \n > |<TensorType(float64, matrix)> [id HN] <TensorType(float64, matrix)> -> [id EP]\n > |AdvancedSubtensor1 [id HO] <TensorType(float64, vector)> ''   \n > | |Subtensor{int64:int64:} [id HP] <TensorType(float64, vector)> ''   \n > | | |if{} [id HI] <TensorType(float64, vector)> ''   \n > | | |ScalarFromTensor [id HQ] <int64> ''   \n > | | | |Elemwise{mul,no_inplace} [id HR] <TensorType(int64, scalar)> ''   \n > | | |   |TensorConstant{-2} [id HS] <TensorType(int8, scalar)>\n > | | |   |Elemwise{sub,no_inplace} [id HT] <TensorType(int64, scalar)> ''   \n > | | |     |Subtensor{int64} [id HU] <TensorType(int64, scalar)> ''   \n > | | |     | |Shape [id HV] <TensorType(int64, vector)> ''   \n > | | |     | | |All the surface_points points at once_copy [id HW] <TensorType(float64, matrix)> -> [id GF]\n > | | |     | |Constant{0} [id HX] <int64>\n > | | |     |Subtensor{int64} [id HY] <TensorType(int64, scalar)> ''   \n > | | |       |Shape [id HZ] <TensorType(int64, vector)> ''   \n > | | |       | |Number of points per surface used to split rest-ref_copy [id IA] <TensorType(int32, vector)> -> [id FS]\n > | | |       |Constant{0} [id HX] <int64>\n > | | |ScalarFromTensor [id IB] <int64> ''   \n > | |   |Elemwise{neg,no_inplace} [id IC] <TensorType(int64, scalar)> ''   \n > | |     |Elemwise{sub,no_inplace} [id HT] <TensorType(int64, scalar)> ''   \n > | |Subtensor{int32:int32:} [id ID] <TensorType(int32, vector)> ''   \n > |   |CumOp{None, add} [id IE] <TensorType(int32, vector)> 'Number of points per surfaces after rest-ref. This is used for finding the differentsurface points withing a layer.'   \n > |   |ScalarFromTensor [id IF] <int32> ''   \n > |   | |List with the number of surfaces[t] [id IG] <TensorType(int32, scalar)> -> [id CU]\n > |   |ScalarFromTensor [id IH] <int32> ''   \n > |     |List with the number of surfaces[t+1] [id II] <TensorType(int32, scalar)> -> [id CV]\n > |<TensorType(int32, scalar)> [id GV] <TensorType(int32, scalar)> -> [id DD]\n > |Elemwise{sub,no_inplace} [id IJ] <TensorType(int32, vector)> ''   \n >   |Subtensor{int32:int32:} [id IK] <TensorType(int32, vector)> ''   \n >   | |TensorConstant{[   1    2..4998 4999]} [id IL] <TensorType(int32, vector)>\n >   | |ScalarFromTensor [id IF] <int32> ''   \n >   | |ScalarFromTensor [id IH] <int32> ''   \n >   |TensorConstant{(1,) of 1} [id IM] <TensorType(int8, (True,))>\n >IncSubtensor{Set;int32, ::} [id IN] <TensorType(bool, matrix)> ''   \n > |IncSubtensor{Set;int32, ::} [id IO] <TensorType(bool, matrix)> ''   \n > | |mask matrix[t-1] [id IP] <TensorType(bool, matrix)> -> [id FG]\n > | |if{} [id IQ] <TensorType(bool, vector)> ''   \n > | | |<TensorType(int32, scalar)> [id IR] <TensorType(int32, scalar)> -> [id DC]\n > | | |Elemwise{gt,no_inplace} [id IS] <TensorType(bool, vector)> ''   \n > | | | |if{} [id HI] <TensorType(float64, vector)> ''   \n > | | | |InplaceDimShuffle{x} [id IT] <TensorType(float64, (True,))> ''   \n > | | |   |MaxAndArgmax{axis=(0,)}.0 [id IU] <TensorType(float64, scalar)> 'max'   \n > | | |Subtensor{int32, ::} [id IV] <TensorType(bool, vector)> ''   \n > | |   |mask matrix[t-1] [id IP] <TensorType(bool, matrix)> -> [id FG]\n > | |   |ScalarFromTensor [id IW] <int32> ''   \n > | |     |Elemwise{sub,no_inplace} [id IX] <TensorType(int32, scalar)> ''   \n > | |       |<TensorType(int32, scalar)> [id GV] <TensorType(int32, scalar)> -> [id DD]\n > | |       |TensorConstant{1} [id IY] <TensorType(int8, scalar)>\n > | |ScalarFromTensor [id IW] <int32> ''   \n > |if{} [id IZ] <TensorType(bool, vector)> ''   \n > | |<TensorType(int32, scalar)> [id JA] <TensorType(int32, scalar)> -> [id DB]\n > | |Elemwise{gt,no_inplace} [id JB] <TensorType(bool, vector)> ''   \n > | | |if{} [id HI] <TensorType(float64, vector)> ''   \n > | | |InplaceDimShuffle{x} [id JC] <TensorType(float64, (True,))> ''   \n > | |   |Elemwise{neg,no_inplace} [id JD] <TensorType(float64, scalar)> ''   \n > | |     |MaxAndArgmax{axis=(0,)}.0 [id JE] <TensorType(float64, scalar)> 'max'   \n > | |Elemwise{mul,no_inplace} [id JF] <TensorType(bool, vector)> ''   \n > |   |InplaceDimShuffle{x} [id JG] <TensorType(bool, (True,))> ''   \n > |   | |Elemwise{invert,no_inplace} [id JH] <TensorType(bool, scalar)> ''   \n > |   |   |Subtensor{int32} [id JI] <TensorType(bool, scalar)> ''   \n > |   |     |<TensorType(bool, vector)> [id JJ] <TensorType(bool, vector)> -> [id GE]\n > |   |     |ScalarFromTensor [id GU] <int32> ''   \n > |   |Elemwise{second,no_inplace} [id JK] <TensorType(bool, vector)> ''   \n > |     |if{} [id HI] <TensorType(float64, vector)> ''   \n > |     |TensorConstant{(1,) of True} [id JL] <TensorType(bool, (True,))>\n > |ScalarFromTensor [id GU] <int32> ''   \n\nfor{cpu,Looping}.1 [id A] <TensorType(float64, matrix)> ''   \n >IncSubtensor{Set;int32, ::} [id GL] <TensorType(float64, 3D)> ''   \n >IncSubtensor{Set;int32:int32:} [id GW] <TensorType(float64, vector)> ''   \n >IncSubtensor{Set;int32} [id HG] <TensorType(float64, matrix)> ''   \n >AdvancedIncSubtensor{inplace=False,  set_instead_of_inc=True} [id HM] <TensorType(float64, matrix)> ''   \n >IncSubtensor{Set;int32, ::} [id IN] <TensorType(bool, matrix)> ''   \n\nfor{cpu,Looping}.2 [id A] <TensorType(float64, 3D)> ''   \n >IncSubtensor{Set;int32, ::} [id GL] <TensorType(float64, 3D)> ''   \n >IncSubtensor{Set;int32:int32:} [id GW] <TensorType(float64, vector)> ''   \n >IncSubtensor{Set;int32} [id HG] <TensorType(float64, matrix)> ''   \n >AdvancedIncSubtensor{inplace=False,  set_instead_of_inc=True} [id HM] <TensorType(float64, matrix)> ''   \n >IncSubtensor{Set;int32, ::} [id IN] <TensorType(bool, matrix)> ''   \n\nfor{cpu,Looping}.3 [id A] <TensorType(float64, 3D)> ''   \n >IncSubtensor{Set;int32, ::} [id GL] <TensorType(float64, 3D)> ''   \n >IncSubtensor{Set;int32:int32:} [id GW] <TensorType(float64, vector)> ''   \n >IncSubtensor{Set;int32} [id HG] <TensorType(float64, matrix)> ''   \n >AdvancedIncSubtensor{inplace=False,  set_instead_of_inc=True} [id HM] <TensorType(float64, matrix)> ''   \n >IncSubtensor{Set;int32, ::} [id IN] <TensorType(bool, matrix)> ''   \n\nfor{cpu,Looping}.4 [id A] <TensorType(bool, 3D)> ''   \n >IncSubtensor{Set;int32, ::} [id GL] <TensorType(float64, 3D)> ''   \n >IncSubtensor{Set;int32:int32:} [id GW] <TensorType(float64, vector)> ''   \n >IncSubtensor{Set;int32} [id HG] <TensorType(float64, matrix)> ''   \n >AdvancedIncSubtensor{inplace=False,  set_instead_of_inc=True} [id HM] <TensorType(float64, matrix)> ''   \n >IncSubtensor{Set;int32, ::} [id IN] <TensorType(bool, matrix)> ''   \n\nStorage map footprint:\n - IncSubtensor{Set;:int64:}.0, Shape: (5, 4, 1000160), ElemSize: 8 Byte(s), TotalSize: 160025600 Byte(s)\n - IncSubtensor{Set;:int64:}.0, Shape: (5, 4, 1, 1000160), ElemSize: 8 Byte(s), TotalSize: 160025600 Byte(s)\n - for{cpu,Looping}.0, Shape: (5, 4, 1, 1000160), ElemSize: 8 Byte(s), TotalSize: 160025600 Byte(s)\n - for{cpu,Looping}.2, Shape: (5, 4, 1000160), ElemSize: 8 Byte(s), TotalSize: 160025600 Byte(s)\n - block matrix, Shared Input, Shape: (4, 1, 1000160), ElemSize: 8 Byte(s), TotalSize: 32005120 Byte(s)\n - Scalar matrix, Shared Input, Shape: (4, 1000160), ElemSize: 8 Byte(s), TotalSize: 32005120 Byte(s)\n - Coordinates of the grid points to interpolate, Input, Shape: (1000000, 3), ElemSize: 8 Byte(s), TotalSize: 24000000 Byte(s)\n - IncSubtensor{Set;:int64:}.0, Shape: (5, 4, 1000160), ElemSize: 1 Byte(s), TotalSize: 20003200 Byte(s)\n - for{cpu,Looping}.4, Shape: (5, 4, 1000160), ElemSize: 1 Byte(s), TotalSize: 20003200 Byte(s)\n - Constant values to interpolate., Shared Input, Shape: (1000000, 3), ElemSize: 4 Byte(s), TotalSize: 12000000 Byte(s)\n - mask matrix, Shared Input, Shape: (4, 1000160), ElemSize: 1 Byte(s), TotalSize: 4000640 Byte(s)\n - IncSubtensor{Set;:int64:}.0, Shape: (5, 621), ElemSize: 8 Byte(s), TotalSize: 24840 Byte(s)\n - for{cpu,Looping}.1, Shape: (5, 621), ElemSize: 8 Byte(s), TotalSize: 24840 Byte(s)\n - TensorConstant{[   0    1..4998 4999]}, Shape: (5000,), ElemSize: 4 Byte(s), TotalSize: 20000 Byte(s)\n - Weights vector, Shared Input, Shape: (621,), ElemSize: 8 Byte(s), TotalSize: 4968 Byte(s)\n - Position of the dips, Input, Shape: (175, 3), ElemSize: 8 Byte(s), TotalSize: 4200 Byte(s)\n - Nugget effect of gradients, Shared Input, Shape: (525,), ElemSize: 8 Byte(s), TotalSize: 4200 Byte(s)\n - All the surface_points points at once, Input, Shape: (86, 3), ElemSize: 8 Byte(s), TotalSize: 2064 Byte(s)\n - Angle of every dip, Input, Shape: (175,), ElemSize: 8 Byte(s), TotalSize: 1400 Byte(s)\n - Azimuth, Input, Shape: (175,), ElemSize: 8 Byte(s), TotalSize: 1400 Byte(s)\n - Polarity, Input, Shape: (175,), ElemSize: 8 Byte(s), TotalSize: 1400 Byte(s)\n - Vector controlling if weights must be recomputed, Input, Shape: (1000,), ElemSize: 1 Byte(s), TotalSize: 1000 Byte(s)\n - Vector controlling if scalar matrix must be recomputed, Input, Shape: (1000,), ElemSize: 1 Byte(s), TotalSize: 1000 Byte(s)\n - Vector controlling if block matrix must be recomputed, Input, Shape: (1000,), ElemSize: 1 Byte(s), TotalSize: 1000 Byte(s)\n - IncSubtensor{Set;:int64:}.0, Shape: (5, 4, 6), ElemSize: 8 Byte(s), TotalSize: 960 Byte(s)\n - for{cpu,Looping}.3, Shape: (5, 4, 6), ElemSize: 8 Byte(s), TotalSize: 960 Byte(s)\n - Nugget effect of scalar, Shared Input, Shape: (86,), ElemSize: 8 Byte(s), TotalSize: 688 Byte(s)\n - fault relation matrix, Shared Input, Shape: (4, 4), ElemSize: 4 Byte(s), TotalSize: 64 Byte(s)\n - Values that the blocks are taking, Input, Shape: (1, 7), ElemSize: 8 Byte(s), TotalSize: 56 Byte(s)\n - Number of points per surface used to split rest-ref, Shared Input, Shape: (6,), ElemSize: 4 Byte(s), TotalSize: 24 Byte(s)\n - Length of surface_points in every series, Shared Input, Shape: (5,), ElemSize: 4 Byte(s), TotalSize: 20 Byte(s)\n - Length of foliations in every series, Shared Input, Shape: (5,), ElemSize: 4 Byte(s), TotalSize: 20 Byte(s)\n - Length of weights in every series, Shared Input, Shape: (5,), ElemSize: 4 Byte(s), TotalSize: 20 Byte(s)\n - List with the number of surfaces, Shared Input, Shape: (5,), ElemSize: 4 Byte(s), TotalSize: 20 Byte(s)\n - Grade of the universal drift, Shared Input, Shape: (4,), ElemSize: 4 Byte(s), TotalSize: 16 Byte(s)\n - The series (fault) is finite, Shared Input, Shape: (4,), ElemSize: 4 Byte(s), TotalSize: 16 Byte(s)\n - <TensorType(int32, vector)>, Shared Input, Shape: (4,), ElemSize: 4 Byte(s), TotalSize: 16 Byte(s)\n - <TensorType(int32, vector)>, Shared Input, Shape: (4,), ElemSize: 4 Byte(s), TotalSize: 16 Byte(s)\n - Subtensor{:int64:}.0, Shape: (4,), ElemSize: 4 Byte(s), TotalSize: 16 Byte(s)\n - Subtensor{:int64:}.0, Shape: (4,), ElemSize: 4 Byte(s), TotalSize: 16 Byte(s)\n - Subtensor{:int64:}.0, Shape: (4,), ElemSize: 4 Byte(s), TotalSize: 16 Byte(s)\n - Subtensor{:int64:}.0, Shape: (4,), ElemSize: 4 Byte(s), TotalSize: 16 Byte(s)\n - Subtensor{:int64:}.0, Shape: (4,), ElemSize: 4 Byte(s), TotalSize: 16 Byte(s)\n - Subtensor{:int64:}.0, Shape: (4,), ElemSize: 4 Byte(s), TotalSize: 16 Byte(s)\n - Subtensor{:int64:}.0, Shape: (4,), ElemSize: 4 Byte(s), TotalSize: 16 Byte(s)\n - Subtensor{:int64:}.0, Shape: (4,), ElemSize: 4 Byte(s), TotalSize: 16 Byte(s)\n - Subtensor{:int64:}.0, Shape: (4,), ElemSize: 4 Byte(s), TotalSize: 16 Byte(s)\n - Subtensor{:int64:}.0, Shape: (4,), ElemSize: 4 Byte(s), TotalSize: 16 Byte(s)\n - Subtensor{:int64:}.0, Shape: (4,), ElemSize: 4 Byte(s), TotalSize: 16 Byte(s)\n - Subtensor{:int64:}.0, Shape: (4,), ElemSize: 4 Byte(s), TotalSize: 16 Byte(s)\n - Subtensor{:int64:}.0, Shape: (4,), ElemSize: 4 Byte(s), TotalSize: 16 Byte(s)\n - <TensorType(float64, scalar)>, Shared Input, Shape: (), ElemSize: 8 Byte(s), TotalSize: 8.0 Byte(s)\n - <TensorType(float64, scalar)>, Shared Input, Shape: (), ElemSize: 8 Byte(s), TotalSize: 8.0 Byte(s)\n - Range, Shared Input, Shape: (), ElemSize: 8 Byte(s), TotalSize: 8.0 Byte(s)\n - Covariance at 0, Shared Input, Shape: (), ElemSize: 8 Byte(s), TotalSize: 8.0 Byte(s)\n - <TensorType(float64, scalar)>, Shared Input, Shape: (), ElemSize: 8 Byte(s), TotalSize: 8.0 Byte(s)\n - Attenuation factor, Shared Input, Shape: (), ElemSize: 8 Byte(s), TotalSize: 8.0 Byte(s)\n - Sigmoid Outside, Shared Input, Shape: (), ElemSize: 8 Byte(s), TotalSize: 8.0 Byte(s)\n - Sigmoid slope, Shared Input, Shape: (), ElemSize: 8 Byte(s), TotalSize: 8.0 Byte(s)\n - Constant{0}, Shape: (), ElemSize: 8 Byte(s), TotalSize: 8.0 Byte(s)\n - Constant{2}, Shape: (), ElemSize: 8 Byte(s), TotalSize: 8.0 Byte(s)\n - Constant{1}, Shape: (), ElemSize: 8 Byte(s), TotalSize: 8.0 Byte(s)\n - Constant{-1}, Shape: (), ElemSize: 8 Byte(s), TotalSize: 8.0 Byte(s)\n - TensorConstant{5000}, Shape: (), ElemSize: 8 Byte(s), TotalSize: 8.0 Byte(s)\n - Elemwise{minimum,no_inplace}.0, Shape: (), ElemSize: 8 Byte(s), TotalSize: 8.0 Byte(s)\n - TensorConstant{0.0}, Shape: (), ElemSize: 8 Byte(s), TotalSize: 8.0 Byte(s)\n - Constant{3}, Shape: (), ElemSize: 8 Byte(s), TotalSize: 8.0 Byte(s)\n - <TensorType(bool, vector)>, Shared Input, Shape: (4,), ElemSize: 1 Byte(s), TotalSize: 4 Byte(s)\n - Subtensor{:int64:}.0, Shape: (4,), ElemSize: 1 Byte(s), TotalSize: 4 Byte(s)\n - Subtensor{:int64:}.0, Shape: (4,), ElemSize: 1 Byte(s), TotalSize: 4 Byte(s)\n - Subtensor{:int64:}.0, Shape: (4,), ElemSize: 1 Byte(s), TotalSize: 4 Byte(s)\n - TensorConstant{(1,) of -1}, Shape: (1,), ElemSize: 4 Byte(s), TotalSize: 4 Byte(s)\n - TensorConstant{0}, Shape: (), ElemSize: 1 Byte(s), TotalSize: 1.0 Byte(s)\n - Full block matrix for faults or drift. We take 2 times len points for the faultdrift., Input, Shape: (0, 1000160), ElemSize: 8 Byte(s), TotalSize: 0 Byte(s)\n TotalSize: 784215229.0 Byte(s) 0.730 GB\n TotalSize inputs: 104054617.0 Byte(s) 0.097 GB\n\n"
     ]
    }
   ],
   "source": [
    "sol = gp.compute_model(geo_model, compute_mesh=False)"
   ]
  },
  {
   "cell_type": "code",
   "execution_count": 31,
   "metadata": {},
   "outputs": [
    {
     "data": {
      "text/plain": [
       "['C:\\\\Users\\\\Kevin\\\\Anaconda3\\\\lib\\\\site-packages\\\\skimage']"
      ]
     },
     "execution_count": 31,
     "metadata": {},
     "output_type": "execute_result"
    }
   ],
   "source": [
    "import skimage\n",
    "skimage.__path__"
   ]
  },
  {
   "cell_type": "code",
   "execution_count": 20,
   "metadata": {},
   "outputs": [
    {
     "name": "stderr",
     "output_type": "stream",
     "text": [
      "C:\\Users\\Kevin\\Anaconda3\\lib\\site-packages\\theano\\tensor\\slinalg.py:255: LinAlgWarning: Ill-conditioned matrix (rcond=2.13196e-30): result may not be accurate.\n",
      "  rval = scipy.linalg.solve(A, b)\n",
      "C:\\Users\\Kevin\\Anaconda3\\lib\\site-packages\\gempy\\core\\solution.py:253: UserWarning: Attribute error. Using non masked marching cubesmarching_cubes_lewiner() got an unexpected keyword argument 'mask'\n",
      "  warnings.warn('Attribute error. Using non masked marching cubes' + str(e))\n"
     ]
    },
    {
     "data": {
      "text/plain": [
       "\n",
       "Lithology ids \n",
       "  [6.99051664 6.99052161 6.99052658 ... 7.         7.         7.        ] "
      ]
     },
     "execution_count": 20,
     "metadata": {},
     "output_type": "execute_result"
    }
   ],
   "source": [
    "gp.compute_model(geo_model)"
   ]
  },
  {
   "cell_type": "code",
   "execution_count": 28,
   "metadata": {},
   "outputs": [
    {
     "data": {
      "text/plain": [
       "<gempy.plot.visualization_2d.PlotData2D at 0x1e68e725a90>"
      ]
     },
     "execution_count": 28,
     "metadata": {},
     "output_type": "execute_result"
    },
    {
     "data": {
      "image/png": "[encoded data removed]",
      "text/plain": [
       "<Figure size 1440x360 with 1 Axes>"
      ]
     },
     "metadata": {},
     "output_type": "display_data"
    }
   ],
   "source": [
    "%matplotlib inline\n",
    "gp.plot.plot_section(geo_model, cell_number=50, show_legend=True,\n",
    "                    direction='x', show_data=True)"
   ]
  },
  {
   "cell_type": "code",
   "execution_count": 21,
   "metadata": {},
   "outputs": [],
   "source": [
    "ver, sim = gp.get_surfaces(geo_model)"
   ]
  },
  {
   "cell_type": "code",
   "execution_count": null,
   "metadata": {},
   "outputs": [],
   "source": [
    "gp.plot.plot_3D(geo_model)"
   ]
  },
  {
   "cell_type": "code",
   "execution_count": null,
   "metadata": {},
   "outputs": [],
   "source": [
    "gp.save_model(geo_model, path='C:/Users/Kevin/Documents/Studium/Master_Thesis/GemPy_Models')"
   ]
  },
  {
   "cell_type": "code",
   "execution_count": null,
   "metadata": {},
   "outputs": [],
   "source": []
  }
 ],
 "metadata": {
  "kernelspec": {
   "display_name": "Python 3",
   "language": "python",
   "name": "python3"
  },
  "language_info": {
   "codemirror_mode": {
    "name": "ipython",
    "version": 3
   },
   "file_extension": ".py",
   "mimetype": "text/x-python",
   "name": "python",
   "nbconvert_exporter": "python",
   "pygments_lexer": "ipython3",
   "version": "3.7.3"
  }
 },
 "nbformat": 4,
 "nbformat_minor": 2
}
