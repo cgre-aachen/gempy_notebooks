{
 "cells": [
  {
   "cell_type": "code",
   "execution_count": 1,
   "metadata": {},
   "outputs": [],
   "source": [
    "#import sys\n",
    "#sys.path.insert(0, r'C:\\Users\\Kevin\\Documents\\Studium\\Master_Thesis\\GemPy_Models\\gempy')\n",
    "import gempy as gp\n",
    "import numpy as np\n",
    "import matplotlib.pyplot as plt\n",
    "%matplotlib inline"
   ]
  },
  {
   "cell_type": "code",
   "execution_count": 2,
   "metadata": {},
   "outputs": [],
   "source": [
    "geo_model = gp.create_model('Uncertainty_Hausham_Syncline_Helv_Thrust')"
   ]
  },
  {
   "cell_type": "code",
   "execution_count": 3,
   "metadata": {},
   "outputs": [
    {
     "name": "stdout",
     "output_type": "stream",
     "text": [
      "Active grids: ['regular']\n"
     ]
    }
   ],
   "source": [
    "gp.init_data(geo_model, [4483500,4491100.,5287000,5294000.,-1000,1200.],[100,100,100],\n",
    "            path_o = 'C:/Users/Kevin/Documents/Studium/Master_Thesis/GemPy_Models/data/True_Boundary_Sets/Uncertainty_Hausham_Helv_Thrust/orientations_Uncertainty_Hausham_Helv_Thrust.csv',\n",
    "            path_i = 'C:/Users/Kevin/Documents/Studium/Master_Thesis/GemPy_Models/data/True_Boundary_Sets/Uncertainty_Hausham_Helv_Thrust/Points_Uncertainty_Hausham_Helv_Thrust.csv', default_values=True);"
   ]
  },
  {
   "cell_type": "code",
   "execution_count": 4,
   "metadata": {},
   "outputs": [
    {
     "data": {
      "text/html": [
       "<div>\n",
       "<style scoped>\n",
       "    .dataframe tbody tr th:only-of-type {\n",
       "        vertical-align: middle;\n",
       "    }\n",
       "\n",
       "    .dataframe tbody tr th {\n",
       "        vertical-align: top;\n",
       "    }\n",
       "\n",
       "    .dataframe thead th {\n",
       "        text-align: right;\n",
       "    }\n",
       "</style>\n",
       "<table border=\"1\" class=\"dataframe\">\n",
       "  <thead>\n",
       "    <tr style=\"text-align: right;\">\n",
       "      <th></th>\n",
       "      <th>X</th>\n",
       "      <th>Y</th>\n",
       "      <th>Z</th>\n",
       "      <th>X_r</th>\n",
       "      <th>Y_r</th>\n",
       "      <th>Z_r</th>\n",
       "      <th>surface</th>\n",
       "      <th>series</th>\n",
       "      <th>id</th>\n",
       "      <th>order_series</th>\n",
       "      <th>smooth</th>\n",
       "    </tr>\n",
       "  </thead>\n",
       "  <tbody>\n",
       "    <tr>\n",
       "      <th>0</th>\n",
       "      <td>4491092.197</td>\n",
       "      <td>5290571.959</td>\n",
       "      <td>859.718922</td>\n",
       "      <td>0.749585</td>\n",
       "      <td>0.438913</td>\n",
       "      <td>0.541490</td>\n",
       "      <td>Baustein Beds</td>\n",
       "      <td>Default series</td>\n",
       "      <td>1</td>\n",
       "      <td>1</td>\n",
       "      <td>1.000000e-08</td>\n",
       "    </tr>\n",
       "    <tr>\n",
       "      <th>1</th>\n",
       "      <td>4485599.701</td>\n",
       "      <td>5289663.717</td>\n",
       "      <td>816.109631</td>\n",
       "      <td>0.387401</td>\n",
       "      <td>0.379022</td>\n",
       "      <td>0.538614</td>\n",
       "      <td>Baustein Beds</td>\n",
       "      <td>Default series</td>\n",
       "      <td>1</td>\n",
       "      <td>1</td>\n",
       "      <td>1.000000e-08</td>\n",
       "    </tr>\n",
       "    <tr>\n",
       "      <th>2</th>\n",
       "      <td>4487939.758</td>\n",
       "      <td>5289967.551</td>\n",
       "      <td>772.191961</td>\n",
       "      <td>0.541708</td>\n",
       "      <td>0.399057</td>\n",
       "      <td>0.535718</td>\n",
       "      <td>Baustein Beds</td>\n",
       "      <td>Default series</td>\n",
       "      <td>1</td>\n",
       "      <td>1</td>\n",
       "      <td>1.000000e-08</td>\n",
       "    </tr>\n",
       "    <tr>\n",
       "      <th>3</th>\n",
       "      <td>4485904.071</td>\n",
       "      <td>5292733.009</td>\n",
       "      <td>754.799017</td>\n",
       "      <td>0.407471</td>\n",
       "      <td>0.581416</td>\n",
       "      <td>0.534571</td>\n",
       "      <td>Baustein Beds</td>\n",
       "      <td>Default series</td>\n",
       "      <td>1</td>\n",
       "      <td>1</td>\n",
       "      <td>1.000000e-08</td>\n",
       "    </tr>\n",
       "    <tr>\n",
       "      <th>4</th>\n",
       "      <td>4490607.253</td>\n",
       "      <td>5293521.794</td>\n",
       "      <td>704.724742</td>\n",
       "      <td>0.717607</td>\n",
       "      <td>0.633430</td>\n",
       "      <td>0.531269</td>\n",
       "      <td>Baustein Beds</td>\n",
       "      <td>Default series</td>\n",
       "      <td>1</td>\n",
       "      <td>1</td>\n",
       "      <td>1.000000e-08</td>\n",
       "    </tr>\n",
       "  </tbody>\n",
       "</table>\n",
       "</div>"
      ],
      "text/plain": [
       "             X            Y           Z       X_r       Y_r       Z_r  \\\n",
       "0  4491092.197  5290571.959  859.718922  0.749585  0.438913  0.541490   \n",
       "1  4485599.701  5289663.717  816.109631  0.387401  0.379022  0.538614   \n",
       "2  4487939.758  5289967.551  772.191961  0.541708  0.399057  0.535718   \n",
       "3  4485904.071  5292733.009  754.799017  0.407471  0.581416  0.534571   \n",
       "4  4490607.253  5293521.794  704.724742  0.717607  0.633430  0.531269   \n",
       "\n",
       "         surface          series  id  order_series        smooth  \n",
       "0  Baustein Beds  Default series   1             1  1.000000e-08  \n",
       "1  Baustein Beds  Default series   1             1  1.000000e-08  \n",
       "2  Baustein Beds  Default series   1             1  1.000000e-08  \n",
       "3  Baustein Beds  Default series   1             1  1.000000e-08  \n",
       "4  Baustein Beds  Default series   1             1  1.000000e-08  "
      ]
     },
     "execution_count": 4,
     "metadata": {},
     "output_type": "execute_result"
    }
   ],
   "source": [
    "gp.get_data(geo_model, 'surface_points').head()"
   ]
  },
  {
   "cell_type": "code",
   "execution_count": 5,
   "metadata": {},
   "outputs": [
    {
     "data": {
      "text/html": [
       "<div>\n",
       "<style scoped>\n",
       "    .dataframe tbody tr th:only-of-type {\n",
       "        vertical-align: middle;\n",
       "    }\n",
       "\n",
       "    .dataframe tbody tr th {\n",
       "        vertical-align: top;\n",
       "    }\n",
       "\n",
       "    .dataframe thead th {\n",
       "        text-align: right;\n",
       "    }\n",
       "</style>\n",
       "<table border=\"1\" class=\"dataframe\">\n",
       "  <thead>\n",
       "    <tr style=\"text-align: right;\">\n",
       "      <th></th>\n",
       "      <th>X</th>\n",
       "      <th>Y</th>\n",
       "      <th>Z</th>\n",
       "      <th>X_r</th>\n",
       "      <th>Y_r</th>\n",
       "      <th>Z_r</th>\n",
       "      <th>G_x</th>\n",
       "      <th>G_y</th>\n",
       "      <th>G_z</th>\n",
       "      <th>dip</th>\n",
       "      <th>azimuth</th>\n",
       "      <th>polarity</th>\n",
       "      <th>surface</th>\n",
       "      <th>series</th>\n",
       "      <th>id</th>\n",
       "      <th>order_series</th>\n",
       "      <th>smooth</th>\n",
       "    </tr>\n",
       "  </thead>\n",
       "  <tbody>\n",
       "    <tr>\n",
       "      <th>4</th>\n",
       "      <td>4490813.781</td>\n",
       "      <td>5290501.691</td>\n",
       "      <td>905.000000</td>\n",
       "      <td>0.731226</td>\n",
       "      <td>0.434279</td>\n",
       "      <td>0.544476</td>\n",
       "      <td>-2.105686e-01</td>\n",
       "      <td>0.578533</td>\n",
       "      <td>-7.880108e-01</td>\n",
       "      <td>38</td>\n",
       "      <td>160</td>\n",
       "      <td>-1</td>\n",
       "      <td>Baustein Beds</td>\n",
       "      <td>Default series</td>\n",
       "      <td>1</td>\n",
       "      <td>1</td>\n",
       "      <td>0.01</td>\n",
       "    </tr>\n",
       "    <tr>\n",
       "      <th>23</th>\n",
       "      <td>4490413.746</td>\n",
       "      <td>5293411.739</td>\n",
       "      <td>714.205592</td>\n",
       "      <td>0.704847</td>\n",
       "      <td>0.626173</td>\n",
       "      <td>0.531894</td>\n",
       "      <td>2.935753e-01</td>\n",
       "      <td>-0.629574</td>\n",
       "      <td>7.193398e-01</td>\n",
       "      <td>44</td>\n",
       "      <td>155</td>\n",
       "      <td>1</td>\n",
       "      <td>Baustein Beds</td>\n",
       "      <td>Default series</td>\n",
       "      <td>1</td>\n",
       "      <td>1</td>\n",
       "      <td>0.01</td>\n",
       "    </tr>\n",
       "    <tr>\n",
       "      <th>24</th>\n",
       "      <td>4490909.815</td>\n",
       "      <td>5293564.701</td>\n",
       "      <td>715.000000</td>\n",
       "      <td>0.737559</td>\n",
       "      <td>0.636259</td>\n",
       "      <td>0.531947</td>\n",
       "      <td>1.000094e-12</td>\n",
       "      <td>-0.766044</td>\n",
       "      <td>6.427876e-01</td>\n",
       "      <td>50</td>\n",
       "      <td>180</td>\n",
       "      <td>1</td>\n",
       "      <td>Baustein Beds</td>\n",
       "      <td>Default series</td>\n",
       "      <td>1</td>\n",
       "      <td>1</td>\n",
       "      <td>0.01</td>\n",
       "    </tr>\n",
       "    <tr>\n",
       "      <th>1</th>\n",
       "      <td>4491023.000</td>\n",
       "      <td>5290290.000</td>\n",
       "      <td>930.500000</td>\n",
       "      <td>0.745022</td>\n",
       "      <td>0.420320</td>\n",
       "      <td>0.546157</td>\n",
       "      <td>1.116189e-01</td>\n",
       "      <td>-0.633022</td>\n",
       "      <td>7.660444e-01</td>\n",
       "      <td>40</td>\n",
       "      <td>170</td>\n",
       "      <td>1</td>\n",
       "      <td>Helvetics_Base_Thrust</td>\n",
       "      <td>Default series</td>\n",
       "      <td>2</td>\n",
       "      <td>1</td>\n",
       "      <td>0.01</td>\n",
       "    </tr>\n",
       "    <tr>\n",
       "      <th>0</th>\n",
       "      <td>4484335.990</td>\n",
       "      <td>5290280.297</td>\n",
       "      <td>810.000000</td>\n",
       "      <td>0.304069</td>\n",
       "      <td>0.419680</td>\n",
       "      <td>0.538211</td>\n",
       "      <td>1.000000e-12</td>\n",
       "      <td>1.000000</td>\n",
       "      <td>1.000061e-12</td>\n",
       "      <td>90</td>\n",
       "      <td>0</td>\n",
       "      <td>1</td>\n",
       "      <td>Lower Bunte Molasse</td>\n",
       "      <td>Default series</td>\n",
       "      <td>3</td>\n",
       "      <td>1</td>\n",
       "      <td>0.01</td>\n",
       "    </tr>\n",
       "  </tbody>\n",
       "</table>\n",
       "</div>"
      ],
      "text/plain": [
       "              X            Y           Z       X_r       Y_r       Z_r  \\\n",
       "4   4490813.781  5290501.691  905.000000  0.731226  0.434279  0.544476   \n",
       "23  4490413.746  5293411.739  714.205592  0.704847  0.626173  0.531894   \n",
       "24  4490909.815  5293564.701  715.000000  0.737559  0.636259  0.531947   \n",
       "1   4491023.000  5290290.000  930.500000  0.745022  0.420320  0.546157   \n",
       "0   4484335.990  5290280.297  810.000000  0.304069  0.419680  0.538211   \n",
       "\n",
       "             G_x       G_y           G_z  dip  azimuth  polarity  \\\n",
       "4  -2.105686e-01  0.578533 -7.880108e-01   38      160        -1   \n",
       "23  2.935753e-01 -0.629574  7.193398e-01   44      155         1   \n",
       "24  1.000094e-12 -0.766044  6.427876e-01   50      180         1   \n",
       "1   1.116189e-01 -0.633022  7.660444e-01   40      170         1   \n",
       "0   1.000000e-12  1.000000  1.000061e-12   90        0         1   \n",
       "\n",
       "                  surface          series  id  order_series  smooth  \n",
       "4           Baustein Beds  Default series   1             1    0.01  \n",
       "23          Baustein Beds  Default series   1             1    0.01  \n",
       "24          Baustein Beds  Default series   1             1    0.01  \n",
       "1   Helvetics_Base_Thrust  Default series   2             1    0.01  \n",
       "0     Lower Bunte Molasse  Default series   3             1    0.01  "
      ]
     },
     "execution_count": 5,
     "metadata": {},
     "output_type": "execute_result"
    }
   ],
   "source": [
    "gp.get_data(geo_model, 'orientations').head()"
   ]
  },
  {
   "cell_type": "code",
   "execution_count": 6,
   "metadata": {},
   "outputs": [
    {
     "data": {
      "text/html": [
       "<style  type=\"text/css\" >\n",
       "    #T_782c0990_e9bc_11e9_9c3c_fd7a9313d7adrow0_col4 {\n",
       "            background-color:  #015482;\n",
       "        }    #T_782c0990_e9bc_11e9_9c3c_fd7a9313d7adrow1_col4 {\n",
       "            background-color:  #9f0052;\n",
       "        }    #T_782c0990_e9bc_11e9_9c3c_fd7a9313d7adrow2_col4 {\n",
       "            background-color:  #ffbe00;\n",
       "        }    #T_782c0990_e9bc_11e9_9c3c_fd7a9313d7adrow3_col4 {\n",
       "            background-color:  #728f02;\n",
       "        }    #T_782c0990_e9bc_11e9_9c3c_fd7a9313d7adrow4_col4 {\n",
       "            background-color:  #443988;\n",
       "        }</style><table id=\"T_782c0990_e9bc_11e9_9c3c_fd7a9313d7ad\" ><thead>    <tr>        <th class=\"blank level0\" ></th>        <th class=\"col_heading level0 col0\" >surface</th>        <th class=\"col_heading level0 col1\" >series</th>        <th class=\"col_heading level0 col2\" >order_surfaces</th>        <th class=\"col_heading level0 col3\" >isBasement</th>        <th class=\"col_heading level0 col4\" >color</th>        <th class=\"col_heading level0 col5\" >id</th>    </tr></thead><tbody>\n",
       "                <tr>\n",
       "                        <th id=\"T_782c0990_e9bc_11e9_9c3c_fd7a9313d7adlevel0_row0\" class=\"row_heading level0 row0\" >0</th>\n",
       "                        <td id=\"T_782c0990_e9bc_11e9_9c3c_fd7a9313d7adrow0_col0\" class=\"data row0 col0\" >Baustein Beds</td>\n",
       "                        <td id=\"T_782c0990_e9bc_11e9_9c3c_fd7a9313d7adrow0_col1\" class=\"data row0 col1\" >Default series</td>\n",
       "                        <td id=\"T_782c0990_e9bc_11e9_9c3c_fd7a9313d7adrow0_col2\" class=\"data row0 col2\" >1</td>\n",
       "                        <td id=\"T_782c0990_e9bc_11e9_9c3c_fd7a9313d7adrow0_col3\" class=\"data row0 col3\" >False</td>\n",
       "                        <td id=\"T_782c0990_e9bc_11e9_9c3c_fd7a9313d7adrow0_col4\" class=\"data row0 col4\" >#015482</td>\n",
       "                        <td id=\"T_782c0990_e9bc_11e9_9c3c_fd7a9313d7adrow0_col5\" class=\"data row0 col5\" >1</td>\n",
       "            </tr>\n",
       "            <tr>\n",
       "                        <th id=\"T_782c0990_e9bc_11e9_9c3c_fd7a9313d7adlevel0_row1\" class=\"row_heading level0 row1\" >1</th>\n",
       "                        <td id=\"T_782c0990_e9bc_11e9_9c3c_fd7a9313d7adrow1_col0\" class=\"data row1 col0\" >Helvetics_Base_Thrust</td>\n",
       "                        <td id=\"T_782c0990_e9bc_11e9_9c3c_fd7a9313d7adrow1_col1\" class=\"data row1 col1\" >Default series</td>\n",
       "                        <td id=\"T_782c0990_e9bc_11e9_9c3c_fd7a9313d7adrow1_col2\" class=\"data row1 col2\" >2</td>\n",
       "                        <td id=\"T_782c0990_e9bc_11e9_9c3c_fd7a9313d7adrow1_col3\" class=\"data row1 col3\" >False</td>\n",
       "                        <td id=\"T_782c0990_e9bc_11e9_9c3c_fd7a9313d7adrow1_col4\" class=\"data row1 col4\" >#9f0052</td>\n",
       "                        <td id=\"T_782c0990_e9bc_11e9_9c3c_fd7a9313d7adrow1_col5\" class=\"data row1 col5\" >2</td>\n",
       "            </tr>\n",
       "            <tr>\n",
       "                        <th id=\"T_782c0990_e9bc_11e9_9c3c_fd7a9313d7adlevel0_row2\" class=\"row_heading level0 row2\" >2</th>\n",
       "                        <td id=\"T_782c0990_e9bc_11e9_9c3c_fd7a9313d7adrow2_col0\" class=\"data row2 col0\" >Lower Bunte Molasse</td>\n",
       "                        <td id=\"T_782c0990_e9bc_11e9_9c3c_fd7a9313d7adrow2_col1\" class=\"data row2 col1\" >Default series</td>\n",
       "                        <td id=\"T_782c0990_e9bc_11e9_9c3c_fd7a9313d7adrow2_col2\" class=\"data row2 col2\" >3</td>\n",
       "                        <td id=\"T_782c0990_e9bc_11e9_9c3c_fd7a9313d7adrow2_col3\" class=\"data row2 col3\" >False</td>\n",
       "                        <td id=\"T_782c0990_e9bc_11e9_9c3c_fd7a9313d7adrow2_col4\" class=\"data row2 col4\" >#ffbe00</td>\n",
       "                        <td id=\"T_782c0990_e9bc_11e9_9c3c_fd7a9313d7adrow2_col5\" class=\"data row2 col5\" >3</td>\n",
       "            </tr>\n",
       "            <tr>\n",
       "                        <th id=\"T_782c0990_e9bc_11e9_9c3c_fd7a9313d7adlevel0_row3\" class=\"row_heading level0 row3\" >3</th>\n",
       "                        <td id=\"T_782c0990_e9bc_11e9_9c3c_fd7a9313d7adrow3_col0\" class=\"data row3 col0\" >Lower Chattian Coal FM</td>\n",
       "                        <td id=\"T_782c0990_e9bc_11e9_9c3c_fd7a9313d7adrow3_col1\" class=\"data row3 col1\" >Default series</td>\n",
       "                        <td id=\"T_782c0990_e9bc_11e9_9c3c_fd7a9313d7adrow3_col2\" class=\"data row3 col2\" >4</td>\n",
       "                        <td id=\"T_782c0990_e9bc_11e9_9c3c_fd7a9313d7adrow3_col3\" class=\"data row3 col3\" >False</td>\n",
       "                        <td id=\"T_782c0990_e9bc_11e9_9c3c_fd7a9313d7adrow3_col4\" class=\"data row3 col4\" >#728f02</td>\n",
       "                        <td id=\"T_782c0990_e9bc_11e9_9c3c_fd7a9313d7adrow3_col5\" class=\"data row3 col5\" >4</td>\n",
       "            </tr>\n",
       "            <tr>\n",
       "                        <th id=\"T_782c0990_e9bc_11e9_9c3c_fd7a9313d7adlevel0_row4\" class=\"row_heading level0 row4\" >4</th>\n",
       "                        <td id=\"T_782c0990_e9bc_11e9_9c3c_fd7a9313d7adrow4_col0\" class=\"data row4 col0\" >basement</td>\n",
       "                        <td id=\"T_782c0990_e9bc_11e9_9c3c_fd7a9313d7adrow4_col1\" class=\"data row4 col1\" >Basement</td>\n",
       "                        <td id=\"T_782c0990_e9bc_11e9_9c3c_fd7a9313d7adrow4_col2\" class=\"data row4 col2\" >1</td>\n",
       "                        <td id=\"T_782c0990_e9bc_11e9_9c3c_fd7a9313d7adrow4_col3\" class=\"data row4 col3\" >True</td>\n",
       "                        <td id=\"T_782c0990_e9bc_11e9_9c3c_fd7a9313d7adrow4_col4\" class=\"data row4 col4\" >#443988</td>\n",
       "                        <td id=\"T_782c0990_e9bc_11e9_9c3c_fd7a9313d7adrow4_col5\" class=\"data row4 col5\" >5</td>\n",
       "            </tr>\n",
       "    </tbody></table>"
      ],
      "text/plain": [
       "                  surface          series  order_surfaces  isBasement    color vertices edges  id\n",
       "0           Baustein Beds  Default series               1       False  #015482      NaN   NaN   1\n",
       "1   Helvetics_Base_Thrust  Default series               2       False  #9f0052      NaN   NaN   2\n",
       "2     Lower Bunte Molasse  Default series               3       False  #ffbe00      NaN   NaN   3\n",
       "3  Lower Chattian Coal FM  Default series               4       False  #728f02      NaN   NaN   4\n",
       "4                basement        Basement               1        True  #443988      NaN   NaN   5"
      ]
     },
     "execution_count": 6,
     "metadata": {},
     "output_type": "execute_result"
    }
   ],
   "source": [
    "geo_model.surfaces"
   ]
  },
  {
   "cell_type": "code",
   "execution_count": 7,
   "metadata": {},
   "outputs": [],
   "source": [
    "gp.map_series_to_surfaces(geo_model,\n",
    "                            {\"Helvetics_Thrust\":('Helvetics_Base_Thrust'),\n",
    "                             \"Molasse\": ('Lower Bunte Molasse','Lower Chattian Coal FM','Baustein Beds','basement')},remove_unused_series=True);"
   ]
  },
  {
   "cell_type": "code",
   "execution_count": 8,
   "metadata": {},
   "outputs": [
    {
     "name": "stdout",
     "output_type": "stream",
     "text": [
      "Fault colors changed. If you do not like this behavior, set change_color to False.\n"
     ]
    },
    {
     "data": {
      "text/html": [
       "<table border=\"1\" class=\"dataframe\">\n",
       "  <thead>\n",
       "    <tr style=\"text-align: right;\">\n",
       "      <th></th>\n",
       "      <th>isFault</th>\n",
       "      <th>isFinite</th>\n",
       "    </tr>\n",
       "  </thead>\n",
       "  <tbody>\n",
       "    <tr>\n",
       "      <th>Helvetics_Thrust</th>\n",
       "      <td>True</td>\n",
       "      <td>False</td>\n",
       "    </tr>\n",
       "    <tr>\n",
       "      <th>Molasse</th>\n",
       "      <td>False</td>\n",
       "      <td>False</td>\n",
       "    </tr>\n",
       "  </tbody>\n",
       "</table>"
      ],
      "text/plain": [
       "                  isFault  isFinite\n",
       "Helvetics_Thrust     True     False\n",
       "Molasse             False     False"
      ]
     },
     "execution_count": 8,
     "metadata": {},
     "output_type": "execute_result"
    }
   ],
   "source": [
    "geo_model.set_is_fault(['Helvetics_Thrust'])"
   ]
  },
  {
   "cell_type": "code",
   "execution_count": 9,
   "metadata": {},
   "outputs": [
    {
     "data": {
      "text/html": [
       "<div>\n",
       "<style scoped>\n",
       "    .dataframe tbody tr th:only-of-type {\n",
       "        vertical-align: middle;\n",
       "    }\n",
       "\n",
       "    .dataframe tbody tr th {\n",
       "        vertical-align: top;\n",
       "    }\n",
       "\n",
       "    .dataframe thead th {\n",
       "        text-align: right;\n",
       "    }\n",
       "</style>\n",
       "<table border=\"1\" class=\"dataframe\">\n",
       "  <thead>\n",
       "    <tr style=\"text-align: right;\">\n",
       "      <th></th>\n",
       "      <th>Helvetics_Thrust</th>\n",
       "      <th>Molasse</th>\n",
       "    </tr>\n",
       "  </thead>\n",
       "  <tbody>\n",
       "    <tr>\n",
       "      <th>Helvetics_Thrust</th>\n",
       "      <td>False</td>\n",
       "      <td>True</td>\n",
       "    </tr>\n",
       "    <tr>\n",
       "      <th>Molasse</th>\n",
       "      <td>False</td>\n",
       "      <td>False</td>\n",
       "    </tr>\n",
       "  </tbody>\n",
       "</table>\n",
       "</div>"
      ],
      "text/plain": [
       "                  Helvetics_Thrust  Molasse\n",
       "Helvetics_Thrust             False     True\n",
       "Molasse                      False    False"
      ]
     },
     "execution_count": 9,
     "metadata": {},
     "output_type": "execute_result"
    }
   ],
   "source": [
    "geo_model.faults.faults_relations_df"
   ]
  },
  {
   "cell_type": "code",
   "execution_count": 10,
   "metadata": {},
   "outputs": [
    {
     "data": {
      "text/html": [
       "<table border=\"1\" class=\"dataframe\">\n",
       "  <thead>\n",
       "    <tr style=\"text-align: right;\">\n",
       "      <th></th>\n",
       "      <th>order_series</th>\n",
       "      <th>BottomRelation</th>\n",
       "    </tr>\n",
       "  </thead>\n",
       "  <tbody>\n",
       "    <tr>\n",
       "      <th>Helvetics_Thrust</th>\n",
       "      <td>1</td>\n",
       "      <td>Fault</td>\n",
       "    </tr>\n",
       "    <tr>\n",
       "      <th>Molasse</th>\n",
       "      <td>2</td>\n",
       "      <td>Erosion</td>\n",
       "    </tr>\n",
       "  </tbody>\n",
       "</table>"
      ],
      "text/plain": [
       "                  order_series BottomRelation\n",
       "Helvetics_Thrust             1          Fault\n",
       "Molasse                      2        Erosion"
      ]
     },
     "execution_count": 10,
     "metadata": {},
     "output_type": "execute_result"
    }
   ],
   "source": [
    "geo_model.series"
   ]
  },
  {
   "cell_type": "code",
   "execution_count": 11,
   "metadata": {},
   "outputs": [
    {
     "data": {
      "text/html": [
       "<style  type=\"text/css\" >\n",
       "    #T_7dfb0b9a_e9bc_11e9_964b_fd7a9313d7adrow0_col4 {\n",
       "            background-color:  #24deff;\n",
       "        }    #T_7dfb0b9a_e9bc_11e9_964b_fd7a9313d7adrow1_col4 {\n",
       "            background-color:  #e8e402;\n",
       "        }    #T_7dfb0b9a_e9bc_11e9_964b_fd7a9313d7adrow2_col4 {\n",
       "            background-color:  #ff7700;\n",
       "        }    #T_7dfb0b9a_e9bc_11e9_964b_fd7a9313d7adrow3_col4 {\n",
       "            background-color:  #9e5f00;\n",
       "        }    #T_7dfb0b9a_e9bc_11e9_964b_fd7a9313d7adrow4_col4 {\n",
       "            background-color:  #000000;\n",
       "        }</style><table id=\"T_7dfb0b9a_e9bc_11e9_964b_fd7a9313d7ad\" ><thead>    <tr>        <th class=\"blank level0\" ></th>        <th class=\"col_heading level0 col0\" >surface</th>        <th class=\"col_heading level0 col1\" >series</th>        <th class=\"col_heading level0 col2\" >order_surfaces</th>        <th class=\"col_heading level0 col3\" >isBasement</th>        <th class=\"col_heading level0 col4\" >color</th>        <th class=\"col_heading level0 col5\" >id</th>    </tr></thead><tbody>\n",
       "                <tr>\n",
       "                        <th id=\"T_7dfb0b9a_e9bc_11e9_964b_fd7a9313d7adlevel0_row0\" class=\"row_heading level0 row0\" >1</th>\n",
       "                        <td id=\"T_7dfb0b9a_e9bc_11e9_964b_fd7a9313d7adrow0_col0\" class=\"data row0 col0\" >Helvetics_Base_Thrust</td>\n",
       "                        <td id=\"T_7dfb0b9a_e9bc_11e9_964b_fd7a9313d7adrow0_col1\" class=\"data row0 col1\" >Helvetics_Thrust</td>\n",
       "                        <td id=\"T_7dfb0b9a_e9bc_11e9_964b_fd7a9313d7adrow0_col2\" class=\"data row0 col2\" >1</td>\n",
       "                        <td id=\"T_7dfb0b9a_e9bc_11e9_964b_fd7a9313d7adrow0_col3\" class=\"data row0 col3\" >False</td>\n",
       "                        <td id=\"T_7dfb0b9a_e9bc_11e9_964b_fd7a9313d7adrow0_col4\" class=\"data row0 col4\" >#24deff</td>\n",
       "                        <td id=\"T_7dfb0b9a_e9bc_11e9_964b_fd7a9313d7adrow0_col5\" class=\"data row0 col5\" >1</td>\n",
       "            </tr>\n",
       "            <tr>\n",
       "                        <th id=\"T_7dfb0b9a_e9bc_11e9_964b_fd7a9313d7adlevel0_row1\" class=\"row_heading level0 row1\" >0</th>\n",
       "                        <td id=\"T_7dfb0b9a_e9bc_11e9_964b_fd7a9313d7adrow1_col0\" class=\"data row1 col0\" >Baustein Beds</td>\n",
       "                        <td id=\"T_7dfb0b9a_e9bc_11e9_964b_fd7a9313d7adrow1_col1\" class=\"data row1 col1\" >Molasse</td>\n",
       "                        <td id=\"T_7dfb0b9a_e9bc_11e9_964b_fd7a9313d7adrow1_col2\" class=\"data row1 col2\" >1</td>\n",
       "                        <td id=\"T_7dfb0b9a_e9bc_11e9_964b_fd7a9313d7adrow1_col3\" class=\"data row1 col3\" >False</td>\n",
       "                        <td id=\"T_7dfb0b9a_e9bc_11e9_964b_fd7a9313d7adrow1_col4\" class=\"data row1 col4\" >#e8e402</td>\n",
       "                        <td id=\"T_7dfb0b9a_e9bc_11e9_964b_fd7a9313d7adrow1_col5\" class=\"data row1 col5\" >2</td>\n",
       "            </tr>\n",
       "            <tr>\n",
       "                        <th id=\"T_7dfb0b9a_e9bc_11e9_964b_fd7a9313d7adlevel0_row2\" class=\"row_heading level0 row2\" >2</th>\n",
       "                        <td id=\"T_7dfb0b9a_e9bc_11e9_964b_fd7a9313d7adrow2_col0\" class=\"data row2 col0\" >Lower Bunte Molasse</td>\n",
       "                        <td id=\"T_7dfb0b9a_e9bc_11e9_964b_fd7a9313d7adrow2_col1\" class=\"data row2 col1\" >Molasse</td>\n",
       "                        <td id=\"T_7dfb0b9a_e9bc_11e9_964b_fd7a9313d7adrow2_col2\" class=\"data row2 col2\" >2</td>\n",
       "                        <td id=\"T_7dfb0b9a_e9bc_11e9_964b_fd7a9313d7adrow2_col3\" class=\"data row2 col3\" >False</td>\n",
       "                        <td id=\"T_7dfb0b9a_e9bc_11e9_964b_fd7a9313d7adrow2_col4\" class=\"data row2 col4\" >#ff7700</td>\n",
       "                        <td id=\"T_7dfb0b9a_e9bc_11e9_964b_fd7a9313d7adrow2_col5\" class=\"data row2 col5\" >3</td>\n",
       "            </tr>\n",
       "            <tr>\n",
       "                        <th id=\"T_7dfb0b9a_e9bc_11e9_964b_fd7a9313d7adlevel0_row3\" class=\"row_heading level0 row3\" >3</th>\n",
       "                        <td id=\"T_7dfb0b9a_e9bc_11e9_964b_fd7a9313d7adrow3_col0\" class=\"data row3 col0\" >Lower Chattian Coal FM</td>\n",
       "                        <td id=\"T_7dfb0b9a_e9bc_11e9_964b_fd7a9313d7adrow3_col1\" class=\"data row3 col1\" >Molasse</td>\n",
       "                        <td id=\"T_7dfb0b9a_e9bc_11e9_964b_fd7a9313d7adrow3_col2\" class=\"data row3 col2\" >3</td>\n",
       "                        <td id=\"T_7dfb0b9a_e9bc_11e9_964b_fd7a9313d7adrow3_col3\" class=\"data row3 col3\" >False</td>\n",
       "                        <td id=\"T_7dfb0b9a_e9bc_11e9_964b_fd7a9313d7adrow3_col4\" class=\"data row3 col4\" >#9e5f00</td>\n",
       "                        <td id=\"T_7dfb0b9a_e9bc_11e9_964b_fd7a9313d7adrow3_col5\" class=\"data row3 col5\" >4</td>\n",
       "            </tr>\n",
       "            <tr>\n",
       "                        <th id=\"T_7dfb0b9a_e9bc_11e9_964b_fd7a9313d7adlevel0_row4\" class=\"row_heading level0 row4\" >4</th>\n",
       "                        <td id=\"T_7dfb0b9a_e9bc_11e9_964b_fd7a9313d7adrow4_col0\" class=\"data row4 col0\" >basement</td>\n",
       "                        <td id=\"T_7dfb0b9a_e9bc_11e9_964b_fd7a9313d7adrow4_col1\" class=\"data row4 col1\" >Molasse</td>\n",
       "                        <td id=\"T_7dfb0b9a_e9bc_11e9_964b_fd7a9313d7adrow4_col2\" class=\"data row4 col2\" >4</td>\n",
       "                        <td id=\"T_7dfb0b9a_e9bc_11e9_964b_fd7a9313d7adrow4_col3\" class=\"data row4 col3\" >True</td>\n",
       "                        <td id=\"T_7dfb0b9a_e9bc_11e9_964b_fd7a9313d7adrow4_col4\" class=\"data row4 col4\" >#000000</td>\n",
       "                        <td id=\"T_7dfb0b9a_e9bc_11e9_964b_fd7a9313d7adrow4_col5\" class=\"data row4 col5\" >5</td>\n",
       "            </tr>\n",
       "    </tbody></table>"
      ],
      "text/plain": [
       "                  surface            series  order_surfaces  isBasement    color vertices edges  id\n",
       "1   Helvetics_Base_Thrust  Helvetics_Thrust               1       False  #24deff      NaN   NaN   1\n",
       "0           Baustein Beds           Molasse               1       False  #e8e402      NaN   NaN   2\n",
       "2     Lower Bunte Molasse           Molasse               2       False  #ff7700      NaN   NaN   3\n",
       "3  Lower Chattian Coal FM           Molasse               3       False  #9e5f00      NaN   NaN   4\n",
       "4                basement           Molasse               4        True  #000000      NaN   NaN   5"
      ]
     },
     "execution_count": 11,
     "metadata": {},
     "output_type": "execute_result"
    }
   ],
   "source": [
    "new_colors={'Baustein Beds':'#e8e402', 'Lower Chattian Coal FM':'#9e5f00','Lower Bunte Molasse':'#ff7700','basement':'#000000','Helvetics_Base_Thrust':'#24deff'}\n",
    "geo_model.surfaces.colors.change_colors(new_colors)"
   ]
  },
  {
   "cell_type": "code",
   "execution_count": 12,
   "metadata": {},
   "outputs": [
    {
     "name": "stdout",
     "output_type": "stream",
     "text": [
      "Click to select new colors.\n"
     ]
    },
    {
     "data": {
      "application/vnd.jupyter.widget-view+json": {
       "model_id": "8882f8456c284388b24e22ee9904e64b",
       "version_major": 2,
       "version_minor": 0
      },
      "text/plain": [
       "VBox(children=(ColorPicker(value='#e8e402', description='Baustein Beds'), ColorPicker(value='#24deff', descrip…"
      ]
     },
     "metadata": {},
     "output_type": "display_data"
    }
   ],
   "source": [
    "geo_model.surfaces.colors.change_colors()"
   ]
  },
  {
   "cell_type": "code",
   "execution_count": 13,
   "metadata": {},
   "outputs": [
    {
     "data": {
      "text/plain": [
       "Grid Object. Values: \n",
       "array([[ 4.483538e+06,  5.287035e+06, -9.890000e+02],\n",
       "       [ 4.483538e+06,  5.287035e+06, -9.670000e+02],\n",
       "       [ 4.483538e+06,  5.287035e+06, -9.450000e+02],\n",
       "       ...,\n",
       "       [ 4.491062e+06,  5.293965e+06,  1.145000e+03],\n",
       "       [ 4.491062e+06,  5.293965e+06,  1.167000e+03],\n",
       "       [ 4.491062e+06,  5.293965e+06,  1.189000e+03]])"
      ]
     },
     "execution_count": 13,
     "metadata": {},
     "output_type": "execute_result"
    }
   ],
   "source": [
    "geo_model.grid"
   ]
  },
  {
   "cell_type": "code",
   "execution_count": 23,
   "metadata": {},
   "outputs": [
    {
     "data": {
      "text/plain": [
       "<gempy.plot.visualization_3d.GemPyvtkInteract at 0x1f2c0a2e0b8>"
      ]
     },
     "execution_count": 23,
     "metadata": {},
     "output_type": "execute_result"
    }
   ],
   "source": [
    "%matplotlib inline\n",
    "gp.plot.plot_data_3D(geo_model)"
   ]
  },
  {
   "cell_type": "code",
   "execution_count": 14,
   "metadata": {},
   "outputs": [
    {
     "name": "stdout",
     "output_type": "stream",
     "text": [
      "Compiling theano function...\n",
      "Compilation Done!\n"
     ]
    },
    {
     "data": {
      "text/plain": [
       "<gempy.core.interpolator.InterpolatorModel at 0x226d7930390>"
      ]
     },
     "execution_count": 14,
     "metadata": {},
     "output_type": "execute_result"
    }
   ],
   "source": [
    "gp.set_interpolation_data(geo_model,\n",
    "                         compile_theano=True,\n",
    "                         theano_optimizer='fast_run',\n",
    "                         verbose=[])"
   ]
  },
  {
   "cell_type": "code",
   "execution_count": 15,
   "metadata": {},
   "outputs": [
    {
     "data": {
      "text/html": [
       "<table border=\"1\" class=\"dataframe\">\n",
       "  <thead>\n",
       "    <tr style=\"text-align: right;\">\n",
       "      <th></th>\n",
       "      <th>values</th>\n",
       "    </tr>\n",
       "  </thead>\n",
       "  <tbody>\n",
       "    <tr>\n",
       "      <th>range</th>\n",
       "      <td>10564.1</td>\n",
       "    </tr>\n",
       "    <tr>\n",
       "      <th>$C_o$</th>\n",
       "      <td>2.65714e+06</td>\n",
       "    </tr>\n",
       "    <tr>\n",
       "      <th>drift equations</th>\n",
       "      <td>[3, 3]</td>\n",
       "    </tr>\n",
       "    <tr>\n",
       "      <th>nugget grad</th>\n",
       "      <td>0.01</td>\n",
       "    </tr>\n",
       "    <tr>\n",
       "      <th>nugget scalar</th>\n",
       "      <td>1e-06</td>\n",
       "    </tr>\n",
       "  </tbody>\n",
       "</table>"
      ],
      "text/plain": [
       "                      values\n",
       "range                10564.1\n",
       "$C_o$            2.65714e+06\n",
       "drift equations       [3, 3]\n",
       "nugget grad             0.01\n",
       "nugget scalar          1e-06"
      ]
     },
     "execution_count": 15,
     "metadata": {},
     "output_type": "execute_result"
    }
   ],
   "source": [
    "gp.get_data(geo_model, 'kriging')"
   ]
  },
  {
   "cell_type": "code",
   "execution_count": 16,
   "metadata": {},
   "outputs": [
    {
     "data": {
      "text/html": [
       "<table border=\"1\" class=\"dataframe\">\n",
       "  <thead>\n",
       "    <tr style=\"text-align: right;\">\n",
       "      <th></th>\n",
       "      <th>values</th>\n",
       "    </tr>\n",
       "  </thead>\n",
       "  <tbody>\n",
       "    <tr>\n",
       "      <th>isLith</th>\n",
       "      <td>True</td>\n",
       "    </tr>\n",
       "    <tr>\n",
       "      <th>isFault</th>\n",
       "      <td>True</td>\n",
       "    </tr>\n",
       "    <tr>\n",
       "      <th>number faults</th>\n",
       "      <td>1</td>\n",
       "    </tr>\n",
       "    <tr>\n",
       "      <th>number surfaces</th>\n",
       "      <td>4</td>\n",
       "    </tr>\n",
       "    <tr>\n",
       "      <th>number series</th>\n",
       "      <td>2</td>\n",
       "    </tr>\n",
       "    <tr>\n",
       "      <th>number surfaces per series</th>\n",
       "      <td>[1, 3]</td>\n",
       "    </tr>\n",
       "    <tr>\n",
       "      <th>len surfaces surface_points</th>\n",
       "      <td>[3, 7, 8, 5]</td>\n",
       "    </tr>\n",
       "    <tr>\n",
       "      <th>len series surface_points</th>\n",
       "      <td>[3, 20]</td>\n",
       "    </tr>\n",
       "    <tr>\n",
       "      <th>len series orientations</th>\n",
       "      <td>[1, 25]</td>\n",
       "    </tr>\n",
       "  </tbody>\n",
       "</table>"
      ],
      "text/plain": [
       "                                   values\n",
       "isLith                               True\n",
       "isFault                              True\n",
       "number faults                           1\n",
       "number surfaces                         4\n",
       "number series                           2\n",
       "number surfaces per series         [1, 3]\n",
       "len surfaces surface_points  [3, 7, 8, 5]\n",
       "len series surface_points         [3, 20]\n",
       "len series orientations           [1, 25]"
      ]
     },
     "execution_count": 16,
     "metadata": {},
     "output_type": "execute_result"
    }
   ],
   "source": [
    "geo_model.additional_data.structure_data"
   ]
  },
  {
   "cell_type": "code",
   "execution_count": 19,
   "metadata": {},
   "outputs": [
    {
     "name": "stderr",
     "output_type": "stream",
     "text": [
      "C:\\Users\\Kevin\\Anaconda3\\lib\\site-packages\\theano\\tensor\\slinalg.py:255: LinAlgWarning: Ill-conditioned matrix (rcond=9.05432e-30): result may not be accurate.\n",
      "  rval = scipy.linalg.solve(A, b)\n"
     ]
    }
   ],
   "source": [
    "sol = gp.compute_model(geo_model, compute_mesh=False)"
   ]
  },
  {
   "cell_type": "code",
   "execution_count": 17,
   "metadata": {},
   "outputs": [
    {
     "name": "stderr",
     "output_type": "stream",
     "text": [
      "C:\\Users\\Kevin\\Anaconda3\\lib\\site-packages\\gempy\\core\\solution.py:253: UserWarning: Attribute error. Using non masked marching cubesmarching_cubes_lewiner() got an unexpected keyword argument 'mask'\n",
      "  warnings.warn('Attribute error. Using non masked marching cubes' + str(e))\n"
     ]
    },
    {
     "data": {
      "text/plain": [
       "\n",
       "Lithology ids \n",
       "  [3.92547587 2.         2.         ... 3.58186093 3.57853909 3.57526746] "
      ]
     },
     "execution_count": 17,
     "metadata": {},
     "output_type": "execute_result"
    }
   ],
   "source": [
    "gp.compute_model(geo_model)"
   ]
  },
  {
   "cell_type": "code",
   "execution_count": 19,
   "metadata": {},
   "outputs": [
    {
     "data": {
      "text/plain": [
       "<gempy.plot.visualization_2d.PlotData2D at 0x1c6363b6588>"
      ]
     },
     "execution_count": 19,
     "metadata": {},
     "output_type": "execute_result"
    },
    {
     "data": {
      "image/png": "[encoded data removed]",
      "text/plain": [
       "<Figure size 748.8x514.8 with 1 Axes>"
      ]
     },
     "metadata": {},
     "output_type": "display_data"
    }
   ],
   "source": [
    "%matplotlib inline\n",
    "gp.plot.plot_section(geo_model, cell_number=60, show_legend=True,\n",
    "                    direction='x', show_data=False)"
   ]
  },
  {
   "cell_type": "code",
   "execution_count": 18,
   "metadata": {},
   "outputs": [],
   "source": [
    "ver, sim = gp.get_surfaces(geo_model)"
   ]
  },
  {
   "cell_type": "code",
   "execution_count": 19,
   "metadata": {},
   "outputs": [
    {
     "data": {
      "text/plain": [
       "<gempy.plot.visualization_3d.GemPyvtkInteract at 0x226e7ebd5c0>"
      ]
     },
     "execution_count": 19,
     "metadata": {},
     "output_type": "execute_result"
    }
   ],
   "source": [
    "gp.plot.plot_3D(geo_model)"
   ]
  },
  {
   "cell_type": "code",
   "execution_count": null,
   "metadata": {},
   "outputs": [],
   "source": [
    "gp.save_model(geo_model, path='C:/Users/Kevin/Documents/Studium/Master_Thesis/GemPy_Models')"
   ]
  },
  {
   "cell_type": "markdown",
   "metadata": {},
   "source": [
    "# special location:"
   ]
  },
  {
   "cell_type": "code",
   "execution_count": null,
   "metadata": {},
   "outputs": [],
   "source": [
    "x_i = np.array([[60,40,100]])\n",
    "sol = gp.compute_model_at(x_i, geo_model)"
   ]
  },
  {
   "cell_type": "code",
   "execution_count": null,
   "metadata": {},
   "outputs": [],
   "source": [
    "sol[0][0, :x_i.shape[0]]"
   ]
  },
  {
   "cell_type": "code",
   "execution_count": null,
   "metadata": {},
   "outputs": [],
   "source": [
    "gp.plot.plot_3D(geo_model)"
   ]
  },
  {
   "cell_type": "code",
   "execution_count": null,
   "metadata": {},
   "outputs": [],
   "source": []
  }
 ],
 "metadata": {
  "kernelspec": {
   "display_name": "Python 3",
   "language": "python",
   "name": "python3"
  },
  "language_info": {
   "codemirror_mode": {
    "name": "ipython",
    "version": 3
   },
   "file_extension": ".py",
   "mimetype": "text/x-python",
   "name": "python",
   "nbconvert_exporter": "python",
   "pygments_lexer": "ipython3",
   "version": "3.7.3"
  }
 },
 "nbformat": 4,
 "nbformat_minor": 2
}
