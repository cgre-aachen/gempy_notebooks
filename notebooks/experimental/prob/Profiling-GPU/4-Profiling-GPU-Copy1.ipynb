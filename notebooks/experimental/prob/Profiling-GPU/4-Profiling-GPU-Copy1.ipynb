{
 "cells": [
  {
   "cell_type": "code",
   "execution_count": 1,
   "metadata": {},
   "outputs": [
    {
     "name": "stderr",
     "output_type": "stream",
     "text": [
      "WARNING (theano.tensor.blas): Using NumPy C-API based implementation for BLAS functions.\n",
      "Can not use cuDNN on context None: cannot compile with cuDNN. We got this error:\n",
      "b'/tmp/try_flags_0p50dh1w.c:4:10: fatal error: cudnn.h: No such file or directory\\n #include <cudnn.h>\\n          ^~~~~~~~~\\ncompilation terminated.\\n'\n",
      "Mapped name None to device cuda: GeForce RTX 2080 (0000:01:00.0)\n"
     ]
    }
   ],
   "source": [
    " # These two lines are necessary only if GemPy is not installed\n",
    "import sys, os\n",
    "sys.path.append(\"../../..\")\n",
    "os.environ['CUDA_LAUNCH_BLOCKING'] = '1'\n",
    "os.environ[\"THEANO_FLAGS\"] = \"mode=FAST_RUN,device=cuda\"\n",
    "# Importing GemPy\n",
    "import gempy as gp\n",
    "\n",
    "# Embedding matplotlib figures in the notebooks\n",
    "%matplotlib inline\n",
    "\n",
    "# Importing auxiliary libraries\n",
    "import numpy as np\n",
    "import matplotlib.pyplot as plt\n",
    "import pymc3 as pm"
   ]
  },
  {
   "cell_type": "code",
   "execution_count": 2,
   "metadata": {},
   "outputs": [
    {
     "name": "stdout",
     "output_type": "stream",
     "text": [
      "Active grids: ['regular']\n"
     ]
    }
   ],
   "source": [
    "path_to_data = os.pardir+\"/../data/input_data/jan_models/\"\n",
    "\n",
    "geo_data = gp.create_data([0,1000,0,1000,0,1000],resolution=[100,100,100], \n",
    "                        path_o = path_to_data + \"model1_orientations.csv\",\n",
    "                        path_i = path_to_data + \"model1_surface_points.csv\") "
   ]
  },
  {
   "cell_type": "code",
   "execution_count": 3,
   "metadata": {},
   "outputs": [
    {
     "data": {
      "text/plain": [
       "<gempy.plot.visualization_2d.PlotData2D at 0x7f3c44235e80>"
      ]
     },
     "execution_count": 3,
     "metadata": {},
     "output_type": "execute_result"
    },
    {
     "data": {
      "image/png": "[encoded data removed]",
      "text/plain": [
       "<Figure size 360x360 with 1 Axes>"
      ]
     },
     "metadata": {},
     "output_type": "display_data"
    }
   ],
   "source": [
    "gp.plot.plot_data(geo_data)"
   ]
  },
  {
   "cell_type": "code",
   "execution_count": 4,
   "metadata": {},
   "outputs": [
    {
     "data": {
      "text/plain": [
       "10.0"
      ]
     },
     "execution_count": 4,
     "metadata": {},
     "output_type": "execute_result"
    }
   ],
   "source": [
    "dz = geo_data.grid.regular_grid.dz\n",
    "dz"
   ]
  },
  {
   "cell_type": "code",
   "execution_count": 5,
   "metadata": {},
   "outputs": [
    {
     "data": {
      "text/html": [
       "<style  type=\"text/css\" >\n",
       "    #T_970e4bb4_bcdf_11e9_a9de_5f5b67aa25c6row0_col4 {\n",
       "            background-color:  #015482;\n",
       "        }    #T_970e4bb4_bcdf_11e9_a9de_5f5b67aa25c6row1_col4 {\n",
       "            background-color:  #9f0052;\n",
       "        }    #T_970e4bb4_bcdf_11e9_a9de_5f5b67aa25c6row2_col4 {\n",
       "            background-color:  #ffbe00;\n",
       "        }</style><table id=\"T_970e4bb4_bcdf_11e9_a9de_5f5b67aa25c6\" ><thead>    <tr>        <th class=\"blank level0\" ></th>        <th class=\"col_heading level0 col0\" >surface</th>        <th class=\"col_heading level0 col1\" >series</th>        <th class=\"col_heading level0 col2\" >order_surfaces</th>        <th class=\"col_heading level0 col3\" >isBasement</th>        <th class=\"col_heading level0 col4\" >color</th>        <th class=\"col_heading level0 col5\" >id</th>        <th class=\"col_heading level0 col6\" >value_0</th>    </tr></thead><tbody>\n",
       "                <tr>\n",
       "                        <th id=\"T_970e4bb4_bcdf_11e9_a9de_5f5b67aa25c6level0_row0\" class=\"row_heading level0 row0\" >0</th>\n",
       "                        <td id=\"T_970e4bb4_bcdf_11e9_a9de_5f5b67aa25c6row0_col0\" class=\"data row0 col0\" >rock2</td>\n",
       "                        <td id=\"T_970e4bb4_bcdf_11e9_a9de_5f5b67aa25c6row0_col1\" class=\"data row0 col1\" >Default series</td>\n",
       "                        <td id=\"T_970e4bb4_bcdf_11e9_a9de_5f5b67aa25c6row0_col2\" class=\"data row0 col2\" >1</td>\n",
       "                        <td id=\"T_970e4bb4_bcdf_11e9_a9de_5f5b67aa25c6row0_col3\" class=\"data row0 col3\" >False</td>\n",
       "                        <td id=\"T_970e4bb4_bcdf_11e9_a9de_5f5b67aa25c6row0_col4\" class=\"data row0 col4\" >#015482</td>\n",
       "                        <td id=\"T_970e4bb4_bcdf_11e9_a9de_5f5b67aa25c6row0_col5\" class=\"data row0 col5\" >1</td>\n",
       "                        <td id=\"T_970e4bb4_bcdf_11e9_a9de_5f5b67aa25c6row0_col6\" class=\"data row0 col6\" >0</td>\n",
       "            </tr>\n",
       "            <tr>\n",
       "                        <th id=\"T_970e4bb4_bcdf_11e9_a9de_5f5b67aa25c6level0_row1\" class=\"row_heading level0 row1\" >1</th>\n",
       "                        <td id=\"T_970e4bb4_bcdf_11e9_a9de_5f5b67aa25c6row1_col0\" class=\"data row1 col0\" >rock1</td>\n",
       "                        <td id=\"T_970e4bb4_bcdf_11e9_a9de_5f5b67aa25c6row1_col1\" class=\"data row1 col1\" >Default series</td>\n",
       "                        <td id=\"T_970e4bb4_bcdf_11e9_a9de_5f5b67aa25c6row1_col2\" class=\"data row1 col2\" >2</td>\n",
       "                        <td id=\"T_970e4bb4_bcdf_11e9_a9de_5f5b67aa25c6row1_col3\" class=\"data row1 col3\" >False</td>\n",
       "                        <td id=\"T_970e4bb4_bcdf_11e9_a9de_5f5b67aa25c6row1_col4\" class=\"data row1 col4\" >#9f0052</td>\n",
       "                        <td id=\"T_970e4bb4_bcdf_11e9_a9de_5f5b67aa25c6row1_col5\" class=\"data row1 col5\" >2</td>\n",
       "                        <td id=\"T_970e4bb4_bcdf_11e9_a9de_5f5b67aa25c6row1_col6\" class=\"data row1 col6\" >5</td>\n",
       "            </tr>\n",
       "            <tr>\n",
       "                        <th id=\"T_970e4bb4_bcdf_11e9_a9de_5f5b67aa25c6level0_row2\" class=\"row_heading level0 row2\" >2</th>\n",
       "                        <td id=\"T_970e4bb4_bcdf_11e9_a9de_5f5b67aa25c6row2_col0\" class=\"data row2 col0\" >basement</td>\n",
       "                        <td id=\"T_970e4bb4_bcdf_11e9_a9de_5f5b67aa25c6row2_col1\" class=\"data row2 col1\" >Basement</td>\n",
       "                        <td id=\"T_970e4bb4_bcdf_11e9_a9de_5f5b67aa25c6row2_col2\" class=\"data row2 col2\" >1</td>\n",
       "                        <td id=\"T_970e4bb4_bcdf_11e9_a9de_5f5b67aa25c6row2_col3\" class=\"data row2 col3\" >True</td>\n",
       "                        <td id=\"T_970e4bb4_bcdf_11e9_a9de_5f5b67aa25c6row2_col4\" class=\"data row2 col4\" >#ffbe00</td>\n",
       "                        <td id=\"T_970e4bb4_bcdf_11e9_a9de_5f5b67aa25c6row2_col5\" class=\"data row2 col5\" >3</td>\n",
       "                        <td id=\"T_970e4bb4_bcdf_11e9_a9de_5f5b67aa25c6row2_col6\" class=\"data row2 col6\" >0</td>\n",
       "            </tr>\n",
       "    </tbody></table>"
      ],
      "text/plain": [
       "    surface          series  order_surfaces  isBasement    color vertices edges  id  value_0\n",
       "0     rock2  Default series               1       False  #015482      NaN   NaN   1        0\n",
       "1     rock1  Default series               2       False  #9f0052      NaN   NaN   2        5\n",
       "2  basement        Basement               1        True  #ffbe00      NaN   NaN   3        0"
      ]
     },
     "execution_count": 5,
     "metadata": {},
     "output_type": "execute_result"
    }
   ],
   "source": [
    "geo_data.surfaces.add_surfaces_values([0, 5, 0])"
   ]
  },
  {
   "cell_type": "code",
   "execution_count": 6,
   "metadata": {},
   "outputs": [
    {
     "data": {
      "text/plain": [
       "'float32'"
      ]
     },
     "execution_count": 6,
     "metadata": {},
     "output_type": "execute_result"
    }
   ],
   "source": [
    "geo_data.interpolator.theano_graph.block_matrix.dtype"
   ]
  },
  {
   "cell_type": "code",
   "execution_count": 7,
   "metadata": {},
   "outputs": [
    {
     "data": {
      "text/plain": [
       "'float32'"
      ]
     },
     "execution_count": 7,
     "metadata": {},
     "output_type": "execute_result"
    }
   ],
   "source": [
    "\n",
    "import theano\n",
    "theano.config.floatX"
   ]
  },
  {
   "cell_type": "code",
   "execution_count": 8,
   "metadata": {
    "scrolled": false
   },
   "outputs": [
    {
     "name": "stdout",
     "output_type": "stream",
     "text": [
      "Compiling theano function...\n",
      "Compilation Done!\n"
     ]
    },
    {
     "data": {
      "text/plain": [
       "<gempy.core.interpolator.InterpolatorModel at 0x7f3b7fec6f98>"
      ]
     },
     "execution_count": 8,
     "metadata": {},
     "output_type": "execute_result"
    }
   ],
   "source": [
    "gp.set_interpolation_data(geo_data, theano_optimizer='fast_compile', gradient=False)"
   ]
  },
  {
   "cell_type": "code",
   "execution_count": 9,
   "metadata": {},
   "outputs": [
    {
     "data": {
      "text/plain": [
       "\n",
       "Lithology ids \n",
       "  [3. 3. 3. ... 1. 1. 1.] "
      ]
     },
     "execution_count": 9,
     "metadata": {},
     "output_type": "execute_result"
    }
   ],
   "source": [
    "gp.compute_model(geo_data, compute_mesh=False)\n"
   ]
  },
  {
   "cell_type": "code",
   "execution_count": 10,
   "metadata": {},
   "outputs": [
    {
     "data": {
      "text/plain": [
       "<gempy.plot.visualization_2d.PlotData2D at 0x7f3b7f908048>"
      ]
     },
     "execution_count": 10,
     "metadata": {},
     "output_type": "execute_result"
    },
    {
     "data": {
      "image/png": "[encoded data removed]",
      "text/plain": [
       "<Figure size 360x360 with 1 Axes>"
      ]
     },
     "metadata": {},
     "output_type": "display_data"
    }
   ],
   "source": [
    "gp.compute_model(geo_data)\n",
    "gp.plot.plot_section(geo_data, 1, show_data=True)"
   ]
  },
  {
   "cell_type": "code",
   "execution_count": 11,
   "metadata": {},
   "outputs": [
    {
     "data": {
      "text/plain": [
       "array([[0.190725, 0.190725, 0.190725],\n",
       "       [0.190725, 0.190725, 0.196975],\n",
       "       [0.190725, 0.190725, 0.203225],\n",
       "       ...,\n",
       "       [0.809475, 0.809475, 0.796975],\n",
       "       [0.809475, 0.809475, 0.803225],\n",
       "       [0.809475, 0.809475, 0.809475]])"
      ]
     },
     "execution_count": 11,
     "metadata": {},
     "output_type": "execute_result"
    }
   ],
   "source": [
    "geo_data.interpolator.grid.values_r"
   ]
  },
  {
   "cell_type": "code",
   "execution_count": 12,
   "metadata": {},
   "outputs": [],
   "source": [
    "import theano\n",
    "import theano.tensor as T\n",
    "\n",
    "grid_sh = theano.shared(geo_data.interpolator.get_python_input_block()[6])"
   ]
  },
  {
   "cell_type": "code",
   "execution_count": 13,
   "metadata": {},
   "outputs": [],
   "source": [
    "geo_data.interpolator.theano_graph.grid_val_T = grid_sh"
   ]
  },
  {
   "cell_type": "code",
   "execution_count": 14,
   "metadata": {},
   "outputs": [
    {
     "data": {
      "text/plain": [
       "<GpuArrayType<None>(float32, matrix)>"
      ]
     },
     "execution_count": 14,
     "metadata": {},
     "output_type": "execute_result"
    }
   ],
   "source": [
    "geo_data.interpolator.theano_graph.grid_val_T"
   ]
  },
  {
   "cell_type": "code",
   "execution_count": null,
   "metadata": {},
   "outputs": [],
   "source": []
  },
  {
   "cell_type": "code",
   "execution_count": 15,
   "metadata": {},
   "outputs": [],
   "source": [
    "th_f_2 = theano.function(geo_data.interpolator.theano_graph.input_parameters_loop,\n",
    "                        geo_data.interpolator.theano_graph.compute_a_series(\n",
    "    len_i_0=0, len_i_1=geo_data.interpolator.theano_graph.len_series_i[1],\n",
    "    len_f_0=0, len_f_1=geo_data.interpolator.theano_graph.len_series_o[1],\n",
    "    len_w_0=0, len_w_1=geo_data.interpolator.theano_graph.len_series_w[1],\n",
    "    n_form_per_serie_0=0, n_form_per_serie_1=geo_data.interpolator.theano_graph.n_surfaces_per_series[1],\n",
    "    u_grade_iter=3,\n",
    "    compute_weight_ctr=np.array(True), compute_scalar_ctr=np.array(True), compute_block_ctr=np.array(True),\n",
    "    is_finite=np.array(False), is_erosion=np.array(True), is_onlap=np.array(False),\n",
    "    n_series=0,\n",
    "    block_matrix=geo_data.interpolator.theano_graph.block_matrix,\n",
    "    weights_vector=geo_data.interpolator.theano_graph.weights_vector,\n",
    "    scalar_field_matrix=geo_data.interpolator.theano_graph.scalar_fields_matrix,\n",
    "    sfai=geo_data.interpolator.theano_graph.sfai,\n",
    "    mask_matrix=geo_data.interpolator.theano_graph.mask_matrix\n",
    "                 ),\n",
    "                         on_unused_input='ignore',\n",
    "                        profile=True)"
   ]
  },
  {
   "cell_type": "code",
   "execution_count": 16,
   "metadata": {
    "scrolled": true
   },
   "outputs": [
    {
     "data": {
      "text/plain": [
       "array([-2.5706997e-13, -2.5706943e-13,  4.3016716e-13,  4.3016675e-13,\n",
       "        1.0870253e-19,  2.4696043e-19, -1.6955084e-13, -1.4287715e-12,\n",
       "        1.4287703e-12,  1.6955781e-13,  5.7818171e-13, -1.6955023e-13,\n",
       "       -1.4287735e-12,  1.4287744e-12,  1.6954380e-13,  5.7819336e-13,\n",
       "       -1.8235013e-10,  4.3459636e-10,  1.0000000e+00], dtype=float32)"
      ]
     },
     "execution_count": 16,
     "metadata": {},
     "output_type": "execute_result"
    }
   ],
   "source": [
    "th_f_2(*geo_data.interpolator.get_python_input_block())[1]"
   ]
  },
  {
   "cell_type": "code",
   "execution_count": 17,
   "metadata": {
    "scrolled": false
   },
   "outputs": [
    {
     "name": "stderr",
     "output_type": "stream",
     "text": [
      "Function profiling\n",
      "==================\n",
      "  Message: <ipython-input-15-461ec0441d66>:18\n",
      "  Time in 1 calls to Function.__call__: 2.082896e-02s\n",
      "  Time in Function.fn.__call__: 2.075076e-02s (99.625%)\n",
      "  Time in thunks: 2.033544e-02s (97.631%)\n",
      "  Total compile time: 8.350075e+00s\n",
      "    Number of Apply nodes: 726\n",
      "    Theano Optimizer time: 4.486688e+00s\n",
      "       Theano validate time: 1.010261e-01s\n",
      "    Theano Linker time (includes C, CUDA code generation/compiling): 3.522289e+00s\n",
      "       Import time 5.219746e-02s\n",
      "       Node make_thunk time 3.494467e+00s\n",
      "           Node GpuElemwise{Composite{sqr((i0 * (i1 - (-i2))))}}[(0, 2)]<gpuarray>(GpuArrayConstant{[[[0.5]]]}, InplaceGpuDimShuffle{x,x,x}.0, InplaceGpuDimShuffle{x,x,x}.0) time 9.769561e-01s\n",
      "           Node forall_inplace,gpu,Looping grid}(HostFromGpu(gpuarray).0, GpuSubtensor{int64:int64:int8}.0, GpuSubtensor{int64:int64:int8}.0, GpuIncSubtensor{InplaceSet;:int64:}.0, GpuJoin.0, InplaceGpuDimShuffle{1,0}.0, GpuElemwise{mul,no_inplace}.0, GpuSubtensor{int64:int32:}.0, GpuReshape{2}.0, ScalarFromTensor.0, InplaceGpuDimShuffle{x,x}.0, ScalarFromTensor.0, InplaceGpuDimShuffle{x,x}.0, GpuSubtensor{int64, int64:int32:}.0, InplaceGpuDimShuffle{0,x}.0, InplaceGpuDimShuffle{0,x}.0, GpuElemwise{mul,no_inplace}.0, ScalarFromTensor.0, GpuElemwise{pow,no_inplace}.0, InplaceGpuDimShuffle{0,x}.0, GpuElemwise{pow,no_inplace}.0, GpuElemwise{pow,no_inplace}.0, GpuElemwise{true_div,no_inplace}.0, GpuElemwise{neg,no_inplace}.0, InplaceGpuDimShuffle{x,0}.0, InplaceGpuDimShuffle{x,0}.0, InplaceGpuDimShuffle{x,0}.0) time 6.869304e-01s\n",
      "           Node Elemwise{Composite{maximum(maximum(((maximum(i0, i1) - Switch(LT(i2, i3), (i2 + i4), i2)) + i1), i5), maximum(maximum(((maximum(i0, i1) - Switch(LT(i2, i3), (i2 + i4), i2)) + i1), i5), maximum(maximum(((maximum(i0, i1) - Switch(LT(i2, i3), (i2 + i4), i2)) + i1), i5), maximum(maximum(((maximum(i0, i1) - Switch(LT(i2, i3), (i2 + i4), i2)) + i1), i5), maximum(maximum(((maximum(i0, i1) - Switch(LT(i2, i3), (i2 + i4), i2)) + i1), i5), maximum(((maximum(i0, i1) - Switch(LT(i2, i3), (i2 + i4), i2)) + i1), i5))))))}}(Elemwise{Composite{minimum(maximum(maximum(maximum(maximum(maximum(maximum(((i0 + i1) - i2), ((i3 + i1) - i2)), ((i4 + i1) - i2)), ((i5 + i1) - i2)), ((i6 + i1) - i2)), ((i7 + i1) - i2)), ((i8 + i1) - i2)), i9)}}.0, TensorConstant{1}, Elemwise{Composite{Switch(LT((i0 - Composite{Switch(LT(i0, i1), i0, i1)}(i1, i2)), i3), (i4 - i0), Switch(GE((i0 - Composite{Switch(LT(i0, i1), i0, i1)}(i1, i2)), (i2 - Composite{Switch(LT(i0, i1), i0, i1)}(i1, i2))), (i5 + i0), Switch(LE((i2 - Composite{Switch(LT(i0, i1), i0, i1)}(i1, i2)), i3), (i5 + i0), i0)))}}.0, TensorConstant{0}, Elemwise{add,no_inplace}.0, TensorConstant{2}) time 4.547739e-01s\n",
      "           Node Elemwise{Composite{minimum(maximum(maximum(maximum(maximum(maximum(maximum(((i0 + i1) - i2), ((i3 + i1) - i2)), ((i4 + i1) - i2)), ((i5 + i1) - i2)), ((i6 + i1) - i2)), ((i7 + i1) - i2)), ((i8 + i1) - i2)), i9)}}(Elemwise{Composite{Switch(LT(i0, i1), (i0 + i2), i0)}}.0, TensorConstant{1}, TensorConstant{1}, Elemwise{Composite{Switch(LT(i0, i1), (i0 + i2), i0)}}.0, Elemwise{Composite{Switch(LT(i0, i1), (i0 + i2), i0)}}.0, Elemwise{Composite{Switch(LT(i0, i1), (i0 + i2), i0)}}.0, Elemwise{Composite{Switch(LT(i0, i1), (i0 + i2), i0)}}.0, Elemwise{Composite{Switch(LT(i0, i1), (i0 + i2), i0)}}.0, Elemwise{Composite{Switch(LT(i0, i1), (i0 + i2), i0)}}.0, Elemwise{Composite{minimum(minimum(i0, i1), i2)}}.0) time 4.287386e-01s\n",
      "           Node GpuElemwise{Composite{Switch(GE(i0, i1), (i2 + i3), Switch(i4, (i2 + i3), i5))}}[]<gpuarray>(GpuArrayConstant{0}, GpuElemwise{Composite{Switch(i0, Switch(LT((i1 + i2), i3), i4, (i1 + i2)), Switch(LT(i1, i5), i1, i6))}}[]<gpuarray>.0, GpuArrayConstant{1}, GpuFromHost<None>.0, GpuElemwise{le,no_inplace}.0, GpuArrayConstant{0}) time 3.957012e-01s\n",
      "\n",
      "Time in all call to theano.grad() 0.000000e+00s\n",
      "Time since theano import 43.701s\n",
      "Class\n",
      "---\n",
      "<% time> <sum %> <apply time> <time per call> <type> <#call> <#apply> <Class name>\n",
      "  65.2%    65.2%       0.013s       4.42e-03s     Py       3       4   theano.scan_module.scan_op.Scan\n",
      "  11.6%    76.8%       0.002s       4.00e-05s     C       59      71   theano.gpuarray.basic_ops.HostFromGpu\n",
      "   7.4%    84.2%       0.002s       1.07e-05s     C      141     180   theano.gpuarray.elemwise.GpuElemwise\n",
      "   2.5%    86.7%       0.001s       1.30e-05s     C       39      42   theano.gpuarray.subtensor.GpuIncSubtensor\n",
      "   2.4%    89.1%       0.000s       4.81e-04s     Py       1       1   theano.gpuarray.linalg.GpuCusolverSolve\n",
      "   1.6%    90.7%       0.000s       2.93e-05s     C       11      13   theano.gpuarray.basic_ops.GpuJoin\n",
      "   1.5%    92.2%       0.000s       1.96e-05s     C       16      18   theano.gpuarray.basic_ops.GpuAlloc\n",
      "   1.1%    93.3%       0.000s       1.59e-05s     Py      14       8   theano.ifelse.IfElse\n",
      "   1.0%    94.3%       0.000s       2.13e-04s     Py       1       1   theano.gpuarray.subtensor.GpuAdvancedSubtensor\n",
      "   0.9%    95.2%       0.000s       5.33e-06s     C       33      41   theano.gpuarray.basic_ops.GpuFromHost\n",
      "   0.8%    96.0%       0.000s       3.16e-05s     C        5      15   theano.gpuarray.elemwise.GpuCAReduceCuda\n",
      "   0.7%    96.7%       0.000s       2.96e-05s     C        5       6   theano.gpuarray.subtensor.GpuAdvancedSubtensor1\n",
      "   0.6%    97.3%       0.000s       1.14e-04s     Py       1       1   theano.gpuarray.subtensor.GpuAdvancedIncSubtensor1\n",
      "   0.5%    97.8%       0.000s       1.50e-05s     C        7       7   theano.gpuarray.blas.GpuGemm\n",
      "   0.3%    98.1%       0.000s       1.54e-06s     C       46      61   theano.gpuarray.subtensor.GpuSubtensor\n",
      "   0.3%    98.4%       0.000s       2.96e-05s     Py       2       2   theano.tensor.basic.Nonzero\n",
      "   0.3%    98.7%       0.000s       1.15e-06s     C       51      73   theano.gpuarray.elemwise.GpuDimShuffle\n",
      "   0.3%    99.0%       0.000s       5.20e-05s     Py       1       1   theano.tensor.subtensor.AdvancedIncSubtensor\n",
      "   0.2%    99.2%       0.000s       9.03e-07s     C       42      42   theano.tensor.elemwise.Elemwise\n",
      "   0.2%    99.3%       0.000s       3.99e-06s     C        8       9   theano.gpuarray.basic_ops.GpuReshape\n",
      "   ... (remaining 15 Classes account for   0.68%(0.00s) of the runtime)\n",
      "\n",
      "Ops\n",
      "---\n",
      "<% time> <sum %> <apply time> <time per call> <type> <#call> <#apply> <Op name>\n",
      "  59.5%    59.5%       0.012s       1.21e-02s     Py       1        1   forall_inplace,gpu,Looping grid}\n",
      "  11.6%    71.1%       0.002s       4.00e-05s     C       59       71   HostFromGpu(gpuarray)\n",
      "   3.1%    74.2%       0.001s       6.27e-04s     Py       1        1   for{gpu,Looping compare}\n",
      "   2.6%    76.8%       0.001s       5.31e-04s     Py       1        1   forall_inplace,gpu,scan_fn&scan_fn}\n",
      "   2.4%    79.2%       0.000s       4.81e-04s     Py       1        1   GpuCusolverSolve{A_structure='general', trans='N', inplace=True}\n",
      "   1.6%    80.7%       0.000s       2.93e-05s     C       11       13   GpuJoin\n",
      "   1.3%    82.0%       0.000s       3.29e-05s     C        8       10   GpuAlloc<None>\n",
      "   1.0%    83.1%       0.000s       2.13e-04s     Py       1        1   GpuAdvancedSubtensor\n",
      "   1.0%    84.0%       0.000s       1.63e-05s     Py      12        6   if{inplace,gpu}\n",
      "   0.9%    84.9%       0.000s       5.33e-06s     C       33       41   GpuFromHost<None>\n",
      "   0.7%    85.6%       0.000s       2.96e-05s     C        5        6   GpuAdvancedSubtensor1\n",
      "   0.7%    86.3%       0.000s       7.05e-05s     C        2        2   GpuIncSubtensor{Set;int64, ::}\n",
      "   0.6%    87.0%       0.000s       1.01e-05s     C       13       18   GpuElemwise{add,no_inplace}\n",
      "   0.6%    87.6%       0.000s       1.19e-04s     C        1        2   GpuCAReduceCuda{add}{0}\n",
      "   0.6%    88.1%       0.000s       9.62e-06s     C       12       14   GpuElemwise{sub,no_inplace}\n",
      "   0.6%    88.7%       0.000s       1.14e-04s     Py       1        1   GpuAdvancedIncSubtensor1{inplace=True, set_instead_of_inc=True}\n",
      "   0.5%    89.2%       0.000s       8.42e-06s     C       13       13   GpuElemwise{mul,no_inplace}\n",
      "   0.5%    89.7%       0.000s       1.50e-05s     C        7        7   GpuGemm{inplace=True}\n",
      "   0.5%    90.2%       0.000s       8.41e-06s     C       11       11   GpuIncSubtensor{InplaceSet;int64:int64:, int64:int64:}\n",
      "   0.4%    90.6%       0.000s       8.00e-06s     C        9       12   GpuElemwise{Composite{Switch(i0, i1, minimum(i2, i3))}}[]<gpuarray>\n",
      "   ... (remaining 152 Ops account for   9.45%(0.00s) of the runtime)\n",
      "\n",
      "Apply\n",
      "------\n",
      "<% time> <sum %> <apply time> <time per call> <#call> <id> <Apply name>\n",
      "  59.5%    59.5%       0.012s       1.21e-02s      1   670   forall_inplace,gpu,Looping grid}(HostFromGpu(gpuarray).0, GpuSubtensor{int64:int64:int8}.0, GpuSubtensor{int64:int64:int8}.0, GpuIncSubtensor{InplaceSet;:int64:}.0, GpuJoin.0, InplaceGpuDimShuffle{1,0}.0, GpuElemwise{mul,no_inplace}.0, GpuSubtensor{int64:int32:}.0, GpuReshape{2}.0, ScalarFromTensor.0, InplaceGpuDimShuffle{x,x}.0, ScalarFromTensor.0, InplaceGpuDimShuffle{x,x}.0, GpuSubtensor{int64, int64:int32:}.0, InplaceGpuDimShuffle{0,x}.0, Inplac\n",
      "   4.6%    64.1%       0.001s       9.32e-04s      1   679   HostFromGpu(gpuarray)(GpuIncSubtensor{Set;int64}.0)\n",
      "   4.3%    68.4%       0.001s       8.72e-04s      1   725   HostFromGpu(gpuarray)(GpuIncSubtensor{Set;int64, ::}.0)\n",
      "   3.1%    71.4%       0.001s       6.27e-04s      1   708   for{gpu,Looping compare}(HostFromGpu(gpuarray).0, GpuElemwise{add,no_inplace}.0, GpuElemwise{Composite{(i0 + exp((i1 * (i2 - i3))))}}[]<gpuarray>.0, GpuElemwise{add,no_inplace}.0, GpuElemwise{Composite{(i0 + exp((i1 * i2 * (i3 - i4))))}}[]<gpuarray>.0, GpuSubtensor{int64:int64:int8}.0, HostFromGpu(gpuarray).0, GpuIncSubtensor{InplaceSet;::, int64}.0, GpuIncSubtensor{Set;::, int64}.0)\n",
      "   2.6%    74.0%       0.001s       5.31e-04s      1   460   forall_inplace,gpu,scan_fn&scan_fn}(Elemwise{maximum,no_inplace}.0, GpuElemwise{sub,no_inplace}.0, GpuSubtensor{int64:int64:int8}.0, GpuSubtensor{int64:int64:int8}.0, GpuSubtensor{int64:int64:int8}.0, GpuSubtensor{int64:int64:int8}.0, GpuIncSubtensor{InplaceSet;:int64:}.0, GpuIncSubtensor{InplaceSet;:int64:}.0)\n",
      "   2.4%    76.4%       0.000s       4.81e-04s      1   655   GpuCusolverSolve{A_structure='general', trans='N', inplace=True}(GpuContiguous.0, GpuContiguous.0)\n",
      "   1.0%    77.5%       0.000s       2.13e-04s      1   163   GpuAdvancedSubtensor(block matrix, Subtensor{int64}.0, TensorConstant{0}, SliceConstant{None, None, None})\n",
      "   1.0%    78.4%       0.000s       1.98e-04s      1   665   GpuAlloc<None>(if{inplace,gpu}.0, Elemwise{add,no_inplace}.0, TensorConstant{1}, TensorConstant{1}, HostFromGpu(gpuarray).0)\n",
      "   0.9%    79.3%       0.000s       1.77e-04s      1   717   HostFromGpu(gpuarray)(GpuIncSubtensor{InplaceSet;int64, ::}.0)\n",
      "   0.6%    79.9%       0.000s       1.19e-04s      1   711   GpuCAReduceCuda{add}{0}(for{gpu,Looping compare}.0)\n",
      "   0.6%    80.5%       0.000s       1.14e-04s      1   153   GpuAdvancedIncSubtensor1{inplace=True, set_instead_of_inc=True}(GpuAlloc<None>.0, GpuArrayConstant{0}, CumOp{None, add}.0)\n",
      "   0.5%    81.0%       0.000s       1.11e-04s      1   724   GpuIncSubtensor{Set;int64, ::}(block matrix, if{inplace,gpu}.0, Constant{0})\n",
      "   0.4%    81.4%       0.000s       8.61e-05s      1   518   GpuJoin(TensorConstant{0}, <GpuArrayType<None>(float32, matrix)>, GpuAdvancedSubtensor1.0, GpuSubtensor{int64}.0)\n",
      "   0.4%    81.8%       0.000s       3.85e-05s      2   722   if{inplace,gpu}(TensorConstant{False}, GpuCAReduceCuda{add}{0}.0, GpuCAReduceCuda{add}{0}.0)\n",
      "   0.4%    82.2%       0.000s       7.30e-05s      1   229   GpuAdvancedSubtensor1(Nugget effect of scalar, GpuContiguous.0)\n",
      "   0.4%    82.5%       0.000s       7.20e-05s      1   703   GpuElemwise{Composite{(i0 + exp((i1 * (i2 - i3))))}}[]<gpuarray>(GpuArrayConstant{[[[1.]]]}, InplaceGpuDimShuffle{x,x,x}.0, InplaceGpuDimShuffle{x,x,0}.0, InplaceGpuDimShuffle{0,x,x}.0)\n",
      "   0.4%    82.9%       0.000s       7.20e-05s      1   702   GpuElemwise{Composite{(i0 + exp((i1 * i2 * (i3 - i4))))}}[]<gpuarray>(GpuArrayConstant{[[[1.]]]}, GpuArrayConstant{[[[-1.]]]}, InplaceGpuDimShuffle{x,x,x}.0, InplaceGpuDimShuffle{x,x,0}.0, InplaceGpuDimShuffle{0,x,x}.0)\n",
      "   0.3%    83.2%       0.000s       5.89e-05s      1   674   GpuIncSubtensor{Set;int64}(Scalar matrix, if{inplace,gpu}.0, Constant{0})\n",
      "   0.3%    83.4%       0.000s       5.60e-05s      1   558   GpuJoin(TensorConstant{0}, GpuElemwise{Composite{(i0 * (i1 - i2))}}[]<gpuarray>.0, GpuElemwise{Composite{(i0 * (i1 - i2))}}[]<gpuarray>.0, GpuElemwise{Composite{(i0 * (i1 - i2))}}[]<gpuarray>.0, GpuElemwise{Composite{(i0 * (sqr(i1) - sqr(i2)))}}[]<gpuarray>.0, GpuElemwise{Composite{(i0 * (sqr(i1) - sqr(i2)))}}[]<gpuarray>.0, GpuElemwise{Composite{(i0 * (sqr(i1) - sqr(i2)))}}[]<gpuarray>.0, GpuElemwise{Composite{(i0 * ((i1 * i2) - (i3 * i4)))}}[]<gpu\n",
      "   0.3%    83.7%       0.000s       5.20e-05s      1   689   AdvancedIncSubtensor{inplace=False,  set_instead_of_inc=True}(HostFromGpu(gpuarray).0, HostFromGpu(gpuarray).0, TensorConstant{0}, Elemwise{add,no_inplace}.0)\n",
      "   ... (remaining 706 Apply instances account for 16.31%(0.00s) of the runtime)\n",
      "\n",
      "\n",
      "Scan overhead:\n",
      "<Scan op time(s)> <sub scan fct time(s)> <sub scan op time(s)> <sub scan fct time(% scan op time)> <sub scan op time(% scan op time)> <node>\n",
      "  One scan node do not have its inner profile enabled. If you enable Theano profiler with 'theano.function(..., profile=True)', you must manually enable the profiling for each scan too: 'theano.scan_module.scan(...,profile=True)'. Or use Theano flag 'profile=True'.\n",
      "  One scan node do not have its inner profile enabled. If you enable Theano profiler with 'theano.function(..., profile=True)', you must manually enable the profiling for each scan too: 'theano.scan_module.scan(...,profile=True)'. Or use Theano flag 'profile=True'.\n",
      "  One scan node do not have its inner profile enabled. If you enable Theano profiler with 'theano.function(..., profile=True)', you must manually enable the profiling for each scan too: 'theano.scan_module.scan(...,profile=True)'. Or use Theano flag 'profile=True'.\n",
      "  One scan node do not have its inner profile enabled. If you enable Theano profiler with 'theano.function(..., profile=True)', you must manually enable the profiling for each scan too: 'theano.scan_module.scan(...,profile=True)'. Or use Theano flag 'profile=True'.\n",
      "  No scan have its inner profile enabled.\n",
      "\n",
      "Some info useful for gpu:\n",
      "\n",
      "    Spent 0.014s(67.50%) in cpu Op, 0.004s(20.02%) in gpu Op and 0.003s(12.48%) transfert Op\n",
      "\n",
      "    Theano function input that are float64\n",
      "    <fct name> <input name> <input type> <str input>\n",
      "         <ipython-input-15-461ec0441d66>:18 None TensorType(float64, scalar) <TensorType(float64, scalar)>\n",
      "\n",
      "    List of apply that don't have float64 as input but have float64 in outputs\n",
      "    (Useful to know if we forgot some cast when using floatX=float32 or gpu code)\n",
      "    <Apply> <Apply position> <fct name> <inputs type> <outputs type>\n",
      "\n",
      "Here are tips to potentially make your code run faster\n",
      "                 (if you think of new ones, suggest them on the mailing list).\n",
      "                 Test them first, as they are not guaranteed to always provide a speedup.\n",
      "We don't know if amdlibm will accelerate this scalar op. deg2rad\n",
      "We don't know if amdlibm will accelerate this scalar op. deg2rad\n",
      "  - Try installing amdlibm and set the Theano flag lib.amdlibm=True. This speeds up only some Elemwise operation.\n",
      "  - With the default gcc libm, exp in float32 is slower than in float64! Try Theano flag floatX=float64, or install amdlibm and set the theano flags lib.amdlibm=True\n"
     ]
    }
   ],
   "source": [
    "th_f_2.profile.summary()"
   ]
  },
  {
   "cell_type": "code",
   "execution_count": 18,
   "metadata": {},
   "outputs": [
    {
     "data": {
      "text/plain": [
       "(True, False)"
      ]
     },
     "execution_count": 18,
     "metadata": {},
     "output_type": "execute_result"
    }
   ],
   "source": [
    "theano.config.allow_gc, theano.config.scan.allow_gc"
   ]
  }
 ],
 "metadata": {
  "kernelspec": {
   "display_name": "Python 3",
   "language": "python",
   "name": "python3"
  },
  "language_info": {
   "codemirror_mode": {
    "name": "ipython",
    "version": 3
   },
   "file_extension": ".py",
   "mimetype": "text/x-python",
   "name": "python",
   "nbconvert_exporter": "python",
   "pygments_lexer": "ipython3",
   "version": "3.7.3"
  }
 },
 "nbformat": 4,
 "nbformat_minor": 2
}
