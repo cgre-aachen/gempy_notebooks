{
 "cells": [
  {
   "cell_type": "code",
   "execution_count": 1,
   "metadata": {},
   "outputs": [
    {
     "name": "stderr",
     "output_type": "stream",
     "text": [
      "WARNING (theano.tensor.blas): Using NumPy C-API based implementation for BLAS functions.\n",
      "Can not use cuDNN on context None: cannot compile with cuDNN. We got this error:\n",
      "b'/tmp/try_flags_7qlj7rb8.c:4:10: fatal error: cudnn.h: No such file or directory\\n #include <cudnn.h>\\n          ^~~~~~~~~\\ncompilation terminated.\\n'\n",
      "Mapped name None to device cuda: GeForce RTX 2080 (0000:01:00.0)\n"
     ]
    }
   ],
   "source": [
    " # These two lines are necessary only if GemPy is not installed\n",
    "import sys, os\n",
    "sys.path.append(\"../../../..\")\n",
    "os.environ[\"THEANO_FLAGS\"] = \"mode=FAST_RUN,device=cuda\"\n",
    "\n",
    "# Importing GemPy\n",
    "import gempy as gp\n",
    "\n",
    "# Embedding matplotlib figures in the notebooks\n",
    "%matplotlib inline\n",
    "\n",
    "# Importing auxiliary libraries\n",
    "import numpy as np\n",
    "import matplotlib.pyplot as plt\n",
    "import pymc3 as pm\n",
    "import arviz as az"
   ]
  },
  {
   "cell_type": "markdown",
   "metadata": {},
   "source": [
    "## Model definition\n",
    "\n",
    "In the previous example we assume constant thickness to be able to reduce the problem to one dimension. This keeps the probabilistic model fairly simple since we do not need to deel with complex geometric structures. Unfortunaly, geology is all about dealing with complex three dimensional structures. In the moment data spread across the physical space, the probabilistic model will have to expand to relate data from different locations. In other words, the model will need to include either interpolations, regressions or some other sort of spatial functions. In this paper, we use an advance universal co-kriging interpolator. Further implications of using this method will be discuss below but for this lets treat is a simple spatial interpolation in order to keep the focus on the constraction of the probabilistic model."
   ]
  },
  {
   "cell_type": "code",
   "execution_count": 2,
   "metadata": {},
   "outputs": [
    {
     "name": "stdout",
     "output_type": "stream",
     "text": [
      "Active grids: ['regular']\n"
     ]
    },
    {
     "data": {
      "text/plain": [
       "2-layers  2019-10-15 11:08"
      ]
     },
     "execution_count": 2,
     "metadata": {},
     "output_type": "execute_result"
    }
   ],
   "source": [
    "geo_model = gp.create_model('2-layers')\n",
    "gp.init_data(geo_model, extent=[0, 10000, 0, 10000, 0, 10000], resolution=[500,1,500])"
   ]
  },
  {
   "cell_type": "code",
   "execution_count": 3,
   "metadata": {},
   "outputs": [
    {
     "data": {
      "text/html": [
       "<style  type=\"text/css\" >\n",
       "    #T_6a028b52_ef2b_11e9_be53_355be314df97row0_col4 {\n",
       "            background-color:  #015482;\n",
       "        }    #T_6a028b52_ef2b_11e9_be53_355be314df97row1_col4 {\n",
       "            background-color:  #9f0052;\n",
       "        }    #T_6a028b52_ef2b_11e9_be53_355be314df97row2_col4 {\n",
       "            background-color:  #ffbe00;\n",
       "        }</style><table id=\"T_6a028b52_ef2b_11e9_be53_355be314df97\" ><thead>    <tr>        <th class=\"blank level0\" ></th>        <th class=\"col_heading level0 col0\" >surface</th>        <th class=\"col_heading level0 col1\" >series</th>        <th class=\"col_heading level0 col2\" >order_surfaces</th>        <th class=\"col_heading level0 col3\" >isBasement</th>        <th class=\"col_heading level0 col4\" >color</th>        <th class=\"col_heading level0 col5\" >id</th>        <th class=\"col_heading level0 col6\" >dz</th>        <th class=\"col_heading level0 col7\" >density</th>    </tr></thead><tbody>\n",
       "                <tr>\n",
       "                        <th id=\"T_6a028b52_ef2b_11e9_be53_355be314df97level0_row0\" class=\"row_heading level0 row0\" >0</th>\n",
       "                        <td id=\"T_6a028b52_ef2b_11e9_be53_355be314df97row0_col0\" class=\"data row0 col0\" >surface 1</td>\n",
       "                        <td id=\"T_6a028b52_ef2b_11e9_be53_355be314df97row0_col1\" class=\"data row0 col1\" >Default series</td>\n",
       "                        <td id=\"T_6a028b52_ef2b_11e9_be53_355be314df97row0_col2\" class=\"data row0 col2\" >1</td>\n",
       "                        <td id=\"T_6a028b52_ef2b_11e9_be53_355be314df97row0_col3\" class=\"data row0 col3\" >False</td>\n",
       "                        <td id=\"T_6a028b52_ef2b_11e9_be53_355be314df97row0_col4\" class=\"data row0 col4\" >#015482</td>\n",
       "                        <td id=\"T_6a028b52_ef2b_11e9_be53_355be314df97row0_col5\" class=\"data row0 col5\" >1</td>\n",
       "                        <td id=\"T_6a028b52_ef2b_11e9_be53_355be314df97row0_col6\" class=\"data row0 col6\" >20</td>\n",
       "                        <td id=\"T_6a028b52_ef2b_11e9_be53_355be314df97row0_col7\" class=\"data row0 col7\" >2.6</td>\n",
       "            </tr>\n",
       "            <tr>\n",
       "                        <th id=\"T_6a028b52_ef2b_11e9_be53_355be314df97level0_row1\" class=\"row_heading level0 row1\" >1</th>\n",
       "                        <td id=\"T_6a028b52_ef2b_11e9_be53_355be314df97row1_col0\" class=\"data row1 col0\" >surface 2</td>\n",
       "                        <td id=\"T_6a028b52_ef2b_11e9_be53_355be314df97row1_col1\" class=\"data row1 col1\" >Default series</td>\n",
       "                        <td id=\"T_6a028b52_ef2b_11e9_be53_355be314df97row1_col2\" class=\"data row1 col2\" >2</td>\n",
       "                        <td id=\"T_6a028b52_ef2b_11e9_be53_355be314df97row1_col3\" class=\"data row1 col3\" >False</td>\n",
       "                        <td id=\"T_6a028b52_ef2b_11e9_be53_355be314df97row1_col4\" class=\"data row1 col4\" >#9f0052</td>\n",
       "                        <td id=\"T_6a028b52_ef2b_11e9_be53_355be314df97row1_col5\" class=\"data row1 col5\" >2</td>\n",
       "                        <td id=\"T_6a028b52_ef2b_11e9_be53_355be314df97row1_col6\" class=\"data row1 col6\" >0</td>\n",
       "                        <td id=\"T_6a028b52_ef2b_11e9_be53_355be314df97row1_col7\" class=\"data row1 col7\" >2.4</td>\n",
       "            </tr>\n",
       "            <tr>\n",
       "                        <th id=\"T_6a028b52_ef2b_11e9_be53_355be314df97level0_row2\" class=\"row_heading level0 row2\" >2</th>\n",
       "                        <td id=\"T_6a028b52_ef2b_11e9_be53_355be314df97row2_col0\" class=\"data row2 col0\" >basement</td>\n",
       "                        <td id=\"T_6a028b52_ef2b_11e9_be53_355be314df97row2_col1\" class=\"data row2 col1\" >Default series</td>\n",
       "                        <td id=\"T_6a028b52_ef2b_11e9_be53_355be314df97row2_col2\" class=\"data row2 col2\" >3</td>\n",
       "                        <td id=\"T_6a028b52_ef2b_11e9_be53_355be314df97row2_col3\" class=\"data row2 col3\" >True</td>\n",
       "                        <td id=\"T_6a028b52_ef2b_11e9_be53_355be314df97row2_col4\" class=\"data row2 col4\" >#ffbe00</td>\n",
       "                        <td id=\"T_6a028b52_ef2b_11e9_be53_355be314df97row2_col5\" class=\"data row2 col5\" >3</td>\n",
       "                        <td id=\"T_6a028b52_ef2b_11e9_be53_355be314df97row2_col6\" class=\"data row2 col6\" >0</td>\n",
       "                        <td id=\"T_6a028b52_ef2b_11e9_be53_355be314df97row2_col7\" class=\"data row2 col7\" >3.2</td>\n",
       "            </tr>\n",
       "    </tbody></table>"
      ],
      "text/plain": [
       "     surface          series  order_surfaces  isBasement    color vertices edges  id    dz  density\n",
       "0  surface 1  Default series               1       False  #015482      NaN   NaN   1  20.0      2.6\n",
       "1  surface 2  Default series               2       False  #9f0052      NaN   NaN   2   0.0      2.4\n",
       "2   basement  Default series               3        True  #ffbe00      NaN   NaN   3   0.0      3.2"
      ]
     },
     "execution_count": 3,
     "metadata": {},
     "output_type": "execute_result"
    }
   ],
   "source": [
    "geo_model.add_surfaces('surface 1')\n",
    "geo_model.add_surfaces('surface 2')\n",
    "geo_model.add_surfaces('basement')\n",
    "dz = geo_model.grid.regular_grid.dz\n",
    "geo_model.surfaces.add_surfaces_values([dz, 0, 0], ['dz'])\n",
    "geo_model.surfaces.add_surfaces_values([2.6, 2.4, 3.2], ['density'])"
   ]
  },
  {
   "cell_type": "code",
   "execution_count": 4,
   "metadata": {},
   "outputs": [
    {
     "data": {
      "text/html": [
       "<table border=\"1\" class=\"dataframe\">\n",
       "  <thead>\n",
       "    <tr style=\"text-align: right;\">\n",
       "      <th></th>\n",
       "      <th>X</th>\n",
       "      <th>Y</th>\n",
       "      <th>Z</th>\n",
       "      <th>X_r</th>\n",
       "      <th>Y_r</th>\n",
       "      <th>Z_r</th>\n",
       "      <th>G_x</th>\n",
       "      <th>G_y</th>\n",
       "      <th>G_z</th>\n",
       "      <th>dip</th>\n",
       "      <th>azimuth</th>\n",
       "      <th>polarity</th>\n",
       "      <th>surface</th>\n",
       "      <th>series</th>\n",
       "      <th>id</th>\n",
       "      <th>order_series</th>\n",
       "      <th>smooth</th>\n",
       "    </tr>\n",
       "  </thead>\n",
       "  <tbody>\n",
       "    <tr>\n",
       "      <th>0</th>\n",
       "      <td>5000.0</td>\n",
       "      <td>5000.0</td>\n",
       "      <td>10000.0</td>\n",
       "      <td>0.5001</td>\n",
       "      <td>0.5001</td>\n",
       "      <td>0.7501</td>\n",
       "      <td>0.0</td>\n",
       "      <td>0.0</td>\n",
       "      <td>1.0</td>\n",
       "      <td>0.0</td>\n",
       "      <td>0.0</td>\n",
       "      <td>1.0</td>\n",
       "      <td>surface 1</td>\n",
       "      <td>Default series</td>\n",
       "      <td>1</td>\n",
       "      <td>1</td>\n",
       "      <td>0.01</td>\n",
       "    </tr>\n",
       "  </tbody>\n",
       "</table>"
      ],
      "text/plain": [
       "        X       Y        Z     X_r     Y_r     Z_r  G_x  G_y  G_z  dip  azimuth  polarity    surface          series  id  order_series  smooth\n",
       "0  5000.0  5000.0  10000.0  0.5001  0.5001  0.7501  0.0  0.0  1.0  0.0      0.0       1.0  surface 1  Default series   1             1    0.01"
      ]
     },
     "execution_count": 4,
     "metadata": {},
     "output_type": "execute_result"
    }
   ],
   "source": [
    "geo_model.add_surface_points(3000, 5000, 3000, 'surface 1')\n",
    "geo_model.add_surface_points(7000, 5000, 3000, 'surface 1')\n",
    "\n",
    "geo_model.add_surface_points(3000, 5000, 6000, 'surface 2')\n",
    "geo_model.add_surface_points(7000, 5000, 6000, 'surface 2')\n",
    "\n",
    "geo_model.add_orientations(5000, 5000, 10000, 'surface 1', [0,0,1])"
   ]
  },
  {
   "cell_type": "code",
   "execution_count": 5,
   "metadata": {},
   "outputs": [
    {
     "data": {
      "text/plain": [
       "<gempy.plot.visualization_2d.PlotData2D at 0x7ff351594ef0>"
      ]
     },
     "execution_count": 5,
     "metadata": {},
     "output_type": "execute_result"
    },
    {
     "data": {
      "image/png": "[encoded data removed]",
      "text/plain": [
       "<Figure size 1440x720 with 1 Axes>"
      ]
     },
     "metadata": {
      "needs_background": "light"
     },
     "output_type": "display_data"
    }
   ],
   "source": [
    "gp.plot.plot_data(geo_model)"
   ]
  },
  {
   "cell_type": "code",
   "execution_count": 6,
   "metadata": {},
   "outputs": [
    {
     "data": {
      "text/plain": [
       "<matplotlib.collections.PathCollection at 0x7ff3514d4d30>"
      ]
     },
     "execution_count": 6,
     "metadata": {},
     "output_type": "execute_result"
    },
    {
     "data": {
      "image/png": "[encoded data removed]",
      "text/plain": [
       "<Figure size 1440x720 with 1 Axes>"
      ]
     },
     "metadata": {
      "needs_background": "light"
     },
     "output_type": "display_data"
    }
   ],
   "source": [
    "device_loc = np.array([[5000,5000,10000]])\n",
    "import matplotlib.pyplot as plt\n",
    "gp.plot.plot_data(geo_model, direction='z')\n",
    "plt.scatter(device_loc[:,0], device_loc[:, 1], s=100)"
   ]
  },
  {
   "cell_type": "code",
   "execution_count": 7,
   "metadata": {},
   "outputs": [
    {
     "name": "stdout",
     "output_type": "stream",
     "text": [
      "Active grids: ['regular' 'centered']\n"
     ]
    },
    {
     "data": {
      "text/plain": [
       "Grid Object. Values: \n",
       "array([[ 1.00000000e+01,  1.00000000e+01,  1.00000000e+01],\n",
       "       [ 1.00000000e+01,  1.00000000e+01,  3.00000000e+01],\n",
       "       [ 1.00000000e+01,  1.00000000e+01,  5.00000000e+01],\n",
       "       ...,\n",
       "       [ 2.10000000e+04,  2.10000000e+04, -9.04591384e+02],\n",
       "       [ 2.10000000e+04,  2.10000000e+04, -4.77796492e+03],\n",
       "       [ 2.10000000e+04,  2.10000000e+04, -1.01600000e+04]])"
      ]
     },
     "execution_count": 7,
     "metadata": {},
     "output_type": "execute_result"
    }
   ],
   "source": [
    "geo_model.set_centered_grid(device_loc,  resolution = [10, 10, 15], radio=16000)"
   ]
  },
  {
   "cell_type": "code",
   "execution_count": 8,
   "metadata": {},
   "outputs": [
    {
     "data": {
      "text/html": [
       "<div>\n",
       "<style scoped>\n",
       "    .dataframe tbody tr th:only-of-type {\n",
       "        vertical-align: middle;\n",
       "    }\n",
       "\n",
       "    .dataframe tbody tr th {\n",
       "        vertical-align: top;\n",
       "    }\n",
       "\n",
       "    .dataframe thead th {\n",
       "        text-align: right;\n",
       "    }\n",
       "</style>\n",
       "<table border=\"1\" class=\"dataframe\">\n",
       "  <thead>\n",
       "    <tr style=\"text-align: right;\">\n",
       "      <th></th>\n",
       "      <th>dtype</th>\n",
       "      <th>output</th>\n",
       "      <th>theano_optimizer</th>\n",
       "      <th>device</th>\n",
       "      <th>verbosity</th>\n",
       "    </tr>\n",
       "  </thead>\n",
       "  <tbody>\n",
       "    <tr>\n",
       "      <th>values</th>\n",
       "      <td>float32</td>\n",
       "      <td>geology</td>\n",
       "      <td>fast_compile</td>\n",
       "      <td>cpu</td>\n",
       "      <td>[]</td>\n",
       "    </tr>\n",
       "  </tbody>\n",
       "</table>\n",
       "</div>"
      ],
      "text/plain": [
       "          dtype   output theano_optimizer device verbosity\n",
       "values  float32  geology     fast_compile    cpu        []"
      ]
     },
     "execution_count": 8,
     "metadata": {},
     "output_type": "execute_result"
    }
   ],
   "source": [
    "geo_model.additional_data.options.modify_options('dtype', 'float32')"
   ]
  },
  {
   "cell_type": "code",
   "execution_count": 9,
   "metadata": {},
   "outputs": [
    {
     "name": "stdout",
     "output_type": "stream",
     "text": [
      "Interpolator object upgraded from InterpolatorModel to InterpolatorGravity.\n",
      "Calculating the tz components for the centered grid...\n",
      "Done\n",
      "Compiling theano function...\n",
      "Compilation Done!\n"
     ]
    },
    {
     "data": {
      "text/plain": [
       "<gempy.core.interpolator.InterpolatorGravity at 0x7ff3516f02b0>"
      ]
     },
     "execution_count": 9,
     "metadata": {},
     "output_type": "execute_result"
    }
   ],
   "source": [
    "gp.set_interpolator(geo_model, type='grav', pos_density=2,  gradient=True,\n",
    "                    theano_optimizer='fast_run')            "
   ]
  },
  {
   "cell_type": "code",
   "execution_count": 10,
   "metadata": {},
   "outputs": [
    {
     "data": {
      "text/plain": [
       "True"
      ]
     },
     "execution_count": 10,
     "metadata": {},
     "output_type": "execute_result"
    }
   ],
   "source": [
    "geo_model.interpolator.theano_graph.gradient "
   ]
  },
  {
   "cell_type": "code",
   "execution_count": 11,
   "metadata": {},
   "outputs": [
    {
     "data": {
      "text/plain": [
       "array([ True, False, False, False,  True])"
      ]
     },
     "execution_count": 11,
     "metadata": {},
     "output_type": "execute_result"
    }
   ],
   "source": [
    "geo_model.grid.active_grids"
   ]
  },
  {
   "cell_type": "code",
   "execution_count": 12,
   "metadata": {},
   "outputs": [
    {
     "name": "stdout",
     "output_type": "stream",
     "text": [
      "Active grids: ['regular' 'centered']\n"
     ]
    },
    {
     "name": "stderr",
     "output_type": "stream",
     "text": [
      "../../../../gempy/core/solution.py:259: UserWarning: Surfaces not computed due to: Input array must be at least 2x2x2.. The surface is: Series: Input array must be at least 2x2x2.; Surface Number:0\n",
      "  '; Surface Number:' + str(s_n))\n",
      "../../../../gempy/core/solution.py:259: UserWarning: Surfaces not computed due to: Input array must be at least 2x2x2.. The surface is: Series: Input array must be at least 2x2x2.; Surface Number:1\n",
      "  '; Surface Number:' + str(s_n))\n"
     ]
    },
    {
     "data": {
      "text/plain": [
       "\n",
       "Lithology ids \n",
       "  [3.008557   3.0085285  3.0085     ... 0.9900714  0.99004287 0.9900143 ] "
      ]
     },
     "execution_count": 12,
     "metadata": {},
     "output_type": "execute_result"
    }
   ],
   "source": [
    "gp.compute_model(geo_model, output='gravity', set_solutions=True)"
   ]
  },
  {
   "cell_type": "code",
   "execution_count": 13,
   "metadata": {},
   "outputs": [],
   "source": [
    "# Reset\n",
    "grav= [] "
   ]
  },
  {
   "cell_type": "code",
   "execution_count": 14,
   "metadata": {},
   "outputs": [],
   "source": [
    "def plot(z1, z2):\n",
    "    geo_model.modify_surface_points([2,3], Z=z1)\n",
    "    geo_model.modify_surface_points([0,1], Z=z2)\n",
    "    gp.compute_model(geo_model, output='gravity')\n",
    "    grav.append(geo_model.solutions.fw_gravity)\n",
    "    #geo_model.set_active_grid(['regular'])\n",
    "    #gp.compute_model(geo_model)\n",
    "    gp.plot.plot_section(geo_model, 0, show_data=True, direction='y')\n",
    "    plt.scatter(geo_model.grid.centered_grid.values[:, 0], geo_model.grid.centered_grid.values[:, 2],\n",
    "               c='k', s= 3)\n",
    "    plt.show()\n",
    "    plt.plot(grav, 'o')\n",
    "    plt.ylabel('grav')\n",
    "    plt.show()\n"
   ]
  },
  {
   "cell_type": "markdown",
   "metadata": {},
   "source": [
    "### Genereate your own observations!"
   ]
  },
  {
   "cell_type": "code",
   "execution_count": 15,
   "metadata": {},
   "outputs": [
    {
     "data": {
      "application/vnd.jupyter.widget-view+json": {
       "model_id": "f60a7c3f049d42cbbbf2414d0658d107",
       "version_major": 2,
       "version_minor": 0
      },
      "text/plain": [
       "interactive(children=(IntSlider(value=3400, description='z1', max=6000, min=1000, step=200), IntSlider(value=7…"
      ]
     },
     "metadata": {},
     "output_type": "display_data"
    },
    {
     "data": {
      "text/plain": [
       "<function __main__.plot(z1, z2)>"
      ]
     },
     "execution_count": 15,
     "metadata": {},
     "output_type": "execute_result"
    }
   ],
   "source": [
    "from ipywidgets import interact, interactive, fixed, interact_manual\n",
    "import ipywidgets as widgets\n",
    "\n",
    "interact(plot, z1=(1000, 6000, 200), z2=(5000, 9999, 200))"
   ]
  },
  {
   "cell_type": "code",
   "execution_count": 16,
   "metadata": {},
   "outputs": [
    {
     "data": {
      "text/plain": [
       "(-16442.3, 0.0)"
      ]
     },
     "execution_count": 16,
     "metadata": {},
     "output_type": "execute_result"
    }
   ],
   "source": [
    "g_stats = np.asarray(grav)\n",
    "g_stats.mean(), g_stats.std()"
   ]
  },
  {
   "cell_type": "code",
   "execution_count": 17,
   "metadata": {},
   "outputs": [
    {
     "data": {
      "text/plain": [
       "array([-16442.3], dtype=float32)"
      ]
     },
     "execution_count": 17,
     "metadata": {},
     "output_type": "execute_result"
    }
   ],
   "source": [
    "g_stats.reshape(-1)"
   ]
  },
  {
   "cell_type": "markdown",
   "metadata": {},
   "source": [
    "_____\n",
    "### Bayesian"
   ]
  },
  {
   "cell_type": "code",
   "execution_count": 18,
   "metadata": {},
   "outputs": [],
   "source": [
    "from gempy.bayesian.plot_posterior import default_blue"
   ]
  },
  {
   "cell_type": "code",
   "execution_count": 19,
   "metadata": {},
   "outputs": [
    {
     "data": {
      "text/plain": [
       "<matplotlib.collections.PolyCollection at 0x7ff316322898>"
      ]
     },
     "execution_count": 19,
     "metadata": {},
     "output_type": "execute_result"
    },
    {
     "data": {
      "image/png": "[encoded data removed]",
      "text/plain": [
       "<Figure size 1440x720 with 1 Axes>"
      ]
     },
     "metadata": {},
     "output_type": "display_data"
    }
   ],
   "source": [
    "p = gp.plot.plot_section(geo_model, 0, show_data=True, direction='y')\n",
    "p.fig.axes[-1].scatter([3*1000], [9.9*1000],  marker='v', s =200, c='k',zorder=10)\n",
    "p.fig.axes[-1].scatter([7*1000], [9.9*1000],  marker='v', s =200, c='k', zorder=10)\n",
    "p.fig.axes[-1].scatter([5*1000], [10*1000],  marker='x', s =400, c='red',zorder=10)\n",
    "\n",
    "p.fig.axes[-1].vlines(3*1000, 1*1000, 10*1000, linewidth=4, color='gray', )\n",
    "p.fig.axes[-1].vlines(7*1000, 1*1000, 10*1000, linewidth=4, color='gray')\n",
    "p.fig.axes[-1].vlines(3*1000, 1*1000, 10*1000)\n",
    "p.fig.axes[-1].vlines(7*1000, 1*1000, 10*1000)\n",
    "p.fig.axes[-1].vlines(7*1000, 1*1000, 10*1000)\n",
    "p.fig.axes[-1].fill_between(x=[4.5*1000,5.5*1000], y1=[0,0], y2=[10*1000,10*1000], alpha=.7, color=default_blue)"
   ]
  },
  {
   "cell_type": "markdown",
   "metadata": {},
   "source": [
    "### Setting gempy into a pymc function\n"
   ]
  },
  {
   "cell_type": "code",
   "execution_count": 21,
   "metadata": {},
   "outputs": [],
   "source": [
    "geo_model.interpolator.theano_graph.sig_slope.set_value(150)"
   ]
  },
  {
   "cell_type": "code",
   "execution_count": 66,
   "metadata": {},
   "outputs": [
    {
     "data": {
      "text/plain": [
       "array([[    0.     ,     0.     ,   457.56787],\n",
       "       [    0.     ,     0.     ,   457.5744 ],\n",
       "       [    0.     ,     0.     , -1633.6165 ],\n",
       "       [    0.     ,     0.     , -1633.6177 ]], dtype=float32)"
      ]
     },
     "execution_count": 66,
     "metadata": {},
     "output_type": "execute_result"
    }
   ],
   "source": [
    "# # Test gradient\n",
    "# import theano\n",
    "# import theano.tensor as tt\n",
    "# theano.config.compute_test_value = 'ignore'\n",
    "# geo_model_T = theano.OpFromGraph(geo_model.interpolator.theano_graph.input_parameters_loop,\n",
    "#                                 [theano.grad(geo_model.interpolator.theano_graph.compute_series()[0][1][0:250000].sum(),\n",
    "#                                              geo_model.interpolator.theano_graph.input_parameters_loop[4])], inline=True,\n",
    "#                                  on_unused_input='ignore',\n",
    "#                                  name='geo_model')\n",
    "\n",
    "# import theano\n",
    "# import theano.tensor as tt\n",
    "theano.config.compute_test_value = 'ignore'\n",
    "geo_model_T = theano.OpFromGraph(geo_model.interpolator.theano_graph.input_parameters_grav,\n",
    "                                [theano.grad(geo_model.interpolator.theano_graph.compute_forward_gravity(densities=None, pos_density=2)[-1][0],\n",
    "                                             geo_model.interpolator.theano_graph.input_parameters_grav[4])], inline=True,\n",
    "                                 on_unused_input='ignore',\n",
    "                                 name='forw_grav')\n",
    "\n",
    "i = geo_model.interpolator.get_python_input_grav()\n",
    "th_f = theano.function([], geo_model_T(*i), on_unused_input='warn')\n",
    "th_f()"
   ]
  },
  {
   "cell_type": "code",
   "execution_count": 71,
   "metadata": {},
   "outputs": [
    {
     "data": {
      "text/plain": [
       "array([-15766.664], dtype=float32)"
      ]
     },
     "execution_count": 71,
     "metadata": {},
     "output_type": "execute_result"
    }
   ],
   "source": [
    "theano.config.compute_test_value = 'ignore'\n",
    "geo_model_T = theano.OpFromGraph(geo_model.interpolator.theano_graph.input_parameters_grav,\n",
    "                                [geo_model.interpolator.theano_graph.compute_forward_gravity(densities=None, pos_density=2)[-1]],\n",
    "                                 inline=True,\n",
    "                                 on_unused_input='ignore',\n",
    "                                 name='forw_grav')\n",
    "th_f = theano.function([], geo_model_T(*i), on_unused_input='warn')\n"
   ]
  },
  {
   "cell_type": "code",
   "execution_count": 64,
   "metadata": {},
   "outputs": [
    {
     "data": {
      "text/plain": [
       "array([-15766.664], dtype=float32)"
      ]
     },
     "execution_count": 64,
     "metadata": {},
     "output_type": "execute_result"
    }
   ],
   "source": [
    "th_f()"
   ]
  },
  {
   "cell_type": "code",
   "execution_count": 72,
   "metadata": {},
   "outputs": [],
   "source": [
    "# We convert a python variable to theano.shared\n",
    "input_sh = []\n",
    "i = geo_model.interpolator.get_python_input_grav()\n",
    "for ii in i:\n",
    "    input_sh.append(theano.shared(ii))\n",
    "\n",
    "# We get the rescaling parameters:\n",
    "rf = geo_model.rescaling.df.loc['values', 'rescaling factor']\n",
    "centers = geo_model.rescaling.df.loc['values', 'centers']\n",
    "\n",
    "# We create pandas groups by id to be able to modify several points at the same time:\n",
    "g = geo_model.surface_points.df.groupby('id')\n",
    "l = theano.shared(np.array([], dtype='float32'))"
   ]
  },
  {
   "cell_type": "code",
   "execution_count": 73,
   "metadata": {},
   "outputs": [],
   "source": [
    "g_stats = np.array([-15620.198, -15620.198, -16052.367, -16052.367, -16052.367,\n",
    "       -16052.367, -16052.367, -16052.367, -16052.367, -16052.367,\n",
    "       -16052.367, -16052.367, -16052.367, -16052.367, -15620.198,\n",
    "       -15620.198, -15620.198, -15620.198, -15620.198, -16052.367,\n",
    "       -16052.367, -16052.367, -16052.367, -16163.165, -16163.165,\n",
    "       -16163.165, -16099.716, -16099.716, -16099.716, -16163.165,\n",
    "       -16163.165, -16163.165, -16163.165, -16163.165, -16163.165,\n",
    "       -16163.165, -16099.716, -16099.716, -16099.716, -16163.165,\n",
    "       -16163.165, -16163.165, -16099.716, -16099.716, -16099.716,\n",
    "       -16099.716, -16099.716, -16099.716, -16099.716, -16163.165,\n",
    "       -16099.716, -16099.716, -16099.716, -16099.716, -16052.367,\n",
    "       -16099.716, -16099.716, -16099.716, -16099.716, -16163.165,\n",
    "       -16163.165, -16163.165, -16099.716, -16099.716, -16099.716,\n",
    "       -16163.165, -16163.165], dtype='float32')"
   ]
  },
  {
   "cell_type": "code",
   "execution_count": 74,
   "metadata": {},
   "outputs": [],
   "source": [
    "## theano.config.compute_test_value = 'ignore'\n",
    "\n",
    "with pm.Model() as model:\n",
    "    depths = pm.Normal('depths', geo_model.surface_points.df['Z'], np.array([1000,1000,1000,1000]), shape=4)\n",
    "    depths_r = (depths - centers[2])/rf + 0.5001\n",
    "    input_sh[4] =  tt.set_subtensor(input_sh[4][:, 2], depths_r)\n",
    "    grav = geo_model_T(*input_sh)\n",
    "    \n",
    "    # well = geo.reshape((500,1,500))[250, 0 ,:]\n",
    "    #thickness = pm.Deterministic('thickness', well.sum())\n",
    "    grav = pm.Deterministic('gravity', grav)\n",
    "    \n",
    " #   sigma = pm.Gamma('$\\sigma$', 1, .7)\n",
    "    sigma = pm.Deterministic('$\\sigma$', theano.shared(np.array(250)))\n",
    " #   sigma = pm.Normal('$\\sigma$', 5, 1)\n",
    "    obs_grav = pm.Normal('y', mu=grav[0], sd=sigma, observed=g_stats)\n",
    "\n"
   ]
  },
  {
   "cell_type": "code",
   "execution_count": 75,
   "metadata": {
    "scrolled": false
   },
   "outputs": [
    {
     "name": "stderr",
     "output_type": "stream",
     "text": [
      "Only 100 samples in chain.\n",
      "Auto-assigning NUTS sampler...\n",
      "Initializing NUTS using jitter+adapt_diag...\n",
      "ERROR (theano.gof.opt): SeqOptimizer apply <theano.gpuarray.opt.GraphToGPU object at 0x7ff09c527828>\n",
      "ERROR (theano.gof.opt): Traceback:\n",
      "ERROR (theano.gof.opt): Traceback (most recent call last):\n",
      "  File \"/home/miguel/.conda/envs/m_gempy/lib/python3.7/site-packages/theano/gof/opt.py\", line 251, in apply\n",
      "    sub_prof = optimizer.optimize(fgraph)\n",
      "  File \"/home/miguel/.conda/envs/m_gempy/lib/python3.7/site-packages/theano/gof/opt.py\", line 97, in optimize\n",
      "    ret = self.apply(fgraph, *args, **kwargs)\n",
      "  File \"/home/miguel/.conda/envs/m_gempy/lib/python3.7/site-packages/theano/gpuarray/opt.py\", line 429, in apply\n",
      "    outputs = new_ops(*[mapping[i] for i in node.inputs], return_list=True)\n",
      "  File \"/home/miguel/.conda/envs/m_gempy/lib/python3.7/site-packages/theano/gof/op.py\", line 615, in __call__\n",
      "    node = self.make_node(*inputs, **kwargs)\n",
      "  File \"/home/miguel/.conda/envs/m_gempy/lib/python3.7/site-packages/theano/gpuarray/elemwise.py\", line 416, in make_node\n",
      "    res = DimShuffle.make_node(self, input)\n",
      "  File \"/home/miguel/.conda/envs/m_gempy/lib/python3.7/site-packages/theano/tensor/elemwise.py\", line 230, in make_node\n",
      "    % (self.input_broadcastable, ib)))\n",
      "TypeError: The broadcastable pattern of the input is incorrect for this op. Expected (False, False, True, False), got (False, False, False, False).\n",
      "\n",
      "Sequential sampling (1 chains in 1 job)\n",
      "NUTS: [depths]\n",
      "100%|██████████| 120/120 [02:11<00:00,  1.17it/s]\n",
      "100%|██████████| 120/120 [00:00<00:00, 149.47it/s]\n"
     ]
    }
   ],
   "source": [
    "with model:\n",
    "    trace = pm.sample(100, chains=1, tune=20, discard_tuned_samples=False,\n",
    "                  compute_convergence_checks=False)\n",
    "    prior = pm.sample_prior_predictive(1000)\n",
    "    post = pm.sample_posterior_predictive(trace)\n"
   ]
  },
  {
   "cell_type": "code",
   "execution_count": 76,
   "metadata": {},
   "outputs": [
    {
     "data": {
      "text/plain": [
       "<xarray.Dataset>\n",
       "Dimensions:        (chain: 1, depths_dim_0: 4, draw: 120, gravity_dim_0: 1)\n",
       "Coordinates:\n",
       "  * chain          (chain) int64 0\n",
       "  * draw           (draw) int64 0 1 2 3 4 5 6 7 ... 113 114 115 116 117 118 119\n",
       "  * depths_dim_0   (depths_dim_0) int64 0 1 2 3\n",
       "  * gravity_dim_0  (gravity_dim_0) int64 0\n",
       "Data variables:\n",
       "    depths         (chain, draw, depths_dim_0) float32 7280.7173 ... 4269.7793\n",
       "    gravity        (chain, draw, gravity_dim_0) float32 -15787.911 ... -16042.627\n",
       "    $\\sigma$       (chain, draw) int64 250 250 250 250 250 ... 250 250 250 250\n",
       "Attributes:\n",
       "    created_at:                 2019-10-15T09:38:00.203906\n",
       "    inference_library:          pymc3\n",
       "    inference_library_version:  3.7"
      ]
     },
     "execution_count": 76,
     "metadata": {},
     "output_type": "execute_result"
    }
   ],
   "source": [
    "import arviz as az\n",
    "\n",
    "data = az.from_pymc3(trace=trace,\n",
    "                     prior=prior,\n",
    "                     posterior_predictive=post)\n",
    "data.posterior"
   ]
  },
  {
   "cell_type": "code",
   "execution_count": 30,
   "metadata": {},
   "outputs": [],
   "source": [
    "data.prior['foo2'] = data.prior['depths'][0 ,:, 0]\n",
    "data.prior['foo3'] = data.prior['depths'][0 ,:, 1]"
   ]
  },
  {
   "cell_type": "code",
   "execution_count": 31,
   "metadata": {},
   "outputs": [],
   "source": [
    "data.posterior['foo2'] =  data.posterior['depths'][0 ,:, 0]\n",
    "data.posterior['foo3'] =  data.posterior['depths'][0 ,:, 1]\n",
    "data.posterior['foo4'] =  data.posterior['depths'][0 ,:, 2]\n",
    "data.posterior['foo5'] =  data.posterior['depths'][0 ,:, 3]"
   ]
  },
  {
   "cell_type": "code",
   "execution_count": 32,
   "metadata": {},
   "outputs": [],
   "source": [
    "data.posterior['like_std2'] = np.array([5]*200)"
   ]
  },
  {
   "cell_type": "code",
   "execution_count": null,
   "metadata": {},
   "outputs": [],
   "source": [
    "az"
   ]
  },
  {
   "cell_type": "code",
   "execution_count": null,
   "metadata": {},
   "outputs": [],
   "source": [
    "2"
   ]
  },
  {
   "cell_type": "code",
   "execution_count": 77,
   "metadata": {},
   "outputs": [
    {
     "data": {
      "image/png": "[encoded data removed]",
      "text/plain": [
       "<Figure size 864x864 with 12 Axes>"
      ]
     },
     "metadata": {},
     "output_type": "display_data"
    }
   ],
   "source": [
    "az.plot_trace(data);\n"
   ]
  },
  {
   "cell_type": "code",
   "execution_count": null,
   "metadata": {},
   "outputs": [],
   "source": [
    "az.plot_joint(data, var_names=['foo2', 'foo3'])"
   ]
  },
  {
   "cell_type": "code",
   "execution_count": null,
   "metadata": {},
   "outputs": [],
   "source": [
    "# !git pull\n",
    "from gempy.bayesian import plot_posterior as pp\n",
    "\n",
    "import seaborn as sns\n"
   ]
  },
  {
   "cell_type": "code",
   "execution_count": null,
   "metadata": {},
   "outputs": [],
   "source": [
    "%matplotlib notebook\n",
    "from importlib import reload\n",
    "reload(pp)\n",
    "p = pp.PlotPosterior(data)\n",
    "p.create_figure(figsize=(9,3), joyplot=True)"
   ]
  },
  {
   "cell_type": "code",
   "execution_count": null,
   "metadata": {},
   "outputs": [],
   "source": [
    "def change_iteration(iteration):\n",
    "    p.plot_posterior(['foo2', 'foo3'], ['thickness', '$\\sigma$'], 'y', iteration)\n",
    "    # p.plot_posterior(['$\\mu$', '$\\sigma$'], ['$\\mu$', '$\\sigma$'], 'y', iteration)"
   ]
  },
  {
   "cell_type": "code",
   "execution_count": null,
   "metadata": {},
   "outputs": [],
   "source": [
    "from ipywidgets import interact, interactive, fixed, interact_manual\n",
    "import ipywidgets as widgets\n",
    "\n",
    "interact(change_iteration, iteration=(0, 200, 1))"
   ]
  },
  {
   "cell_type": "code",
   "execution_count": null,
   "metadata": {},
   "outputs": [],
   "source": [
    "from gempy.bayesian.plot_posterior import my_cmap_full"
   ]
  },
  {
   "cell_type": "code",
   "execution_count": null,
   "metadata": {},
   "outputs": [],
   "source": [
    "az.plot_pair(data, divergences=True, var_names=['foo2', 'foo3', '$\\sigma$'], kind='kde', contour=True,\n",
    "            colorbar=True)\n",
    "             #plot_kwargs={'cmap':my_cmap_full});"
   ]
  },
  {
   "cell_type": "code",
   "execution_count": null,
   "metadata": {},
   "outputs": [],
   "source": []
  }
 ],
 "metadata": {
  "kernelspec": {
   "display_name": "Python 3",
   "language": "python",
   "name": "python3"
  },
  "language_info": {
   "codemirror_mode": {
    "name": "ipython",
    "version": 3
   },
   "file_extension": ".py",
   "mimetype": "text/x-python",
   "name": "python",
   "nbconvert_exporter": "python",
   "pygments_lexer": "ipython3",
   "version": "3.7.3"
  }
 },
 "nbformat": 4,
 "nbformat_minor": 2
}
