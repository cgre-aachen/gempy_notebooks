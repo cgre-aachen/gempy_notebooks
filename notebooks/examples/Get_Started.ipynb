{
 "cells": [
  {
   "cell_type": "markdown",
   "metadata": {},
   "source": [
    "## Importing used libraries"
   ]
  },
  {
   "cell_type": "code",
   "execution_count": 1,
   "metadata": {},
   "outputs": [],
   "source": [
    "# These two lines are necessary only if GemPy is not installed\n",
    "import sys, os\n",
    "import numpy as np\n",
    "sys.path = list(np.insert(sys.path, 0, \"../..\"))\n",
    "\n",
    "# Importing GemPy\n",
    "import gempy as gp\n",
    "\n",
    "# Importing aux libraries\n",
    "from ipywidgets import interact\n",
    "import numpy as np\n",
    "import matplotlib.pyplot as plt\n",
    "import matplotlib.image as mpimg\n",
    "\n",
    "# Embedding matplotlib figures in the notebooks\n",
    "%matplotlib qt5"
   ]
  },
  {
   "cell_type": "code",
   "execution_count": 2,
   "metadata": {},
   "outputs": [],
   "source": [
    "from gempy.plot import visualization_2d_pro as vv\n",
    "from gempy.plot import vista"
   ]
  },
  {
   "cell_type": "markdown",
   "metadata": {},
   "source": [
    "### Initializing the model:\n",
    "\n",
    "The first step to create a GemPy model is create a gempy.Model object that will contain all the other data structures and necessary functionality.\n",
    "\n",
    "In addition for this example we will define a regular grid since the beginning. This is the grid where we will interpolate the 3D geological model. GemPy comes with an array of different grids for different pourposes as we will see below. For visualization usually a regular grid is the one that makes more sense."
   ]
  },
  {
   "cell_type": "code",
   "execution_count": 3,
   "metadata": {},
   "outputs": [
    {
     "name": "stdout",
     "output_type": "stream",
     "text": [
      "Active grids: ['regular']\n"
     ]
    }
   ],
   "source": [
    "geo_model = gp.create_model('Model1')\n",
    "geo_model = gp.init_data(geo_model, extent= [0, 791, 0, 200, -582, 0], resolution=[100, 10, 100])"
   ]
  },
  {
   "cell_type": "markdown",
   "metadata": {},
   "source": [
    "GemPy core code is written in Python. However for efficiency (and other reasons) most of heavy computations happend in optimize compile code, either C or CUDA for GPU. To do so, GemPy rely on the library theano. To guarantee maximum optimization theano requires to compile the code for every Python kernel. The compilation is done by calling the following line at any point (before computing the model):"
   ]
  },
  {
   "cell_type": "code",
   "execution_count": 4,
   "metadata": {},
   "outputs": [
    {
     "name": "stdout",
     "output_type": "stream",
     "text": [
      "Setting kriging parameters to their default values.\n",
      "Compiling theano function...\n",
      "Level of Optimization:  fast_compile\n",
      "Device:  cpu\n",
      "Precision:  float64\n",
      "Number of faults:  0\n",
      "Compilation Done!\n",
      "Kriging values: \n",
      "                   values\n",
      "range             1002.2\n",
      "$C_o$            23914.4\n",
      "drift equations      [3]\n"
     ]
    },
    {
     "data": {
      "text/plain": [
       "<gempy.core.interpolator.InterpolatorModel at 0x1c419646eb8>"
      ]
     },
     "execution_count": 4,
     "metadata": {},
     "output_type": "execute_result"
    }
   ],
   "source": [
    "gp.set_interpolator(geo_model, theano_optimizer='fast_compile', verbose=[])"
   ]
  },
  {
   "cell_type": "markdown",
   "metadata": {},
   "source": [
    "### Creating figure:\n",
    "\n",
    "GemPy uses matplotlib and pyvista-vtk libraries for 2d and 3d visualization of the model respectively. One of the design decisions of GemPy is to allow real time construction of the model. What this means is that you can start adding input data and see in real time how the 3D surfaces evolve. Lets initialize the visualization windows.\n",
    "\n",
    "The first one is the 2d figure. Just place the window where you can see it (maybe move the jupyter notebook to half screen and use the other half for the renderers)."
   ]
  },
  {
   "cell_type": "code",
   "execution_count": 5,
   "metadata": {},
   "outputs": [
    {
     "data": {
      "text/plain": [
       "(<Figure size 2600x1200 with 0 Axes>, array([], shape=(0, 0), dtype=object))"
      ]
     },
     "execution_count": 5,
     "metadata": {},
     "output_type": "execute_result"
    }
   ],
   "source": [
    "%matplotlib qt5\n",
    "import pyvista as pv\n",
    "pv.set_plot_theme(\"document\")\n",
    "\n",
    "p2d = vv.Plot2D(geo_model)\n",
    "p2d.create_figure((13, 6))"
   ]
  },
  {
   "cell_type": "markdown",
   "metadata": {},
   "source": [
    "#### Add model section\n",
    "\n",
    "In the 2d renderer we can add several cross section of the model. In this case, for simplicity sake we are just adding one perpendicular to y."
   ]
  },
  {
   "cell_type": "code",
   "execution_count": 6,
   "metadata": {},
   "outputs": [],
   "source": [
    "# In this case perpendicular to the y axes\n",
    "ax = p2d.add_section(cell_number=1, direction='y')"
   ]
  },
  {
   "cell_type": "markdown",
   "metadata": {},
   "source": [
    "#### Loading cross-section image:\n",
    "\n",
    "Remember that gempy is simply using matplotlib and therofe the ax object created above is a standard matplotlib axes. This allow to manipulate it freely. Lets load an image with the information of couple of boreholes"
   ]
  },
  {
   "cell_type": "code",
   "execution_count": 7,
   "metadata": {},
   "outputs": [
    {
     "data": {
      "text/plain": [
       "<matplotlib.image.AxesImage at 0x1c424f11fd0>"
      ]
     },
     "execution_count": 7,
     "metadata": {},
     "output_type": "execute_result"
    }
   ],
   "source": [
    "# Reading image\n",
    "img = mpimg.imread('Picture 1.png')\n",
    "# Plotting it inplace\n",
    "ax.imshow(img, origin='upper', alpha=.8, extent = (0, 791, -582,0))"
   ]
  },
  {
   "cell_type": "markdown",
   "metadata": {},
   "source": [
    "We can do the same in 3D through pyvista and vtk rendering. Click the qt5 button Back (+Y) to have the same view as in the 2D viwer:"
   ]
  },
  {
   "cell_type": "code",
   "execution_count": 9,
   "metadata": {},
   "outputs": [],
   "source": [
    "p3d = vista._Vista(geo_model, plotter_type='background', notebook=False, real_time=False)"
   ]
  },
  {
   "cell_type": "markdown",
   "metadata": {},
   "source": [
    "## Building the model\n",
    "\n",
    "Now that we have everything initialize we can start the construction of the geological model. \n",
    "\n",
    "### Surfaces\n",
    "\n",
    "GemPy is a surface based interpolator. This means that all the input data we add has to be refered to a surface. The surfaces always mark the bottom of a unit. By default GemPy surfaces are empty:"
   ]
  },
  {
   "cell_type": "code",
   "execution_count": 9,
   "metadata": {},
   "outputs": [
    {
     "data": {
      "text/html": [
       "<style  type=\"text/css\" >\n",
       "</style><table id=\"T_e162f52e_41b0_11ea_b25a_acde48001122\" ><thead>    <tr>        <th class=\"blank level0\" ></th>        <th class=\"col_heading level0 col0\" >surface</th>        <th class=\"col_heading level0 col1\" >series</th>        <th class=\"col_heading level0 col2\" >order_surfaces</th>        <th class=\"col_heading level0 col3\" >isActive</th>        <th class=\"col_heading level0 col4\" >color</th>        <th class=\"col_heading level0 col5\" >id</th>    </tr></thead><tbody>\n",
       "        </tbody></table>"
      ],
      "text/plain": [
       "Empty DataFrame\n",
       "Columns: [surface, series, order_surfaces, isActive, color, id]\n",
       "Index: []"
      ]
     },
     "execution_count": 9,
     "metadata": {},
     "output_type": "execute_result"
    }
   ],
   "source": [
    "geo_model.surfaces"
   ]
  },
  {
   "cell_type": "markdown",
   "metadata": {},
   "source": [
    "If we do not care about the names and we just want to interpolate a surface we can use:"
   ]
  },
  {
   "cell_type": "code",
   "execution_count": 10,
   "metadata": {},
   "outputs": [
    {
     "data": {
      "text/html": [
       "<style  type=\"text/css\" >\n",
       "    #T_e3263f92_41b0_11ea_b25a_acde48001122row0_col4 {\n",
       "            background-color:  #015482;\n",
       "        }    #T_e3263f92_41b0_11ea_b25a_acde48001122row1_col4 {\n",
       "            background-color:  #9f0052;\n",
       "        }</style><table id=\"T_e3263f92_41b0_11ea_b25a_acde48001122\" ><thead>    <tr>        <th class=\"blank level0\" ></th>        <th class=\"col_heading level0 col0\" >surface</th>        <th class=\"col_heading level0 col1\" >series</th>        <th class=\"col_heading level0 col2\" >order_surfaces</th>        <th class=\"col_heading level0 col3\" >isActive</th>        <th class=\"col_heading level0 col4\" >color</th>        <th class=\"col_heading level0 col5\" >id</th>    </tr></thead><tbody>\n",
       "                <tr>\n",
       "                        <th id=\"T_e3263f92_41b0_11ea_b25a_acde48001122level0_row0\" class=\"row_heading level0 row0\" >0</th>\n",
       "                        <td id=\"T_e3263f92_41b0_11ea_b25a_acde48001122row0_col0\" class=\"data row0 col0\" >surface1</td>\n",
       "                        <td id=\"T_e3263f92_41b0_11ea_b25a_acde48001122row0_col1\" class=\"data row0 col1\" >Default series</td>\n",
       "                        <td id=\"T_e3263f92_41b0_11ea_b25a_acde48001122row0_col2\" class=\"data row0 col2\" >1</td>\n",
       "                        <td id=\"T_e3263f92_41b0_11ea_b25a_acde48001122row0_col3\" class=\"data row0 col3\" >nan</td>\n",
       "                        <td id=\"T_e3263f92_41b0_11ea_b25a_acde48001122row0_col4\" class=\"data row0 col4\" >#015482</td>\n",
       "                        <td id=\"T_e3263f92_41b0_11ea_b25a_acde48001122row0_col5\" class=\"data row0 col5\" >1</td>\n",
       "            </tr>\n",
       "            <tr>\n",
       "                        <th id=\"T_e3263f92_41b0_11ea_b25a_acde48001122level0_row1\" class=\"row_heading level0 row1\" >1</th>\n",
       "                        <td id=\"T_e3263f92_41b0_11ea_b25a_acde48001122row1_col0\" class=\"data row1 col0\" >surface2</td>\n",
       "                        <td id=\"T_e3263f92_41b0_11ea_b25a_acde48001122row1_col1\" class=\"data row1 col1\" >Default series</td>\n",
       "                        <td id=\"T_e3263f92_41b0_11ea_b25a_acde48001122row1_col2\" class=\"data row1 col2\" >2</td>\n",
       "                        <td id=\"T_e3263f92_41b0_11ea_b25a_acde48001122row1_col3\" class=\"data row1 col3\" >nan</td>\n",
       "                        <td id=\"T_e3263f92_41b0_11ea_b25a_acde48001122row1_col4\" class=\"data row1 col4\" >#9f0052</td>\n",
       "                        <td id=\"T_e3263f92_41b0_11ea_b25a_acde48001122row1_col5\" class=\"data row1 col5\" >2</td>\n",
       "            </tr>\n",
       "    </tbody></table>"
      ],
      "text/plain": [
       "    surface          series  order_surfaces isActive    color  id\n",
       "0  surface1  Default series               1      NaN  #015482   1\n",
       "1  surface2  Default series               2      NaN  #9f0052   2"
      ]
     },
     "execution_count": 10,
     "metadata": {},
     "output_type": "execute_result"
    }
   ],
   "source": [
    "# Default surfaces:\n",
    "geo_model.set_default_surfaces()"
   ]
  },
  {
   "cell_type": "markdown",
   "metadata": {},
   "source": [
    "Now we can start adding data. GemPy input data consist on surface points and orientations (perpendicular to the layers). The 2D plot gives you the X and Z coordinates when hovering the mouse over. We can add a surface point as follows:"
   ]
  },
  {
   "cell_type": "code",
   "execution_count": 11,
   "metadata": {},
   "outputs": [
    {
     "data": {
      "text/html": [
       "<div>\n",
       "<style scoped>\n",
       "    .dataframe tbody tr th:only-of-type {\n",
       "        vertical-align: middle;\n",
       "    }\n",
       "\n",
       "    .dataframe tbody tr th {\n",
       "        vertical-align: top;\n",
       "    }\n",
       "\n",
       "    .dataframe thead th {\n",
       "        text-align: right;\n",
       "    }\n",
       "</style>\n",
       "<table border=\"1\" class=\"dataframe\">\n",
       "  <thead>\n",
       "    <tr style=\"text-align: right;\">\n",
       "      <th></th>\n",
       "      <th>val</th>\n",
       "    </tr>\n",
       "  </thead>\n",
       "  <tbody>\n",
       "  </tbody>\n",
       "</table>\n",
       "</div>"
      ],
      "text/plain": [
       "Empty DataFrame\n",
       "Columns: [val]\n",
       "Index: []"
      ]
     },
     "execution_count": 11,
     "metadata": {},
     "output_type": "execute_result"
    }
   ],
   "source": [
    "# Add a point\n",
    "geo_model.add_surface_points(X=223, Y=0.01, Z=-94, surface='surface1')\n",
    "\n",
    "# Plot in 2D\n",
    "p2d.plot_data(ax, cell_number=11)\n",
    "\n",
    "# Plot in 3D\n",
    "p3d.plot_surface_points()"
   ]
  },
  {
   "cell_type": "markdown",
   "metadata": {},
   "source": [
    "Now we can add the other two points of the layer:"
   ]
  },
  {
   "cell_type": "code",
   "execution_count": 12,
   "metadata": {},
   "outputs": [
    {
     "data": {
      "text/html": [
       "<div>\n",
       "<style scoped>\n",
       "    .dataframe tbody tr th:only-of-type {\n",
       "        vertical-align: middle;\n",
       "    }\n",
       "\n",
       "    .dataframe tbody tr th {\n",
       "        vertical-align: top;\n",
       "    }\n",
       "\n",
       "    .dataframe thead th {\n",
       "        text-align: right;\n",
       "    }\n",
       "</style>\n",
       "<table border=\"1\" class=\"dataframe\">\n",
       "  <thead>\n",
       "    <tr style=\"text-align: right;\">\n",
       "      <th></th>\n",
       "      <th>val</th>\n",
       "    </tr>\n",
       "  </thead>\n",
       "  <tbody>\n",
       "  </tbody>\n",
       "</table>\n",
       "</div>"
      ],
      "text/plain": [
       "Empty DataFrame\n",
       "Columns: [val]\n",
       "Index: []"
      ]
     },
     "execution_count": 12,
     "metadata": {},
     "output_type": "execute_result"
    }
   ],
   "source": [
    "# Add points\n",
    "geo_model.add_surface_points(X=458, Y=0, Z=-107, surface='surface1')\n",
    "geo_model.add_surface_points(X=612, Y=0, Z=-14, surface='surface1')\n",
    "\n",
    "# Plotting\n",
    "p2d.plot_data(ax, cell_number=11)\n",
    "p3d.plot_surface_points()"
   ]
  },
  {
   "cell_type": "markdown",
   "metadata": {},
   "source": [
    "The minimum amount of data to interpolate anything in gempy is:\n",
    "a) 2 surface points per surface\n",
    "b) One orientation per series.\n",
    "\n",
    "Lets add an orientation anywhere in space:"
   ]
  },
  {
   "cell_type": "code",
   "execution_count": 13,
   "metadata": {},
   "outputs": [],
   "source": [
    "# Adding orientation\n",
    "geo_model.add_orientations(X=350, Y=0, Z=-300, surface='surface1', pole_vector= (0,0,1))\n",
    "p2d.plot_data(ax, cell_number=5)\n",
    "p3d.plot_data()"
   ]
  },
  {
   "cell_type": "markdown",
   "metadata": {},
   "source": [
    "Now we have enough data for finally interpolate!"
   ]
  },
  {
   "cell_type": "code",
   "execution_count": 14,
   "metadata": {},
   "outputs": [
    {
     "name": "stderr",
     "output_type": "stream",
     "text": [
      "../../gempy/core/solution.py:266: UserWarning: Attribute error. Using non masked marching cubesmarching_cubes_lewiner() got an unexpected keyword argument 'mask'.\n",
      "  warnings.warn('Attribute error. Using non masked marching cubes' + str(e)+'.')\n"
     ]
    },
    {
     "data": {
      "text/plain": [
       "\n",
       "Lithology ids \n",
       "  [2. 2. 2. ... 2. 2. 2.] "
      ]
     },
     "execution_count": 14,
     "metadata": {},
     "output_type": "execute_result"
    }
   ],
   "source": [
    "gp.compute_model(geo_model)"
   ]
  },
  {
   "cell_type": "code",
   "execution_count": 16,
   "metadata": {},
   "outputs": [
    {
     "data": {
      "text/plain": [
       "array(1.28817491)"
      ]
     },
     "execution_count": 16,
     "metadata": {},
     "output_type": "execute_result"
    }
   ],
   "source": [
    "geo_model.interpolator.theano_graph.a_T.get_value()"
   ]
  },
  {
   "cell_type": "code",
   "execution_count": 17,
   "metadata": {},
   "outputs": [
    {
     "data": {
      "text/html": [
       "<table border=\"1\" class=\"dataframe\">\n",
       "  <thead>\n",
       "    <tr style=\"text-align: right;\">\n",
       "      <th></th>\n",
       "      <th>values</th>\n",
       "    </tr>\n",
       "  </thead>\n",
       "  <tbody>\n",
       "    <tr>\n",
       "      <th>range</th>\n",
       "      <td>1002.2</td>\n",
       "    </tr>\n",
       "    <tr>\n",
       "      <th>$C_o$</th>\n",
       "      <td>23914.4</td>\n",
       "    </tr>\n",
       "    <tr>\n",
       "      <th>drift equations</th>\n",
       "      <td>[0]</td>\n",
       "    </tr>\n",
       "    <tr>\n",
       "      <th>nugget grad</th>\n",
       "      <td>0.01</td>\n",
       "    </tr>\n",
       "    <tr>\n",
       "      <th>nugget scalar</th>\n",
       "      <td>1e-06</td>\n",
       "    </tr>\n",
       "  </tbody>\n",
       "</table>"
      ],
      "text/plain": [
       "                  values\n",
       "range             1002.2\n",
       "$C_o$            23914.4\n",
       "drift equations      [0]\n",
       "nugget grad         0.01\n",
       "nugget scalar      1e-06"
      ]
     },
     "execution_count": 17,
     "metadata": {},
     "output_type": "execute_result"
    }
   ],
   "source": [
    "geo_model.additional_data.kriging_data"
   ]
  },
  {
   "cell_type": "code",
   "execution_count": 18,
   "metadata": {},
   "outputs": [
    {
     "data": {
      "text/html": [
       "<table border=\"1\" class=\"dataframe\">\n",
       "  <thead>\n",
       "    <tr style=\"text-align: right;\">\n",
       "      <th></th>\n",
       "      <th>values</th>\n",
       "    </tr>\n",
       "  </thead>\n",
       "  <tbody>\n",
       "    <tr>\n",
       "      <th>rescaling factor</th>\n",
       "      <td>778</td>\n",
       "    </tr>\n",
       "    <tr>\n",
       "      <th>centers</th>\n",
       "      <td>[417.5, 0.005, -157.0]</td>\n",
       "    </tr>\n",
       "  </tbody>\n",
       "</table>"
      ],
      "text/plain": [
       "                                  values\n",
       "rescaling factor                     778\n",
       "centers           [417.5, 0.005, -157.0]"
      ]
     },
     "execution_count": 18,
     "metadata": {},
     "output_type": "execute_result"
    }
   ],
   "source": [
    "geo_model.additional_data.rescaling_data"
   ]
  },
  {
   "cell_type": "markdown",
   "metadata": {},
   "source": [
    "That is, we have interpolated the 3D surface. We can visualize with:"
   ]
  },
  {
   "cell_type": "code",
   "execution_count": 19,
   "metadata": {},
   "outputs": [
    {
     "data": {
      "text/html": [
       "<div>\n",
       "<style scoped>\n",
       "    .dataframe tbody tr th:only-of-type {\n",
       "        vertical-align: middle;\n",
       "    }\n",
       "\n",
       "    .dataframe tbody tr th {\n",
       "        vertical-align: top;\n",
       "    }\n",
       "\n",
       "    .dataframe thead th {\n",
       "        text-align: right;\n",
       "    }\n",
       "</style>\n",
       "<table border=\"1\" class=\"dataframe\">\n",
       "  <thead>\n",
       "    <tr style=\"text-align: right;\">\n",
       "      <th></th>\n",
       "      <th>val</th>\n",
       "    </tr>\n",
       "  </thead>\n",
       "  <tbody>\n",
       "    <tr>\n",
       "      <th>0</th>\n",
       "      <td>PolyData (0x7fcfb9cb4648)\\n  N Cells:\\t3044\\n ...</td>\n",
       "    </tr>\n",
       "  </tbody>\n",
       "</table>\n",
       "</div>"
      ],
      "text/plain": [
       "                                                 val\n",
       "0  PolyData (0x7fcfb9cb4648)\\n  N Cells:\\t3044\\n ..."
      ]
     },
     "execution_count": 19,
     "metadata": {},
     "output_type": "execute_result"
    }
   ],
   "source": [
    "# In 2D\n",
    "p2d.plot_contacts(ax, cell_number=5)\n",
    "\n",
    "# In 3D\n",
    "p3d.plot_surfaces()"
   ]
  },
  {
   "cell_type": "markdown",
   "metadata": {},
   "source": [
    "## Adding more layers:\n",
    "\n",
    "So far we only need 2 units defined. The cross-section image that we load have 4 however. Lets add two layers more:"
   ]
  },
  {
   "cell_type": "code",
   "execution_count": 20,
   "metadata": {},
   "outputs": [
    {
     "data": {
      "text/html": [
       "<style  type=\"text/css\" >\n",
       "    #T_0ede1d4e_41b1_11ea_b25a_acde48001122row0_col4 {\n",
       "            background-color:  #015482;\n",
       "        }    #T_0ede1d4e_41b1_11ea_b25a_acde48001122row1_col4 {\n",
       "            background-color:  #9f0052;\n",
       "        }</style><table id=\"T_0ede1d4e_41b1_11ea_b25a_acde48001122\" ><thead>    <tr>        <th class=\"blank level0\" ></th>        <th class=\"col_heading level0 col0\" >surface</th>        <th class=\"col_heading level0 col1\" >series</th>        <th class=\"col_heading level0 col2\" >order_surfaces</th>        <th class=\"col_heading level0 col3\" >isActive</th>        <th class=\"col_heading level0 col4\" >color</th>        <th class=\"col_heading level0 col5\" >id</th>    </tr></thead><tbody>\n",
       "                <tr>\n",
       "                        <th id=\"T_0ede1d4e_41b1_11ea_b25a_acde48001122level0_row0\" class=\"row_heading level0 row0\" >0</th>\n",
       "                        <td id=\"T_0ede1d4e_41b1_11ea_b25a_acde48001122row0_col0\" class=\"data row0 col0\" >surface1</td>\n",
       "                        <td id=\"T_0ede1d4e_41b1_11ea_b25a_acde48001122row0_col1\" class=\"data row0 col1\" >Default series</td>\n",
       "                        <td id=\"T_0ede1d4e_41b1_11ea_b25a_acde48001122row0_col2\" class=\"data row0 col2\" >1</td>\n",
       "                        <td id=\"T_0ede1d4e_41b1_11ea_b25a_acde48001122row0_col3\" class=\"data row0 col3\" >True</td>\n",
       "                        <td id=\"T_0ede1d4e_41b1_11ea_b25a_acde48001122row0_col4\" class=\"data row0 col4\" >#015482</td>\n",
       "                        <td id=\"T_0ede1d4e_41b1_11ea_b25a_acde48001122row0_col5\" class=\"data row0 col5\" >1</td>\n",
       "            </tr>\n",
       "            <tr>\n",
       "                        <th id=\"T_0ede1d4e_41b1_11ea_b25a_acde48001122level0_row1\" class=\"row_heading level0 row1\" >1</th>\n",
       "                        <td id=\"T_0ede1d4e_41b1_11ea_b25a_acde48001122row1_col0\" class=\"data row1 col0\" >surface2</td>\n",
       "                        <td id=\"T_0ede1d4e_41b1_11ea_b25a_acde48001122row1_col1\" class=\"data row1 col1\" >Default series</td>\n",
       "                        <td id=\"T_0ede1d4e_41b1_11ea_b25a_acde48001122row1_col2\" class=\"data row1 col2\" >2</td>\n",
       "                        <td id=\"T_0ede1d4e_41b1_11ea_b25a_acde48001122row1_col3\" class=\"data row1 col3\" >True</td>\n",
       "                        <td id=\"T_0ede1d4e_41b1_11ea_b25a_acde48001122row1_col4\" class=\"data row1 col4\" >#9f0052</td>\n",
       "                        <td id=\"T_0ede1d4e_41b1_11ea_b25a_acde48001122row1_col5\" class=\"data row1 col5\" >2</td>\n",
       "            </tr>\n",
       "    </tbody></table>"
      ],
      "text/plain": [
       "    surface          series  order_surfaces  isActive    color  id\n",
       "0  surface1  Default series               1      True  #015482   1\n",
       "1  surface2  Default series               2      True  #9f0052   2"
      ]
     },
     "execution_count": 20,
     "metadata": {},
     "output_type": "execute_result"
    }
   ],
   "source": [
    "geo_model.surfaces"
   ]
  },
  {
   "cell_type": "code",
   "execution_count": 21,
   "metadata": {},
   "outputs": [
    {
     "data": {
      "text/html": [
       "<table border=\"1\" class=\"dataframe\">\n",
       "  <thead>\n",
       "    <tr style=\"text-align: right;\">\n",
       "      <th></th>\n",
       "      <th>order_series</th>\n",
       "      <th>BottomRelation</th>\n",
       "      <th>isActive</th>\n",
       "    </tr>\n",
       "  </thead>\n",
       "  <tbody>\n",
       "    <tr>\n",
       "      <th>Default series</th>\n",
       "      <td>1</td>\n",
       "      <td>Erosion</td>\n",
       "      <td>True</td>\n",
       "    </tr>\n",
       "  </tbody>\n",
       "</table>"
      ],
      "text/plain": [
       "                order_series BottomRelation  isActive\n",
       "Default series             1        Erosion      True"
      ]
     },
     "execution_count": 21,
     "metadata": {},
     "output_type": "execute_result"
    }
   ],
   "source": [
    "geo_model.series"
   ]
  },
  {
   "cell_type": "code",
   "execution_count": 22,
   "metadata": {},
   "outputs": [
    {
     "data": {
      "text/html": [
       "<style  type=\"text/css\" >\n",
       "    #T_0f5ff15c_41b1_11ea_b25a_acde48001122row0_col4 {\n",
       "            background-color:  #015482;\n",
       "        }    #T_0f5ff15c_41b1_11ea_b25a_acde48001122row1_col4 {\n",
       "            background-color:  #9f0052;\n",
       "        }    #T_0f5ff15c_41b1_11ea_b25a_acde48001122row2_col4 {\n",
       "            background-color:  #ffbe00;\n",
       "        }    #T_0f5ff15c_41b1_11ea_b25a_acde48001122row3_col4 {\n",
       "            background-color:  #728f02;\n",
       "        }</style><table id=\"T_0f5ff15c_41b1_11ea_b25a_acde48001122\" ><thead>    <tr>        <th class=\"blank level0\" ></th>        <th class=\"col_heading level0 col0\" >surface</th>        <th class=\"col_heading level0 col1\" >series</th>        <th class=\"col_heading level0 col2\" >order_surfaces</th>        <th class=\"col_heading level0 col3\" >isActive</th>        <th class=\"col_heading level0 col4\" >color</th>        <th class=\"col_heading level0 col5\" >id</th>    </tr></thead><tbody>\n",
       "                <tr>\n",
       "                        <th id=\"T_0f5ff15c_41b1_11ea_b25a_acde48001122level0_row0\" class=\"row_heading level0 row0\" >0</th>\n",
       "                        <td id=\"T_0f5ff15c_41b1_11ea_b25a_acde48001122row0_col0\" class=\"data row0 col0\" >surface1</td>\n",
       "                        <td id=\"T_0f5ff15c_41b1_11ea_b25a_acde48001122row0_col1\" class=\"data row0 col1\" >Default series</td>\n",
       "                        <td id=\"T_0f5ff15c_41b1_11ea_b25a_acde48001122row0_col2\" class=\"data row0 col2\" >1</td>\n",
       "                        <td id=\"T_0f5ff15c_41b1_11ea_b25a_acde48001122row0_col3\" class=\"data row0 col3\" >True</td>\n",
       "                        <td id=\"T_0f5ff15c_41b1_11ea_b25a_acde48001122row0_col4\" class=\"data row0 col4\" >#015482</td>\n",
       "                        <td id=\"T_0f5ff15c_41b1_11ea_b25a_acde48001122row0_col5\" class=\"data row0 col5\" >1</td>\n",
       "            </tr>\n",
       "            <tr>\n",
       "                        <th id=\"T_0f5ff15c_41b1_11ea_b25a_acde48001122level0_row1\" class=\"row_heading level0 row1\" >1</th>\n",
       "                        <td id=\"T_0f5ff15c_41b1_11ea_b25a_acde48001122row1_col0\" class=\"data row1 col0\" >surface2</td>\n",
       "                        <td id=\"T_0f5ff15c_41b1_11ea_b25a_acde48001122row1_col1\" class=\"data row1 col1\" >Default series</td>\n",
       "                        <td id=\"T_0f5ff15c_41b1_11ea_b25a_acde48001122row1_col2\" class=\"data row1 col2\" >2</td>\n",
       "                        <td id=\"T_0f5ff15c_41b1_11ea_b25a_acde48001122row1_col3\" class=\"data row1 col3\" >False</td>\n",
       "                        <td id=\"T_0f5ff15c_41b1_11ea_b25a_acde48001122row1_col4\" class=\"data row1 col4\" >#9f0052</td>\n",
       "                        <td id=\"T_0f5ff15c_41b1_11ea_b25a_acde48001122row1_col5\" class=\"data row1 col5\" >2</td>\n",
       "            </tr>\n",
       "            <tr>\n",
       "                        <th id=\"T_0f5ff15c_41b1_11ea_b25a_acde48001122level0_row2\" class=\"row_heading level0 row2\" >2</th>\n",
       "                        <td id=\"T_0f5ff15c_41b1_11ea_b25a_acde48001122row2_col0\" class=\"data row2 col0\" >surface3</td>\n",
       "                        <td id=\"T_0f5ff15c_41b1_11ea_b25a_acde48001122row2_col1\" class=\"data row2 col1\" >Default series</td>\n",
       "                        <td id=\"T_0f5ff15c_41b1_11ea_b25a_acde48001122row2_col2\" class=\"data row2 col2\" >3</td>\n",
       "                        <td id=\"T_0f5ff15c_41b1_11ea_b25a_acde48001122row2_col3\" class=\"data row2 col3\" >False</td>\n",
       "                        <td id=\"T_0f5ff15c_41b1_11ea_b25a_acde48001122row2_col4\" class=\"data row2 col4\" >#ffbe00</td>\n",
       "                        <td id=\"T_0f5ff15c_41b1_11ea_b25a_acde48001122row2_col5\" class=\"data row2 col5\" >3</td>\n",
       "            </tr>\n",
       "            <tr>\n",
       "                        <th id=\"T_0f5ff15c_41b1_11ea_b25a_acde48001122level0_row3\" class=\"row_heading level0 row3\" >3</th>\n",
       "                        <td id=\"T_0f5ff15c_41b1_11ea_b25a_acde48001122row3_col0\" class=\"data row3 col0\" >basement</td>\n",
       "                        <td id=\"T_0f5ff15c_41b1_11ea_b25a_acde48001122row3_col1\" class=\"data row3 col1\" >Default series</td>\n",
       "                        <td id=\"T_0f5ff15c_41b1_11ea_b25a_acde48001122row3_col2\" class=\"data row3 col2\" >4</td>\n",
       "                        <td id=\"T_0f5ff15c_41b1_11ea_b25a_acde48001122row3_col3\" class=\"data row3 col3\" >True</td>\n",
       "                        <td id=\"T_0f5ff15c_41b1_11ea_b25a_acde48001122row3_col4\" class=\"data row3 col4\" >#728f02</td>\n",
       "                        <td id=\"T_0f5ff15c_41b1_11ea_b25a_acde48001122row3_col5\" class=\"data row3 col5\" >4</td>\n",
       "            </tr>\n",
       "    </tbody></table>"
      ],
      "text/plain": [
       "    surface          series  order_surfaces  isActive    color  id\n",
       "0  surface1  Default series               1      True  #015482   1\n",
       "1  surface2  Default series               2     False  #9f0052   2\n",
       "2  surface3  Default series               3     False  #ffbe00   3\n",
       "3  basement  Default series               4      True  #728f02   4"
      ]
     },
     "execution_count": 22,
     "metadata": {},
     "output_type": "execute_result"
    }
   ],
   "source": [
    "geo_model.add_surfaces(['surface3', 'basement'])"
   ]
  },
  {
   "cell_type": "markdown",
   "metadata": {},
   "source": [
    "### Layer 2\n",
    "\n",
    "Add the layer next layers:"
   ]
  },
  {
   "cell_type": "code",
   "execution_count": 23,
   "metadata": {},
   "outputs": [],
   "source": [
    "# Your code here:\n",
    "geo_model.add_surface_points(X=225, Y=0, Z=-269, surface='surface2')\n",
    "geo_model.add_surface_points(X=459, Y=0, Z=-279, surface='surface2')\n",
    "\n",
    "\n",
    "#--------------------\n",
    "# Plot data\n",
    "p2d.remove(ax)\n",
    "p2d.plot_data(ax, cell_number=5, legend='force')\n",
    "p3d.plot_data()"
   ]
  },
  {
   "cell_type": "code",
   "execution_count": 24,
   "metadata": {},
   "outputs": [
    {
     "name": "stderr",
     "output_type": "stream",
     "text": [
      "../../gempy/core/solution.py:266: UserWarning: Attribute error. Using non masked marching cubesmarching_cubes_lewiner() got an unexpected keyword argument 'mask'.\n",
      "  warnings.warn('Attribute error. Using non masked marching cubes' + str(e)+'.')\n"
     ]
    },
    {
     "data": {
      "text/plain": [
       "\n",
       "Lithology ids \n",
       "  [4. 4. 4. ... 2. 2. 2.] "
      ]
     },
     "execution_count": 24,
     "metadata": {},
     "output_type": "execute_result"
    }
   ],
   "source": [
    "# Compute model\n",
    "gp.compute_model(geo_model)"
   ]
  },
  {
   "cell_type": "code",
   "execution_count": 28,
   "metadata": {},
   "outputs": [
    {
     "data": {
      "text/plain": [
       "array(30.73830946)"
      ]
     },
     "execution_count": 28,
     "metadata": {},
     "output_type": "execute_result"
    }
   ],
   "source": [
    "geo_model.interpolator.theano_graph.c_o_T.get_value()"
   ]
  },
  {
   "cell_type": "code",
   "execution_count": 26,
   "metadata": {},
   "outputs": [
    {
     "data": {
      "text/html": [
       "<table border=\"1\" class=\"dataframe\">\n",
       "  <thead>\n",
       "    <tr style=\"text-align: right;\">\n",
       "      <th></th>\n",
       "      <th>values</th>\n",
       "    </tr>\n",
       "  </thead>\n",
       "  <tbody>\n",
       "    <tr>\n",
       "      <th>range</th>\n",
       "      <td>1002.2</td>\n",
       "    </tr>\n",
       "    <tr>\n",
       "      <th>$C_o$</th>\n",
       "      <td>23914.4</td>\n",
       "    </tr>\n",
       "    <tr>\n",
       "      <th>drift equations</th>\n",
       "      <td>[0]</td>\n",
       "    </tr>\n",
       "    <tr>\n",
       "      <th>nugget grad</th>\n",
       "      <td>0.01</td>\n",
       "    </tr>\n",
       "    <tr>\n",
       "      <th>nugget scalar</th>\n",
       "      <td>1e-06</td>\n",
       "    </tr>\n",
       "  </tbody>\n",
       "</table>"
      ],
      "text/plain": [
       "                  values\n",
       "range             1002.2\n",
       "$C_o$            23914.4\n",
       "drift equations      [0]\n",
       "nugget grad         0.01\n",
       "nugget scalar      1e-06"
      ]
     },
     "execution_count": 26,
     "metadata": {},
     "output_type": "execute_result"
    }
   ],
   "source": [
    "geo_model.additional_data.kriging_data"
   ]
  },
  {
   "cell_type": "code",
   "execution_count": 29,
   "metadata": {},
   "outputs": [
    {
     "data": {
      "text/plain": [
       "(vtkRenderingOpenGL2Python.vtkOpenGLActor)0x7fcfb97d2a08"
      ]
     },
     "execution_count": 29,
     "metadata": {},
     "output_type": "execute_result"
    }
   ],
   "source": [
    "# Plot 2D\n",
    "p2d.plot_lith(ax, cell_number=5)\n",
    "p2d.plot_contacts(ax, cell_number=5)\n",
    "\n",
    "# Plot 3D\n",
    "p3d.plot_surfaces()\n",
    "p3d.plot_structured_grid(opacity=.2, annotations = {1: 'surface1', 2:'surface2', 3:'surface3'})\n"
   ]
  },
  {
   "cell_type": "markdown",
   "metadata": {},
   "source": [
    "### Layer 3"
   ]
  },
  {
   "cell_type": "code",
   "execution_count": 30,
   "metadata": {},
   "outputs": [],
   "source": [
    "# Your code here:\n",
    "geo_model.add_surface_points(X=225, Y=0, Z=-439, surface='surface3')\n",
    "geo_model.add_surface_points(X=464, Y=0, Z=-456, surface='surface3')\n",
    "geo_model.add_surface_points(X=619, Y=0, Z=-433, surface='surface3')\n",
    "\n",
    "# ------------------\n",
    "# Plotting data\n",
    "p2d.remove(ax)\n",
    "p2d.plot_data(ax, cell_number=5)\n",
    "p3d.plot_data()"
   ]
  },
  {
   "cell_type": "code",
   "execution_count": 31,
   "metadata": {},
   "outputs": [
    {
     "name": "stderr",
     "output_type": "stream",
     "text": [
      "../../gempy/core/solution.py:266: UserWarning: Attribute error. Using non masked marching cubesmarching_cubes_lewiner() got an unexpected keyword argument 'mask'.\n",
      "  warnings.warn('Attribute error. Using non masked marching cubes' + str(e)+'.')\n"
     ]
    },
    {
     "data": {
      "text/plain": [
       "(vtkRenderingOpenGL2Python.vtkOpenGLActor)0x7fcfb97d28e8"
      ]
     },
     "execution_count": 31,
     "metadata": {},
     "output_type": "execute_result"
    }
   ],
   "source": [
    "# Computing and plotting 3D\n",
    "gp.compute_model(geo_model)\n",
    "p2d.plot_lith(ax, cell_number=5)\n",
    "p2d.plot_contacts(ax, cell_number=5)\n",
    "\n",
    "p3d.plot_surfaces()\n",
    "p3d.plot_structured_grid(opacity=.2, annotations = {1: 'surface1', 2:'surface2', 3:'surface3', 4:'basement'})\n"
   ]
  },
  {
   "cell_type": "code",
   "execution_count": 32,
   "metadata": {},
   "outputs": [
    {
     "data": {
      "text/html": [
       "<table border=\"1\" class=\"dataframe\">\n",
       "  <thead>\n",
       "    <tr style=\"text-align: right;\">\n",
       "      <th></th>\n",
       "      <th></th>\n",
       "      <th>values</th>\n",
       "    </tr>\n",
       "  </thead>\n",
       "  <tbody>\n",
       "    <tr>\n",
       "      <th rowspan=\"9\" valign=\"top\">Structure</th>\n",
       "      <th>isLith</th>\n",
       "      <td>True</td>\n",
       "    </tr>\n",
       "    <tr>\n",
       "      <th>isFault</th>\n",
       "      <td>False</td>\n",
       "    </tr>\n",
       "    <tr>\n",
       "      <th>number faults</th>\n",
       "      <td>0</td>\n",
       "    </tr>\n",
       "    <tr>\n",
       "      <th>number surfaces</th>\n",
       "      <td>3</td>\n",
       "    </tr>\n",
       "    <tr>\n",
       "      <th>number series</th>\n",
       "      <td>1</td>\n",
       "    </tr>\n",
       "    <tr>\n",
       "      <th>number surfaces per series</th>\n",
       "      <td>[3]</td>\n",
       "    </tr>\n",
       "    <tr>\n",
       "      <th>len surfaces surface_points</th>\n",
       "      <td>[3, 2, 3]</td>\n",
       "    </tr>\n",
       "    <tr>\n",
       "      <th>len series surface_points</th>\n",
       "      <td>[8]</td>\n",
       "    </tr>\n",
       "    <tr>\n",
       "      <th>len series orientations</th>\n",
       "      <td>[1]</td>\n",
       "    </tr>\n",
       "    <tr>\n",
       "      <th rowspan=\"5\" valign=\"top\">Options</th>\n",
       "      <th>dtype</th>\n",
       "      <td>float64</td>\n",
       "    </tr>\n",
       "    <tr>\n",
       "      <th>output</th>\n",
       "      <td>geology</td>\n",
       "    </tr>\n",
       "    <tr>\n",
       "      <th>theano_optimizer</th>\n",
       "      <td>fast_compile</td>\n",
       "    </tr>\n",
       "    <tr>\n",
       "      <th>device</th>\n",
       "      <td>cpu</td>\n",
       "    </tr>\n",
       "    <tr>\n",
       "      <th>verbosity</th>\n",
       "      <td>[]</td>\n",
       "    </tr>\n",
       "    <tr>\n",
       "      <th rowspan=\"5\" valign=\"top\">Kriging</th>\n",
       "      <th>range</th>\n",
       "      <td>1002.2</td>\n",
       "    </tr>\n",
       "    <tr>\n",
       "      <th>$C_o$</th>\n",
       "      <td>23914.4</td>\n",
       "    </tr>\n",
       "    <tr>\n",
       "      <th>drift equations</th>\n",
       "      <td>[0]</td>\n",
       "    </tr>\n",
       "    <tr>\n",
       "      <th>nugget grad</th>\n",
       "      <td>0.01</td>\n",
       "    </tr>\n",
       "    <tr>\n",
       "      <th>nugget scalar</th>\n",
       "      <td>1e-06</td>\n",
       "    </tr>\n",
       "    <tr>\n",
       "      <th rowspan=\"2\" valign=\"top\">Rescaling</th>\n",
       "      <th>rescaling factor</th>\n",
       "      <td>884</td>\n",
       "    </tr>\n",
       "    <tr>\n",
       "      <th>centers</th>\n",
       "      <td>[421.0, 0.005, -235.0]</td>\n",
       "    </tr>\n",
       "  </tbody>\n",
       "</table>"
      ],
      "text/plain": [
       "                                                       values\n",
       "Structure isLith                                         True\n",
       "          isFault                                       False\n",
       "          number faults                                     0\n",
       "          number surfaces                                   3\n",
       "          number series                                     1\n",
       "          number surfaces per series                      [3]\n",
       "          len surfaces surface_points               [3, 2, 3]\n",
       "          len series surface_points                       [8]\n",
       "          len series orientations                         [1]\n",
       "Options   dtype                                       float64\n",
       "          output                                      geology\n",
       "          theano_optimizer                       fast_compile\n",
       "          device                                          cpu\n",
       "          verbosity                                        []\n",
       "Kriging   range                                        1002.2\n",
       "          $C_o$                                       23914.4\n",
       "          drift equations                                 [0]\n",
       "          nugget grad                                    0.01\n",
       "          nugget scalar                                 1e-06\n",
       "Rescaling rescaling factor                                884\n",
       "          centers                      [421.0, 0.005, -235.0]"
      ]
     },
     "execution_count": 32,
     "metadata": {},
     "output_type": "execute_result"
    }
   ],
   "source": [
    "geo_model.additional_data"
   ]
  },
  {
   "cell_type": "code",
   "execution_count": 34,
   "metadata": {},
   "outputs": [
    {
     "data": {
      "text/plain": [
       "array([0], dtype=int32)"
      ]
     },
     "execution_count": 34,
     "metadata": {},
     "output_type": "execute_result"
    }
   ],
   "source": [
    "geo_model.interpolator.len_series_u"
   ]
  },
  {
   "cell_type": "markdown",
   "metadata": {},
   "source": [
    "## Faults:\n",
    "\n",
    "So far the model is simply a depositional unit. GemPy allows for unconformities and faults to build complex models. This input is given by categorical data. In general:\n",
    "\n",
    "input data (surface points/ orientations) <belong to< surface <belong to< series\n",
    "\n",
    "And series can be a fault---i.e. offset the rest of surface--- or not. We are going to show how to add a fault as an example.\n",
    "\n",
    "First we need to add a series:"
   ]
  },
  {
   "cell_type": "code",
   "execution_count": 24,
   "metadata": {},
   "outputs": [
    {
     "data": {
      "text/html": [
       "<table border=\"1\" class=\"dataframe\">\n",
       "  <thead>\n",
       "    <tr style=\"text-align: right;\">\n",
       "      <th></th>\n",
       "      <th>order_series</th>\n",
       "      <th>BottomRelation</th>\n",
       "      <th>isActive</th>\n",
       "    </tr>\n",
       "  </thead>\n",
       "  <tbody>\n",
       "    <tr>\n",
       "      <th>Default series</th>\n",
       "      <td>1</td>\n",
       "      <td>Erosion</td>\n",
       "      <td>True</td>\n",
       "    </tr>\n",
       "    <tr>\n",
       "      <th>Fault1</th>\n",
       "      <td>2</td>\n",
       "      <td>Erosion</td>\n",
       "      <td>NaN</td>\n",
       "    </tr>\n",
       "  </tbody>\n",
       "</table>"
      ],
      "text/plain": [
       "                order_series BottomRelation isActive\n",
       "Default series             1        Erosion     True\n",
       "Fault1                     2        Erosion      NaN"
      ]
     },
     "execution_count": 24,
     "metadata": {},
     "output_type": "execute_result"
    }
   ],
   "source": [
    "geo_model.add_series('Fault1')"
   ]
  },
  {
   "cell_type": "code",
   "execution_count": 25,
   "metadata": {},
   "outputs": [
    {
     "data": {
      "text/html": [
       "<table border=\"1\" class=\"dataframe\">\n",
       "  <thead>\n",
       "    <tr style=\"text-align: right;\">\n",
       "      <th></th>\n",
       "      <th>order_series</th>\n",
       "      <th>BottomRelation</th>\n",
       "      <th>isActive</th>\n",
       "    </tr>\n",
       "  </thead>\n",
       "  <tbody>\n",
       "    <tr>\n",
       "      <th>Fault1</th>\n",
       "      <td>1</td>\n",
       "      <td>Erosion</td>\n",
       "      <td>False</td>\n",
       "    </tr>\n",
       "    <tr>\n",
       "      <th>Default series</th>\n",
       "      <td>2</td>\n",
       "      <td>Erosion</td>\n",
       "      <td>True</td>\n",
       "    </tr>\n",
       "  </tbody>\n",
       "</table>"
      ],
      "text/plain": [
       "                order_series BottomRelation  isActive\n",
       "Fault1                     1        Erosion     False\n",
       "Default series             2        Erosion      True"
      ]
     },
     "execution_count": 25,
     "metadata": {},
     "output_type": "execute_result"
    }
   ],
   "source": [
    "geo_model.reorder_series(['Fault1', 'Default series'])"
   ]
  },
  {
   "cell_type": "markdown",
   "metadata": {},
   "source": [
    "Then define that is a fault:"
   ]
  },
  {
   "cell_type": "code",
   "execution_count": 26,
   "metadata": {},
   "outputs": [
    {
     "name": "stdout",
     "output_type": "stream",
     "text": [
      "Fault colors changed. If you do not like this behavior, set change_color to False.\n"
     ]
    },
    {
     "data": {
      "text/html": [
       "<table border=\"1\" class=\"dataframe\">\n",
       "  <thead>\n",
       "    <tr style=\"text-align: right;\">\n",
       "      <th></th>\n",
       "      <th>isFault</th>\n",
       "      <th>isFinite</th>\n",
       "    </tr>\n",
       "  </thead>\n",
       "  <tbody>\n",
       "    <tr>\n",
       "      <th>Fault1</th>\n",
       "      <td>True</td>\n",
       "      <td>False</td>\n",
       "    </tr>\n",
       "    <tr>\n",
       "      <th>Default series</th>\n",
       "      <td>False</td>\n",
       "      <td>False</td>\n",
       "    </tr>\n",
       "  </tbody>\n",
       "</table>"
      ],
      "text/plain": [
       "                isFault  isFinite\n",
       "Fault1             True     False\n",
       "Default series    False     False"
      ]
     },
     "execution_count": 26,
     "metadata": {},
     "output_type": "execute_result"
    }
   ],
   "source": [
    "geo_model.set_is_fault('Fault1')"
   ]
  },
  {
   "cell_type": "markdown",
   "metadata": {},
   "source": [
    "But we also need to add a new surface:"
   ]
  },
  {
   "cell_type": "code",
   "execution_count": 27,
   "metadata": {},
   "outputs": [
    {
     "data": {
      "text/html": [
       "<style  type=\"text/css\" >\n",
       "    #T_e0413ede_3ced_11ea_9f99_acde48001122row0_col4 {\n",
       "            background-color:  #015482;\n",
       "        }    #T_e0413ede_3ced_11ea_9f99_acde48001122row1_col4 {\n",
       "            background-color:  #9f0052;\n",
       "        }    #T_e0413ede_3ced_11ea_9f99_acde48001122row2_col4 {\n",
       "            background-color:  #ffbe00;\n",
       "        }    #T_e0413ede_3ced_11ea_9f99_acde48001122row3_col4 {\n",
       "            background-color:  #728f02;\n",
       "        }    #T_e0413ede_3ced_11ea_9f99_acde48001122row4_col4 {\n",
       "            background-color:  #443988;\n",
       "        }</style><table id=\"T_e0413ede_3ced_11ea_9f99_acde48001122\" ><thead>    <tr>        <th class=\"blank level0\" ></th>        <th class=\"col_heading level0 col0\" >surface</th>        <th class=\"col_heading level0 col1\" >series</th>        <th class=\"col_heading level0 col2\" >order_surfaces</th>        <th class=\"col_heading level0 col3\" >isActive</th>        <th class=\"col_heading level0 col4\" >color</th>        <th class=\"col_heading level0 col5\" >id</th>    </tr></thead><tbody>\n",
       "                <tr>\n",
       "                        <th id=\"T_e0413ede_3ced_11ea_9f99_acde48001122level0_row0\" class=\"row_heading level0 row0\" >0</th>\n",
       "                        <td id=\"T_e0413ede_3ced_11ea_9f99_acde48001122row0_col0\" class=\"data row0 col0\" >surface1</td>\n",
       "                        <td id=\"T_e0413ede_3ced_11ea_9f99_acde48001122row0_col1\" class=\"data row0 col1\" >Default series</td>\n",
       "                        <td id=\"T_e0413ede_3ced_11ea_9f99_acde48001122row0_col2\" class=\"data row0 col2\" >1</td>\n",
       "                        <td id=\"T_e0413ede_3ced_11ea_9f99_acde48001122row0_col3\" class=\"data row0 col3\" >True</td>\n",
       "                        <td id=\"T_e0413ede_3ced_11ea_9f99_acde48001122row0_col4\" class=\"data row0 col4\" >#015482</td>\n",
       "                        <td id=\"T_e0413ede_3ced_11ea_9f99_acde48001122row0_col5\" class=\"data row0 col5\" >1</td>\n",
       "            </tr>\n",
       "            <tr>\n",
       "                        <th id=\"T_e0413ede_3ced_11ea_9f99_acde48001122level0_row1\" class=\"row_heading level0 row1\" >1</th>\n",
       "                        <td id=\"T_e0413ede_3ced_11ea_9f99_acde48001122row1_col0\" class=\"data row1 col0\" >surface2</td>\n",
       "                        <td id=\"T_e0413ede_3ced_11ea_9f99_acde48001122row1_col1\" class=\"data row1 col1\" >Default series</td>\n",
       "                        <td id=\"T_e0413ede_3ced_11ea_9f99_acde48001122row1_col2\" class=\"data row1 col2\" >2</td>\n",
       "                        <td id=\"T_e0413ede_3ced_11ea_9f99_acde48001122row1_col3\" class=\"data row1 col3\" >True</td>\n",
       "                        <td id=\"T_e0413ede_3ced_11ea_9f99_acde48001122row1_col4\" class=\"data row1 col4\" >#9f0052</td>\n",
       "                        <td id=\"T_e0413ede_3ced_11ea_9f99_acde48001122row1_col5\" class=\"data row1 col5\" >2</td>\n",
       "            </tr>\n",
       "            <tr>\n",
       "                        <th id=\"T_e0413ede_3ced_11ea_9f99_acde48001122level0_row2\" class=\"row_heading level0 row2\" >2</th>\n",
       "                        <td id=\"T_e0413ede_3ced_11ea_9f99_acde48001122row2_col0\" class=\"data row2 col0\" >surface3</td>\n",
       "                        <td id=\"T_e0413ede_3ced_11ea_9f99_acde48001122row2_col1\" class=\"data row2 col1\" >Default series</td>\n",
       "                        <td id=\"T_e0413ede_3ced_11ea_9f99_acde48001122row2_col2\" class=\"data row2 col2\" >3</td>\n",
       "                        <td id=\"T_e0413ede_3ced_11ea_9f99_acde48001122row2_col3\" class=\"data row2 col3\" >True</td>\n",
       "                        <td id=\"T_e0413ede_3ced_11ea_9f99_acde48001122row2_col4\" class=\"data row2 col4\" >#ffbe00</td>\n",
       "                        <td id=\"T_e0413ede_3ced_11ea_9f99_acde48001122row2_col5\" class=\"data row2 col5\" >3</td>\n",
       "            </tr>\n",
       "            <tr>\n",
       "                        <th id=\"T_e0413ede_3ced_11ea_9f99_acde48001122level0_row3\" class=\"row_heading level0 row3\" >3</th>\n",
       "                        <td id=\"T_e0413ede_3ced_11ea_9f99_acde48001122row3_col0\" class=\"data row3 col0\" >basement</td>\n",
       "                        <td id=\"T_e0413ede_3ced_11ea_9f99_acde48001122row3_col1\" class=\"data row3 col1\" >Default series</td>\n",
       "                        <td id=\"T_e0413ede_3ced_11ea_9f99_acde48001122row3_col2\" class=\"data row3 col2\" >4</td>\n",
       "                        <td id=\"T_e0413ede_3ced_11ea_9f99_acde48001122row3_col3\" class=\"data row3 col3\" >False</td>\n",
       "                        <td id=\"T_e0413ede_3ced_11ea_9f99_acde48001122row3_col4\" class=\"data row3 col4\" >#728f02</td>\n",
       "                        <td id=\"T_e0413ede_3ced_11ea_9f99_acde48001122row3_col5\" class=\"data row3 col5\" >4</td>\n",
       "            </tr>\n",
       "            <tr>\n",
       "                        <th id=\"T_e0413ede_3ced_11ea_9f99_acde48001122level0_row4\" class=\"row_heading level0 row4\" >4</th>\n",
       "                        <td id=\"T_e0413ede_3ced_11ea_9f99_acde48001122row4_col0\" class=\"data row4 col0\" >fault1</td>\n",
       "                        <td id=\"T_e0413ede_3ced_11ea_9f99_acde48001122row4_col1\" class=\"data row4 col1\" >Default series</td>\n",
       "                        <td id=\"T_e0413ede_3ced_11ea_9f99_acde48001122row4_col2\" class=\"data row4 col2\" >5</td>\n",
       "                        <td id=\"T_e0413ede_3ced_11ea_9f99_acde48001122row4_col3\" class=\"data row4 col3\" >True</td>\n",
       "                        <td id=\"T_e0413ede_3ced_11ea_9f99_acde48001122row4_col4\" class=\"data row4 col4\" >#443988</td>\n",
       "                        <td id=\"T_e0413ede_3ced_11ea_9f99_acde48001122row4_col5\" class=\"data row4 col5\" >5</td>\n",
       "            </tr>\n",
       "    </tbody></table>"
      ],
      "text/plain": [
       "    surface          series  order_surfaces  isActive    color  id\n",
       "0  surface1  Default series               1      True  #015482   1\n",
       "1  surface2  Default series               2      True  #9f0052   2\n",
       "2  surface3  Default series               3      True  #ffbe00   3\n",
       "3  basement  Default series               4     False  #728f02   4\n",
       "4    fault1  Default series               5      True  #443988   5"
      ]
     },
     "execution_count": 27,
     "metadata": {},
     "output_type": "execute_result"
    }
   ],
   "source": [
    "geo_model.add_surfaces('fault1')"
   ]
  },
  {
   "cell_type": "markdown",
   "metadata": {},
   "source": [
    "And finally assign the new surface to the new series/fault"
   ]
  },
  {
   "cell_type": "code",
   "execution_count": 28,
   "metadata": {},
   "outputs": [
    {
     "data": {
      "text/html": [
       "<style  type=\"text/css\" >\n",
       "    #T_e04dfa52_3ced_11ea_9f99_acde48001122row0_col4 {\n",
       "            background-color:  #443988;\n",
       "        }    #T_e04dfa52_3ced_11ea_9f99_acde48001122row1_col4 {\n",
       "            background-color:  #015482;\n",
       "        }    #T_e04dfa52_3ced_11ea_9f99_acde48001122row2_col4 {\n",
       "            background-color:  #9f0052;\n",
       "        }    #T_e04dfa52_3ced_11ea_9f99_acde48001122row3_col4 {\n",
       "            background-color:  #ffbe00;\n",
       "        }    #T_e04dfa52_3ced_11ea_9f99_acde48001122row4_col4 {\n",
       "            background-color:  #728f02;\n",
       "        }</style><table id=\"T_e04dfa52_3ced_11ea_9f99_acde48001122\" ><thead>    <tr>        <th class=\"blank level0\" ></th>        <th class=\"col_heading level0 col0\" >surface</th>        <th class=\"col_heading level0 col1\" >series</th>        <th class=\"col_heading level0 col2\" >order_surfaces</th>        <th class=\"col_heading level0 col3\" >isActive</th>        <th class=\"col_heading level0 col4\" >color</th>        <th class=\"col_heading level0 col5\" >id</th>    </tr></thead><tbody>\n",
       "                <tr>\n",
       "                        <th id=\"T_e04dfa52_3ced_11ea_9f99_acde48001122level0_row0\" class=\"row_heading level0 row0\" >4</th>\n",
       "                        <td id=\"T_e04dfa52_3ced_11ea_9f99_acde48001122row0_col0\" class=\"data row0 col0\" >fault1</td>\n",
       "                        <td id=\"T_e04dfa52_3ced_11ea_9f99_acde48001122row0_col1\" class=\"data row0 col1\" >Fault1</td>\n",
       "                        <td id=\"T_e04dfa52_3ced_11ea_9f99_acde48001122row0_col2\" class=\"data row0 col2\" >1</td>\n",
       "                        <td id=\"T_e04dfa52_3ced_11ea_9f99_acde48001122row0_col3\" class=\"data row0 col3\" >True</td>\n",
       "                        <td id=\"T_e04dfa52_3ced_11ea_9f99_acde48001122row0_col4\" class=\"data row0 col4\" >#443988</td>\n",
       "                        <td id=\"T_e04dfa52_3ced_11ea_9f99_acde48001122row0_col5\" class=\"data row0 col5\" >1</td>\n",
       "            </tr>\n",
       "            <tr>\n",
       "                        <th id=\"T_e04dfa52_3ced_11ea_9f99_acde48001122level0_row1\" class=\"row_heading level0 row1\" >0</th>\n",
       "                        <td id=\"T_e04dfa52_3ced_11ea_9f99_acde48001122row1_col0\" class=\"data row1 col0\" >surface1</td>\n",
       "                        <td id=\"T_e04dfa52_3ced_11ea_9f99_acde48001122row1_col1\" class=\"data row1 col1\" >Default series</td>\n",
       "                        <td id=\"T_e04dfa52_3ced_11ea_9f99_acde48001122row1_col2\" class=\"data row1 col2\" >1</td>\n",
       "                        <td id=\"T_e04dfa52_3ced_11ea_9f99_acde48001122row1_col3\" class=\"data row1 col3\" >True</td>\n",
       "                        <td id=\"T_e04dfa52_3ced_11ea_9f99_acde48001122row1_col4\" class=\"data row1 col4\" >#015482</td>\n",
       "                        <td id=\"T_e04dfa52_3ced_11ea_9f99_acde48001122row1_col5\" class=\"data row1 col5\" >2</td>\n",
       "            </tr>\n",
       "            <tr>\n",
       "                        <th id=\"T_e04dfa52_3ced_11ea_9f99_acde48001122level0_row2\" class=\"row_heading level0 row2\" >1</th>\n",
       "                        <td id=\"T_e04dfa52_3ced_11ea_9f99_acde48001122row2_col0\" class=\"data row2 col0\" >surface2</td>\n",
       "                        <td id=\"T_e04dfa52_3ced_11ea_9f99_acde48001122row2_col1\" class=\"data row2 col1\" >Default series</td>\n",
       "                        <td id=\"T_e04dfa52_3ced_11ea_9f99_acde48001122row2_col2\" class=\"data row2 col2\" >2</td>\n",
       "                        <td id=\"T_e04dfa52_3ced_11ea_9f99_acde48001122row2_col3\" class=\"data row2 col3\" >True</td>\n",
       "                        <td id=\"T_e04dfa52_3ced_11ea_9f99_acde48001122row2_col4\" class=\"data row2 col4\" >#9f0052</td>\n",
       "                        <td id=\"T_e04dfa52_3ced_11ea_9f99_acde48001122row2_col5\" class=\"data row2 col5\" >3</td>\n",
       "            </tr>\n",
       "            <tr>\n",
       "                        <th id=\"T_e04dfa52_3ced_11ea_9f99_acde48001122level0_row3\" class=\"row_heading level0 row3\" >2</th>\n",
       "                        <td id=\"T_e04dfa52_3ced_11ea_9f99_acde48001122row3_col0\" class=\"data row3 col0\" >surface3</td>\n",
       "                        <td id=\"T_e04dfa52_3ced_11ea_9f99_acde48001122row3_col1\" class=\"data row3 col1\" >Default series</td>\n",
       "                        <td id=\"T_e04dfa52_3ced_11ea_9f99_acde48001122row3_col2\" class=\"data row3 col2\" >3</td>\n",
       "                        <td id=\"T_e04dfa52_3ced_11ea_9f99_acde48001122row3_col3\" class=\"data row3 col3\" >True</td>\n",
       "                        <td id=\"T_e04dfa52_3ced_11ea_9f99_acde48001122row3_col4\" class=\"data row3 col4\" >#ffbe00</td>\n",
       "                        <td id=\"T_e04dfa52_3ced_11ea_9f99_acde48001122row3_col5\" class=\"data row3 col5\" >4</td>\n",
       "            </tr>\n",
       "            <tr>\n",
       "                        <th id=\"T_e04dfa52_3ced_11ea_9f99_acde48001122level0_row4\" class=\"row_heading level0 row4\" >3</th>\n",
       "                        <td id=\"T_e04dfa52_3ced_11ea_9f99_acde48001122row4_col0\" class=\"data row4 col0\" >basement</td>\n",
       "                        <td id=\"T_e04dfa52_3ced_11ea_9f99_acde48001122row4_col1\" class=\"data row4 col1\" >Default series</td>\n",
       "                        <td id=\"T_e04dfa52_3ced_11ea_9f99_acde48001122row4_col2\" class=\"data row4 col2\" >4</td>\n",
       "                        <td id=\"T_e04dfa52_3ced_11ea_9f99_acde48001122row4_col3\" class=\"data row4 col3\" >False</td>\n",
       "                        <td id=\"T_e04dfa52_3ced_11ea_9f99_acde48001122row4_col4\" class=\"data row4 col4\" >#728f02</td>\n",
       "                        <td id=\"T_e04dfa52_3ced_11ea_9f99_acde48001122row4_col5\" class=\"data row4 col5\" >5</td>\n",
       "            </tr>\n",
       "    </tbody></table>"
      ],
      "text/plain": [
       "    surface          series  order_surfaces  isActive    color  id\n",
       "4    fault1          Fault1               1      True  #443988   1\n",
       "0  surface1  Default series               1      True  #015482   2\n",
       "1  surface2  Default series               2      True  #9f0052   3\n",
       "2  surface3  Default series               3      True  #ffbe00   4\n",
       "3  basement  Default series               4     False  #728f02   5"
      ]
     },
     "execution_count": 28,
     "metadata": {},
     "output_type": "execute_result"
    }
   ],
   "source": [
    "gp.map_series_to_surfaces(geo_model, {'Fault1':'fault1'})"
   ]
  },
  {
   "cell_type": "markdown",
   "metadata": {},
   "source": [
    "Now we can just add input data as before (remember the minimum amount of input data to compute a model):"
   ]
  },
  {
   "cell_type": "code",
   "execution_count": 29,
   "metadata": {},
   "outputs": [],
   "source": [
    "# Add input data of the fault\n",
    "geo_model.add_surface_points(X=550, Y=0, Z=-30, surface='fault1')\n",
    "geo_model.add_surface_points(X=650, Y=0, Z=-200, surface='fault1')\n",
    "geo_model.add_orientations(X=600, Y=0, Z= -100, surface='fault1', pole_vector=(.3,0,.3))\n",
    "\n",
    "# Plotting Inpute data\n",
    "p2d.remove(ax)\n",
    "p2d.plot_data(ax, cell_number=5)\n",
    "p3d.plot_data()"
   ]
  },
  {
   "cell_type": "markdown",
   "metadata": {},
   "source": [
    "And now is computing as before:"
   ]
  },
  {
   "cell_type": "code",
   "execution_count": 30,
   "metadata": {},
   "outputs": [
    {
     "data": {
      "text/plain": [
       "(vtkRenderingOpenGL2Python.vtkOpenGLActor)0x7fe4721852e8"
      ]
     },
     "execution_count": 30,
     "metadata": {},
     "output_type": "execute_result"
    }
   ],
   "source": [
    "# Compute\n",
    "gp.compute_model(geo_model)\n",
    "\n",
    "# Plot\n",
    "p2d.plot_lith(ax, cell_number=5)\n",
    "p2d.plot_contacts(ax, cell_number=5)\n",
    "p3d.plot_surfaces()\n",
    "p3d.plot_structured_grid(opacity=.2, annotations = {2: 'surface1', 3:'surface2', 4:'surface3', 5:'basement'})"
   ]
  },
  {
   "cell_type": "markdown",
   "metadata": {},
   "source": [
    "As you can see now instead of having folding layers we have a sharp jump. Building on this you can pretty much any model you can imagine."
   ]
  },
  {
   "cell_type": "markdown",
   "metadata": {},
   "source": [
    "# Additional features:\n",
    "\n",
    "Over the years we have built a bunch of assets integrate with gempy. Here we will show some of them:\n",
    "\n",
    "### Topogragpy\n",
    "\n",
    "GemPy has a built-in capanilities to read and manipulate topographic data (through gdal). To show an example we can just create a random topography:"
   ]
  },
  {
   "cell_type": "code",
   "execution_count": 31,
   "metadata": {},
   "outputs": [
    {
     "name": "stdout",
     "output_type": "stream",
     "text": [
      "Active grids: ['regular' 'topography']\n"
     ]
    },
    {
     "data": {
      "text/plain": [
       "Grid Object. Values: \n",
       "array([[   3.955     ,   10.        , -579.09      ],\n",
       "       [   3.955     ,   10.        , -573.27      ],\n",
       "       [   3.955     ,   10.        , -567.45      ],\n",
       "       ...,\n",
       "       [ 779.17474874,  190.        ,  -61.16873539],\n",
       "       [ 783.10987437,  190.        ,  -60.02975807],\n",
       "       [ 787.045     ,  190.        ,  -59.76255033]])"
      ]
     },
     "execution_count": 31,
     "metadata": {},
     "output_type": "execute_result"
    }
   ],
   "source": [
    "## Adding random topography\n",
    "geo_model.set_topography(source='random',fd=1.9, d_z=np.array([-150, 0]), resolution=np.array([200,200]))"
   ]
  },
  {
   "cell_type": "markdown",
   "metadata": {},
   "source": [
    "The topography can we visualize in both renderers:"
   ]
  },
  {
   "cell_type": "code",
   "execution_count": 32,
   "metadata": {},
   "outputs": [
    {
     "name": "stdout",
     "output_type": "stream",
     "text": [
      "p1 [0.0, 100.0] p2 [791.0, 100.0]\n"
     ]
    },
    {
     "data": {
      "text/plain": [
       "(vtkRenderingOpenGL2Python.vtkOpenGLActor)0x7fe47216aca8"
      ]
     },
     "execution_count": 32,
     "metadata": {},
     "output_type": "execute_result"
    }
   ],
   "source": [
    "p2d.plot_topography(ax, cell_number=5)\n",
    "p3d.plot_topography(scalars='topography')"
   ]
  },
  {
   "cell_type": "markdown",
   "metadata": {},
   "source": [
    "But also allows us to compute the geological map of an area:"
   ]
  },
  {
   "cell_type": "code",
   "execution_count": 33,
   "metadata": {},
   "outputs": [
    {
     "data": {
      "text/plain": [
       "(vtkRenderingOpenGL2Python.vtkOpenGLActor)0x7fe472185a68"
      ]
     },
     "execution_count": 33,
     "metadata": {},
     "output_type": "execute_result"
    }
   ],
   "source": [
    "gp.compute_model(geo_model)\n",
    "p3d.plot_topography(scalars='geo_map')"
   ]
  },
  {
   "cell_type": "markdown",
   "metadata": {},
   "source": [
    "### Gravity inversion\n",
    "\n",
    "GemPy also allows for inversions (in production only gravity so far). We can see a small demo how this works.\n",
    "\n",
    "The first thing to do is to assign densities to each of the units:"
   ]
  },
  {
   "cell_type": "code",
   "execution_count": 34,
   "metadata": {},
   "outputs": [
    {
     "data": {
      "text/html": [
       "<style  type=\"text/css\" >\n",
       "    #T_e294f31a_3ced_11ea_9f99_acde48001122row0_col4 {\n",
       "            background-color:  #443988;\n",
       "        }    #T_e294f31a_3ced_11ea_9f99_acde48001122row1_col4 {\n",
       "            background-color:  #015482;\n",
       "        }    #T_e294f31a_3ced_11ea_9f99_acde48001122row2_col4 {\n",
       "            background-color:  #9f0052;\n",
       "        }    #T_e294f31a_3ced_11ea_9f99_acde48001122row3_col4 {\n",
       "            background-color:  #ffbe00;\n",
       "        }    #T_e294f31a_3ced_11ea_9f99_acde48001122row4_col4 {\n",
       "            background-color:  #728f02;\n",
       "        }</style><table id=\"T_e294f31a_3ced_11ea_9f99_acde48001122\" ><thead>    <tr>        <th class=\"blank level0\" ></th>        <th class=\"col_heading level0 col0\" >surface</th>        <th class=\"col_heading level0 col1\" >series</th>        <th class=\"col_heading level0 col2\" >order_surfaces</th>        <th class=\"col_heading level0 col3\" >isActive</th>        <th class=\"col_heading level0 col4\" >color</th>        <th class=\"col_heading level0 col5\" >id</th>        <th class=\"col_heading level0 col6\" >density</th>    </tr></thead><tbody>\n",
       "                <tr>\n",
       "                        <th id=\"T_e294f31a_3ced_11ea_9f99_acde48001122level0_row0\" class=\"row_heading level0 row0\" >4</th>\n",
       "                        <td id=\"T_e294f31a_3ced_11ea_9f99_acde48001122row0_col0\" class=\"data row0 col0\" >fault1</td>\n",
       "                        <td id=\"T_e294f31a_3ced_11ea_9f99_acde48001122row0_col1\" class=\"data row0 col1\" >Fault1</td>\n",
       "                        <td id=\"T_e294f31a_3ced_11ea_9f99_acde48001122row0_col2\" class=\"data row0 col2\" >1</td>\n",
       "                        <td id=\"T_e294f31a_3ced_11ea_9f99_acde48001122row0_col3\" class=\"data row0 col3\" >True</td>\n",
       "                        <td id=\"T_e294f31a_3ced_11ea_9f99_acde48001122row0_col4\" class=\"data row0 col4\" >#443988</td>\n",
       "                        <td id=\"T_e294f31a_3ced_11ea_9f99_acde48001122row0_col5\" class=\"data row0 col5\" >1</td>\n",
       "                        <td id=\"T_e294f31a_3ced_11ea_9f99_acde48001122row0_col6\" class=\"data row0 col6\" >0</td>\n",
       "            </tr>\n",
       "            <tr>\n",
       "                        <th id=\"T_e294f31a_3ced_11ea_9f99_acde48001122level0_row1\" class=\"row_heading level0 row1\" >0</th>\n",
       "                        <td id=\"T_e294f31a_3ced_11ea_9f99_acde48001122row1_col0\" class=\"data row1 col0\" >surface1</td>\n",
       "                        <td id=\"T_e294f31a_3ced_11ea_9f99_acde48001122row1_col1\" class=\"data row1 col1\" >Default series</td>\n",
       "                        <td id=\"T_e294f31a_3ced_11ea_9f99_acde48001122row1_col2\" class=\"data row1 col2\" >1</td>\n",
       "                        <td id=\"T_e294f31a_3ced_11ea_9f99_acde48001122row1_col3\" class=\"data row1 col3\" >True</td>\n",
       "                        <td id=\"T_e294f31a_3ced_11ea_9f99_acde48001122row1_col4\" class=\"data row1 col4\" >#015482</td>\n",
       "                        <td id=\"T_e294f31a_3ced_11ea_9f99_acde48001122row1_col5\" class=\"data row1 col5\" >2</td>\n",
       "                        <td id=\"T_e294f31a_3ced_11ea_9f99_acde48001122row1_col6\" class=\"data row1 col6\" >2.6</td>\n",
       "            </tr>\n",
       "            <tr>\n",
       "                        <th id=\"T_e294f31a_3ced_11ea_9f99_acde48001122level0_row2\" class=\"row_heading level0 row2\" >1</th>\n",
       "                        <td id=\"T_e294f31a_3ced_11ea_9f99_acde48001122row2_col0\" class=\"data row2 col0\" >surface2</td>\n",
       "                        <td id=\"T_e294f31a_3ced_11ea_9f99_acde48001122row2_col1\" class=\"data row2 col1\" >Default series</td>\n",
       "                        <td id=\"T_e294f31a_3ced_11ea_9f99_acde48001122row2_col2\" class=\"data row2 col2\" >2</td>\n",
       "                        <td id=\"T_e294f31a_3ced_11ea_9f99_acde48001122row2_col3\" class=\"data row2 col3\" >True</td>\n",
       "                        <td id=\"T_e294f31a_3ced_11ea_9f99_acde48001122row2_col4\" class=\"data row2 col4\" >#9f0052</td>\n",
       "                        <td id=\"T_e294f31a_3ced_11ea_9f99_acde48001122row2_col5\" class=\"data row2 col5\" >3</td>\n",
       "                        <td id=\"T_e294f31a_3ced_11ea_9f99_acde48001122row2_col6\" class=\"data row2 col6\" >2.4</td>\n",
       "            </tr>\n",
       "            <tr>\n",
       "                        <th id=\"T_e294f31a_3ced_11ea_9f99_acde48001122level0_row3\" class=\"row_heading level0 row3\" >2</th>\n",
       "                        <td id=\"T_e294f31a_3ced_11ea_9f99_acde48001122row3_col0\" class=\"data row3 col0\" >surface3</td>\n",
       "                        <td id=\"T_e294f31a_3ced_11ea_9f99_acde48001122row3_col1\" class=\"data row3 col1\" >Default series</td>\n",
       "                        <td id=\"T_e294f31a_3ced_11ea_9f99_acde48001122row3_col2\" class=\"data row3 col2\" >3</td>\n",
       "                        <td id=\"T_e294f31a_3ced_11ea_9f99_acde48001122row3_col3\" class=\"data row3 col3\" >True</td>\n",
       "                        <td id=\"T_e294f31a_3ced_11ea_9f99_acde48001122row3_col4\" class=\"data row3 col4\" >#ffbe00</td>\n",
       "                        <td id=\"T_e294f31a_3ced_11ea_9f99_acde48001122row3_col5\" class=\"data row3 col5\" >4</td>\n",
       "                        <td id=\"T_e294f31a_3ced_11ea_9f99_acde48001122row3_col6\" class=\"data row3 col6\" >3.2</td>\n",
       "            </tr>\n",
       "            <tr>\n",
       "                        <th id=\"T_e294f31a_3ced_11ea_9f99_acde48001122level0_row4\" class=\"row_heading level0 row4\" >3</th>\n",
       "                        <td id=\"T_e294f31a_3ced_11ea_9f99_acde48001122row4_col0\" class=\"data row4 col0\" >basement</td>\n",
       "                        <td id=\"T_e294f31a_3ced_11ea_9f99_acde48001122row4_col1\" class=\"data row4 col1\" >Default series</td>\n",
       "                        <td id=\"T_e294f31a_3ced_11ea_9f99_acde48001122row4_col2\" class=\"data row4 col2\" >4</td>\n",
       "                        <td id=\"T_e294f31a_3ced_11ea_9f99_acde48001122row4_col3\" class=\"data row4 col3\" >True</td>\n",
       "                        <td id=\"T_e294f31a_3ced_11ea_9f99_acde48001122row4_col4\" class=\"data row4 col4\" >#728f02</td>\n",
       "                        <td id=\"T_e294f31a_3ced_11ea_9f99_acde48001122row4_col5\" class=\"data row4 col5\" >5</td>\n",
       "                        <td id=\"T_e294f31a_3ced_11ea_9f99_acde48001122row4_col6\" class=\"data row4 col6\" >3.6</td>\n",
       "            </tr>\n",
       "    </tbody></table>"
      ],
      "text/plain": [
       "    surface          series  order_surfaces  isActive    color  id  density\n",
       "4    fault1          Fault1               1      True  #443988   1      0.0\n",
       "0  surface1  Default series               1      True  #015482   2      2.6\n",
       "1  surface2  Default series               2      True  #9f0052   3      2.4\n",
       "2  surface3  Default series               3      True  #ffbe00   4      3.2\n",
       "3  basement  Default series               4      True  #728f02   5      3.6"
      ]
     },
     "execution_count": 34,
     "metadata": {},
     "output_type": "execute_result"
    }
   ],
   "source": [
    "geo_model.surfaces.add_surfaces_values([0, 2.6, 2.4, 3.2, 3.6], ['density'])"
   ]
  },
  {
   "cell_type": "markdown",
   "metadata": {},
   "source": [
    "Also we can create a centered grid around a device for precision:"
   ]
  },
  {
   "cell_type": "code",
   "execution_count": 35,
   "metadata": {},
   "outputs": [
    {
     "name": "stdout",
     "output_type": "stream",
     "text": [
      "Active grids: ['regular' 'topography' 'centered']\n"
     ]
    },
    {
     "data": {
      "text/plain": [
       "Grid Object. Values: \n",
       "array([[    3.955     ,    10.        ,  -579.09      ],\n",
       "       [    3.955     ,    10.        ,  -573.27      ],\n",
       "       [    3.955     ,    10.        ,  -567.45      ],\n",
       "       ...,\n",
       "       [ 1200.        ,   800.        ,  -922.71624587],\n",
       "       [ 1200.        ,   800.        ,  -964.3665184 ],\n",
       "       [ 1200.        ,   800.        , -1008.        ]])"
      ]
     },
     "execution_count": 35,
     "metadata": {},
     "output_type": "execute_result"
    }
   ],
   "source": [
    "geo_model.set_centered_grid(centers= [[400, 0, 0]],  resolution = [10, 10, 100], radio=800)"
   ]
  },
  {
   "cell_type": "markdown",
   "metadata": {},
   "source": [
    "We need to modify the compile code:"
   ]
  },
  {
   "cell_type": "code",
   "execution_count": 36,
   "metadata": {},
   "outputs": [
    {
     "name": "stdout",
     "output_type": "stream",
     "text": [
      "Compiling theano function...\n",
      "Level of Optimization:  fast_run\n",
      "Device:  cpu\n",
      "Precision:  float64\n",
      "Number of faults:  1\n",
      "Compilation Done!\n"
     ]
    },
    {
     "data": {
      "text/plain": [
       "<gempy.core.interpolator.InterpolatorModel at 0x7fe460be1978>"
      ]
     },
     "execution_count": 36,
     "metadata": {},
     "output_type": "execute_result"
    }
   ],
   "source": [
    "gp.set_interpolator(geo_model, output=['gravity'], theano_optimizer='fast_run', )"
   ]
  },
  {
   "cell_type": "markdown",
   "metadata": {},
   "source": [
    "But now additionally to the interpolation we also compute the forward gravity of the model (at the point XYZ = 400, 0, 0)"
   ]
  },
  {
   "cell_type": "code",
   "execution_count": 37,
   "metadata": {},
   "outputs": [
    {
     "name": "stderr",
     "output_type": "stream",
     "text": [
      "../../gempy/core/solution.py:266: UserWarning: Attribute error. Using non masked marching cubesmarching_cubes_lewiner() got an unexpected keyword argument 'mask'.\n",
      "  warnings.warn('Attribute error. Using non masked marching cubes' + str(e)+'.')\n"
     ]
    },
    {
     "data": {
      "text/plain": [
       "array([-803.64195548])"
      ]
     },
     "execution_count": 37,
     "metadata": {},
     "output_type": "execute_result"
    }
   ],
   "source": [
    "gp.compute_model(geo_model)\n",
    "geo_model.solutions.fw_gravity"
   ]
  },
  {
   "cell_type": "markdown",
   "metadata": {},
   "source": [
    "We can visualize it it better in the following figure. The aim of an inversion is to find the set of parameters that fit a measured point the better. In this example the red x symbolize the measured gravity while the blue dots are the current gravity (and previous) fw gravity values. The widget moves up and down the surface 3"
   ]
  },
  {
   "cell_type": "code",
   "execution_count": 38,
   "metadata": {},
   "outputs": [
    {
     "name": "stdout",
     "output_type": "stream",
     "text": [
      "0.7357774968394437\n"
     ]
    },
    {
     "data": {
      "application/vnd.jupyter.widget-view+json": {
       "model_id": "8719da63f4444e97addaa1f30fd67e09",
       "version_major": 2,
       "version_minor": 0
      },
      "text/plain": [
       "interactive(children=(IntSlider(value=0, description='dz', max=200, min=-200, step=10), Output()), _dom_classe…"
      ]
     },
     "metadata": {},
     "output_type": "display_data"
    },
    {
     "data": {
      "text/plain": [
       "<function __main__.gravity_invert(dz)>"
      ]
     },
     "execution_count": 38,
     "metadata": {},
     "output_type": "execute_result"
    }
   ],
   "source": [
    "# Creating new figure\n",
    "p_grav = vv.Plot2D(geo_model)\n",
    "p_grav.create_figure((6, 9))\n",
    "\n",
    "# Adding section for model\n",
    "ax2 = p_grav.add_section(cell_number=1, direction='y', ax_pos=211)\n",
    "\n",
    "# Adding section for gravity \n",
    "ax3 = p_grav.add_section(ax_pos=414)\n",
    "\n",
    "# Plotting model in section\n",
    "p2d.plot_data(ax2, cell_number=5, legend='force')\n",
    "p2d.plot_lith(ax2, cell_number=5)\n",
    "p2d.plot_contacts(ax2, cell_number=5)\n",
    "ax2.plot(400, 0, '^', markersize=40, c='red')\n",
    "\n",
    "# Plotting initial values of the gravity axes\n",
    "target_grav = -810\n",
    "ax3.tick_params( bottom=False)\n",
    "ax3.spines['top'].set_visible(False)\n",
    "ax3.spines['bottom'].set_visible(False)\n",
    "ax3.spines['right'].set_visible(False)\n",
    "ax3.plot(0, target_grav, 'X', label='Target Gravity', markersize=4, c='red')\n",
    "ax3.plot(1, geo_model.solutions.fw_gravity, 'o', label='Current Gravity', markersize=4, c='blue')\n",
    "ax3.set_ylabel('grav')\n",
    "\n",
    "# We store the original values of z for the surface 3\n",
    "Z_ori = geo_model.surface_points.df.loc[[5,6,7], 'Z'].copy()\n",
    "# init a list to store grav\n",
    "grav_ = []\n",
    "\n",
    "# Function that modify the model, compute it and plot\n",
    "def gravity_invert(dz):\n",
    "    new_z = Z_ori + dz\n",
    "    geo_model.modify_surface_points(indices=[5, 6, 7], Z= new_z)\n",
    "    gp.compute_model(geo_model)\n",
    "    grav_.append(geo_model.solutions.fw_gravity[0])\n",
    "    \n",
    "    p2d.remove(ax2)\n",
    "    p2d.plot_data(ax2, cell_number=5)\n",
    "    p2d.plot_lith(ax2, cell_number=5)\n",
    "    p2d.plot_contacts(ax2, cell_number=5)\n",
    "    ax3.plot(np.arange(len(grav_))+1, grav_, 'o', label='Current Gravity', markersize=4, c='blue')\n",
    "    ax3.set_xlim(-1, len(grav_)+1)\n",
    "    \n",
    "interact(gravity_invert, dz=(-200, 200, 10))"
   ]
  },
  {
   "cell_type": "markdown",
   "metadata": {},
   "source": [
    "## More advanced model:"
   ]
  },
  {
   "cell_type": "code",
   "execution_count": 39,
   "metadata": {},
   "outputs": [
    {
     "name": "stdout",
     "output_type": "stream",
     "text": [
      "Active grids: ['regular']\n"
     ]
    }
   ],
   "source": [
    "geo_model = gp.create_model('Moureze')\n",
    "geo_model = gp.init_data(geo_model, extent= [0, 3630, -0.5, 0.5, -1084, 0], resolution=[321, 21, 91])"
   ]
  },
  {
   "cell_type": "code",
   "execution_count": 40,
   "metadata": {},
   "outputs": [],
   "source": [
    "img = mpimg.imread('model2.png')"
   ]
  },
  {
   "cell_type": "code",
   "execution_count": 41,
   "metadata": {},
   "outputs": [
    {
     "name": "stdout",
     "output_type": "stream",
     "text": [
      "0.2986225895316804\n"
     ]
    }
   ],
   "source": [
    "p2d = vv.Plot2D(geo_model)\n",
    "p2d.create_figure((13, 6))\n",
    "ax4 = p2d.add_section(cell_number=11)"
   ]
  },
  {
   "cell_type": "code",
   "execution_count": 42,
   "metadata": {},
   "outputs": [
    {
     "data": {
      "text/plain": [
       "<matplotlib.image.AxesImage at 0x7fe4938da080>"
      ]
     },
     "execution_count": 42,
     "metadata": {},
     "output_type": "execute_result"
    }
   ],
   "source": [
    "ax4.imshow(img, origin='upper', alpha=.8, extent = (0, 3630, -1084,0))"
   ]
  }
 ],
 "metadata": {
  "kernelspec": {
   "display_name": "Python 3",
   "language": "python",
   "name": "python3"
  },
  "language_info": {
   "codemirror_mode": {
    "name": "ipython",
    "version": 3
   },
   "file_extension": ".py",
   "mimetype": "text/x-python",
   "name": "python",
   "nbconvert_exporter": "python",
   "pygments_lexer": "ipython3",
   "version": "3.7.0"
  }
 },
 "nbformat": 4,
 "nbformat_minor": 2
}
